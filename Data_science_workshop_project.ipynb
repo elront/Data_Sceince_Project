{
 "cells": [
  {
   "cell_type": "markdown",
   "metadata": {
    "direction": "ltr"
   },
   "source": [
    "# Data Science Workshop Project"
   ]
  },
  {
   "cell_type": "markdown",
   "metadata": {},
   "source": [
    "## 1. Introduction"
   ]
  },
  {
   "cell_type": "markdown",
   "metadata": {
    "direction": "ltr"
   },
   "source": [
    "### 3.1 Student's Details"
   ]
  },
  {
   "cell_type": "markdown",
   "metadata": {
    "direction": "ltr"
   },
   "source": [
    "* First name: Elron\n",
    "* Last name: Tvizer\n",
    "* Identification number: 301801346"
   ]
  },
  {
   "cell_type": "markdown",
   "metadata": {
    "direction": "ltr"
   },
   "source": [
    "### 3.2 Project's Goals"
   ]
  },
  {
   "cell_type": "markdown",
   "metadata": {
    "direction": "ltr"
   },
   "source": [
    "This project is meant to help an Israeli Air Force helicopters squadron to improve its maintenance and planning processes, to reduce the overall number of helicopters' malfunctions, and to improve the response time of handling a malfunction. \n",
    "\n",
    "It is well believed for some time that weather phenomena have a great impact of helicopters' serviceability, thus this project intends to clarify this assumption. \n",
    "\n",
    "Furthermore, it is meant to provide insights about the recommended weekly training flights plan, which by default determines the schedule of the maintenance routines and carried out flight, something which may contribute to increase the availability of helicopters, thus increasing the squadron's flexibility to train its pilots. \n",
    "\n",
    "I will seek to perform the above by analysing and extracting insights from the data provided by the Israeli Air Force, as well as by building a regression model for classifying malfunctions based on different weather features, extracted from the Israeli Meteorological Service servers.\n",
    "\n",
    "**Thus, the high-level goals of this project are:**\n",
    "\n",
    "* Conduct an analysis of various aspects of the malfunctions data provided, with respect to the squadron's two main working locations (Ramon Air Force base and Ramat David Air Force base).\n",
    "\n",
    "\n",
    "* Conduct an analysis to conclude the various weekly training flight plans implemented (as projected by the data provided by the Israeli Air Force), then analysing its effect on malfunctions' amount and type, in favour of improving the squadron's work.\n",
    "\n",
    "\n",
    "* Find connections between different tail numbers (helicopters), based on the provided datasets, to give the technical department a different viewpoint of the platform's maintenance activities and regulations.  \n",
    "\n",
    "\n",
    "* Build a regression model for classifying malfunctions, given the input of weather variables (on ground).\n",
    "\n",
    "\n",
    "* Build a regression model for classifying malfunctions, given the input of weather variables (during or after training flights departed from Ramat David Air Force base)."
   ]
  },
  {
   "cell_type": "markdown",
   "metadata": {
    "direction": "ltr"
   },
   "source": [
    "### 3.3 Motivation"
   ]
  },
  {
   "cell_type": "markdown",
   "metadata": {
    "direction": "ltr"
   },
   "source": [
    "Attached is an official request signed by the squadron's deputy commander, requesting to carry out the aforementioned analysis work and recommendations (for the part concerning weather damage impacts):"
   ]
  },
  {
   "cell_type": "markdown",
   "metadata": {},
   "source": [
    "![IAF_Request](images/IAF_Request.jpg)"
   ]
  },
  {
   "cell_type": "markdown",
   "metadata": {
    "direction": "ltr"
   },
   "source": [
    "Personally, as an active reserve officer in the squadron, and as having previously performed a commanding role thus aware of the weighty implications of the relatively low serviceability percentages of the squadron's helicopters, I find a great interest in contributing to this kind of analysis and classification work. \n",
    "\n",
    "As stated in the official request, no analysis of the provided malfunctions data is currently being performed, other than calculations of statistics, which do not help make data-driven decisions (for example: average time between malfunctions, percentage of serviceability (i.e. the total number of helicopters available for flight each morning), etc.). Moreover, various decisions regarding helicopters' spare parts, and the presence of maintenance personnel in the heliport (i.e. where helicopters are parked) are a result of rules of thumb, and \"gut feelings\", thus not knowledge-based.\n",
    "\n",
    "Many times, in the past the weekly flights plan has changed. As mentioned, the weekly flights plan dictates the squadron's progression in training plan, and involves many resources and constraints (for example: meeting the maintenance routines, allocating the required training resources - flight areas, etc.). A work which connects the serviceability of the squadron's helicopters and the weekly flights plan has been conducted in the past, albeit in a non-comprehensive and inclusive manner (based on a small number of samples, and without a specific reference to the malfunctions issue). In this work I would like to reveal the impacts of the weekly flights plan on the malfunctions amount and type, thus allowing a better decisions to be taken.\n",
    "\n",
    "Another important feature of a helicopter is it being able to fly under difficult weather conditions. The squadron's helicopters are capable and required to perform their missions in the presence of hard weather conditions. However, increased number of malfunctions, may reduce the helicopters' serviceability for carrying out these and other missions. A decision for having flights under difficult weather conditions on purpose, may increase the risk factors for specific types of malfunctions. Thus, having this knowledge may spur the squadron's commanders to make some improvements meant to handle these increased risk factors wisely (for example: manufacturing a dedicated sealing component, changing the flight areas in real-time, etc.).\n",
    "\n",
    "Squadron's operations on ground during various weather conditions is another significant issue, since more than 95% of time helicopters are not in air. As stated in the official request - the helicopters are routinely parked outdoor (unlike other aircrafts), and therefore more exposed to weather damage - wind, rain, extreme temperatures (heat or cold), humidity and radiation. Some equipment may be in use, if it turns out that these weather damages are causing a great increase in the number of malfunctions.\n",
    "\n",
    "**To summarize, these are the general and personal motivations for carrying out this project:**\n",
    "* This project may contribute to increase the serviceability of the squadron's helicopters, by providing concrete recommendations for adjusting maintenance processes and flight planning.\n",
    "* This contribution is translated into a better and more accurate utilization of the Israeli taxpayer's money, by increasing the availability of helicopters for flights, instead of being grounded.\n",
    "* A personal desire to promote an issue that has greatly influenced, and still affects, the service experience of many others and mine.\n",
    "* Proof of concept of performing such analysis work, outside the Air Force, allowing additional squadrons to take the same road. This may also allow further un-classified data to be analysed outside the Air Force, offering an outsourced way of doing these kinds of jobs."
   ]
  },
  {
   "cell_type": "markdown",
   "metadata": {
    "direction": "ltr"
   },
   "source": [
    "## 2. Domain-specifc Background"
   ]
  },
  {
   "cell_type": "markdown",
   "metadata": {
    "direction": "ltr"
   },
   "source": [
    "### 2.1 Technical Departments"
   ]
  },
  {
   "cell_type": "markdown",
   "metadata": {
    "direction": "ltr"
   },
   "source": [
    "Helicopter’s maintenance routines are being performed by different technical departments:\n",
    "\n",
    "* **Class A** - a part of the squadron's chain of command, this department is responsible for the weekly and daily maintenance routines. This department is divided into different teams, each of which is responsible for a different technical domain. In addition, this department personnel are present on site (heliport).\n",
    "\n",
    "\n",
    "* **Class B** - a part of the base's chain of command, this department is responsible for crossing-platforms technical domains. This department personnel are also divided into different teams, with respect to a specific technical domain. There is no overlapping between Class A and Class B responsibilities since each of which is responsible for different maintenance aspects and technical fields. This department personnel are not present on site (heliport) and invited upon request, although specific avionic team members are present prior to planned departures (most of the times).\n",
    "\n",
    "\n",
    "* **Class C** - It will not be discussed in this work, as maintenance routines of this class are being initiated once every X flight hours, outside the squadron's authority.\n",
    "\n",
    "\n",
    "* **Class D** - It will not be discussed in this work, as maintenance routines of this class are being initiated once every X flight hours, outside the squadron's authority.\n",
    "\n",
    "\n",
    "**To summarize** - The reported malfunctions that will be reviewed and analyzed during this work are malfunctions that were reported by Class A personnel as well as the squadron's pilots. In addition, these malfunctions are handled and fixed only by Class A and Class B personnel."
   ]
  },
  {
   "cell_type": "markdown",
   "metadata": {
    "direction": "ltr"
   },
   "source": [
    "### 2.2 Regular Maintenance Routines"
   ]
  },
  {
   "cell_type": "markdown",
   "metadata": {
    "direction": "ltr"
   },
   "source": [
    "* **Weekly routine** - Takes place once every two weeks, or every 25 hours of flight. This is the most comprehensive maintenance routine. For this routine, the examined helicopter stands for a full day (morning to evening) and is not available for flight. During the weekly routine, malfunctions may be discovered that will not be detected in the rest of the maintenance routines, since this routine’s checklist is the most comprehensive one.\n",
    "\n",
    "\n",
    "* **Preflight checking routine** - Takes place before a day of flights. This check is valid for 24 hours or 10 cumulative flight hours (following the check).\n",
    "\n",
    "\n",
    "* **Between flights checking routine** - Takes place between flights. Can be performed up to 5 times within the range of the Preflight check. This routine checklist is shortened comparing to the Preflight checklist. However, the probability of not finding a malfunction during this routine while having it found during the Preflight routine is assumed to be low.\n",
    "\n",
    "\n",
    "* **Crews change routine** - This is a much shorter check comparing to the Between flight routine. This check is performed when the helicopter's auxiliary engine is on (i.e. usually when the pilots are being replaced before the helicopter departs for its next flight). After each landing, a crews change routine is being performed. This routine can be performed up to 5 times within the range of the Preflight check (10 flight hours).\n",
    "\n",
    "\n",
    "* **Strips check** - This is a specific test being performed every 5 hours of flight or every time the auxiliary engine shuts down, categorically. At the end of this check just a specific malfunction can be reported. Based on mechanical aspects, this malfunction is not correlated with weather phenomena.\n",
    "\n",
    "\n",
    "* **Quick check routine** - This is another version of the Between flights routine. It is being implemented mostly at Ramat David base."
   ]
  },
  {
   "cell_type": "markdown",
   "metadata": {
    "direction": "ltr"
   },
   "source": [
    "### 2.3 Weekly Flights Plan"
   ]
  },
  {
   "cell_type": "markdown",
   "metadata": {
    "direction": "ltr"
   },
   "source": [
    "The weekly flights plan dictates the weekly training and maintenance activities (operational activities will not be examined in this work).\n",
    "\n",
    "Sunday - Thursday are the main working days, in which training and maintenance activities are being carried out, in accordance with the weekly flights plan. At Ramat David base, Friday is an additional day in which training and maintenance activities may take place.\n",
    "\n",
    "We shall keep in mind that the foreseen weekly flights plan is the actual one being performed. As in other domains, there is a difference between theory and practice. The weekly flights plan is affected by the weather, helicopters' serviceability, and many other factors. The dataset analyzed here (training sorties) reflects what happened in practice, meaning the actual execution of the plan. Although changes are likely to happen, most of the weekly flights plans are executed as is (referring to the following major building blocks), and just a small friction of them is being changed dramatically (i.e. a day of flights being cancelled). Of course, the number of flying helicopters is likely to be changed, beacuse of malfunctions.\n",
    "\n",
    "As an intro, we would like to distinguish between three major building blocks of a weekly flights plan:\n",
    "\n",
    "1. Maintenance day - no training flight are being planned for this day (only maintenance flights, if needed).\n",
    "\n",
    "\n",
    "2. Day flights – flights are being planned for the morning and noon times.\n",
    "\n",
    "\n",
    "3. Day and Night flights - As the above with an addition of flights at night.\n",
    "\n",
    "\n",
    "Although seems simple, the actual flights plan is much more complicated, and involves many considerations (the actual times, the exact number of participating helicopters, time intervals between flights, etc.). Clustering will be a suitable tool for concluding these based on the training sorties dataset (as planned). "
   ]
  },
  {
   "cell_type": "markdown",
   "metadata": {
    "direction": "ltr"
   },
   "source": [
    "### 2.4 When Do Malfunctions are being Reported?"
   ]
  },
  {
   "cell_type": "markdown",
   "metadata": {
    "direction": "ltr"
   },
   "source": [
    "In general, malfunctions are being reported (i.e registered in the technical department information system) when they are found. \n",
    "\n",
    "There are two ways of finding a malfunction:\n",
    "1. During one of the maintenance routines (technicians).\n",
    "2. Before, after or during a flight (pilots).\n",
    "\n",
    "Not all malfunctions result in a grounded helicopter - malfunctions which have been found during flight, may not require an immediate return to base procedure, thus will be reported and handled just after landing. In both cases, the pilots are the ones hold responsibility for reporting the malfunction after landing.\n",
    "\n",
    "This description raises an important question:\n",
    "\n",
    "**For which time interval shall we look while correlating between a discovered malfunction and reported weather variables?** \n",
    "\n",
    "There is no strict answer to that question. However, after having a high-level understanding of the regular maintenance routines, as well as understanding the fundamentals of a default weekly flights plan, a one can argue that we shall look for a 12 hours weather variables history prior to a reported malfunction during Monday to Thursday. This relies on the assumption that in average, at least a single \"Between flight\" checking routine or one planned flight are assumed to be executed during this time interval.\n",
    "\n",
    "We are left with Sunday. Assuming that most of the helicopters are not being maintained during the weekends, a history of 48 hours is required to truly reflect the weather variables impact on the helicopters' serviceability. \n",
    "\n",
    "These time interval assumptions may be changed after having a deeper understanding of the malfunction’s dataset. \n",
    "\n",
    "In addition, time interval may be selected as another independent variable of the regression model."
   ]
  },
  {
   "cell_type": "markdown",
   "metadata": {
    "direction": "ltr"
   },
   "source": [
    "### 2.5 Squadron's Main Locations"
   ]
  },
  {
   "cell_type": "markdown",
   "metadata": {
    "direction": "ltr"
   },
   "source": [
    "The squadron's main locations are:\n",
    "1. **Ramon Air Force base** - Most of the squadron's helicopters are parked and maintained at this location. Therefore, most of the squadron's flights depart and land at this location. Helicopters spare parts are stored in this location.\n",
    "\n",
    "\n",
    "2. **Ramat David Air Force base** - A small number of helicopters are parked there most of the year, with a small team of Class A personnel. Class B personnel are not present on site (besides members of the avionic team). A limited number of spare parts are present on site, thus a more complicated malfunctions may require specific Class A / Class B personnel and equipment to arrive from Ramon Air Force base."
   ]
  },
  {
   "cell_type": "markdown",
   "metadata": {
    "direction": "ltr"
   },
   "source": [
    "### 2.6 Datasets Intro"
   ]
  },
  {
   "cell_type": "markdown",
   "metadata": {
    "direction": "ltr"
   },
   "source": [
    "During this project I will work with the following four datasets:\n",
    "\n",
    "* Malfunctions Dataset.\n",
    "* Training Sorties Dataset.\n",
    "* Helicopters' Parking Locations Dataset.\n",
    "* Meteorological dataset.\n",
    "\n",
    "I chose to extract only 6 months (per year) data - 3 of them in Winter, and the other 3 in Sumner. This is assumed to be more than enough for this work.\n",
    "\n",
    "In the following sections I will shortly describe each of the above - mainly its origin and characteristics."
   ]
  },
  {
   "cell_type": "markdown",
   "metadata": {
    "direction": "ltr"
   },
   "source": [
    "#### 2.6.1 Malfunctions Dataset"
   ]
  },
  {
   "cell_type": "markdown",
   "metadata": {
    "direction": "ltr"
   },
   "source": [
    "The malfunctions dataset has been extracted from the squadron's technical department information system.\n",
    "\n",
    "This system holds a full documentation of past malfunctions, thus it was my first choice. \n",
    "\n",
    "After multiple conversations made with the point of contact assigned by the squadron's deputy commander, as well as conversations made with Israeli Air Force Cyber Security department (responsible for issuing an approval for extracting the data outside of the Israeli Air Force systems), I chose the following informative attributes to be extracted from that system:\n",
    "\n",
    "1. **Tail number** - each helicopter has been named with a specific number (written on top of its tail). This identifier allows someone to refer to a specific helicopter when needed. \n",
    "\n",
    "\n",
    "2. **System** - the name of the system in which the malfunction has been occurred.\n",
    "\n",
    "\n",
    "3. **Sub system** - the identifier of the syb-system in which the malfunction has been occurred.\n",
    "\n",
    "\n",
    "4. **Registration time** - the timestamp of when the malfunction has been registered.\n",
    "\n",
    "\n",
    "5. **Register profession** - the profession of the malfunction's register.\n",
    "\n",
    "\n",
    "6. **Closing time (after taken care of the malfunction)** - the timestamp of when the malfunction has been closed (fixed).\n",
    "\n",
    "\n",
    "7. **Who had closed the malfunction** - the profession of the person who closed the malfunction.\n",
    "\n",
    "\n",
    "8. **Validated?** - the malfunction was still present while the technician was asked to taken care of it.\n",
    "\n",
    "\n",
    "The malfunctions dataset contains data for both 2019 and 2020, as needed."
   ]
  },
  {
   "cell_type": "markdown",
   "metadata": {
    "direction": "ltr"
   },
   "source": [
    "#### 2.6.2 Training Sorties Dataset"
   ]
  },
  {
   "cell_type": "markdown",
   "metadata": {
    "direction": "ltr"
   },
   "source": [
    "The training sorties dataset has been extracted from a dedicated Israeli Air Force information system.\n",
    "\n",
    "As for the malfunctions dataset, the same approval process took place to have the data extracted outside of the Israeli Air Force systems.\n",
    "\n",
    "The training sorties dataset contains the following attributes:\n",
    "\n",
    "1. **Call sign** - each flight is named with a specific call sign (a name), for which flight control personnel can refer to while in air. This attribute can help us to identify which flights took place at northern Israel, since this flights carry a unique call sign.\n",
    "\n",
    "    Note - This attribute has been changed to a Boolean indicating whether a sortie took place in northern Israel.\n",
    "\n",
    "\n",
    "2. **Departure time** - the timestamp in which the flight departured.\n",
    "\n",
    "\n",
    "3. **Landing time** - the timestamp in which the flight landed. \n",
    "\n",
    "\n",
    "3. **Tail number** - as described above (under the Malfunctions Dataset).\n",
    "\n",
    "\n",
    "Although having the full sorties logs, due to classification matters, only specific sorties can be related to a specific geographical location. Thus, I chose to make the in-air analysis only for flights being departed from Ramat David Air Force base. These flights' syllabus and training areas are fixed and considered un-classified.\n",
    "\n",
    "Please note that rainy days are more common in northern Israel than in its southern parts.\n",
    "15%-20% percent of the documented sorties took place in northern Israel, thus providing a solid base for analysis."
   ]
  },
  {
   "cell_type": "markdown",
   "metadata": {
    "direction": "ltr"
   },
   "source": [
    "#### 2.6.3 Helicopters' Parking Locations Dataset"
   ]
  },
  {
   "cell_type": "markdown",
   "metadata": {
    "direction": "ltr"
   },
   "source": [
    "The helicopter's parking locations dataset has been extracted from a dedicated squadron's information system.\n",
    "\n",
    "As for the malfunctions dataset, the same approval process took place to have the data extracted outside of the Israeli Air Force systems.\n",
    "\n",
    "The helicopters parking locations dataset contains the following attributes:\n",
    "\n",
    "1. **Tail Number** - as described above (under the Malfunctions Dataset).\n",
    "\n",
    "\n",
    "2. **Date** - the date for which the location was registrated.\n",
    "\n",
    "\n",
    "3. **Location** - the specific helicopter's parking location, for this aforementioned specific date.\n",
    "\n",
    "Other than Ramon and Ramat David Air Force bases there are other optional locations, which will be omitted, since malfunctions are not being reported while there."
   ]
  },
  {
   "cell_type": "markdown",
   "metadata": {
    "direction": "ltr"
   },
   "source": [
    "#### 2.6.4 Meteorological dataset"
   ]
  },
  {
   "cell_type": "markdown",
   "metadata": {},
   "source": [
    "While looking for a reliable and accurate meteorological data, I approached to the Israeli Metrological Service (IMS) website. After a short wandering I came across an API allowing authorized personnel to extract a 10 minutes resolution weather data taken by multiple meteorological stations, located all across Israel. \n",
    "\n",
    "Here is a link to the IMS API main web page:"
   ]
  },
  {
   "cell_type": "markdown",
   "metadata": {},
   "source": [
    "https://ims.gov.il/he/ObservationDataAPI"
   ]
  },
  {
   "cell_type": "markdown",
   "metadata": {
    "direction": "ltr"
   },
   "source": [
    "After a small registration process, I got my token, allowing me an access to the desired data. \n",
    "\n",
    "Using the IMS site stations' meta-data, I mapped the closest stations to Ramon and Ramat David Air Force bases (for the parking analysis).\n",
    "\n",
    "In addition, I used the same link to choose the closest stations to the training areas in northern Israel. These are meant to serve us while analysing the weather impacts while in-air.\n",
    "\n",
    "Here is a link to the IMS meteorological stations meta-data Excel sheet:"
   ]
  },
  {
   "cell_type": "markdown",
   "metadata": {},
   "source": [
    "https://ims.data.gov.il/sites/default/files/metadata10minutesIMS_IDENVISTA080218_1.xlsx"
   ]
  },
  {
   "cell_type": "markdown",
   "metadata": {},
   "source": [
    "For the reader convenience, attached is a map which depicts the meteorological stations' locations.\n",
    "\n",
    "\n",
    "The chosen stations for this work are:\n",
    "1. For the parking analysis:\n",
    "\n",
    "    1.1 **SDE BOQER (no. 76).**\n",
    "    \n",
    "    1.2 **NEWE YAAR (no. 23).**\n",
    "    \n",
    "    \n",
    "3. For flights been executed in northern Israel (departed from Ramat David Air Force base):\n",
    "    \n",
    "    3.1 **ZEFAT HAR KENAAN (no. 9).**\n",
    "    \n",
    "    3.2 **ESHHAR (no. 13).**\n",
    "    \n",
    "    3.3 **ELON (no. 6).**\n",
    "    \n",
    "    3.4 **KEFAR BLUM (no. 3).**\n",
    "    \n",
    "    3.5 **MEROM GOLAN PICMAN (no. 4).**\n",
    "    \n",
    "    3.6 **GAMLA (no. 12).**\n",
    "    \n",
    "    3.7 **YAVNEEL (no. 26).**\n",
    "    \n",
    "The meteorological dataset will contain the following attributes (based on the stations' equipment):\n",
    "\n",
    "1. **Temperature** - in Celsius.\n",
    "\n",
    "\n",
    "2. **Wind Velocity and Direction** - in meter per second, and degrees.\n",
    "\n",
    "\n",
    "3. **Relative Humidity** - in %.\n",
    "\n",
    "\n",
    "3. **Rain** - in mmillimeter."
   ]
  },
  {
   "cell_type": "markdown",
   "metadata": {},
   "source": [
    "![Ims_stations](images/Ims_stations.jpg)"
   ]
  },
  {
   "cell_type": "markdown",
   "metadata": {
    "direction": "ltr"
   },
   "source": [
    "## 3. Datasets Pre-processing"
   ]
  },
  {
   "cell_type": "markdown",
   "metadata": {},
   "source": [
    "#### Imports"
   ]
  },
  {
   "cell_type": "code",
   "execution_count": 665,
   "metadata": {},
   "outputs": [],
   "source": [
    "import json\n",
    "import requests\n",
    "import pandas as pd\n",
    "import datetime as dt\n",
    "import numpy as np"
   ]
  },
  {
   "cell_type": "markdown",
   "metadata": {
    "direction": "ltr"
   },
   "source": [
    "###  3.1 Malfunctions Dataset"
   ]
  },
  {
   "cell_type": "markdown",
   "metadata": {
    "direction": "ltr"
   },
   "source": [
    "#### 3.1.1 Reading Israeli Air Force CSV"
   ]
  },
  {
   "cell_type": "markdown",
   "metadata": {},
   "source": [
    "We would like to read the .CSV files received from the Israeli Air Force into Pandas Dataframes:"
   ]
  },
  {
   "cell_type": "code",
   "execution_count": 645,
   "metadata": {
    "direction": "rtl"
   },
   "outputs": [],
   "source": [
    "malf_df_2019 = pd.read_csv(\"iaf_datasets/malfunctions_dataset_raw_2019.csv\")\n",
    "malf_df_2020 = pd.read_csv(\"iaf_datasets/malfunctions_dataset_raw_2020.csv\")"
   ]
  },
  {
   "cell_type": "markdown",
   "metadata": {},
   "source": [
    "Let's have a sense of the data just read by randomly sampling 5 rows:"
   ]
  },
  {
   "cell_type": "code",
   "execution_count": 646,
   "metadata": {},
   "outputs": [
    {
     "data": {
      "text/html": [
       "<div>\n",
       "<style scoped>\n",
       "    .dataframe tbody tr th:only-of-type {\n",
       "        vertical-align: middle;\n",
       "    }\n",
       "\n",
       "    .dataframe tbody tr th {\n",
       "        vertical-align: top;\n",
       "    }\n",
       "\n",
       "    .dataframe thead th {\n",
       "        text-align: right;\n",
       "    }\n",
       "</style>\n",
       "<table border=\"1\" class=\"dataframe\">\n",
       "  <thead>\n",
       "    <tr style=\"text-align: right;\">\n",
       "      <th></th>\n",
       "      <th>Tail Number</th>\n",
       "      <th>System</th>\n",
       "      <th>Sub-System</th>\n",
       "      <th>Registration Time</th>\n",
       "      <th>Closing Time</th>\n",
       "      <th>Validated?</th>\n",
       "      <th>Register Profession</th>\n",
       "      <th>Closer Profession</th>\n",
       "    </tr>\n",
       "  </thead>\n",
       "  <tbody>\n",
       "    <tr>\n",
       "      <th>659</th>\n",
       "      <td>812.0</td>\n",
       "      <td>74</td>\n",
       "      <td>I</td>\n",
       "      <td>11/06/2019 10:21</td>\n",
       "      <td>11/06/2019 14:24</td>\n",
       "      <td>False</td>\n",
       "      <td>Pilot</td>\n",
       "      <td>Class B Avionics Tech</td>\n",
       "    </tr>\n",
       "    <tr>\n",
       "      <th>1404</th>\n",
       "      <td>840.0</td>\n",
       "      <td>75</td>\n",
       "      <td>A</td>\n",
       "      <td>19/08/2019 23:56</td>\n",
       "      <td>20/08/2019 10:28</td>\n",
       "      <td>False</td>\n",
       "      <td>Pilot</td>\n",
       "      <td>Class A Armament Tech</td>\n",
       "    </tr>\n",
       "    <tr>\n",
       "      <th>1750</th>\n",
       "      <td>830.0</td>\n",
       "      <td>44</td>\n",
       "      <td>C</td>\n",
       "      <td>18/12/2019 13:06</td>\n",
       "      <td>18/12/2019 14:07</td>\n",
       "      <td>True</td>\n",
       "      <td>Pilot</td>\n",
       "      <td>Class A Electricity Tech</td>\n",
       "    </tr>\n",
       "    <tr>\n",
       "      <th>1579</th>\n",
       "      <td>961.0</td>\n",
       "      <td>22</td>\n",
       "      <td>0</td>\n",
       "      <td>04/12/2019 21:46</td>\n",
       "      <td>05/12/2019 9:09</td>\n",
       "      <td>True</td>\n",
       "      <td>Pilot</td>\n",
       "      <td>Class B Engine Tech</td>\n",
       "    </tr>\n",
       "    <tr>\n",
       "      <th>583</th>\n",
       "      <td>842.0</td>\n",
       "      <td>71</td>\n",
       "      <td>E</td>\n",
       "      <td>27/02/2019 13:30</td>\n",
       "      <td>27/02/2019 15:06</td>\n",
       "      <td>True</td>\n",
       "      <td>Class B Avionics Tech</td>\n",
       "      <td>Class B Avionics Tech</td>\n",
       "    </tr>\n",
       "  </tbody>\n",
       "</table>\n",
       "</div>"
      ],
      "text/plain": [
       "      Tail Number  System Sub-System Registration Time      Closing Time  \\\n",
       "659         812.0      74          I  11/06/2019 10:21  11/06/2019 14:24   \n",
       "1404        840.0      75          A  19/08/2019 23:56  20/08/2019 10:28   \n",
       "1750        830.0      44          C  18/12/2019 13:06  18/12/2019 14:07   \n",
       "1579        961.0      22          0  04/12/2019 21:46   05/12/2019 9:09   \n",
       "583         842.0      71          E  27/02/2019 13:30  27/02/2019 15:06   \n",
       "\n",
       "      Validated?    Register Profession         Closer Profession  \n",
       "659        False                  Pilot     Class B Avionics Tech  \n",
       "1404       False                  Pilot     Class A Armament Tech  \n",
       "1750        True                  Pilot  Class A Electricity Tech  \n",
       "1579        True                  Pilot       Class B Engine Tech  \n",
       "583         True  Class B Avionics Tech     Class B Avionics Tech  "
      ]
     },
     "execution_count": 646,
     "metadata": {},
     "output_type": "execute_result"
    }
   ],
   "source": [
    "malf_df_2019.sample(5)"
   ]
  },
  {
   "cell_type": "code",
   "execution_count": 647,
   "metadata": {},
   "outputs": [
    {
     "data": {
      "text/html": [
       "<div>\n",
       "<style scoped>\n",
       "    .dataframe tbody tr th:only-of-type {\n",
       "        vertical-align: middle;\n",
       "    }\n",
       "\n",
       "    .dataframe tbody tr th {\n",
       "        vertical-align: top;\n",
       "    }\n",
       "\n",
       "    .dataframe thead th {\n",
       "        text-align: right;\n",
       "    }\n",
       "</style>\n",
       "<table border=\"1\" class=\"dataframe\">\n",
       "  <thead>\n",
       "    <tr style=\"text-align: right;\">\n",
       "      <th></th>\n",
       "      <th>Tail Number</th>\n",
       "      <th>System</th>\n",
       "      <th>Sub-System</th>\n",
       "      <th>Registration Time</th>\n",
       "      <th>Closing Time</th>\n",
       "      <th>Validated?</th>\n",
       "      <th>Register Profession</th>\n",
       "      <th>Closer Profession</th>\n",
       "    </tr>\n",
       "  </thead>\n",
       "  <tbody>\n",
       "    <tr>\n",
       "      <th>1231</th>\n",
       "      <td>938.0</td>\n",
       "      <td>26</td>\n",
       "      <td>A</td>\n",
       "      <td>14/07/2020 16:51</td>\n",
       "      <td>16/07/2020 13:23</td>\n",
       "      <td>True</td>\n",
       "      <td>Pilot</td>\n",
       "      <td>Class A Officer</td>\n",
       "    </tr>\n",
       "    <tr>\n",
       "      <th>1319</th>\n",
       "      <td>842.0</td>\n",
       "      <td>46</td>\n",
       "      <td>C</td>\n",
       "      <td>22/07/2020 14:51</td>\n",
       "      <td>23/07/2020 14:34</td>\n",
       "      <td>True</td>\n",
       "      <td>Pilot</td>\n",
       "      <td>Class B Avionics Tech</td>\n",
       "    </tr>\n",
       "    <tr>\n",
       "      <th>147</th>\n",
       "      <td>806.0</td>\n",
       "      <td>46</td>\n",
       "      <td>H</td>\n",
       "      <td>14/01/2020 11:15</td>\n",
       "      <td>14/01/2020 11:54</td>\n",
       "      <td>True</td>\n",
       "      <td>Class A Heli Struct Sys Tech</td>\n",
       "      <td>Class A Heli Struct Sys Tech</td>\n",
       "    </tr>\n",
       "    <tr>\n",
       "      <th>1062</th>\n",
       "      <td>941.0</td>\n",
       "      <td>0</td>\n",
       "      <td>0</td>\n",
       "      <td>02/07/2020 15:22</td>\n",
       "      <td>02/07/2020 15:26</td>\n",
       "      <td>True</td>\n",
       "      <td>Class B Structurer Tech</td>\n",
       "      <td>Class B Structurer Tech</td>\n",
       "    </tr>\n",
       "    <tr>\n",
       "      <th>1133</th>\n",
       "      <td>956.0</td>\n",
       "      <td>74</td>\n",
       "      <td>G</td>\n",
       "      <td>07/07/2020 16:44</td>\n",
       "      <td>07/07/2020 19:55</td>\n",
       "      <td>True</td>\n",
       "      <td>Class A Electricity Tech</td>\n",
       "      <td>Class B Avionics Tech</td>\n",
       "    </tr>\n",
       "  </tbody>\n",
       "</table>\n",
       "</div>"
      ],
      "text/plain": [
       "      Tail Number  System Sub-System Registration Time      Closing Time  \\\n",
       "1231        938.0      26          A  14/07/2020 16:51  16/07/2020 13:23   \n",
       "1319        842.0      46          C  22/07/2020 14:51  23/07/2020 14:34   \n",
       "147         806.0      46          H  14/01/2020 11:15  14/01/2020 11:54   \n",
       "1062        941.0       0          0  02/07/2020 15:22  02/07/2020 15:26   \n",
       "1133        956.0      74          G  07/07/2020 16:44  07/07/2020 19:55   \n",
       "\n",
       "      Validated?           Register Profession             Closer Profession  \n",
       "1231        True                         Pilot               Class A Officer  \n",
       "1319        True                         Pilot         Class B Avionics Tech  \n",
       "147         True  Class A Heli Struct Sys Tech  Class A Heli Struct Sys Tech  \n",
       "1062        True       Class B Structurer Tech       Class B Structurer Tech  \n",
       "1133        True      Class A Electricity Tech         Class B Avionics Tech  "
      ]
     },
     "execution_count": 647,
     "metadata": {},
     "output_type": "execute_result"
    }
   ],
   "source": [
    "malf_df_2020.sample(5)"
   ]
  },
  {
   "cell_type": "markdown",
   "metadata": {},
   "source": [
    "Let's change the 'Tail Number' column values to string format:"
   ]
  },
  {
   "cell_type": "code",
   "execution_count": 648,
   "metadata": {},
   "outputs": [],
   "source": [
    "def change_to_string_format(malf_df):\n",
    "    malf_df['Tail Number'] = malf_df['Tail Number'].apply('{0:g}'.format)\n",
    "\n",
    "change_to_string_format(malf_df_2019)\n",
    "change_to_string_format(malf_df_2020)"
   ]
  },
  {
   "cell_type": "markdown",
   "metadata": {},
   "source": [
    "Now, let's change the registration and closing times to follow the datetime convention:"
   ]
  },
  {
   "cell_type": "code",
   "execution_count": 649,
   "metadata": {},
   "outputs": [],
   "source": [
    "def convert_to_datetime(malf_df):\n",
    "    # Convert to datetime objects.\n",
    "    malf_df['Registration Time'] = pd.to_datetime(malf_df['Registration Time'], dayfirst=True)\n",
    "    malf_df['Closing Time'] = pd.to_datetime(malf_df['Closing Time'], dayfirst=True)\n",
    "\n",
    "# Convert to datetime objects for 2020.\n",
    "convert_to_datetime(malf_df_2019)\n",
    "convert_to_datetime(malf_df_2020)"
   ]
  },
  {
   "cell_type": "markdown",
   "metadata": {},
   "source": [
    "We would like to give meaningful names instead of the current 'System' and 'Sub-System' columns' values:"
   ]
  },
  {
   "cell_type": "code",
   "execution_count": 650,
   "metadata": {},
   "outputs": [],
   "source": [
    "# Determine the system name by its code.\n",
    "def systems_mapping (symbol):\n",
    "    if symbol == 69:\n",
    "        return 'Missiles'\n",
    "    elif symbol == 63:\n",
    "        return 'Nadiv'\n",
    "    elif symbol == 74:\n",
    "        return 'Fire Control'\n",
    "    elif symbol == 21:\n",
    "        return 'Engine Control'\n",
    "    elif symbol == 11:\n",
    "        return 'Fuselage'\n",
    "    elif symbol == 65:\n",
    "        return 'IFF'\n",
    "    elif symbol == 75:\n",
    "        return 'Armament'\n",
    "    elif symbol == 13:\n",
    "        return 'Landing Gears'\n",
    "    elif symbol == 76:\n",
    "        return 'Electronic Warfare'\n",
    "    elif symbol == 41:\n",
    "        return 'Air Conditioning'\n",
    "    elif symbol == 51:\n",
    "        return 'Flight Instruments'\n",
    "    elif symbol == 26:\n",
    "        return 'Transmissions'\n",
    "    elif symbol == 0:\n",
    "        return 'General'\n",
    "    elif symbol == 45:\n",
    "        return 'Hydraulics'\n",
    "    elif symbol == 48:\n",
    "        return 'Air Data'\n",
    "    elif symbol == 49:\n",
    "        return 'Service Systems'\n",
    "    elif symbol == 24:\n",
    "        return 'APU'\n",
    "    elif symbol == 90:\n",
    "        return 'THUMS'\n",
    "    elif symbol == 14:\n",
    "        return 'Flight Controls'\n",
    "    elif symbol == 46:\n",
    "        return 'Fuel'\n",
    "    elif symbol == 22:\n",
    "        return 'Engine'\n",
    "    elif symbol == 42:\n",
    "        return 'Electricity'\n",
    "    elif symbol == 43:\n",
    "        return 'Pitot'\n",
    "    elif symbol == 47:\n",
    "        return 'Pneomatic'\n",
    "    elif symbol == 12:\n",
    "        return 'Cockpit'\n",
    "    elif symbol == 44:\n",
    "        return 'Lighting'\n",
    "    elif symbol == 71:\n",
    "        return 'Navigation'\n",
    "    elif symbol == 70:\n",
    "        return 'Guided Weapon'\n",
    "    elif symbol == 91:\n",
    "        return 'Safety and Rescue'\n",
    "    elif symbol == 96:\n",
    "        return 'Private Equipment'\n",
    "    elif symbol == 95:\n",
    "        return 'Manat'\n",
    "    elif symbol == 28:\n",
    "        return 'Power Shafts'\n",
    "    elif symbol == 62:\n",
    "        return 'Comm'\n",
    "    elif symbol == 15:\n",
    "        return 'Rotors'\n",
    "    elif symbol == 16:\n",
    "        return 'Vibration'\n",
    "    \n",
    "\n",
    "def apply_on_dataframe(malf_df):\n",
    "    malf_df['System'] = malf_df.apply(lambda row: systems_mapping(row['System']), axis=1)\n",
    "\n",
    "apply_on_dataframe(malf_df_2019)\n",
    "apply_on_dataframe(malf_df_2020)"
   ]
  },
  {
   "cell_type": "markdown",
   "metadata": {},
   "source": [
    "We would like to verify that we did not miss any integer value, converting it into a meaningful string:"
   ]
  },
  {
   "cell_type": "code",
   "execution_count": 651,
   "metadata": {},
   "outputs": [
    {
     "name": "stdout",
     "output_type": "stream",
     "text": [
      "{'Lighting', 'Flight Instruments', 'Electronic Warfare', 'IFF', 'Engine Control', 'Nadiv', 'Fire Control', 'Pneomatic', 'Power Shafts', 'THUMS', 'Hydraulics', 'Private Equipment', 'Fuselage', 'Air Conditioning', 'Fuel', 'Navigation', 'Comm', 'Service Systems', 'Flight Controls', 'Cockpit', 'APU', 'Vibration', 'Transmissions', 'Missiles', 'Engine', 'Landing Gears', 'General', 'Pitot', 'Electricity', 'Armament', 'Air Data', 'Rotors'}\n"
     ]
    }
   ],
   "source": [
    "systems_set = set(malf_df_2019['System'].unique())\n",
    "\n",
    "for item in malf_df_2020['System'].unique():\n",
    "    systems_set.add(item)\n",
    "    \n",
    "print(systems_set)"
   ]
  },
  {
   "cell_type": "markdown",
   "metadata": {},
   "source": [
    "The sub-system column's codes will remain as is, due to classification issues."
   ]
  },
  {
   "cell_type": "markdown",
   "metadata": {},
   "source": [
    "Let's check for the uniqe values of the register and closer profession's values:"
   ]
  },
  {
   "cell_type": "code",
   "execution_count": 652,
   "metadata": {},
   "outputs": [
    {
     "name": "stdout",
     "output_type": "stream",
     "text": [
      "{'Class B Flight Control Tech', 'Class B Armament Comm Tech', 'Pilot', 'Class A Electricity Tech', 'Class A Heli Struct Sys Tech', 'Class A Tech', 'Class A Officer', 'Class A Airborne Mechanic', 'Class B Mechanic', 'Class B Avionics Tech', 'Class A Armament Tech', 'Class B Engine Tech', 'Class B Structurer Tech'}\n"
     ]
    }
   ],
   "source": [
    "registers_professions_set = set(malf_df_2019['Register Profession'].unique())\n",
    "\n",
    "for item in malf_df_2020['Register Profession'].unique():\n",
    "    registers_professions_set.add(item)\n",
    "    \n",
    "print(registers_professions_set)"
   ]
  },
  {
   "cell_type": "markdown",
   "metadata": {},
   "source": [
    "And now for the tail numbers:"
   ]
  },
  {
   "cell_type": "code",
   "execution_count": 658,
   "metadata": {},
   "outputs": [
    {
     "name": "stdout",
     "output_type": "stream",
     "text": [
      "{'837', '834', '905', '804', '845', '938', '820', '812', '910', '828', '956', '842', '801', '961', '924', '815', '941', '830', '921', '935', '806', 'nan', '966', '832', '967', '840'}\n"
     ]
    }
   ],
   "source": [
    "tail_numbers_set = set(malf_df_2019['Tail Number'].unique())\n",
    "\n",
    "for item in malf_df_2020['Tail Number'].unique():\n",
    "    tail_numbers_set.add(item)\n",
    "    \n",
    "print(tail_numbers_set)"
   ]
  },
  {
   "cell_type": "markdown",
   "metadata": {},
   "source": [
    "We got a NaN. We will handle it in the next section."
   ]
  },
  {
   "cell_type": "markdown",
   "metadata": {},
   "source": [
    "Finally, we would like to verify that closing times are later than registration times:"
   ]
  },
  {
   "cell_type": "code",
   "execution_count": 654,
   "metadata": {},
   "outputs": [],
   "source": [
    "def validate_times(malf_df):\n",
    "    invalid_times = []\n",
    "\n",
    "    # Iterate over 'Registration Time' and 'Closing Time' instances to check for the condition.\n",
    "    for instance in zip(malf_df['Registration Time'], malf_df['Closing Time']):\n",
    "        if instance[0] > instance[1]:\n",
    "            invalid_times.append(instance)\n",
    "\n",
    "    # Print a nice message.\n",
    "    if not invalid_times:\n",
    "        print(\"Closing times are later than registration times!\")\n",
    "    else:\n",
    "        print(\"The following invalid tuples were found: \", invalid_dates)"
   ]
  },
  {
   "cell_type": "code",
   "execution_count": 655,
   "metadata": {},
   "outputs": [
    {
     "name": "stdout",
     "output_type": "stream",
     "text": [
      "Closing times are later than registration times!\n"
     ]
    }
   ],
   "source": [
    "validate_times(malf_df_2019)"
   ]
  },
  {
   "cell_type": "code",
   "execution_count": 656,
   "metadata": {},
   "outputs": [
    {
     "name": "stdout",
     "output_type": "stream",
     "text": [
      "Closing times are later than registration times!\n"
     ]
    }
   ],
   "source": [
    "validate_times(malf_df_2020)"
   ]
  },
  {
   "cell_type": "markdown",
   "metadata": {
    "direction": "ltr"
   },
   "source": [
    "#### 3.1.2 Check and Handle Missing Values (if any)"
   ]
  },
  {
   "cell_type": "markdown",
   "metadata": {
    "direction": "ltr"
   },
   "source": [
    "We already understood that we are missing some values. We don't have a straight forward and relevant way to complete those, so we will just drop them:"
   ]
  },
  {
   "cell_type": "code",
   "execution_count": 667,
   "metadata": {},
   "outputs": [],
   "source": [
    "def clean_nans(malf_df):\n",
    "    # Tail Number attribute has been converted to String, thus we shall assign NaN to the corresponded values first.\n",
    "    malf_df.loc[malf_df['Tail Number'] == 'nan'] = np.nan\n",
    "    malf_df.dropna(inplace = True)\n",
    "\n",
    "\n",
    "clean_nans(malf_df_2019)\n",
    "clean_nans(malf_df_2020)"
   ]
  },
  {
   "cell_type": "markdown",
   "metadata": {},
   "source": [
    "We would like to verify that all reported malfunctions have been registered during Winter (December, January, February) and Summer (June, July, August) months:"
   ]
  },
  {
   "cell_type": "code",
   "execution_count": 423,
   "metadata": {},
   "outputs": [],
   "source": [
    "invalid_dates = []\n",
    "\n",
    "def validate_dates(malf_df):\n",
    "    # Iterate over 'Registration  Time' instances to check for the condition.\n",
    "    for instance in malf_df['Registration Time']:\n",
    "        if dt.datetime(2020,3,1) < instance < dt.datetime(2020,5,31) or \\\n",
    "        dt.datetime(2020,9,1) < instance < dt.datetime(2020,12,31):\n",
    "            invalid_dates.append(instance)\n",
    "\n",
    "    # Print a nice message.\n",
    "    if not invalid_dates:\n",
    "        print(\"All dates are during the specified months!\")\n",
    "    else:\n",
    "        print(\"The following invalid dates were found: \", invalid_dates)"
   ]
  },
  {
   "cell_type": "code",
   "execution_count": 424,
   "metadata": {},
   "outputs": [
    {
     "name": "stdout",
     "output_type": "stream",
     "text": [
      "All dates are during the specified months!\n"
     ]
    }
   ],
   "source": [
    "validate_dates(malf_df_2019)"
   ]
  },
  {
   "cell_type": "code",
   "execution_count": 425,
   "metadata": {},
   "outputs": [
    {
     "name": "stdout",
     "output_type": "stream",
     "text": [
      "All dates are during the specified months!\n"
     ]
    }
   ],
   "source": [
    "validate_dates(malf_df_2020)"
   ]
  },
  {
   "cell_type": "markdown",
   "metadata": {
    "direction": "ltr"
   },
   "source": [
    "#### 3.1.3 Shaping the Dataset"
   ]
  },
  {
   "cell_type": "markdown",
   "metadata": {
    "direction": "ltr"
   },
   "source": [
    "The only thing we would like to do with the malfunctions Dataframes is to add to them another column specifying the malfunction's handling duration:"
   ]
  },
  {
   "cell_type": "code",
   "execution_count": 426,
   "metadata": {},
   "outputs": [],
   "source": [
    "# Calculates the time delta.\n",
    "def calc_time_delta (row):\n",
    "   return row['Closing Time'] - row['Registration Time']\n",
    "\n",
    "def apply_on_dataframe(malf_df):\n",
    "    malf_df['Malfunction Handling Duration'] = malf_df.apply(lambda row: calc_time_delta(row), axis=1)\n",
    "\n",
    "apply_on_dataframe(malf_df_2019)    \n",
    "apply_on_dataframe(malf_df_2020)    "
   ]
  },
  {
   "cell_type": "markdown",
   "metadata": {},
   "source": [
    "Now, we would like to change the columns' order as following:"
   ]
  },
  {
   "cell_type": "code",
   "execution_count": 427,
   "metadata": {},
   "outputs": [],
   "source": [
    "def change_columns_order(malf_df):\n",
    "    malf_df = malf_df[['Tail Number', 'Registration Time', 'Closing Time', \n",
    "                         'Malfunction Handling Duration', 'System', 'Sub-System',\n",
    "                         'Register Profession', 'Closer Profession', 'Validated?']]\n",
    "\n",
    "change_columns_order(malf_df_2019)\n",
    "change_columns_order(malf_df_2020)"
   ]
  },
  {
   "cell_type": "markdown",
   "metadata": {},
   "source": [
    "Finally, let's change the registration and closing times to follow UTC+0, in order them to correspond with the meterological dataset (as further discussed below):"
   ]
  },
  {
   "cell_type": "code",
   "execution_count": 428,
   "metadata": {},
   "outputs": [],
   "source": [
    "def change_to_utc(given_df, column, winter_time_starting_date, winter_time_ending_date):\n",
    "    given_df.loc[(given_df[column] > winter_time_starting_date) & \\\n",
    "                   (given_df[column] < winter_time_ending_date), column] = \\\n",
    "    given_df.loc[(given_df[column] > winter_time_starting_date) & \\\n",
    "                   (given_df[column] < winter_time_ending_date), column] - dt.timedelta(hours = 2)\n",
    "    \n",
    "    given_df.loc[given_df[column] >= winter_time_ending_date, column] = \\\n",
    "    given_df.loc[given_df[column] >= winter_time_ending_date, column] - dt.timedelta(hours = 3)"
   ]
  },
  {
   "cell_type": "code",
   "execution_count": 429,
   "metadata": {},
   "outputs": [],
   "source": [
    "winter_time_starting_date_2019 = dt.datetime(2018,10,28)\n",
    "winter_time_ending_date_2019 = dt.datetime(2019,3,29)\n",
    "winter_time_starting_date_2020 = dt.datetime(2019,10,27)\n",
    "winter_time_ending_date_2020 = dt.datetime(2020,3,27)"
   ]
  },
  {
   "cell_type": "code",
   "execution_count": 430,
   "metadata": {},
   "outputs": [],
   "source": [
    "change_to_utc(malf_df_2019, 'Registration Time', winter_time_starting_date_2019, winter_time_ending_date_2019)\n",
    "change_to_utc(malf_df_2019, 'Closing Time', winter_time_starting_date_2019, winter_time_ending_date_2019)"
   ]
  },
  {
   "cell_type": "code",
   "execution_count": 431,
   "metadata": {},
   "outputs": [],
   "source": [
    "change_to_utc(malf_df_2020, 'Registration Time', winter_time_starting_date_2020, winter_time_ending_date_2020)\n",
    "change_to_utc(malf_df_2020, 'Closing Time', winter_time_starting_date_2020, winter_time_ending_date_2020)"
   ]
  },
  {
   "cell_type": "markdown",
   "metadata": {},
   "source": [
    "Last look on the Dataframes before saving them:"
   ]
  },
  {
   "cell_type": "code",
   "execution_count": 432,
   "metadata": {},
   "outputs": [
    {
     "data": {
      "text/html": [
       "<div>\n",
       "<style scoped>\n",
       "    .dataframe tbody tr th:only-of-type {\n",
       "        vertical-align: middle;\n",
       "    }\n",
       "\n",
       "    .dataframe tbody tr th {\n",
       "        vertical-align: top;\n",
       "    }\n",
       "\n",
       "    .dataframe thead th {\n",
       "        text-align: right;\n",
       "    }\n",
       "</style>\n",
       "<table border=\"1\" class=\"dataframe\">\n",
       "  <thead>\n",
       "    <tr style=\"text-align: right;\">\n",
       "      <th></th>\n",
       "      <th>Tail Number</th>\n",
       "      <th>System</th>\n",
       "      <th>Sub-System</th>\n",
       "      <th>Registration Time</th>\n",
       "      <th>Closing Time</th>\n",
       "      <th>Validated?</th>\n",
       "      <th>Register Profession</th>\n",
       "      <th>Closer Profession</th>\n",
       "      <th>Malfunction Handling Duration</th>\n",
       "    </tr>\n",
       "  </thead>\n",
       "  <tbody>\n",
       "    <tr>\n",
       "      <th>530</th>\n",
       "      <td>837</td>\n",
       "      <td>Navigation</td>\n",
       "      <td>I</td>\n",
       "      <td>2019-02-22 07:11:00</td>\n",
       "      <td>2019-02-22 14:28:00</td>\n",
       "      <td>True</td>\n",
       "      <td>Pilot</td>\n",
       "      <td>Class B Avionics Tech</td>\n",
       "      <td>0 days 07:17:00</td>\n",
       "    </tr>\n",
       "    <tr>\n",
       "      <th>1230</th>\n",
       "      <td>828</td>\n",
       "      <td>Cockpit</td>\n",
       "      <td>A</td>\n",
       "      <td>2019-08-04 11:31:00</td>\n",
       "      <td>2019-08-04 12:25:00</td>\n",
       "      <td>True</td>\n",
       "      <td>Pilot</td>\n",
       "      <td>Class A Officer</td>\n",
       "      <td>0 days 00:54:00</td>\n",
       "    </tr>\n",
       "    <tr>\n",
       "      <th>560</th>\n",
       "      <td>828</td>\n",
       "      <td>Fire Control</td>\n",
       "      <td>1</td>\n",
       "      <td>2019-02-25 17:06:00</td>\n",
       "      <td>2019-02-25 23:15:00</td>\n",
       "      <td>False</td>\n",
       "      <td>Pilot</td>\n",
       "      <td>Class B Avionics Tech</td>\n",
       "      <td>0 days 06:09:00</td>\n",
       "    </tr>\n",
       "    <tr>\n",
       "      <th>1049</th>\n",
       "      <td>967</td>\n",
       "      <td>Landing Gears</td>\n",
       "      <td>D</td>\n",
       "      <td>2019-07-22 07:11:00</td>\n",
       "      <td>2019-07-23 10:36:00</td>\n",
       "      <td>True</td>\n",
       "      <td>Class A Tech</td>\n",
       "      <td>Class A Heli Struct Sys Tech</td>\n",
       "      <td>1 days 03:25:00</td>\n",
       "    </tr>\n",
       "    <tr>\n",
       "      <th>1351</th>\n",
       "      <td>840</td>\n",
       "      <td>Flight Instruments</td>\n",
       "      <td>A</td>\n",
       "      <td>2019-08-14 16:56:00</td>\n",
       "      <td>2019-08-15 07:08:00</td>\n",
       "      <td>True</td>\n",
       "      <td>Pilot</td>\n",
       "      <td>Class A Electricity Tech</td>\n",
       "      <td>0 days 14:12:00</td>\n",
       "    </tr>\n",
       "  </tbody>\n",
       "</table>\n",
       "</div>"
      ],
      "text/plain": [
       "     Tail Number              System Sub-System   Registration Time  \\\n",
       "530          837          Navigation          I 2019-02-22 07:11:00   \n",
       "1230         828             Cockpit          A 2019-08-04 11:31:00   \n",
       "560          828        Fire Control          1 2019-02-25 17:06:00   \n",
       "1049         967       Landing Gears          D 2019-07-22 07:11:00   \n",
       "1351         840  Flight Instruments          A 2019-08-14 16:56:00   \n",
       "\n",
       "            Closing Time  Validated? Register Profession  \\\n",
       "530  2019-02-22 14:28:00        True               Pilot   \n",
       "1230 2019-08-04 12:25:00        True               Pilot   \n",
       "560  2019-02-25 23:15:00       False               Pilot   \n",
       "1049 2019-07-23 10:36:00        True        Class A Tech   \n",
       "1351 2019-08-15 07:08:00        True               Pilot   \n",
       "\n",
       "                 Closer Profession Malfunction Handling Duration  \n",
       "530          Class B Avionics Tech               0 days 07:17:00  \n",
       "1230               Class A Officer               0 days 00:54:00  \n",
       "560          Class B Avionics Tech               0 days 06:09:00  \n",
       "1049  Class A Heli Struct Sys Tech               1 days 03:25:00  \n",
       "1351      Class A Electricity Tech               0 days 14:12:00  "
      ]
     },
     "execution_count": 432,
     "metadata": {},
     "output_type": "execute_result"
    }
   ],
   "source": [
    "malf_df_2019.sample(5)"
   ]
  },
  {
   "cell_type": "code",
   "execution_count": 433,
   "metadata": {},
   "outputs": [
    {
     "data": {
      "text/html": [
       "<div>\n",
       "<style scoped>\n",
       "    .dataframe tbody tr th:only-of-type {\n",
       "        vertical-align: middle;\n",
       "    }\n",
       "\n",
       "    .dataframe tbody tr th {\n",
       "        vertical-align: top;\n",
       "    }\n",
       "\n",
       "    .dataframe thead th {\n",
       "        text-align: right;\n",
       "    }\n",
       "</style>\n",
       "<table border=\"1\" class=\"dataframe\">\n",
       "  <thead>\n",
       "    <tr style=\"text-align: right;\">\n",
       "      <th></th>\n",
       "      <th>Tail Number</th>\n",
       "      <th>System</th>\n",
       "      <th>Sub-System</th>\n",
       "      <th>Registration Time</th>\n",
       "      <th>Closing Time</th>\n",
       "      <th>Validated?</th>\n",
       "      <th>Register Profession</th>\n",
       "      <th>Closer Profession</th>\n",
       "      <th>Malfunction Handling Duration</th>\n",
       "    </tr>\n",
       "  </thead>\n",
       "  <tbody>\n",
       "    <tr>\n",
       "      <th>1140</th>\n",
       "      <td>845</td>\n",
       "      <td>Rotors</td>\n",
       "      <td>A</td>\n",
       "      <td>2020-07-07 18:09:00</td>\n",
       "      <td>2020-07-09 19:15:00</td>\n",
       "      <td>True</td>\n",
       "      <td>Class A Tech</td>\n",
       "      <td>Class A Heli Struct Sys Tech</td>\n",
       "      <td>2 days 01:06:00</td>\n",
       "    </tr>\n",
       "    <tr>\n",
       "      <th>91</th>\n",
       "      <td>830</td>\n",
       "      <td>Flight Instruments</td>\n",
       "      <td>A</td>\n",
       "      <td>2020-01-07 13:21:00</td>\n",
       "      <td>2020-01-07 14:54:00</td>\n",
       "      <td>True</td>\n",
       "      <td>Class A Electricity Tech</td>\n",
       "      <td>Class A Electricity Tech</td>\n",
       "      <td>0 days 01:33:00</td>\n",
       "    </tr>\n",
       "    <tr>\n",
       "      <th>1385</th>\n",
       "      <td>812</td>\n",
       "      <td>Rotors</td>\n",
       "      <td>A</td>\n",
       "      <td>2020-07-29 10:29:00</td>\n",
       "      <td>2020-07-29 11:29:00</td>\n",
       "      <td>True</td>\n",
       "      <td>Class A Heli Struct Sys Tech</td>\n",
       "      <td>Class A Heli Struct Sys Tech</td>\n",
       "      <td>0 days 01:00:00</td>\n",
       "    </tr>\n",
       "    <tr>\n",
       "      <th>1201</th>\n",
       "      <td>845</td>\n",
       "      <td>Engine Control</td>\n",
       "      <td>A</td>\n",
       "      <td>2020-07-13 07:14:00</td>\n",
       "      <td>2020-07-13 16:04:00</td>\n",
       "      <td>True</td>\n",
       "      <td>Class A Officer</td>\n",
       "      <td>Class A Officer</td>\n",
       "      <td>0 days 08:50:00</td>\n",
       "    </tr>\n",
       "    <tr>\n",
       "      <th>1810</th>\n",
       "      <td>828</td>\n",
       "      <td>Armament</td>\n",
       "      <td>B</td>\n",
       "      <td>2019-12-10 09:49:00</td>\n",
       "      <td>2019-12-10 11:39:00</td>\n",
       "      <td>True</td>\n",
       "      <td>Class A Tech</td>\n",
       "      <td>Class A Tech</td>\n",
       "      <td>0 days 01:50:00</td>\n",
       "    </tr>\n",
       "  </tbody>\n",
       "</table>\n",
       "</div>"
      ],
      "text/plain": [
       "     Tail Number              System Sub-System   Registration Time  \\\n",
       "1140         845              Rotors          A 2020-07-07 18:09:00   \n",
       "91           830  Flight Instruments          A 2020-01-07 13:21:00   \n",
       "1385         812              Rotors          A 2020-07-29 10:29:00   \n",
       "1201         845      Engine Control          A 2020-07-13 07:14:00   \n",
       "1810         828            Armament          B 2019-12-10 09:49:00   \n",
       "\n",
       "            Closing Time  Validated?           Register Profession  \\\n",
       "1140 2020-07-09 19:15:00        True                  Class A Tech   \n",
       "91   2020-01-07 14:54:00        True      Class A Electricity Tech   \n",
       "1385 2020-07-29 11:29:00        True  Class A Heli Struct Sys Tech   \n",
       "1201 2020-07-13 16:04:00        True               Class A Officer   \n",
       "1810 2019-12-10 11:39:00        True                  Class A Tech   \n",
       "\n",
       "                 Closer Profession Malfunction Handling Duration  \n",
       "1140  Class A Heli Struct Sys Tech               2 days 01:06:00  \n",
       "91        Class A Electricity Tech               0 days 01:33:00  \n",
       "1385  Class A Heli Struct Sys Tech               0 days 01:00:00  \n",
       "1201               Class A Officer               0 days 08:50:00  \n",
       "1810                  Class A Tech               0 days 01:50:00  "
      ]
     },
     "execution_count": 433,
     "metadata": {},
     "output_type": "execute_result"
    }
   ],
   "source": [
    "malf_df_2020.sample(5)"
   ]
  },
  {
   "cell_type": "markdown",
   "metadata": {},
   "source": [
    "Finally, we would like to save the Dataframes into a dedicated directory (for a later use):"
   ]
  },
  {
   "cell_type": "code",
   "execution_count": 434,
   "metadata": {},
   "outputs": [],
   "source": [
    "malf_df_2019.to_pickle(\"malfunctions_data_set/malfunctions_dataset_2019.pkl\")\n",
    "malf_df_2020.to_pickle(\"malfunctions_data_set/malfunctions_dataset_2020.pkl\")"
   ]
  },
  {
   "cell_type": "markdown",
   "metadata": {
    "direction": "ltr"
   },
   "source": [
    "###  3.2  Training Sorties Dataset"
   ]
  },
  {
   "cell_type": "markdown",
   "metadata": {
    "direction": "ltr"
   },
   "source": [
    "#### 3.2.1 Reading Israeli Air Force CSV"
   ]
  },
  {
   "cell_type": "markdown",
   "metadata": {
    "direction": "ltr"
   },
   "source": [
    "We would like to read the .CSV files received from the Israeli Air Force into Pandas Dataframes:"
   ]
  },
  {
   "cell_type": "code",
   "execution_count": 435,
   "metadata": {},
   "outputs": [],
   "source": [
    "flights_df_2019 = pd.read_csv(\"iaf_datasets/flights_dataset_raw_2019.csv\")\n",
    "flights_df_2020 = pd.read_csv(\"iaf_datasets/flights_dataset_raw_2020.csv\")"
   ]
  },
  {
   "cell_type": "markdown",
   "metadata": {},
   "source": [
    "Let's have a sense of the data just read by randomly sampling 5 rows:"
   ]
  },
  {
   "cell_type": "code",
   "execution_count": 436,
   "metadata": {},
   "outputs": [
    {
     "data": {
      "text/html": [
       "<div>\n",
       "<style scoped>\n",
       "    .dataframe tbody tr th:only-of-type {\n",
       "        vertical-align: middle;\n",
       "    }\n",
       "\n",
       "    .dataframe tbody tr th {\n",
       "        vertical-align: top;\n",
       "    }\n",
       "\n",
       "    .dataframe thead th {\n",
       "        text-align: right;\n",
       "    }\n",
       "</style>\n",
       "<table border=\"1\" class=\"dataframe\">\n",
       "  <thead>\n",
       "    <tr style=\"text-align: right;\">\n",
       "      <th></th>\n",
       "      <th>Northern Flight</th>\n",
       "      <th>Landing Time</th>\n",
       "      <th>Departure Time</th>\n",
       "      <th>Tail Number</th>\n",
       "      <th>Date</th>\n",
       "    </tr>\n",
       "  </thead>\n",
       "  <tbody>\n",
       "    <tr>\n",
       "      <th>1223</th>\n",
       "      <td>False</td>\n",
       "      <td>03/07/2019 19:25</td>\n",
       "      <td>03/07/2019 18:30</td>\n",
       "      <td>845</td>\n",
       "      <td>03/07/2019</td>\n",
       "    </tr>\n",
       "    <tr>\n",
       "      <th>1482</th>\n",
       "      <td>True</td>\n",
       "      <td>06/08/2019 18:22</td>\n",
       "      <td>06/08/2019 17:22</td>\n",
       "      <td>921</td>\n",
       "      <td>06/08/2019</td>\n",
       "    </tr>\n",
       "    <tr>\n",
       "      <th>715</th>\n",
       "      <td>True</td>\n",
       "      <td>13/02/2019 17:30</td>\n",
       "      <td>13/02/2019 16:45</td>\n",
       "      <td>806</td>\n",
       "      <td>13/02/2019</td>\n",
       "    </tr>\n",
       "    <tr>\n",
       "      <th>1567</th>\n",
       "      <td>False</td>\n",
       "      <td>18/07/2019 10:15</td>\n",
       "      <td>18/07/2019 9:00</td>\n",
       "      <td>828</td>\n",
       "      <td>18/07/2019</td>\n",
       "    </tr>\n",
       "    <tr>\n",
       "      <th>1152</th>\n",
       "      <td>False</td>\n",
       "      <td>29/07/2019 20:45</td>\n",
       "      <td>29/07/2019 20:00</td>\n",
       "      <td>815</td>\n",
       "      <td>29/07/2019</td>\n",
       "    </tr>\n",
       "  </tbody>\n",
       "</table>\n",
       "</div>"
      ],
      "text/plain": [
       "      Northern Flight      Landing Time    Departure Time  Tail Number  \\\n",
       "1223            False  03/07/2019 19:25  03/07/2019 18:30          845   \n",
       "1482             True  06/08/2019 18:22  06/08/2019 17:22          921   \n",
       "715              True  13/02/2019 17:30  13/02/2019 16:45          806   \n",
       "1567            False  18/07/2019 10:15   18/07/2019 9:00          828   \n",
       "1152            False  29/07/2019 20:45  29/07/2019 20:00          815   \n",
       "\n",
       "            Date  \n",
       "1223  03/07/2019  \n",
       "1482  06/08/2019  \n",
       "715   13/02/2019  \n",
       "1567  18/07/2019  \n",
       "1152  29/07/2019  "
      ]
     },
     "execution_count": 436,
     "metadata": {},
     "output_type": "execute_result"
    }
   ],
   "source": [
    "flights_df_2019.sample(5)"
   ]
  },
  {
   "cell_type": "code",
   "execution_count": 437,
   "metadata": {},
   "outputs": [
    {
     "data": {
      "text/html": [
       "<div>\n",
       "<style scoped>\n",
       "    .dataframe tbody tr th:only-of-type {\n",
       "        vertical-align: middle;\n",
       "    }\n",
       "\n",
       "    .dataframe tbody tr th {\n",
       "        vertical-align: top;\n",
       "    }\n",
       "\n",
       "    .dataframe thead th {\n",
       "        text-align: right;\n",
       "    }\n",
       "</style>\n",
       "<table border=\"1\" class=\"dataframe\">\n",
       "  <thead>\n",
       "    <tr style=\"text-align: right;\">\n",
       "      <th></th>\n",
       "      <th>Northern Flight</th>\n",
       "      <th>Landing Time</th>\n",
       "      <th>Departure Time</th>\n",
       "      <th>Tail Number</th>\n",
       "      <th>Date</th>\n",
       "    </tr>\n",
       "  </thead>\n",
       "  <tbody>\n",
       "    <tr>\n",
       "      <th>338</th>\n",
       "      <td>False</td>\n",
       "      <td>13/01/2020 22:58</td>\n",
       "      <td>13/01/2020 21:58</td>\n",
       "      <td>845</td>\n",
       "      <td>13/01/2020</td>\n",
       "    </tr>\n",
       "    <tr>\n",
       "      <th>712</th>\n",
       "      <td>False</td>\n",
       "      <td>29/01/2020 15:49</td>\n",
       "      <td>29/01/2020 14:59</td>\n",
       "      <td>804</td>\n",
       "      <td>29/01/2020</td>\n",
       "    </tr>\n",
       "    <tr>\n",
       "      <th>407</th>\n",
       "      <td>False</td>\n",
       "      <td>15/12/2019 17:35</td>\n",
       "      <td>15/12/2019 16:45</td>\n",
       "      <td>967</td>\n",
       "      <td>15/12/2019</td>\n",
       "    </tr>\n",
       "    <tr>\n",
       "      <th>1012</th>\n",
       "      <td>False</td>\n",
       "      <td>01/01/2020 20:30</td>\n",
       "      <td>01/01/2020 19:45</td>\n",
       "      <td>815</td>\n",
       "      <td>01/01/2020</td>\n",
       "    </tr>\n",
       "    <tr>\n",
       "      <th>965</th>\n",
       "      <td>True</td>\n",
       "      <td>16/02/2020 16:34</td>\n",
       "      <td>16/02/2020 15:49</td>\n",
       "      <td>956</td>\n",
       "      <td>16/02/2020</td>\n",
       "    </tr>\n",
       "  </tbody>\n",
       "</table>\n",
       "</div>"
      ],
      "text/plain": [
       "      Northern Flight      Landing Time    Departure Time  Tail Number  \\\n",
       "338             False  13/01/2020 22:58  13/01/2020 21:58          845   \n",
       "712             False  29/01/2020 15:49  29/01/2020 14:59          804   \n",
       "407             False  15/12/2019 17:35  15/12/2019 16:45          967   \n",
       "1012            False  01/01/2020 20:30  01/01/2020 19:45          815   \n",
       "965              True  16/02/2020 16:34  16/02/2020 15:49          956   \n",
       "\n",
       "            Date  \n",
       "338   13/01/2020  \n",
       "712   29/01/2020  \n",
       "407   15/12/2019  \n",
       "1012  01/01/2020  \n",
       "965   16/02/2020  "
      ]
     },
     "execution_count": 437,
     "metadata": {},
     "output_type": "execute_result"
    }
   ],
   "source": [
    "flights_df_2020.sample(5)"
   ]
  },
  {
   "cell_type": "markdown",
   "metadata": {},
   "source": [
    "We would like to set the \"Tail Number\" column as the Dataframes' index:"
   ]
  },
  {
   "cell_type": "code",
   "execution_count": 438,
   "metadata": {},
   "outputs": [],
   "source": [
    "def set_tail_number_as_index(flights_df):\n",
    "    flights_df.set_index('Tail Number', inplace = True)\n",
    "\n",
    "set_tail_number_as_index(flights_df_2019)\n",
    "set_tail_number_as_index(flights_df_2020)"
   ]
  },
  {
   "cell_type": "markdown",
   "metadata": {},
   "source": [
    "Let's drop the \"Date\" column, since this data is already a part of the landing and departure times:"
   ]
  },
  {
   "cell_type": "code",
   "execution_count": 439,
   "metadata": {},
   "outputs": [],
   "source": [
    "def drop_date_cloumn(flights_df):\n",
    "    flights_df.drop(columns = [\"Date\"], inplace = True)\n",
    "\n",
    "drop_date_cloumn(flights_df_2019)\n",
    "drop_date_cloumn(flights_df_2020)"
   ]
  },
  {
   "cell_type": "markdown",
   "metadata": {},
   "source": [
    "Finally, we would like to change the departure and landing times to follow the datetime convention:"
   ]
  },
  {
   "cell_type": "code",
   "execution_count": 440,
   "metadata": {},
   "outputs": [],
   "source": [
    "def convert_to_datetime(flights_df):\n",
    "    flights_df['Departure Time'] = pd.to_datetime(flights_df['Departure Time'], dayfirst=True)\n",
    "    flights_df['Landing Time'] = pd.to_datetime(flights_df['Landing Time'], dayfirst=True)\n",
    "\n",
    "convert_to_datetime(flights_df_2019)\n",
    "convert_to_datetime(flights_df_2020)"
   ]
  },
  {
   "cell_type": "markdown",
   "metadata": {
    "direction": "ltr"
   },
   "source": [
    "#### 3.2.2 Check and Handle Missing Values (if any)"
   ]
  },
  {
   "cell_type": "markdown",
   "metadata": {
    "direction": "ltr"
   },
   "source": [
    "We would like to understand if our Dataframes have missing values (NaNs):"
   ]
  },
  {
   "cell_type": "code",
   "execution_count": 441,
   "metadata": {},
   "outputs": [
    {
     "data": {
      "text/plain": [
       "Northern Flight    0\n",
       "Landing Time       0\n",
       "Departure Time     0\n",
       "dtype: int64"
      ]
     },
     "execution_count": 441,
     "metadata": {},
     "output_type": "execute_result"
    }
   ],
   "source": [
    "flights_df_2019.isnull().sum()"
   ]
  },
  {
   "cell_type": "code",
   "execution_count": 442,
   "metadata": {},
   "outputs": [
    {
     "data": {
      "text/plain": [
       "Northern Flight    0\n",
       "Landing Time       0\n",
       "Departure Time     0\n",
       "dtype: int64"
      ]
     },
     "execution_count": 442,
     "metadata": {},
     "output_type": "execute_result"
    }
   ],
   "source": [
    "flights_df_2020.isnull().sum()"
   ]
  },
  {
   "cell_type": "markdown",
   "metadata": {},
   "source": [
    "Based on my past experience, I expect 15% - 20% of sorties to have the 'Northern Israel' flag set True:"
   ]
  },
  {
   "cell_type": "code",
   "execution_count": 443,
   "metadata": {},
   "outputs": [
    {
     "name": "stdout",
     "output_type": "stream",
     "text": [
      "2019 Statistics:\n",
      "Northern Flight    16.033994\n",
      "Landing Time       16.033994\n",
      "Departure Time     16.033994\n",
      "dtype: float64\n",
      "\n",
      "2020 Statistics:\n",
      "Northern Flight    16.318962\n",
      "Landing Time       16.318962\n",
      "Departure Time     16.318962\n",
      "dtype: float64\n"
     ]
    }
   ],
   "source": [
    "def calc_northern_israel_prec(flights_df):\n",
    "    print((flights_df[flights_df['Northern Flight'] == True].count() / flights_df.count()) * 100)\n",
    "\n",
    "print(\"2019 Statistics:\")\n",
    "calc_northern_israel_prec(flights_df_2019)\n",
    "\n",
    "print(\"\\n2020 Statistics:\")\n",
    "calc_northern_israel_prec(flights_df_2020)"
   ]
  },
  {
   "cell_type": "markdown",
   "metadata": {},
   "source": [
    "We would like to verify that all sorties took place during Winter(December, January, February) and Summer (June, July, August) months:"
   ]
  },
  {
   "cell_type": "code",
   "execution_count": 444,
   "metadata": {},
   "outputs": [],
   "source": [
    "def validate_dates(flights_df):\n",
    "    invalid_dates = []\n",
    "\n",
    "    # Iterate over 'Departure Time' instances to check for the condition.\n",
    "    for instance in flights_df['Departure Time']:\n",
    "        if dt.datetime(2020,3,1) < instance < dt.datetime(2020,5,31) or \\\n",
    "        dt.datetime(2020,9,1) < instance < dt.datetime(2020,12,31):\n",
    "            invalid_dates.append(instance)\n",
    "\n",
    "    # Iterate over 'Landing Time' instances to check for the condition.\n",
    "    for instance in flights_df['Landing Time']:\n",
    "        if dt.datetime(2020,3,1) < instance < dt.datetime(2020,5,31) or \\\n",
    "        dt.datetime(2020,9,1) < instance < dt.datetime(2020,12,31):\n",
    "            invalid_dates.append(instance)\n",
    "\n",
    "    # Print a nice message.\n",
    "    if not invalid_dates:\n",
    "        print(\"All dates are during the specified months!\")\n",
    "    else:\n",
    "        print(\"The following invalid dates were found: \", invalid_dates)"
   ]
  },
  {
   "cell_type": "code",
   "execution_count": 445,
   "metadata": {},
   "outputs": [
    {
     "name": "stdout",
     "output_type": "stream",
     "text": [
      "All dates are during the specified months!\n"
     ]
    }
   ],
   "source": [
    "validate_dates(flights_df_2019)"
   ]
  },
  {
   "cell_type": "code",
   "execution_count": 446,
   "metadata": {},
   "outputs": [
    {
     "name": "stdout",
     "output_type": "stream",
     "text": [
      "All dates are during the specified months!\n"
     ]
    }
   ],
   "source": [
    "validate_dates(flights_df_2020)"
   ]
  },
  {
   "cell_type": "markdown",
   "metadata": {},
   "source": [
    "Finally, we would like to verify that landing times are later than departure times:"
   ]
  },
  {
   "cell_type": "code",
   "execution_count": 447,
   "metadata": {},
   "outputs": [],
   "source": [
    "def validate_times(flights_df):\n",
    "    invalid_times = []\n",
    "\n",
    "    # Iterate over 'Departure Time' and 'Landing Time' instances to check for the condition.\n",
    "    for instance in zip(flights_df['Departure Time'], flights_df['Landing Time']):\n",
    "        if instance[0] > instance[1]:\n",
    "            invalid_times.append(instance)\n",
    "\n",
    "\n",
    "    # Print a nice message.\n",
    "    if not invalid_times:\n",
    "        print(\"Landing times are later than departure times!\")\n",
    "    else:\n",
    "        print(\"The following invalid tuples were found: \", invalid_dates)"
   ]
  },
  {
   "cell_type": "code",
   "execution_count": 448,
   "metadata": {},
   "outputs": [
    {
     "name": "stdout",
     "output_type": "stream",
     "text": [
      "Landing times are later than departure times!\n"
     ]
    }
   ],
   "source": [
    "validate_times(flights_df_2019)"
   ]
  },
  {
   "cell_type": "code",
   "execution_count": 449,
   "metadata": {},
   "outputs": [
    {
     "name": "stdout",
     "output_type": "stream",
     "text": [
      "Landing times are later than departure times!\n"
     ]
    }
   ],
   "source": [
    "validate_times(flights_df_2020)"
   ]
  },
  {
   "cell_type": "markdown",
   "metadata": {
    "direction": "ltr"
   },
   "source": [
    "#### 3.2.3 Shaping the Dataset"
   ]
  },
  {
   "cell_type": "markdown",
   "metadata": {
    "direction": "ltr"
   },
   "source": [
    "The only thing we would like to do with the training sorties Dataframes is to add to them another column for the flight's duration:"
   ]
  },
  {
   "cell_type": "code",
   "execution_count": 450,
   "metadata": {},
   "outputs": [],
   "source": [
    "# Calculates the time delta.\n",
    "def calc_time_delta (row):\n",
    "   return row['Landing Time'] - row['Departure Time']\n",
    "\n",
    "# Apply on Dataframe.\n",
    "def apply_on_dataframe(flights_df):\n",
    "    flights_df['Flight Duration'] = flights_df.apply(lambda row: calc_time_delta(row), axis=1)\n",
    "    \n",
    "apply_on_dataframe(flights_df_2019)\n",
    "apply_on_dataframe(flights_df_2020)"
   ]
  },
  {
   "cell_type": "markdown",
   "metadata": {},
   "source": [
    "The squadron flies about ~4000 hours per year. Therefore, we are expecting ~2000 hours totally:"
   ]
  },
  {
   "cell_type": "code",
   "execution_count": 451,
   "metadata": {},
   "outputs": [
    {
     "name": "stdout",
     "output_type": "stream",
     "text": [
      "Total flights' hours reported in 2019: 1543.4333333333334\n",
      "Total flights' hours reported in 2020: 1845.8333333333333\n"
     ]
    }
   ],
   "source": [
    "def print_annually_flight_hours(flights_df, year):\n",
    "    print(\"Total flights' hours reported in {0}: {1}\".format(year ,flights_df['Flight Duration'].sum().total_seconds() / 3600))\n",
    "    \n",
    "print_annually_flight_hours(flights_df_2019, 2019)\n",
    "print_annually_flight_hours(flights_df_2020, 2020)"
   ]
  },
  {
   "cell_type": "markdown",
   "metadata": {},
   "source": [
    "It seems that the squadron flew less than expected in 2019."
   ]
  },
  {
   "cell_type": "markdown",
   "metadata": {},
   "source": [
    "Now, we would like to change the columns order as following:"
   ]
  },
  {
   "cell_type": "code",
   "execution_count": 452,
   "metadata": {},
   "outputs": [],
   "source": [
    "def change_columns_order(flights_df):\n",
    "    flights_df = flights_df[['Departure Time', 'Landing Time', 'Flight Duration', 'Northern Flight']]\n",
    "    \n",
    "change_columns_order(flights_df_2019)\n",
    "change_columns_order(flights_df_2020)"
   ]
  },
  {
   "cell_type": "markdown",
   "metadata": {},
   "source": [
    "Finally, let's change the departure and landing times to follow UTC+0, in order them to correspond with the meterological dataset (as further discussed below):\n",
    "\n",
    "Note - the method to be used was written under the \"Malfunctions Dataset\" section."
   ]
  },
  {
   "cell_type": "code",
   "execution_count": 453,
   "metadata": {},
   "outputs": [],
   "source": [
    "change_to_utc(flights_df_2019, 'Departure Time', winter_time_starting_date_2019, winter_time_ending_date_2019)\n",
    "change_to_utc(flights_df_2019, 'Landing Time', winter_time_starting_date_2019, winter_time_ending_date_2019)"
   ]
  },
  {
   "cell_type": "code",
   "execution_count": 454,
   "metadata": {},
   "outputs": [],
   "source": [
    "change_to_utc(flights_df_2020, 'Departure Time', winter_time_starting_date_2020, winter_time_ending_date_2020)\n",
    "change_to_utc(flights_df_2020, 'Landing Time', winter_time_starting_date_2020, winter_time_ending_date_2020)"
   ]
  },
  {
   "cell_type": "markdown",
   "metadata": {},
   "source": [
    "Last look on the Dataframes before saving them:"
   ]
  },
  {
   "cell_type": "code",
   "execution_count": 455,
   "metadata": {},
   "outputs": [
    {
     "data": {
      "text/html": [
       "<div>\n",
       "<style scoped>\n",
       "    .dataframe tbody tr th:only-of-type {\n",
       "        vertical-align: middle;\n",
       "    }\n",
       "\n",
       "    .dataframe tbody tr th {\n",
       "        vertical-align: top;\n",
       "    }\n",
       "\n",
       "    .dataframe thead th {\n",
       "        text-align: right;\n",
       "    }\n",
       "</style>\n",
       "<table border=\"1\" class=\"dataframe\">\n",
       "  <thead>\n",
       "    <tr style=\"text-align: right;\">\n",
       "      <th></th>\n",
       "      <th>Northern Flight</th>\n",
       "      <th>Landing Time</th>\n",
       "      <th>Departure Time</th>\n",
       "      <th>Flight Duration</th>\n",
       "    </tr>\n",
       "    <tr>\n",
       "      <th>Tail Number</th>\n",
       "      <th></th>\n",
       "      <th></th>\n",
       "      <th></th>\n",
       "      <th></th>\n",
       "    </tr>\n",
       "  </thead>\n",
       "  <tbody>\n",
       "    <tr>\n",
       "      <th>840</th>\n",
       "      <td>False</td>\n",
       "      <td>2019-07-08 08:20:00</td>\n",
       "      <td>2019-07-08 08:10:00</td>\n",
       "      <td>0 days 00:10:00</td>\n",
       "    </tr>\n",
       "    <tr>\n",
       "      <th>966</th>\n",
       "      <td>False</td>\n",
       "      <td>2019-01-30 17:01:00</td>\n",
       "      <td>2019-01-30 15:46:00</td>\n",
       "      <td>0 days 01:15:00</td>\n",
       "    </tr>\n",
       "    <tr>\n",
       "      <th>840</th>\n",
       "      <td>False</td>\n",
       "      <td>2019-08-07 10:49:00</td>\n",
       "      <td>2019-08-07 09:09:00</td>\n",
       "      <td>0 days 01:40:00</td>\n",
       "    </tr>\n",
       "    <tr>\n",
       "      <th>938</th>\n",
       "      <td>False</td>\n",
       "      <td>2019-02-19 15:44:00</td>\n",
       "      <td>2019-02-19 14:49:00</td>\n",
       "      <td>0 days 00:55:00</td>\n",
       "    </tr>\n",
       "    <tr>\n",
       "      <th>812</th>\n",
       "      <td>False</td>\n",
       "      <td>2019-02-13 16:47:00</td>\n",
       "      <td>2019-02-13 15:37:00</td>\n",
       "      <td>0 days 01:10:00</td>\n",
       "    </tr>\n",
       "  </tbody>\n",
       "</table>\n",
       "</div>"
      ],
      "text/plain": [
       "             Northern Flight        Landing Time      Departure Time  \\\n",
       "Tail Number                                                            \n",
       "840                    False 2019-07-08 08:20:00 2019-07-08 08:10:00   \n",
       "966                    False 2019-01-30 17:01:00 2019-01-30 15:46:00   \n",
       "840                    False 2019-08-07 10:49:00 2019-08-07 09:09:00   \n",
       "938                    False 2019-02-19 15:44:00 2019-02-19 14:49:00   \n",
       "812                    False 2019-02-13 16:47:00 2019-02-13 15:37:00   \n",
       "\n",
       "            Flight Duration  \n",
       "Tail Number                  \n",
       "840         0 days 00:10:00  \n",
       "966         0 days 01:15:00  \n",
       "840         0 days 01:40:00  \n",
       "938         0 days 00:55:00  \n",
       "812         0 days 01:10:00  "
      ]
     },
     "execution_count": 455,
     "metadata": {},
     "output_type": "execute_result"
    }
   ],
   "source": [
    "flights_df_2019.sample(5)"
   ]
  },
  {
   "cell_type": "code",
   "execution_count": 456,
   "metadata": {},
   "outputs": [
    {
     "data": {
      "text/html": [
       "<div>\n",
       "<style scoped>\n",
       "    .dataframe tbody tr th:only-of-type {\n",
       "        vertical-align: middle;\n",
       "    }\n",
       "\n",
       "    .dataframe tbody tr th {\n",
       "        vertical-align: top;\n",
       "    }\n",
       "\n",
       "    .dataframe thead th {\n",
       "        text-align: right;\n",
       "    }\n",
       "</style>\n",
       "<table border=\"1\" class=\"dataframe\">\n",
       "  <thead>\n",
       "    <tr style=\"text-align: right;\">\n",
       "      <th></th>\n",
       "      <th>Northern Flight</th>\n",
       "      <th>Landing Time</th>\n",
       "      <th>Departure Time</th>\n",
       "      <th>Flight Duration</th>\n",
       "    </tr>\n",
       "    <tr>\n",
       "      <th>Tail Number</th>\n",
       "      <th></th>\n",
       "      <th></th>\n",
       "      <th></th>\n",
       "      <th></th>\n",
       "    </tr>\n",
       "  </thead>\n",
       "  <tbody>\n",
       "    <tr>\n",
       "      <th>961</th>\n",
       "      <td>False</td>\n",
       "      <td>2020-06-10 17:57:00</td>\n",
       "      <td>2020-06-10 17:12:00</td>\n",
       "      <td>0 days 00:45:00</td>\n",
       "    </tr>\n",
       "    <tr>\n",
       "      <th>840</th>\n",
       "      <td>True</td>\n",
       "      <td>2019-12-09 16:36:00</td>\n",
       "      <td>2019-12-09 15:51:00</td>\n",
       "      <td>0 days 00:45:00</td>\n",
       "    </tr>\n",
       "    <tr>\n",
       "      <th>840</th>\n",
       "      <td>False</td>\n",
       "      <td>2020-01-16 08:53:00</td>\n",
       "      <td>2020-01-16 07:43:00</td>\n",
       "      <td>0 days 01:10:00</td>\n",
       "    </tr>\n",
       "    <tr>\n",
       "      <th>830</th>\n",
       "      <td>True</td>\n",
       "      <td>2020-02-25 16:03:00</td>\n",
       "      <td>2020-02-25 15:18:00</td>\n",
       "      <td>0 days 00:45:00</td>\n",
       "    </tr>\n",
       "    <tr>\n",
       "      <th>834</th>\n",
       "      <td>False</td>\n",
       "      <td>2020-06-24 15:34:00</td>\n",
       "      <td>2020-06-24 14:19:00</td>\n",
       "      <td>0 days 01:15:00</td>\n",
       "    </tr>\n",
       "  </tbody>\n",
       "</table>\n",
       "</div>"
      ],
      "text/plain": [
       "             Northern Flight        Landing Time      Departure Time  \\\n",
       "Tail Number                                                            \n",
       "961                    False 2020-06-10 17:57:00 2020-06-10 17:12:00   \n",
       "840                     True 2019-12-09 16:36:00 2019-12-09 15:51:00   \n",
       "840                    False 2020-01-16 08:53:00 2020-01-16 07:43:00   \n",
       "830                     True 2020-02-25 16:03:00 2020-02-25 15:18:00   \n",
       "834                    False 2020-06-24 15:34:00 2020-06-24 14:19:00   \n",
       "\n",
       "            Flight Duration  \n",
       "Tail Number                  \n",
       "961         0 days 00:45:00  \n",
       "840         0 days 00:45:00  \n",
       "840         0 days 01:10:00  \n",
       "830         0 days 00:45:00  \n",
       "834         0 days 01:15:00  "
      ]
     },
     "execution_count": 456,
     "metadata": {},
     "output_type": "execute_result"
    }
   ],
   "source": [
    "flights_df_2020.sample(5)"
   ]
  },
  {
   "cell_type": "markdown",
   "metadata": {},
   "source": [
    "Finally, we would like to save the Dataframes into a dedicated directory (for a later use):"
   ]
  },
  {
   "cell_type": "code",
   "execution_count": 457,
   "metadata": {},
   "outputs": [],
   "source": [
    "flights_df_2019.to_pickle(\"helicopters_flights_data_set/flights_dataset_2019.pkl\")\n",
    "flights_df_2020.to_pickle(\"helicopters_flights_data_set/flights_dataset_2020.pkl\")"
   ]
  },
  {
   "cell_type": "markdown",
   "metadata": {
    "direction": "ltr"
   },
   "source": [
    "###  3.3 Helicopters' Parking Locations Dataset"
   ]
  },
  {
   "cell_type": "markdown",
   "metadata": {
    "direction": "ltr"
   },
   "source": [
    "#### 3.3.1 Reading Israeli Air Force CSV"
   ]
  },
  {
   "cell_type": "markdown",
   "metadata": {},
   "source": [
    "We would like to read the .CSV files received from the Israeli Air Force into a Pandas Dataframes:"
   ]
  },
  {
   "cell_type": "code",
   "execution_count": 458,
   "metadata": {
    "direction": "rtl"
   },
   "outputs": [],
   "source": [
    "parking_df_2019 = pd.read_csv(\"iaf_datasets/parking_dataset_raw_2019.csv\")\n",
    "parking_df_2020 = pd.read_csv(\"iaf_datasets/parking_dataset_raw_2020.csv\")"
   ]
  },
  {
   "cell_type": "markdown",
   "metadata": {},
   "source": [
    "Let's have a sense of the data just read by randomly sampling 5 rows:"
   ]
  },
  {
   "cell_type": "code",
   "execution_count": 459,
   "metadata": {},
   "outputs": [
    {
     "data": {
      "text/html": [
       "<div>\n",
       "<style scoped>\n",
       "    .dataframe tbody tr th:only-of-type {\n",
       "        vertical-align: middle;\n",
       "    }\n",
       "\n",
       "    .dataframe tbody tr th {\n",
       "        vertical-align: top;\n",
       "    }\n",
       "\n",
       "    .dataframe thead th {\n",
       "        text-align: right;\n",
       "    }\n",
       "</style>\n",
       "<table border=\"1\" class=\"dataframe\">\n",
       "  <thead>\n",
       "    <tr style=\"text-align: right;\">\n",
       "      <th></th>\n",
       "      <th>Unnamed: 0</th>\n",
       "      <th>801</th>\n",
       "      <th>804</th>\n",
       "      <th>806</th>\n",
       "      <th>812</th>\n",
       "      <th>815</th>\n",
       "      <th>820</th>\n",
       "      <th>828</th>\n",
       "      <th>830</th>\n",
       "      <th>832</th>\n",
       "      <th>...</th>\n",
       "      <th>910</th>\n",
       "      <th>921</th>\n",
       "      <th>924</th>\n",
       "      <th>935</th>\n",
       "      <th>938</th>\n",
       "      <th>941</th>\n",
       "      <th>956</th>\n",
       "      <th>961</th>\n",
       "      <th>966</th>\n",
       "      <th>967</th>\n",
       "    </tr>\n",
       "  </thead>\n",
       "  <tbody>\n",
       "    <tr>\n",
       "      <th>52</th>\n",
       "      <td>22/01/2019</td>\n",
       "      <td>25</td>\n",
       "      <td>25</td>\n",
       "      <td>1</td>\n",
       "      <td>1</td>\n",
       "      <td>25</td>\n",
       "      <td>1</td>\n",
       "      <td>25</td>\n",
       "      <td>25</td>\n",
       "      <td>25</td>\n",
       "      <td>...</td>\n",
       "      <td>25</td>\n",
       "      <td>25</td>\n",
       "      <td>25</td>\n",
       "      <td>1</td>\n",
       "      <td>25</td>\n",
       "      <td>25</td>\n",
       "      <td>25</td>\n",
       "      <td>25</td>\n",
       "      <td>25</td>\n",
       "      <td>25</td>\n",
       "    </tr>\n",
       "    <tr>\n",
       "      <th>191</th>\n",
       "      <td>10/06/2019</td>\n",
       "      <td>25</td>\n",
       "      <td>25</td>\n",
       "      <td>25</td>\n",
       "      <td>1</td>\n",
       "      <td>25</td>\n",
       "      <td>25</td>\n",
       "      <td>25</td>\n",
       "      <td>25</td>\n",
       "      <td>25</td>\n",
       "      <td>...</td>\n",
       "      <td>1</td>\n",
       "      <td>1</td>\n",
       "      <td>1</td>\n",
       "      <td>1</td>\n",
       "      <td>1</td>\n",
       "      <td>25</td>\n",
       "      <td>25</td>\n",
       "      <td>25</td>\n",
       "      <td>25</td>\n",
       "      <td>25</td>\n",
       "    </tr>\n",
       "    <tr>\n",
       "      <th>292</th>\n",
       "      <td>19/09/2019</td>\n",
       "      <td>25</td>\n",
       "      <td>25</td>\n",
       "      <td>25</td>\n",
       "      <td>1</td>\n",
       "      <td>25</td>\n",
       "      <td>25</td>\n",
       "      <td>25</td>\n",
       "      <td>25</td>\n",
       "      <td>25</td>\n",
       "      <td>...</td>\n",
       "      <td>1</td>\n",
       "      <td>25</td>\n",
       "      <td>1</td>\n",
       "      <td>25</td>\n",
       "      <td>25</td>\n",
       "      <td>25</td>\n",
       "      <td>25</td>\n",
       "      <td>25</td>\n",
       "      <td>25</td>\n",
       "      <td>1</td>\n",
       "    </tr>\n",
       "    <tr>\n",
       "      <th>302</th>\n",
       "      <td>29/09/2019</td>\n",
       "      <td>25</td>\n",
       "      <td>25</td>\n",
       "      <td>25</td>\n",
       "      <td>25</td>\n",
       "      <td>25</td>\n",
       "      <td>25</td>\n",
       "      <td>25</td>\n",
       "      <td>25</td>\n",
       "      <td>25</td>\n",
       "      <td>...</td>\n",
       "      <td>25</td>\n",
       "      <td>25</td>\n",
       "      <td>25</td>\n",
       "      <td>25</td>\n",
       "      <td>25</td>\n",
       "      <td>25</td>\n",
       "      <td>25</td>\n",
       "      <td>25</td>\n",
       "      <td>25</td>\n",
       "      <td>25</td>\n",
       "    </tr>\n",
       "    <tr>\n",
       "      <th>185</th>\n",
       "      <td>04/06/2019</td>\n",
       "      <td>25</td>\n",
       "      <td>25</td>\n",
       "      <td>25</td>\n",
       "      <td>1</td>\n",
       "      <td>25</td>\n",
       "      <td>25</td>\n",
       "      <td>25</td>\n",
       "      <td>25</td>\n",
       "      <td>25</td>\n",
       "      <td>...</td>\n",
       "      <td>1</td>\n",
       "      <td>1</td>\n",
       "      <td>1</td>\n",
       "      <td>1</td>\n",
       "      <td>1</td>\n",
       "      <td>25</td>\n",
       "      <td>25</td>\n",
       "      <td>25</td>\n",
       "      <td>25</td>\n",
       "      <td>25</td>\n",
       "    </tr>\n",
       "  </tbody>\n",
       "</table>\n",
       "<p>5 rows × 26 columns</p>\n",
       "</div>"
      ],
      "text/plain": [
       "     Unnamed: 0  801  804  806  812  815  820  828  830  832  ...  910  921  \\\n",
       "52   22/01/2019   25   25    1    1   25    1   25   25   25  ...   25   25   \n",
       "191  10/06/2019   25   25   25    1   25   25   25   25   25  ...    1    1   \n",
       "292  19/09/2019   25   25   25    1   25   25   25   25   25  ...    1   25   \n",
       "302  29/09/2019   25   25   25   25   25   25   25   25   25  ...   25   25   \n",
       "185  04/06/2019   25   25   25    1   25   25   25   25   25  ...    1    1   \n",
       "\n",
       "     924  935  938  941  956  961  966  967  \n",
       "52    25    1   25   25   25   25   25   25  \n",
       "191    1    1    1   25   25   25   25   25  \n",
       "292    1   25   25   25   25   25   25    1  \n",
       "302   25   25   25   25   25   25   25   25  \n",
       "185    1    1    1   25   25   25   25   25  \n",
       "\n",
       "[5 rows x 26 columns]"
      ]
     },
     "execution_count": 459,
     "metadata": {},
     "output_type": "execute_result"
    }
   ],
   "source": [
    "parking_df_2019.sample(5)"
   ]
  },
  {
   "cell_type": "code",
   "execution_count": 460,
   "metadata": {},
   "outputs": [
    {
     "data": {
      "text/html": [
       "<div>\n",
       "<style scoped>\n",
       "    .dataframe tbody tr th:only-of-type {\n",
       "        vertical-align: middle;\n",
       "    }\n",
       "\n",
       "    .dataframe tbody tr th {\n",
       "        vertical-align: top;\n",
       "    }\n",
       "\n",
       "    .dataframe thead th {\n",
       "        text-align: right;\n",
       "    }\n",
       "</style>\n",
       "<table border=\"1\" class=\"dataframe\">\n",
       "  <thead>\n",
       "    <tr style=\"text-align: right;\">\n",
       "      <th></th>\n",
       "      <th>Unnamed: 0</th>\n",
       "      <th>801</th>\n",
       "      <th>804</th>\n",
       "      <th>806</th>\n",
       "      <th>812</th>\n",
       "      <th>815</th>\n",
       "      <th>820</th>\n",
       "      <th>828</th>\n",
       "      <th>830</th>\n",
       "      <th>832</th>\n",
       "      <th>...</th>\n",
       "      <th>910</th>\n",
       "      <th>921</th>\n",
       "      <th>924</th>\n",
       "      <th>935</th>\n",
       "      <th>938</th>\n",
       "      <th>941</th>\n",
       "      <th>956</th>\n",
       "      <th>961</th>\n",
       "      <th>966</th>\n",
       "      <th>967</th>\n",
       "    </tr>\n",
       "  </thead>\n",
       "  <tbody>\n",
       "    <tr>\n",
       "      <th>5</th>\n",
       "      <td>06/12/2019</td>\n",
       "      <td>25</td>\n",
       "      <td>25</td>\n",
       "      <td>25</td>\n",
       "      <td>25</td>\n",
       "      <td>25</td>\n",
       "      <td>25</td>\n",
       "      <td>25</td>\n",
       "      <td>1</td>\n",
       "      <td>1</td>\n",
       "      <td>...</td>\n",
       "      <td>1</td>\n",
       "      <td>25</td>\n",
       "      <td>25</td>\n",
       "      <td>25</td>\n",
       "      <td>25</td>\n",
       "      <td>25</td>\n",
       "      <td>25</td>\n",
       "      <td>25</td>\n",
       "      <td>25</td>\n",
       "      <td>25</td>\n",
       "    </tr>\n",
       "    <tr>\n",
       "      <th>241</th>\n",
       "      <td>29/07/2020</td>\n",
       "      <td>25</td>\n",
       "      <td>25</td>\n",
       "      <td>1</td>\n",
       "      <td>1</td>\n",
       "      <td>1</td>\n",
       "      <td>25</td>\n",
       "      <td>25</td>\n",
       "      <td>25</td>\n",
       "      <td>25</td>\n",
       "      <td>...</td>\n",
       "      <td>1</td>\n",
       "      <td>25</td>\n",
       "      <td>25</td>\n",
       "      <td>25</td>\n",
       "      <td>25</td>\n",
       "      <td>1</td>\n",
       "      <td>25</td>\n",
       "      <td>25</td>\n",
       "      <td>25</td>\n",
       "      <td>25</td>\n",
       "    </tr>\n",
       "    <tr>\n",
       "      <th>10</th>\n",
       "      <td>11/12/2019</td>\n",
       "      <td>25</td>\n",
       "      <td>25</td>\n",
       "      <td>25</td>\n",
       "      <td>25</td>\n",
       "      <td>25</td>\n",
       "      <td>25</td>\n",
       "      <td>25</td>\n",
       "      <td>1</td>\n",
       "      <td>1</td>\n",
       "      <td>...</td>\n",
       "      <td>25</td>\n",
       "      <td>25</td>\n",
       "      <td>25</td>\n",
       "      <td>25</td>\n",
       "      <td>25</td>\n",
       "      <td>25</td>\n",
       "      <td>25</td>\n",
       "      <td>25</td>\n",
       "      <td>1</td>\n",
       "      <td>25</td>\n",
       "    </tr>\n",
       "    <tr>\n",
       "      <th>54</th>\n",
       "      <td>24/01/2020</td>\n",
       "      <td>25</td>\n",
       "      <td>25</td>\n",
       "      <td>25</td>\n",
       "      <td>25</td>\n",
       "      <td>25</td>\n",
       "      <td>25</td>\n",
       "      <td>25</td>\n",
       "      <td>25</td>\n",
       "      <td>25</td>\n",
       "      <td>...</td>\n",
       "      <td>25</td>\n",
       "      <td>25</td>\n",
       "      <td>25</td>\n",
       "      <td>25</td>\n",
       "      <td>25</td>\n",
       "      <td>25</td>\n",
       "      <td>25</td>\n",
       "      <td>25</td>\n",
       "      <td>25</td>\n",
       "      <td>25</td>\n",
       "    </tr>\n",
       "    <tr>\n",
       "      <th>319</th>\n",
       "      <td>15/10/2020</td>\n",
       "      <td>25</td>\n",
       "      <td>25</td>\n",
       "      <td>25</td>\n",
       "      <td>25</td>\n",
       "      <td>25</td>\n",
       "      <td>25</td>\n",
       "      <td>25</td>\n",
       "      <td>25</td>\n",
       "      <td>25</td>\n",
       "      <td>...</td>\n",
       "      <td>25</td>\n",
       "      <td>25</td>\n",
       "      <td>25</td>\n",
       "      <td>25</td>\n",
       "      <td>25</td>\n",
       "      <td>1</td>\n",
       "      <td>25</td>\n",
       "      <td>25</td>\n",
       "      <td>1</td>\n",
       "      <td>1</td>\n",
       "    </tr>\n",
       "  </tbody>\n",
       "</table>\n",
       "<p>5 rows × 26 columns</p>\n",
       "</div>"
      ],
      "text/plain": [
       "     Unnamed: 0  801  804  806  812  815  820  828  830  832  ...  910  921  \\\n",
       "5    06/12/2019   25   25   25   25   25   25   25    1    1  ...    1   25   \n",
       "241  29/07/2020   25   25    1    1    1   25   25   25   25  ...    1   25   \n",
       "10   11/12/2019   25   25   25   25   25   25   25    1    1  ...   25   25   \n",
       "54   24/01/2020   25   25   25   25   25   25   25   25   25  ...   25   25   \n",
       "319  15/10/2020   25   25   25   25   25   25   25   25   25  ...   25   25   \n",
       "\n",
       "     924  935  938  941  956  961  966  967  \n",
       "5     25   25   25   25   25   25   25   25  \n",
       "241   25   25   25    1   25   25   25   25  \n",
       "10    25   25   25   25   25   25    1   25  \n",
       "54    25   25   25   25   25   25   25   25  \n",
       "319   25   25   25    1   25   25    1    1  \n",
       "\n",
       "[5 rows x 26 columns]"
      ]
     },
     "execution_count": 460,
     "metadata": {},
     "output_type": "execute_result"
    }
   ],
   "source": [
    "parking_df_2020.sample(5)"
   ]
  },
  {
   "cell_type": "markdown",
   "metadata": {},
   "source": [
    "We would like to change the 'Unnamed: 0' column name to 'Date'. Then, changing it to follow the datetime convention (type). At the end, we would like to set it as the Dataframes' index:"
   ]
  },
  {
   "cell_type": "code",
   "execution_count": 461,
   "metadata": {},
   "outputs": [],
   "source": [
    "def manipulate_date_column(parking_df):\n",
    "    parking_df.rename(columns={'Unnamed: 0': 'Date'}, inplace=True)\n",
    "\n",
    "    # Convert to datetime objects.\n",
    "    parking_df['Date'] = pd.to_datetime(parking_df['Date'], dayfirst=True)\n",
    "\n",
    "    parking_df.set_index('Date', inplace=True)\n",
    "\n",
    "manipulate_date_column(parking_df_2019)\n",
    "manipulate_date_column(parking_df_2020)"
   ]
  },
  {
   "cell_type": "markdown",
   "metadata": {
    "direction": "ltr"
   },
   "source": [
    "#### 3.3.2 Check and Handle Missing Values (if any)"
   ]
  },
  {
   "cell_type": "markdown",
   "metadata": {},
   "source": [
    "We would like to understand if our Dataframes have missing values (NaNs):"
   ]
  },
  {
   "cell_type": "code",
   "execution_count": 462,
   "metadata": {
    "direction": "rtl"
   },
   "outputs": [
    {
     "data": {
      "text/plain": [
       "801    0\n",
       "804    0\n",
       "806    0\n",
       "812    0\n",
       "815    0\n",
       "820    0\n",
       "828    0\n",
       "830    0\n",
       "832    0\n",
       "834    0\n",
       "837    0\n",
       "840    0\n",
       "842    0\n",
       "845    0\n",
       "905    0\n",
       "910    0\n",
       "921    0\n",
       "924    0\n",
       "935    0\n",
       "938    0\n",
       "941    0\n",
       "956    0\n",
       "961    0\n",
       "966    0\n",
       "967    0\n",
       "dtype: int64"
      ]
     },
     "execution_count": 462,
     "metadata": {},
     "output_type": "execute_result"
    }
   ],
   "source": [
    "parking_df_2019.isnull().sum()"
   ]
  },
  {
   "cell_type": "code",
   "execution_count": 463,
   "metadata": {},
   "outputs": [
    {
     "data": {
      "text/plain": [
       "801    0\n",
       "804    0\n",
       "806    0\n",
       "812    0\n",
       "815    0\n",
       "820    0\n",
       "828    0\n",
       "830    0\n",
       "832    0\n",
       "834    0\n",
       "837    0\n",
       "840    0\n",
       "842    0\n",
       "845    0\n",
       "905    0\n",
       "910    0\n",
       "921    0\n",
       "924    0\n",
       "935    0\n",
       "938    0\n",
       "941    0\n",
       "956    0\n",
       "961    0\n",
       "966    0\n",
       "967    0\n",
       "dtype: int64"
      ]
     },
     "execution_count": 463,
     "metadata": {},
     "output_type": "execute_result"
    }
   ],
   "source": [
    "parking_df_2020.isnull().sum()"
   ]
  },
  {
   "cell_type": "markdown",
   "metadata": {},
   "source": [
    "We would like to print all possible parking locations:"
   ]
  },
  {
   "cell_type": "code",
   "execution_count": 464,
   "metadata": {},
   "outputs": [],
   "source": [
    "def print_parking_locations(parking_df):\n",
    "    parking_locations = []\n",
    "\n",
    "    # Iterate over the columns unique values (except the Date).\n",
    "    for col in parking_df.columns[1:]:\n",
    "        for location in parking_df[col].unique():\n",
    "            parking_locations.append(location)\n",
    "\n",
    "    # Print the set of locations\n",
    "    print('The parking locations reported are:', set(parking_locations))"
   ]
  },
  {
   "cell_type": "code",
   "execution_count": 465,
   "metadata": {},
   "outputs": [
    {
     "name": "stdout",
     "output_type": "stream",
     "text": [
      "The parking locations reported are: {8, 25, 1}\n"
     ]
    }
   ],
   "source": [
    "print_parking_locations(parking_df_2019)"
   ]
  },
  {
   "cell_type": "markdown",
   "metadata": {},
   "source": [
    "We can see that the Dataframe contains 3 different locations:\n",
    "\n",
    "1 = Ramat David Air Force base.\n",
    "\n",
    "25 = Ramon Air Force base.\n",
    "\n",
    "8 = Another base. No malfunctions are assumed to be reported while parked there."
   ]
  },
  {
   "cell_type": "markdown",
   "metadata": {},
   "source": [
    "Let's verify that the number of '8's are relatively small (thus not having any effect of the expected analysis):"
   ]
  },
  {
   "cell_type": "code",
   "execution_count": 466,
   "metadata": {},
   "outputs": [],
   "source": [
    "def count_location(parking_df, location):\n",
    "    count = 0\n",
    "\n",
    "    # Iterate over the dataframe and count 10s.\n",
    "    for col in parking_df.columns[1:]:\n",
    "        for value in parking_df[col]:\n",
    "            if value == location:\n",
    "                count += 1\n",
    "\n",
    "    print('The total number of {0}s is: {1}'.format(location, count))"
   ]
  },
  {
   "cell_type": "code",
   "execution_count": 467,
   "metadata": {},
   "outputs": [
    {
     "name": "stdout",
     "output_type": "stream",
     "text": [
      "The total number of 8s is: 13\n"
     ]
    }
   ],
   "source": [
    "count_location(parking_df_2019, 8)"
   ]
  },
  {
   "cell_type": "markdown",
   "metadata": {},
   "source": [
    "Relatively small. We can just ignore these reports for now."
   ]
  },
  {
   "cell_type": "markdown",
   "metadata": {},
   "source": [
    "Let's do the same for 2020 Dataframe:"
   ]
  },
  {
   "cell_type": "code",
   "execution_count": 468,
   "metadata": {},
   "outputs": [
    {
     "name": "stdout",
     "output_type": "stream",
     "text": [
      "The parking locations reported are: {25, 10, 1}\n"
     ]
    }
   ],
   "source": [
    "print_parking_locations(parking_df_2020)"
   ]
  },
  {
   "cell_type": "markdown",
   "metadata": {},
   "source": [
    "We can see that the Dataframe contains an additional location besides 1 and 25:\n",
    "\n",
    "10 = Another base. No malfunctions are assumed to be reported while parked there."
   ]
  },
  {
   "cell_type": "markdown",
   "metadata": {},
   "source": [
    "Let's verify that the number of '10's are small (thus not having any effect of the expected analysis):"
   ]
  },
  {
   "cell_type": "code",
   "execution_count": 469,
   "metadata": {},
   "outputs": [
    {
     "name": "stdout",
     "output_type": "stream",
     "text": [
      "The total number of 10s is: 8\n"
     ]
    }
   ],
   "source": [
    "count_location(parking_df_2020, 10)"
   ]
  },
  {
   "cell_type": "markdown",
   "metadata": {},
   "source": [
    "Relatively small. We can just ignore these reports for now."
   ]
  },
  {
   "cell_type": "markdown",
   "metadata": {},
   "source": [
    "Finally, we want to make sure that a parking location was reported for each and every data:"
   ]
  },
  {
   "cell_type": "code",
   "execution_count": 470,
   "metadata": {},
   "outputs": [],
   "source": [
    "def confirm_reports(parking_df, start_date, end_date):\n",
    "    # Create a new Dataframe with the speicifed datatime values, and calculate the difference.\n",
    "    res = list(pd.date_range(start = start_date, end = end_date ).difference(parking_df.index))\n",
    "\n",
    "    # Print a nice message.\n",
    "    if not res:\n",
    "        print(\"There are no missing dates!\")\n",
    "    else:\n",
    "        print(res)"
   ]
  },
  {
   "cell_type": "code",
   "execution_count": 471,
   "metadata": {},
   "outputs": [
    {
     "name": "stdout",
     "output_type": "stream",
     "text": [
      "There are no missing dates!\n"
     ]
    }
   ],
   "source": [
    "confirm_reports(parking_df_2019, '2018/12/01', '2019/12/31')"
   ]
  },
  {
   "cell_type": "code",
   "execution_count": 472,
   "metadata": {},
   "outputs": [
    {
     "name": "stdout",
     "output_type": "stream",
     "text": [
      "There are no missing dates!\n"
     ]
    }
   ],
   "source": [
    "confirm_reports(parking_df_2020, '2019/12/01', '2020/12/31')"
   ]
  },
  {
   "cell_type": "markdown",
   "metadata": {
    "direction": "ltr"
   },
   "source": [
    "#### 3.3.3 Shaping the Dataset"
   ]
  },
  {
   "cell_type": "markdown",
   "metadata": {},
   "source": [
    "We would like to reshape our Dataframes by melting and setting them another index (\"Tail Number\"):"
   ]
  },
  {
   "cell_type": "code",
   "execution_count": 473,
   "metadata": {
    "direction": "rtl"
   },
   "outputs": [],
   "source": [
    "def shape_dataframe(parking_df):\n",
    "    # Melt.\n",
    "    returned_parking_df = parking_df.melt(ignore_index=False)\n",
    "\n",
    "    # Reanme columns' names.\n",
    "    returned_parking_df.rename(columns={'variable': 'Tail Number', 'value' : 'Parking Location'}, inplace=True)\n",
    "\n",
    "    # Set multi-index.\n",
    "    returned_parking_df.set_index(['Tail Number'], append=True, inplace=True)\n",
    "    return returned_parking_df\n",
    "\n",
    "parking_df_2019 = shape_dataframe(parking_df_2019)\n",
    "parking_df_2020 = shape_dataframe(parking_df_2020)"
   ]
  },
  {
   "cell_type": "markdown",
   "metadata": {},
   "source": [
    "We would like to preserve the selected Winter (December, January, February) and Summer (June, July, August) months, and to omit all others:"
   ]
  },
  {
   "cell_type": "code",
   "execution_count": 474,
   "metadata": {},
   "outputs": [],
   "source": [
    "def delete_unwanted_dates(parking_df, requested_dates_to_delete):\n",
    "    # Iterate over the list, to delete the specified periods.\n",
    "    for period in requested_dates_to_delete:\n",
    "        remove = pd.date_range(start = period[0], end = period[1], freq='D')\n",
    "        parking_df.drop(remove, level=0, inplace=True)"
   ]
  },
  {
   "cell_type": "code",
   "execution_count": 475,
   "metadata": {},
   "outputs": [],
   "source": [
    "dates_to_delete_2019 = [(\"2019/03/01\",\"2019/05/31\"), (\"2019/09/01\",\"2019/12/31\")]\n",
    "delete_unwanted_dates(parking_df_2019, dates_to_delete_2019)"
   ]
  },
  {
   "cell_type": "code",
   "execution_count": 476,
   "metadata": {},
   "outputs": [],
   "source": [
    "dates_to_delete_2020 = [(\"2020/03/01\",\"2020/05/31\"), (\"2020/09/01\",\"2020/12/31\")]\n",
    "delete_unwanted_dates(parking_df_2020, dates_to_delete_2020)"
   ]
  },
  {
   "cell_type": "markdown",
   "metadata": {},
   "source": [
    "Let's randomly sample our reshaped Dataframes:"
   ]
  },
  {
   "cell_type": "code",
   "execution_count": 477,
   "metadata": {},
   "outputs": [
    {
     "data": {
      "text/html": [
       "<div>\n",
       "<style scoped>\n",
       "    .dataframe tbody tr th:only-of-type {\n",
       "        vertical-align: middle;\n",
       "    }\n",
       "\n",
       "    .dataframe tbody tr th {\n",
       "        vertical-align: top;\n",
       "    }\n",
       "\n",
       "    .dataframe thead th {\n",
       "        text-align: right;\n",
       "    }\n",
       "</style>\n",
       "<table border=\"1\" class=\"dataframe\">\n",
       "  <thead>\n",
       "    <tr style=\"text-align: right;\">\n",
       "      <th></th>\n",
       "      <th></th>\n",
       "      <th>Parking Location</th>\n",
       "    </tr>\n",
       "    <tr>\n",
       "      <th>Date</th>\n",
       "      <th>Tail Number</th>\n",
       "      <th></th>\n",
       "    </tr>\n",
       "  </thead>\n",
       "  <tbody>\n",
       "    <tr>\n",
       "      <th>2018-12-14</th>\n",
       "      <th>905</th>\n",
       "      <td>25</td>\n",
       "    </tr>\n",
       "    <tr>\n",
       "      <th>2019-06-19</th>\n",
       "      <th>845</th>\n",
       "      <td>25</td>\n",
       "    </tr>\n",
       "    <tr>\n",
       "      <th>2019-01-22</th>\n",
       "      <th>828</th>\n",
       "      <td>25</td>\n",
       "    </tr>\n",
       "    <tr>\n",
       "      <th>2019-07-14</th>\n",
       "      <th>956</th>\n",
       "      <td>25</td>\n",
       "    </tr>\n",
       "    <tr>\n",
       "      <th>2019-06-04</th>\n",
       "      <th>820</th>\n",
       "      <td>25</td>\n",
       "    </tr>\n",
       "  </tbody>\n",
       "</table>\n",
       "</div>"
      ],
      "text/plain": [
       "                        Parking Location\n",
       "Date       Tail Number                  \n",
       "2018-12-14 905                        25\n",
       "2019-06-19 845                        25\n",
       "2019-01-22 828                        25\n",
       "2019-07-14 956                        25\n",
       "2019-06-04 820                        25"
      ]
     },
     "execution_count": 477,
     "metadata": {},
     "output_type": "execute_result"
    }
   ],
   "source": [
    "parking_df_2019.sample(5)"
   ]
  },
  {
   "cell_type": "code",
   "execution_count": 478,
   "metadata": {},
   "outputs": [
    {
     "data": {
      "text/html": [
       "<div>\n",
       "<style scoped>\n",
       "    .dataframe tbody tr th:only-of-type {\n",
       "        vertical-align: middle;\n",
       "    }\n",
       "\n",
       "    .dataframe tbody tr th {\n",
       "        vertical-align: top;\n",
       "    }\n",
       "\n",
       "    .dataframe thead th {\n",
       "        text-align: right;\n",
       "    }\n",
       "</style>\n",
       "<table border=\"1\" class=\"dataframe\">\n",
       "  <thead>\n",
       "    <tr style=\"text-align: right;\">\n",
       "      <th></th>\n",
       "      <th></th>\n",
       "      <th>Parking Location</th>\n",
       "    </tr>\n",
       "    <tr>\n",
       "      <th>Date</th>\n",
       "      <th>Tail Number</th>\n",
       "      <th></th>\n",
       "    </tr>\n",
       "  </thead>\n",
       "  <tbody>\n",
       "    <tr>\n",
       "      <th>2020-01-31</th>\n",
       "      <th>842</th>\n",
       "      <td>25</td>\n",
       "    </tr>\n",
       "    <tr>\n",
       "      <th>2020-06-20</th>\n",
       "      <th>935</th>\n",
       "      <td>1</td>\n",
       "    </tr>\n",
       "    <tr>\n",
       "      <th>2019-12-10</th>\n",
       "      <th>845</th>\n",
       "      <td>25</td>\n",
       "    </tr>\n",
       "    <tr>\n",
       "      <th>2020-01-06</th>\n",
       "      <th>840</th>\n",
       "      <td>25</td>\n",
       "    </tr>\n",
       "    <tr>\n",
       "      <th>2020-01-17</th>\n",
       "      <th>921</th>\n",
       "      <td>25</td>\n",
       "    </tr>\n",
       "  </tbody>\n",
       "</table>\n",
       "</div>"
      ],
      "text/plain": [
       "                        Parking Location\n",
       "Date       Tail Number                  \n",
       "2020-01-31 842                        25\n",
       "2020-06-20 935                         1\n",
       "2019-12-10 845                        25\n",
       "2020-01-06 840                        25\n",
       "2020-01-17 921                        25"
      ]
     },
     "execution_count": 478,
     "metadata": {},
     "output_type": "execute_result"
    }
   ],
   "source": [
    "parking_df_2020.sample(5)"
   ]
  },
  {
   "cell_type": "markdown",
   "metadata": {},
   "source": [
    "Finally, we would like to save the Dataframes into a dedicated directory (for a later use):"
   ]
  },
  {
   "cell_type": "code",
   "execution_count": 479,
   "metadata": {},
   "outputs": [],
   "source": [
    "parking_df_2019.to_pickle(\"helicopters_parking_data_set/parking_dataset_2019.pkl\")\n",
    "parking_df_2020.to_pickle(\"helicopters_parking_data_set/parking_dataset_2020.pkl\")"
   ]
  },
  {
   "cell_type": "markdown",
   "metadata": {
    "direction": "ltr"
   },
   "source": [
    "### 3.4 Meteorological dataset"
   ]
  },
  {
   "cell_type": "markdown",
   "metadata": {
    "direction": "ltr"
   },
   "source": [
    "#### 3.4.1 Extract Data from IMS Server"
   ]
  },
  {
   "cell_type": "markdown",
   "metadata": {},
   "source": [
    "As mentioned, we would like to retrieve data for specific metrological stations (as discussed above):"
   ]
  },
  {
   "cell_type": "code",
   "execution_count": 480,
   "metadata": {},
   "outputs": [],
   "source": [
    "# Prepare a list of tuples - Station's name and id.\n",
    "stations_list = [('SEDE BOQER', 98),\n",
    "                 ('NEWE YAAR', 186),\n",
    "                 ('YAVNEEL', 11), \n",
    "                 ('GAMLA', 227),\n",
    "                 ('MEROM GOLAN PICMAN', 10),\n",
    "                 ('KEFAR BLUM', 202),\n",
    "                 ('ELON', 73),\n",
    "                 ('ESHHAR', 205), \n",
    "                 ('ZEFAT HAR KENAAN', 62)]"
   ]
  },
  {
   "cell_type": "markdown",
   "metadata": {},
   "source": [
    "The server returns a full JSON object, contains all of the weather data present for that station. \n",
    "\n",
    "We would like to convert the given data to a nice Pandas Dataframe, saving only the relevant attributes:"
   ]
  },
  {
   "cell_type": "code",
   "execution_count": 481,
   "metadata": {},
   "outputs": [],
   "source": [
    "# Use unique token recived from the IMS to retrive data.\n",
    "headers = {'Authorization': 'ApiToken f058958a-d8bd-47cc-95d7-7ecf98610e47'}\n",
    "\n",
    "def extract_ims_data(dates_to_retrive):\n",
    "    # Fill the observations list.\n",
    "    observations_list = []\n",
    "\n",
    "    # Retrive data for the selcted dates.\n",
    "    for date in dates_to_retrive:\n",
    "        print(\"Retrive {} to {} data..\".format(date[0], date[1]))\n",
    "        # Retrive data for every station within the stations list.\n",
    "        for station in stations_list:\n",
    "            url = \"https://api.ims.gov.il/v1/envista/stations/{}/data?from={}&to={}\".format(station[1], date[0], date[1])\n",
    "            # Get JSON from IMS server.\n",
    "            response = requests.request(\"GET\", url, headers=headers)\n",
    "            if response.status_code == requests.codes.ok:\n",
    "                data = json.loads(response.text.encode('utf8'))\n",
    "                # Print to console.\n",
    "                print(\"Succefully rertived {} meterological data from IMS server..\".format(station[0]))\n",
    "            else:\n",
    "                print(\"\\x1b[31mRequest returned with a fault. \\\n",
    "                      Can't retrive {} data from IMS server..\\x1b[0m\".format(station[0]))\n",
    "            # Travel through the JSON to extract the desired features.\n",
    "            for record in data['data']:\n",
    "                single_observation = {'Time': pd.to_datetime(record['datetime']), 'Station Name': station[0]}\n",
    "                for channel in record['channels']:\n",
    "                    if channel['name'] == 'Rain':\n",
    "                        single_observation['Rain'] = channel['value']\n",
    "                    elif channel['name'] == 'RH':\n",
    "                        single_observation['Humidity'] = channel['value']\n",
    "                    elif channel['name'] == 'TD':\n",
    "                        single_observation['Temperature'] = channel['value']\n",
    "                    elif channel['name'] == 'WD':\n",
    "                        single_observation['Wind Direction'] = channel['value']\n",
    "                    elif channel['name'] == 'WS':\n",
    "                        single_observation['Wind Speed'] = channel['value']\n",
    "                observations_list.append(single_observation)\n",
    "\n",
    "    # Create new DataFrame to keep the meterological data.\n",
    "    return pd.DataFrame(observations_list)"
   ]
  },
  {
   "cell_type": "code",
   "execution_count": 482,
   "metadata": {},
   "outputs": [
    {
     "name": "stdout",
     "output_type": "stream",
     "text": [
      "Retrive 2018/12/01 to 2019/02/28 data..\n",
      "Succefully rertived SEDE BOQER meterological data from IMS server..\n",
      "Succefully rertived NEWE YAAR meterological data from IMS server..\n",
      "Succefully rertived YAVNEEL meterological data from IMS server..\n",
      "Succefully rertived GAMLA meterological data from IMS server..\n",
      "Succefully rertived MEROM GOLAN PICMAN meterological data from IMS server..\n",
      "Succefully rertived KEFAR BLUM meterological data from IMS server..\n",
      "Succefully rertived ELON meterological data from IMS server..\n",
      "Succefully rertived ESHHAR meterological data from IMS server..\n",
      "Succefully rertived ZEFAT HAR KENAAN meterological data from IMS server..\n",
      "Retrive 2019/06/01 to 2019/08/31 data..\n",
      "Succefully rertived SEDE BOQER meterological data from IMS server..\n",
      "Succefully rertived NEWE YAAR meterological data from IMS server..\n",
      "Succefully rertived YAVNEEL meterological data from IMS server..\n",
      "Succefully rertived GAMLA meterological data from IMS server..\n",
      "Succefully rertived MEROM GOLAN PICMAN meterological data from IMS server..\n",
      "Succefully rertived KEFAR BLUM meterological data from IMS server..\n",
      "Succefully rertived ELON meterological data from IMS server..\n",
      "Succefully rertived ESHHAR meterological data from IMS server..\n",
      "Succefully rertived ZEFAT HAR KENAAN meterological data from IMS server..\n"
     ]
    }
   ],
   "source": [
    "# Selected dates to retrive from.\n",
    "dates_to_retrive_2019 = [(\"2018/12/01\",\"2019/02/28\"), (\"2019/06/01\",\"2019/08/31\")]\n",
    "\n",
    "meterological_df_2019 = extract_ims_data(dates_to_retrive_2019)"
   ]
  },
  {
   "cell_type": "code",
   "execution_count": 484,
   "metadata": {},
   "outputs": [
    {
     "name": "stdout",
     "output_type": "stream",
     "text": [
      "Retrive 2019/12/01 to 2020/02/29 data..\n",
      "Succefully rertived SEDE BOQER meterological data from IMS server..\n",
      "Succefully rertived NEWE YAAR meterological data from IMS server..\n",
      "Succefully rertived YAVNEEL meterological data from IMS server..\n",
      "Succefully rertived GAMLA meterological data from IMS server..\n",
      "Succefully rertived MEROM GOLAN PICMAN meterological data from IMS server..\n",
      "Succefully rertived KEFAR BLUM meterological data from IMS server..\n",
      "Succefully rertived ELON meterological data from IMS server..\n",
      "Succefully rertived ESHHAR meterological data from IMS server..\n",
      "Succefully rertived ZEFAT HAR KENAAN meterological data from IMS server..\n",
      "Retrive 2020/06/01 to 2020/08/31 data..\n",
      "Succefully rertived SEDE BOQER meterological data from IMS server..\n",
      "Succefully rertived NEWE YAAR meterological data from IMS server..\n",
      "Succefully rertived YAVNEEL meterological data from IMS server..\n",
      "Succefully rertived GAMLA meterological data from IMS server..\n",
      "Succefully rertived MEROM GOLAN PICMAN meterological data from IMS server..\n",
      "Succefully rertived KEFAR BLUM meterological data from IMS server..\n",
      "Succefully rertived ELON meterological data from IMS server..\n",
      "Succefully rertived ESHHAR meterological data from IMS server..\n",
      "Succefully rertived ZEFAT HAR KENAAN meterological data from IMS server..\n"
     ]
    }
   ],
   "source": [
    "# Select dates to retrive from.\n",
    "dates_to_retrive_2020 = [(\"2019/12/01\",\"2020/02/29\"), (\"2020/06/01\",\"2020/08/31\")]\n",
    "\n",
    "meterological_df_2020 = extract_ims_data(dates_to_retrive_2020)"
   ]
  },
  {
   "cell_type": "markdown",
   "metadata": {},
   "source": [
    "Let's have a sense of the data just extarcted by randomly sampling 5 rows:"
   ]
  },
  {
   "cell_type": "code",
   "execution_count": 485,
   "metadata": {},
   "outputs": [
    {
     "data": {
      "text/html": [
       "<div>\n",
       "<style scoped>\n",
       "    .dataframe tbody tr th:only-of-type {\n",
       "        vertical-align: middle;\n",
       "    }\n",
       "\n",
       "    .dataframe tbody tr th {\n",
       "        vertical-align: top;\n",
       "    }\n",
       "\n",
       "    .dataframe thead th {\n",
       "        text-align: right;\n",
       "    }\n",
       "</style>\n",
       "<table border=\"1\" class=\"dataframe\">\n",
       "  <thead>\n",
       "    <tr style=\"text-align: right;\">\n",
       "      <th></th>\n",
       "      <th>Time</th>\n",
       "      <th>Station Name</th>\n",
       "      <th>Rain</th>\n",
       "      <th>Wind Speed</th>\n",
       "      <th>Wind Direction</th>\n",
       "      <th>Temperature</th>\n",
       "      <th>Humidity</th>\n",
       "    </tr>\n",
       "  </thead>\n",
       "  <tbody>\n",
       "    <tr>\n",
       "      <th>192368</th>\n",
       "      <td>2019-08-20 22:50:00+03:00</td>\n",
       "      <td>KEFAR BLUM</td>\n",
       "      <td>0.0</td>\n",
       "      <td>0.4</td>\n",
       "      <td>110.0</td>\n",
       "      <td>25.4</td>\n",
       "      <td>70.0</td>\n",
       "    </tr>\n",
       "    <tr>\n",
       "      <th>763</th>\n",
       "      <td>2018-12-06 07:10:00+02:00</td>\n",
       "      <td>SEDE BOQER</td>\n",
       "      <td>0.0</td>\n",
       "      <td>5.2</td>\n",
       "      <td>246.0</td>\n",
       "      <td>11.8</td>\n",
       "      <td>91.0</td>\n",
       "    </tr>\n",
       "    <tr>\n",
       "      <th>141533</th>\n",
       "      <td>2019-06-01 08:10:00+03:00</td>\n",
       "      <td>YAVNEEL</td>\n",
       "      <td>0.0</td>\n",
       "      <td>1.6</td>\n",
       "      <td>40.0</td>\n",
       "      <td>29.3</td>\n",
       "      <td>48.0</td>\n",
       "    </tr>\n",
       "    <tr>\n",
       "      <th>76887</th>\n",
       "      <td>2019-02-27 23:40:00+02:00</td>\n",
       "      <td>KEFAR BLUM</td>\n",
       "      <td>0.4</td>\n",
       "      <td>2.9</td>\n",
       "      <td>196.0</td>\n",
       "      <td>11.7</td>\n",
       "      <td>100.0</td>\n",
       "    </tr>\n",
       "    <tr>\n",
       "      <th>137399</th>\n",
       "      <td>2019-08-02 12:40:00+03:00</td>\n",
       "      <td>NEWE YAAR</td>\n",
       "      <td>0.0</td>\n",
       "      <td>4.2</td>\n",
       "      <td>254.0</td>\n",
       "      <td>32.6</td>\n",
       "      <td>51.0</td>\n",
       "    </tr>\n",
       "  </tbody>\n",
       "</table>\n",
       "</div>"
      ],
      "text/plain": [
       "                             Time Station Name  Rain  Wind Speed  \\\n",
       "192368  2019-08-20 22:50:00+03:00   KEFAR BLUM   0.0         0.4   \n",
       "763     2018-12-06 07:10:00+02:00   SEDE BOQER   0.0         5.2   \n",
       "141533  2019-06-01 08:10:00+03:00      YAVNEEL   0.0         1.6   \n",
       "76887   2019-02-27 23:40:00+02:00   KEFAR BLUM   0.4         2.9   \n",
       "137399  2019-08-02 12:40:00+03:00    NEWE YAAR   0.0         4.2   \n",
       "\n",
       "        Wind Direction  Temperature  Humidity  \n",
       "192368           110.0         25.4      70.0  \n",
       "763              246.0         11.8      91.0  \n",
       "141533            40.0         29.3      48.0  \n",
       "76887            196.0         11.7     100.0  \n",
       "137399           254.0         32.6      51.0  "
      ]
     },
     "execution_count": 485,
     "metadata": {},
     "output_type": "execute_result"
    }
   ],
   "source": [
    "meterological_df_2019.sample(5)"
   ]
  },
  {
   "cell_type": "code",
   "execution_count": 486,
   "metadata": {},
   "outputs": [
    {
     "data": {
      "text/html": [
       "<div>\n",
       "<style scoped>\n",
       "    .dataframe tbody tr th:only-of-type {\n",
       "        vertical-align: middle;\n",
       "    }\n",
       "\n",
       "    .dataframe tbody tr th {\n",
       "        vertical-align: top;\n",
       "    }\n",
       "\n",
       "    .dataframe thead th {\n",
       "        text-align: right;\n",
       "    }\n",
       "</style>\n",
       "<table border=\"1\" class=\"dataframe\">\n",
       "  <thead>\n",
       "    <tr style=\"text-align: right;\">\n",
       "      <th></th>\n",
       "      <th>Time</th>\n",
       "      <th>Station Name</th>\n",
       "      <th>Rain</th>\n",
       "      <th>Wind Speed</th>\n",
       "      <th>Wind Direction</th>\n",
       "      <th>Temperature</th>\n",
       "      <th>Humidity</th>\n",
       "    </tr>\n",
       "  </thead>\n",
       "  <tbody>\n",
       "    <tr>\n",
       "      <th>155930</th>\n",
       "      <td>2020-06-05 18:40:00+03:00</td>\n",
       "      <td>GAMLA</td>\n",
       "      <td>0.0</td>\n",
       "      <td>3.9</td>\n",
       "      <td>333.0</td>\n",
       "      <td>26.7</td>\n",
       "      <td>35.0</td>\n",
       "    </tr>\n",
       "    <tr>\n",
       "      <th>14275</th>\n",
       "      <td>2019-12-10 04:50:00+02:00</td>\n",
       "      <td>NEWE YAAR</td>\n",
       "      <td>0.0</td>\n",
       "      <td>0.5</td>\n",
       "      <td>88.0</td>\n",
       "      <td>11.6</td>\n",
       "      <td>100.0</td>\n",
       "    </tr>\n",
       "    <tr>\n",
       "      <th>156698</th>\n",
       "      <td>2020-06-11 02:40:00+03:00</td>\n",
       "      <td>GAMLA</td>\n",
       "      <td>0.0</td>\n",
       "      <td>2.2</td>\n",
       "      <td>20.0</td>\n",
       "      <td>16.4</td>\n",
       "      <td>80.0</td>\n",
       "    </tr>\n",
       "    <tr>\n",
       "      <th>89784</th>\n",
       "      <td>2020-02-27 06:50:00+02:00</td>\n",
       "      <td>ELON</td>\n",
       "      <td>0.0</td>\n",
       "      <td>2.8</td>\n",
       "      <td>101.0</td>\n",
       "      <td>9.8</td>\n",
       "      <td>82.0</td>\n",
       "    </tr>\n",
       "    <tr>\n",
       "      <th>98143</th>\n",
       "      <td>2020-01-26 09:00:00+02:00</td>\n",
       "      <td>ESHHAR</td>\n",
       "      <td>0.0</td>\n",
       "      <td>1.0</td>\n",
       "      <td>109.0</td>\n",
       "      <td>9.9</td>\n",
       "      <td>64.0</td>\n",
       "    </tr>\n",
       "  </tbody>\n",
       "</table>\n",
       "</div>"
      ],
      "text/plain": [
       "                             Time Station Name  Rain  Wind Speed  \\\n",
       "155930  2020-06-05 18:40:00+03:00        GAMLA   0.0         3.9   \n",
       "14275   2019-12-10 04:50:00+02:00    NEWE YAAR   0.0         0.5   \n",
       "156698  2020-06-11 02:40:00+03:00        GAMLA   0.0         2.2   \n",
       "89784   2020-02-27 06:50:00+02:00         ELON   0.0         2.8   \n",
       "98143   2020-01-26 09:00:00+02:00       ESHHAR   0.0         1.0   \n",
       "\n",
       "        Wind Direction  Temperature  Humidity  \n",
       "155930           333.0         26.7      35.0  \n",
       "14275             88.0         11.6     100.0  \n",
       "156698            20.0         16.4      80.0  \n",
       "89784            101.0          9.8      82.0  \n",
       "98143            109.0          9.9      64.0  "
      ]
     },
     "execution_count": 486,
     "metadata": {},
     "output_type": "execute_result"
    }
   ],
   "source": [
    "meterological_df_2020.sample(5)"
   ]
  },
  {
   "cell_type": "markdown",
   "metadata": {
    "direction": "ltr"
   },
   "source": [
    "#### 3.4.2 Check and Handle Missing Values (if any)"
   ]
  },
  {
   "cell_type": "markdown",
   "metadata": {},
   "source": [
    "First, we would like to understand if our Dataframes have missing values (NaNs), and under which column:"
   ]
  },
  {
   "cell_type": "code",
   "execution_count": 487,
   "metadata": {},
   "outputs": [
    {
     "data": {
      "text/plain": [
       "Time              0\n",
       "Station Name      0\n",
       "Rain              0\n",
       "Wind Speed        0\n",
       "Wind Direction    0\n",
       "Temperature       0\n",
       "Humidity          0\n",
       "dtype: int64"
      ]
     },
     "execution_count": 487,
     "metadata": {},
     "output_type": "execute_result"
    }
   ],
   "source": [
    "meterological_df_2019.isnull().sum()"
   ]
  },
  {
   "cell_type": "code",
   "execution_count": 488,
   "metadata": {},
   "outputs": [
    {
     "data": {
      "text/plain": [
       "Time              0\n",
       "Station Name      0\n",
       "Rain              0\n",
       "Wind Speed        0\n",
       "Wind Direction    0\n",
       "Temperature       0\n",
       "Humidity          0\n",
       "dtype: int64"
      ]
     },
     "execution_count": 488,
     "metadata": {},
     "output_type": "execute_result"
    }
   ],
   "source": [
    "meterological_df_2020.isnull().sum()"
   ]
  },
  {
   "cell_type": "markdown",
   "metadata": {},
   "source": [
    "Second, we would like to get some statistics about the data just extracted, to verify that the data make sense:"
   ]
  },
  {
   "cell_type": "code",
   "execution_count": 489,
   "metadata": {},
   "outputs": [
    {
     "data": {
      "text/html": [
       "<div>\n",
       "<style scoped>\n",
       "    .dataframe tbody tr th:only-of-type {\n",
       "        vertical-align: middle;\n",
       "    }\n",
       "\n",
       "    .dataframe tbody tr th {\n",
       "        vertical-align: top;\n",
       "    }\n",
       "\n",
       "    .dataframe thead th {\n",
       "        text-align: right;\n",
       "    }\n",
       "</style>\n",
       "<table border=\"1\" class=\"dataframe\">\n",
       "  <thead>\n",
       "    <tr style=\"text-align: right;\">\n",
       "      <th></th>\n",
       "      <th>Rain</th>\n",
       "      <th>Wind Speed</th>\n",
       "      <th>Wind Direction</th>\n",
       "      <th>Temperature</th>\n",
       "      <th>Humidity</th>\n",
       "    </tr>\n",
       "  </thead>\n",
       "  <tbody>\n",
       "    <tr>\n",
       "      <th>count</th>\n",
       "      <td>233037.000000</td>\n",
       "      <td>233037.000000</td>\n",
       "      <td>233037.000000</td>\n",
       "      <td>233037.000000</td>\n",
       "      <td>233037.000000</td>\n",
       "    </tr>\n",
       "    <tr>\n",
       "      <th>mean</th>\n",
       "      <td>0.020216</td>\n",
       "      <td>3.297055</td>\n",
       "      <td>212.590057</td>\n",
       "      <td>18.528413</td>\n",
       "      <td>69.460734</td>\n",
       "    </tr>\n",
       "    <tr>\n",
       "      <th>std</th>\n",
       "      <td>0.157005</td>\n",
       "      <td>20.862398</td>\n",
       "      <td>97.816149</td>\n",
       "      <td>22.460735</td>\n",
       "      <td>29.933728</td>\n",
       "    </tr>\n",
       "    <tr>\n",
       "      <th>min</th>\n",
       "      <td>0.000000</td>\n",
       "      <td>-9999.000000</td>\n",
       "      <td>-9999.000000</td>\n",
       "      <td>-9999.000000</td>\n",
       "      <td>-9999.000000</td>\n",
       "    </tr>\n",
       "    <tr>\n",
       "      <th>25%</th>\n",
       "      <td>0.000000</td>\n",
       "      <td>1.400000</td>\n",
       "      <td>122.000000</td>\n",
       "      <td>11.000000</td>\n",
       "      <td>52.000000</td>\n",
       "    </tr>\n",
       "    <tr>\n",
       "      <th>50%</th>\n",
       "      <td>0.000000</td>\n",
       "      <td>2.800000</td>\n",
       "      <td>241.000000</td>\n",
       "      <td>18.600000</td>\n",
       "      <td>72.000000</td>\n",
       "    </tr>\n",
       "    <tr>\n",
       "      <th>75%</th>\n",
       "      <td>0.000000</td>\n",
       "      <td>4.700000</td>\n",
       "      <td>290.000000</td>\n",
       "      <td>25.500000</td>\n",
       "      <td>88.000000</td>\n",
       "    </tr>\n",
       "    <tr>\n",
       "      <th>max</th>\n",
       "      <td>10.600000</td>\n",
       "      <td>22.000000</td>\n",
       "      <td>360.000000</td>\n",
       "      <td>54.400000</td>\n",
       "      <td>100.000000</td>\n",
       "    </tr>\n",
       "  </tbody>\n",
       "</table>\n",
       "</div>"
      ],
      "text/plain": [
       "                Rain     Wind Speed  Wind Direction    Temperature  \\\n",
       "count  233037.000000  233037.000000   233037.000000  233037.000000   \n",
       "mean        0.020216       3.297055      212.590057      18.528413   \n",
       "std         0.157005      20.862398       97.816149      22.460735   \n",
       "min         0.000000   -9999.000000    -9999.000000   -9999.000000   \n",
       "25%         0.000000       1.400000      122.000000      11.000000   \n",
       "50%         0.000000       2.800000      241.000000      18.600000   \n",
       "75%         0.000000       4.700000      290.000000      25.500000   \n",
       "max        10.600000      22.000000      360.000000      54.400000   \n",
       "\n",
       "            Humidity  \n",
       "count  233037.000000  \n",
       "mean       69.460734  \n",
       "std        29.933728  \n",
       "min     -9999.000000  \n",
       "25%        52.000000  \n",
       "50%        72.000000  \n",
       "75%        88.000000  \n",
       "max       100.000000  "
      ]
     },
     "execution_count": 489,
     "metadata": {},
     "output_type": "execute_result"
    }
   ],
   "source": [
    "meterological_df_2019.describe()"
   ]
  },
  {
   "cell_type": "code",
   "execution_count": 490,
   "metadata": {},
   "outputs": [
    {
     "data": {
      "text/html": [
       "<div>\n",
       "<style scoped>\n",
       "    .dataframe tbody tr th:only-of-type {\n",
       "        vertical-align: middle;\n",
       "    }\n",
       "\n",
       "    .dataframe tbody tr th {\n",
       "        vertical-align: top;\n",
       "    }\n",
       "\n",
       "    .dataframe thead th {\n",
       "        text-align: right;\n",
       "    }\n",
       "</style>\n",
       "<table border=\"1\" class=\"dataframe\">\n",
       "  <thead>\n",
       "    <tr style=\"text-align: right;\">\n",
       "      <th></th>\n",
       "      <th>Rain</th>\n",
       "      <th>Wind Speed</th>\n",
       "      <th>Wind Direction</th>\n",
       "      <th>Temperature</th>\n",
       "      <th>Humidity</th>\n",
       "    </tr>\n",
       "  </thead>\n",
       "  <tbody>\n",
       "    <tr>\n",
       "      <th>count</th>\n",
       "      <td>233857.000000</td>\n",
       "      <td>233857.000000</td>\n",
       "      <td>233857.000000</td>\n",
       "      <td>233857.000000</td>\n",
       "      <td>233857.000000</td>\n",
       "    </tr>\n",
       "    <tr>\n",
       "      <th>mean</th>\n",
       "      <td>0.020523</td>\n",
       "      <td>3.232141</td>\n",
       "      <td>218.200862</td>\n",
       "      <td>18.078311</td>\n",
       "      <td>71.335530</td>\n",
       "    </tr>\n",
       "    <tr>\n",
       "      <th>std</th>\n",
       "      <td>0.163881</td>\n",
       "      <td>2.342747</td>\n",
       "      <td>96.174198</td>\n",
       "      <td>8.592922</td>\n",
       "      <td>21.268362</td>\n",
       "    </tr>\n",
       "    <tr>\n",
       "      <th>min</th>\n",
       "      <td>0.000000</td>\n",
       "      <td>0.000000</td>\n",
       "      <td>0.000000</td>\n",
       "      <td>-5.400000</td>\n",
       "      <td>4.000000</td>\n",
       "    </tr>\n",
       "    <tr>\n",
       "      <th>25%</th>\n",
       "      <td>0.000000</td>\n",
       "      <td>1.400000</td>\n",
       "      <td>139.000000</td>\n",
       "      <td>10.700000</td>\n",
       "      <td>55.000000</td>\n",
       "    </tr>\n",
       "    <tr>\n",
       "      <th>50%</th>\n",
       "      <td>0.000000</td>\n",
       "      <td>2.700000</td>\n",
       "      <td>249.000000</td>\n",
       "      <td>18.000000</td>\n",
       "      <td>74.000000</td>\n",
       "    </tr>\n",
       "    <tr>\n",
       "      <th>75%</th>\n",
       "      <td>0.000000</td>\n",
       "      <td>4.600000</td>\n",
       "      <td>292.000000</td>\n",
       "      <td>25.000000</td>\n",
       "      <td>90.000000</td>\n",
       "    </tr>\n",
       "    <tr>\n",
       "      <th>max</th>\n",
       "      <td>10.100000</td>\n",
       "      <td>21.600000</td>\n",
       "      <td>360.000000</td>\n",
       "      <td>46.400000</td>\n",
       "      <td>100.000000</td>\n",
       "    </tr>\n",
       "  </tbody>\n",
       "</table>\n",
       "</div>"
      ],
      "text/plain": [
       "                Rain     Wind Speed  Wind Direction    Temperature  \\\n",
       "count  233857.000000  233857.000000   233857.000000  233857.000000   \n",
       "mean        0.020523       3.232141      218.200862      18.078311   \n",
       "std         0.163881       2.342747       96.174198       8.592922   \n",
       "min         0.000000       0.000000        0.000000      -5.400000   \n",
       "25%         0.000000       1.400000      139.000000      10.700000   \n",
       "50%         0.000000       2.700000      249.000000      18.000000   \n",
       "75%         0.000000       4.600000      292.000000      25.000000   \n",
       "max        10.100000      21.600000      360.000000      46.400000   \n",
       "\n",
       "            Humidity  \n",
       "count  233857.000000  \n",
       "mean       71.335530  \n",
       "std        21.268362  \n",
       "min         4.000000  \n",
       "25%        55.000000  \n",
       "50%        74.000000  \n",
       "75%        90.000000  \n",
       "max       100.000000  "
      ]
     },
     "execution_count": 490,
     "metadata": {},
     "output_type": "execute_result"
    }
   ],
   "source": [
    "meterological_df_2020.describe()"
   ]
  },
  {
   "cell_type": "markdown",
   "metadata": {},
   "source": [
    "Finally, we want to make sure that we have all the dates specified in the dates' range:"
   ]
  },
  {
   "cell_type": "code",
   "execution_count": 491,
   "metadata": {},
   "outputs": [],
   "source": [
    "def check_for_missing_dates(meterological_df, dates_to_retrive):\n",
    "    res = []\n",
    "\n",
    "    # Create a new Dataframe with the speicifed datatime values, and calculate the difference.\n",
    "    for period in dates_to_retrive:\n",
    "        res.append(pd.date_range(start = period[0], end = period[1] , freq='10m').difference(meterological_df['Time']))\n",
    "\n",
    "    # Print a nice message.\n",
    "    if not res:\n",
    "        print(\"There are no missing dates!\")\n",
    "    else:\n",
    "        print(\"The missing times are:\", res)\n",
    "        \n",
    "    return res"
   ]
  },
  {
   "cell_type": "code",
   "execution_count": 492,
   "metadata": {},
   "outputs": [
    {
     "name": "stdout",
     "output_type": "stream",
     "text": [
      "The missing times are: [DatetimeIndex(['2018-12-31'], dtype='datetime64[ns]', freq=None), DatetimeIndex(['2019-06-30'], dtype='datetime64[ns]', freq=None)]\n"
     ]
    }
   ],
   "source": [
    "result = check_for_missing_dates(meterological_df_2019, dates_to_retrive_2019)"
   ]
  },
  {
   "cell_type": "markdown",
   "metadata": {},
   "source": [
    "It seems we are missing data relevant for the end of each period. \n",
    "\n",
    "Let's verify if it is just a specific 10 minutes sample which is missing:"
   ]
  },
  {
   "cell_type": "code",
   "execution_count": 493,
   "metadata": {},
   "outputs": [
    {
     "name": "stdout",
     "output_type": "stream",
     "text": [
      "[datetime.time(0, 0)] [datetime.time(0, 0)]\n"
     ]
    }
   ],
   "source": [
    "print(result[0].time, result[1].time)"
   ]
  },
  {
   "cell_type": "code",
   "execution_count": 494,
   "metadata": {},
   "outputs": [
    {
     "name": "stdout",
     "output_type": "stream",
     "text": [
      "The missing times are: [DatetimeIndex(['2019-12-31'], dtype='datetime64[ns]', freq=None), DatetimeIndex(['2020-06-30'], dtype='datetime64[ns]', freq=None)]\n"
     ]
    }
   ],
   "source": [
    "result = check_for_missing_dates(meterological_df_2020, dates_to_retrive_2020)"
   ]
  },
  {
   "cell_type": "markdown",
   "metadata": {},
   "source": [
    "It seems that we are facing the same issue as in 2019. \n",
    "\n",
    "Let's verify if it is just a specific 10 minutes sample which is missing:"
   ]
  },
  {
   "cell_type": "code",
   "execution_count": 495,
   "metadata": {},
   "outputs": [
    {
     "name": "stdout",
     "output_type": "stream",
     "text": [
      "[datetime.time(0, 0)] [datetime.time(0, 0)]\n"
     ]
    }
   ],
   "source": [
    "print(result[0].time, result[1].time)"
   ]
  },
  {
   "cell_type": "markdown",
   "metadata": {},
   "source": [
    "This is right. \n",
    "\n",
    "As stated, this will be taken care when grouping the data."
   ]
  },
  {
   "cell_type": "markdown",
   "metadata": {
    "direction": "ltr"
   },
   "source": [
    "#### 3.4.3 Shaping the Dataset"
   ]
  },
  {
   "cell_type": "markdown",
   "metadata": {},
   "source": [
    "We want to reshape our Dataframes to have a 1 hour resolution, instead of 10 minutes:"
   ]
  },
  {
   "cell_type": "code",
   "execution_count": 496,
   "metadata": {},
   "outputs": [],
   "source": [
    "def reshape_dataframe(meterological_df):\n",
    "    # Convert Time column to datetimeIndex object, to allow Grouper with frequency opeartors.\n",
    "    meterological_df.Time = pd.to_datetime(meterological_df.Time, utc=True)\n",
    "\n",
    "    # Group by Stations and Time, while changing the time resolution to hours.\n",
    "    meterological_df = meterological_df.groupby([pd.Grouper(key='Station Name'), pd.Grouper(freq='H', key='Time')]).agg(\n",
    "        {'Rain': \"sum\",\n",
    "         'Wind Speed': \"mean\", \n",
    "         'Wind Direction': 'mean',\n",
    "         'Temperature': \"mean\",\n",
    "         'Humidity': \"mean\"})\n",
    "\n",
    "    return meterological_df\n",
    "\n",
    "meterological_df_2019 = reshape_dataframe(meterological_df_2019)\n",
    "meterological_df_2020 = reshape_dataframe(meterological_df_2020)"
   ]
  },
  {
   "cell_type": "markdown",
   "metadata": {},
   "source": [
    "Please note that we changed the time zone from UTC + 2\\3 to UTC + 0. Please recall that we have already implemented the same convention for the training sorties and malfunction datasets, to avoid incompatibility problems.\n",
    "\n",
    "We would like to verify the results by randomly sampling 5 rows:"
   ]
  },
  {
   "cell_type": "code",
   "execution_count": 497,
   "metadata": {},
   "outputs": [
    {
     "data": {
      "text/html": [
       "<div>\n",
       "<style scoped>\n",
       "    .dataframe tbody tr th:only-of-type {\n",
       "        vertical-align: middle;\n",
       "    }\n",
       "\n",
       "    .dataframe tbody tr th {\n",
       "        vertical-align: top;\n",
       "    }\n",
       "\n",
       "    .dataframe thead th {\n",
       "        text-align: right;\n",
       "    }\n",
       "</style>\n",
       "<table border=\"1\" class=\"dataframe\">\n",
       "  <thead>\n",
       "    <tr style=\"text-align: right;\">\n",
       "      <th></th>\n",
       "      <th></th>\n",
       "      <th>Rain</th>\n",
       "      <th>Wind Speed</th>\n",
       "      <th>Wind Direction</th>\n",
       "      <th>Temperature</th>\n",
       "      <th>Humidity</th>\n",
       "    </tr>\n",
       "    <tr>\n",
       "      <th>Station Name</th>\n",
       "      <th>Time</th>\n",
       "      <th></th>\n",
       "      <th></th>\n",
       "      <th></th>\n",
       "      <th></th>\n",
       "      <th></th>\n",
       "    </tr>\n",
       "  </thead>\n",
       "  <tbody>\n",
       "    <tr>\n",
       "      <th>KEFAR BLUM</th>\n",
       "      <th>2019-06-21 10:00:00+00:00</th>\n",
       "      <td>0.0</td>\n",
       "      <td>3.416667</td>\n",
       "      <td>330.666667</td>\n",
       "      <td>33.583333</td>\n",
       "      <td>37.000000</td>\n",
       "    </tr>\n",
       "    <tr>\n",
       "      <th rowspan=\"2\" valign=\"top\">YAVNEEL</th>\n",
       "      <th>2019-01-12 11:00:00+00:00</th>\n",
       "      <td>0.0</td>\n",
       "      <td>4.183333</td>\n",
       "      <td>104.166667</td>\n",
       "      <td>16.916667</td>\n",
       "      <td>45.166667</td>\n",
       "    </tr>\n",
       "    <tr>\n",
       "      <th>2018-12-23 13:00:00+00:00</th>\n",
       "      <td>0.0</td>\n",
       "      <td>0.650000</td>\n",
       "      <td>133.500000</td>\n",
       "      <td>17.250000</td>\n",
       "      <td>72.833333</td>\n",
       "    </tr>\n",
       "    <tr>\n",
       "      <th>ELON</th>\n",
       "      <th>2019-01-26 05:00:00+00:00</th>\n",
       "      <td>0.0</td>\n",
       "      <td>2.050000</td>\n",
       "      <td>86.500000</td>\n",
       "      <td>12.950000</td>\n",
       "      <td>47.666667</td>\n",
       "    </tr>\n",
       "    <tr>\n",
       "      <th>SEDE BOQER</th>\n",
       "      <th>2019-02-13 16:00:00+00:00</th>\n",
       "      <td>0.0</td>\n",
       "      <td>2.233333</td>\n",
       "      <td>137.833333</td>\n",
       "      <td>14.950000</td>\n",
       "      <td>42.833333</td>\n",
       "    </tr>\n",
       "  </tbody>\n",
       "</table>\n",
       "</div>"
      ],
      "text/plain": [
       "                                        Rain  Wind Speed  Wind Direction  \\\n",
       "Station Name Time                                                          \n",
       "KEFAR BLUM   2019-06-21 10:00:00+00:00   0.0    3.416667      330.666667   \n",
       "YAVNEEL      2019-01-12 11:00:00+00:00   0.0    4.183333      104.166667   \n",
       "             2018-12-23 13:00:00+00:00   0.0    0.650000      133.500000   \n",
       "ELON         2019-01-26 05:00:00+00:00   0.0    2.050000       86.500000   \n",
       "SEDE BOQER   2019-02-13 16:00:00+00:00   0.0    2.233333      137.833333   \n",
       "\n",
       "                                        Temperature   Humidity  \n",
       "Station Name Time                                               \n",
       "KEFAR BLUM   2019-06-21 10:00:00+00:00    33.583333  37.000000  \n",
       "YAVNEEL      2019-01-12 11:00:00+00:00    16.916667  45.166667  \n",
       "             2018-12-23 13:00:00+00:00    17.250000  72.833333  \n",
       "ELON         2019-01-26 05:00:00+00:00    12.950000  47.666667  \n",
       "SEDE BOQER   2019-02-13 16:00:00+00:00    14.950000  42.833333  "
      ]
     },
     "execution_count": 497,
     "metadata": {},
     "output_type": "execute_result"
    }
   ],
   "source": [
    "meterological_df_2019.sample(5)"
   ]
  },
  {
   "cell_type": "code",
   "execution_count": 498,
   "metadata": {},
   "outputs": [
    {
     "data": {
      "text/html": [
       "<div>\n",
       "<style scoped>\n",
       "    .dataframe tbody tr th:only-of-type {\n",
       "        vertical-align: middle;\n",
       "    }\n",
       "\n",
       "    .dataframe tbody tr th {\n",
       "        vertical-align: top;\n",
       "    }\n",
       "\n",
       "    .dataframe thead th {\n",
       "        text-align: right;\n",
       "    }\n",
       "</style>\n",
       "<table border=\"1\" class=\"dataframe\">\n",
       "  <thead>\n",
       "    <tr style=\"text-align: right;\">\n",
       "      <th></th>\n",
       "      <th></th>\n",
       "      <th>Rain</th>\n",
       "      <th>Wind Speed</th>\n",
       "      <th>Wind Direction</th>\n",
       "      <th>Temperature</th>\n",
       "      <th>Humidity</th>\n",
       "    </tr>\n",
       "    <tr>\n",
       "      <th>Station Name</th>\n",
       "      <th>Time</th>\n",
       "      <th></th>\n",
       "      <th></th>\n",
       "      <th></th>\n",
       "      <th></th>\n",
       "      <th></th>\n",
       "    </tr>\n",
       "  </thead>\n",
       "  <tbody>\n",
       "    <tr>\n",
       "      <th>NEWE YAAR</th>\n",
       "      <th>2020-08-16 10:00:00+00:00</th>\n",
       "      <td>0.0</td>\n",
       "      <td>4.666667</td>\n",
       "      <td>246.833333</td>\n",
       "      <td>35.200000</td>\n",
       "      <td>33.500000</td>\n",
       "    </tr>\n",
       "    <tr>\n",
       "      <th rowspan=\"2\" valign=\"top\">KEFAR BLUM</th>\n",
       "      <th>2020-01-23 11:00:00+00:00</th>\n",
       "      <td>0.0</td>\n",
       "      <td>0.616667</td>\n",
       "      <td>162.000000</td>\n",
       "      <td>13.183333</td>\n",
       "      <td>73.833333</td>\n",
       "    </tr>\n",
       "    <tr>\n",
       "      <th>2020-02-10 15:00:00+00:00</th>\n",
       "      <td>0.0</td>\n",
       "      <td>2.083333</td>\n",
       "      <td>328.000000</td>\n",
       "      <td>8.566667</td>\n",
       "      <td>61.500000</td>\n",
       "    </tr>\n",
       "    <tr>\n",
       "      <th>MEROM GOLAN PICMAN</th>\n",
       "      <th>2020-08-20 01:00:00+00:00</th>\n",
       "      <td>0.0</td>\n",
       "      <td>3.000000</td>\n",
       "      <td>307.333333</td>\n",
       "      <td>16.416667</td>\n",
       "      <td>71.666667</td>\n",
       "    </tr>\n",
       "    <tr>\n",
       "      <th>ZEFAT HAR KENAAN</th>\n",
       "      <th>2020-07-22 19:00:00+00:00</th>\n",
       "      <td>0.0</td>\n",
       "      <td>6.650000</td>\n",
       "      <td>338.000000</td>\n",
       "      <td>24.683333</td>\n",
       "      <td>40.666667</td>\n",
       "    </tr>\n",
       "  </tbody>\n",
       "</table>\n",
       "</div>"
      ],
      "text/plain": [
       "                                              Rain  Wind Speed  \\\n",
       "Station Name       Time                                          \n",
       "NEWE YAAR          2020-08-16 10:00:00+00:00   0.0    4.666667   \n",
       "KEFAR BLUM         2020-01-23 11:00:00+00:00   0.0    0.616667   \n",
       "                   2020-02-10 15:00:00+00:00   0.0    2.083333   \n",
       "MEROM GOLAN PICMAN 2020-08-20 01:00:00+00:00   0.0    3.000000   \n",
       "ZEFAT HAR KENAAN   2020-07-22 19:00:00+00:00   0.0    6.650000   \n",
       "\n",
       "                                              Wind Direction  Temperature  \\\n",
       "Station Name       Time                                                     \n",
       "NEWE YAAR          2020-08-16 10:00:00+00:00      246.833333    35.200000   \n",
       "KEFAR BLUM         2020-01-23 11:00:00+00:00      162.000000    13.183333   \n",
       "                   2020-02-10 15:00:00+00:00      328.000000     8.566667   \n",
       "MEROM GOLAN PICMAN 2020-08-20 01:00:00+00:00      307.333333    16.416667   \n",
       "ZEFAT HAR KENAAN   2020-07-22 19:00:00+00:00      338.000000    24.683333   \n",
       "\n",
       "                                               Humidity  \n",
       "Station Name       Time                                  \n",
       "NEWE YAAR          2020-08-16 10:00:00+00:00  33.500000  \n",
       "KEFAR BLUM         2020-01-23 11:00:00+00:00  73.833333  \n",
       "                   2020-02-10 15:00:00+00:00  61.500000  \n",
       "MEROM GOLAN PICMAN 2020-08-20 01:00:00+00:00  71.666667  \n",
       "ZEFAT HAR KENAAN   2020-07-22 19:00:00+00:00  40.666667  "
      ]
     },
     "execution_count": 498,
     "metadata": {},
     "output_type": "execute_result"
    }
   ],
   "source": [
    "meterological_df_2020.sample(5)"
   ]
  },
  {
   "cell_type": "markdown",
   "metadata": {},
   "source": [
    "Finally, we would like to save the Dataframes into a dedicated directory (for a later use):"
   ]
  },
  {
   "cell_type": "code",
   "execution_count": 499,
   "metadata": {},
   "outputs": [],
   "source": [
    "meterological_df_2019.to_pickle(\"meteorological_data_set/meterological_dataset_2019.pkl\")\n",
    "meterological_df_2020.to_pickle(\"meteorological_data_set/meterological_dataset_2020.pkl\")"
   ]
  },
  {
   "cell_type": "markdown",
   "metadata": {
    "direction": "ltr"
   },
   "source": [
    "## 4. Results, Findings and Discussion"
   ]
  },
  {
   "cell_type": "markdown",
   "metadata": {
    "direction": "ltr"
   },
   "source": [
    "### 4.1 EDA"
   ]
  },
  {
   "cell_type": "markdown",
   "metadata": {},
   "source": [
    "During this section we are aiming to gain a full understanding about the given data, as well as raising important facts and inshights which derive from it. \n",
    "Most of this section will be introduced using visualizations, accompanied with plain text, for the discussion part."
   ]
  },
  {
   "cell_type": "markdown",
   "metadata": {},
   "source": [
    "#### Imports"
   ]
  },
  {
   "cell_type": "code",
   "execution_count": 668,
   "metadata": {},
   "outputs": [],
   "source": [
    "import seaborn as sns\n",
    "import matplotlib.pyplot as plt"
   ]
  },
  {
   "cell_type": "markdown",
   "metadata": {
    "direction": "ltr"
   },
   "source": [
    "### 4.1.1 General Malfunctions Discovery"
   ]
  },
  {
   "cell_type": "markdown",
   "metadata": {
    "direction": "ltr"
   },
   "source": [
    "#### Total Number of Malfunctions per System (Bar Chart, 2019 / 2020)"
   ]
  },
  {
   "cell_type": "markdown",
   "metadata": {},
   "source": [
    "It would be not serious to assume that the number of malfunctions distribute uniformly between the helicopter's systems. The following diagrams shall present this distribution."
   ]
  },
  {
   "cell_type": "markdown",
   "metadata": {},
   "source": [
    "Note - The following visualizations were divided into two Bar Charts in order to have the labels big enough to read."
   ]
  },
  {
   "cell_type": "markdown",
   "metadata": {},
   "source": [
    "**2019**"
   ]
  },
  {
   "cell_type": "markdown",
   "metadata": {},
   "source": [
    "The number of unique systems is:"
   ]
  },
  {
   "cell_type": "code",
   "execution_count": 669,
   "metadata": {},
   "outputs": [
    {
     "data": {
      "text/plain": [
       "31"
      ]
     },
     "execution_count": 669,
     "metadata": {},
     "output_type": "execute_result"
    }
   ],
   "source": [
    "malf_df_2019['System'].value_counts().count()"
   ]
  },
  {
   "cell_type": "markdown",
   "metadata": {},
   "source": [
    "Thus, we will devide this series into two almost equal in size serieses:"
   ]
  },
  {
   "cell_type": "code",
   "execution_count": 670,
   "metadata": {},
   "outputs": [],
   "source": [
    "most_significant_malf_per_system_2019 = malf_df_2019['System'].value_counts().head(15)\n",
    "less_significant_malf_per_system_2019 = malf_df_2019['System'].value_counts().tail(16)"
   ]
  },
  {
   "cell_type": "code",
   "execution_count": 671,
   "metadata": {},
   "outputs": [
    {
     "data": {
      "image/png": "[encoded data removed]",
      "text/plain": [
       "<Figure size 1440x720 with 1 Axes>"
      ]
     },
     "metadata": {},
     "output_type": "display_data"
    }
   ],
   "source": [
    "plt.figure(figsize=(20, 10))\n",
    "b = sns.countplot(x = 'System', data = malf_df_2019, order = most_significant_malf_per_system_2019.index)\n",
    "b.axes.set_title(\"Total Number of Malfunctions per System, Year of 2019, Part 1\",fontsize = 20)\n",
    "b.set_xlabel(\"System's Name\",fontsize = 15)\n",
    "b.set_ylabel(\"Total Number of Malfunctions\",fontsize = 15)\n",
    "b.tick_params(labelsize =10)"
   ]
  },
  {
   "cell_type": "code",
   "execution_count": 672,
   "metadata": {},
   "outputs": [
    {
     "data": {
      "image/png": "[encoded data removed]",
      "text/plain": [
       "<Figure size 1440x720 with 1 Axes>"
      ]
     },
     "metadata": {},
     "output_type": "display_data"
    }
   ],
   "source": [
    "plt.figure(figsize=(20, 10))\n",
    "b = sns.countplot(x = 'System', data = malf_df_2019, order = less_significant_malf_per_system_2019.index)\n",
    "b.axes.set_title(\"Total Number of Malfunctions per System, Year of 2019, Part 2\",fontsize = 20)\n",
    "b.set_xlabel(\"System's Name\",fontsize = 15)\n",
    "b.set_ylabel(\"Total Number of Malfunctions\",fontsize = 15)\n",
    "b.tick_params(labelsize = 11)"
   ]
  },
  {
   "cell_type": "markdown",
   "metadata": {},
   "source": [
    "**2020**"
   ]
  },
  {
   "cell_type": "markdown",
   "metadata": {},
   "source": [
    "Let's do the same for 2020:"
   ]
  },
  {
   "cell_type": "code",
   "execution_count": 673,
   "metadata": {},
   "outputs": [],
   "source": [
    "most_significant_malf_per_system_2020 = malf_df_2020['System'].value_counts().head(15)\n",
    "less_significant_malf_per_system_2020 = malf_df_2020['System'].value_counts().tail(16)"
   ]
  },
  {
   "cell_type": "code",
   "execution_count": 674,
   "metadata": {},
   "outputs": [
    {
     "data": {
      "image/png": "[encoded data removed]",
      "text/plain": [
       "<Figure size 1440x720 with 1 Axes>"
      ]
     },
     "metadata": {},
     "output_type": "display_data"
    }
   ],
   "source": [
    "plt.figure(figsize=(20, 10))\n",
    "b = sns.countplot(x = 'System', data = malf_df_2020, order = most_significant_malf_per_system_2020.index)\n",
    "b.axes.set_title(\"Total Number of Malfunctions per System, Year of 2020, Part 1\",fontsize = 20)\n",
    "b.set_xlabel(\"System's Name\",fontsize = 15)\n",
    "b.set_ylabel(\"Total Number of Malfunctions\",fontsize = 15)\n",
    "b.tick_params(labelsize = 10)"
   ]
  },
  {
   "cell_type": "code",
   "execution_count": 675,
   "metadata": {},
   "outputs": [
    {
     "data": {
      "image/png": "[encoded data removed]",
      "text/plain": [
       "<Figure size 1440x720 with 1 Axes>"
      ]
     },
     "metadata": {},
     "output_type": "display_data"
    }
   ],
   "source": [
    "plt.figure(figsize=(20, 10))\n",
    "b = sns.countplot(x = 'System', data = malf_df_2020, order = less_significant_malf_per_system_2020.index)\n",
    "b.axes.set_title(\"Total Number of Malfunctions per System, Year of 2020, Part 2\",fontsize = 20)\n",
    "b.set_xlabel(\"System's Name\",fontsize = 15)\n",
    "b.set_ylabel(\"Total Number of Malfunctions\",fontsize = 15)\n",
    "b.tick_params(labelsize = 10)"
   ]
  },
  {
   "cell_type": "markdown",
   "metadata": {},
   "source": [
    "***Discussion***"
   ]
  },
  {
   "cell_type": "markdown",
   "metadata": {},
   "source": [
    "* We can easily see that both \"Fuselage\" and \"Fire Control\" systems are reported as having the largest number of malfunctions for both 2019 and 2020. Moreover, the four next significant systems (in terms of the total number of malfunctions) are the same for both years (\"Cockpit\", \"Lighting\", \"Armament\", \"Transmissions\" and \"Comm\").\n",
    "\n",
    "* In general, the total number and distribution of malfunctions (per system), are appear to be similar for 2019 and 2020. "
   ]
  },
  {
   "cell_type": "markdown",
   "metadata": {
    "direction": "ltr"
   },
   "source": [
    "#### Total Number of Malfunctions per Tail Number (Bar Chart, 2019 / 2020)"
   ]
  },
  {
   "cell_type": "markdown",
   "metadata": {},
   "source": [
    "Without pervious knowledge, we would assume (naively) that the number of malfunctions per tail number shall be relatively close. This assumption relies on the fact that by default the flight activities shall be shared equally as possible between all helicopters (to avoid surplus maintenance).\n",
    "\n",
    "The following diagrams may confirm that assumption."
   ]
  },
  {
   "cell_type": "markdown",
   "metadata": {},
   "source": [
    "**2019**"
   ]
  },
  {
   "cell_type": "code",
   "execution_count": 676,
   "metadata": {},
   "outputs": [
    {
     "data": {
      "image/png": "[encoded data removed]",
      "text/plain": [
       "<Figure size 1440x720 with 1 Axes>"
      ]
     },
     "metadata": {},
     "output_type": "display_data"
    }
   ],
   "source": [
    "plt.figure(figsize=(20, 10))\n",
    "b = sns.countplot(x = 'Tail Number', data = malf_df_2019, order = malf_df_2019['Tail Number'].value_counts().index)\n",
    "b.axes.set_title(\"Total Number of Malfunctions per Tail Number, Year of 2019\",fontsize = 20)\n",
    "b.set_xlabel(\"Tail Number\",fontsize = 20)\n",
    "b.set_ylabel(\"Total Number of Malfunctions\",fontsize = 20)\n",
    "b.tick_params(labelsize = 15)"
   ]
  },
  {
   "cell_type": "markdown",
   "metadata": {},
   "source": [
    "**2020**"
   ]
  },
  {
   "cell_type": "code",
   "execution_count": 677,
   "metadata": {},
   "outputs": [
    {
     "data": {
      "image/png": "[encoded data removed]",
      "text/plain": [
       "<Figure size 1440x720 with 1 Axes>"
      ]
     },
     "metadata": {},
     "output_type": "display_data"
    }
   ],
   "source": [
    "plt.figure(figsize=(20, 10))\n",
    "b = sns.countplot(x = 'Tail Number', data = malf_df_2020, order = malf_df_2020['Tail Number'].value_counts().index)\n",
    "b.axes.set_title(\"Total Number of Malfunctions per Tail Number, Year of 2020\",fontsize = 20)\n",
    "b.set_xlabel(\"Tail Number\",fontsize = 20)\n",
    "b.set_ylabel(\"Total Number of Malfunctions\",fontsize = 20)\n",
    "b.tick_params(labelsize = 15)"
   ]
  },
  {
   "cell_type": "markdown",
   "metadata": {},
   "source": [
    "***Discussion***"
   ]
  },
  {
   "cell_type": "markdown",
   "metadata": {},
   "source": [
    "* We can evident that the distribution of malfunctions among helicopters is not exactly uniform, although close to it.\n",
    "* Each year represents a different distribution; thus, a specific aircraft may have a large number of malfunctions in 2019 but a relatively small one in 2020 (Tail Number 935 for example). It seems that our naive assumption wasn't right.\n",
    "* The immediate conclusion is that we shall normalize the number of malfunctions, considering the flight hours each helicopter has flown in that year."
   ]
  },
  {
   "cell_type": "markdown",
   "metadata": {
    "direction": "ltr"
   },
   "source": [
    "#### Mean Number of Malfunctions per Flight Hour per Tail Number (Bar Chart, 2019 / 2020)"
   ]
  },
  {
   "cell_type": "markdown",
   "metadata": {},
   "source": [
    "Following the perceeding section, we will now normalize the number of malfunctions per helicopter, using its annually flight hours."
   ]
  },
  {
   "cell_type": "markdown",
   "metadata": {},
   "source": [
    "**2019**"
   ]
  },
  {
   "cell_type": "code",
   "execution_count": 689,
   "metadata": {},
   "outputs": [
    {
     "data": {
      "text/plain": [
       "Tail Number\n",
       "966   2 days 11:00:00\n",
       "830   1 days 18:50:00\n",
       "921   2 days 09:20:00\n",
       "832   4 days 08:45:00\n",
       "812   3 days 06:30:00\n",
       "804   3 days 05:40:00\n",
       "924   2 days 07:00:00\n",
       "842   3 days 03:55:00\n",
       "961   1 days 23:35:00\n",
       "905   2 days 18:50:00\n",
       "935   2 days 01:20:00\n",
       "820   3 days 06:15:00\n",
       "815   4 days 02:35:00\n",
       "845   3 days 13:50:00\n",
       "938   3 days 01:05:00\n",
       "801   1 days 08:40:00\n",
       "806   2 days 07:25:00\n",
       "956   1 days 05:20:00\n",
       "834   0 days 18:01:00\n",
       "967   3 days 22:15:00\n",
       "837   2 days 03:50:00\n",
       "828   3 days 06:10:00\n",
       "840   2 days 18:15:00\n",
       "910   2 days 19:00:00\n",
       "Name: Flight Duration, dtype: timedelta64[ns]"
      ]
     },
     "execution_count": 689,
     "metadata": {},
     "output_type": "execute_result"
    }
   ],
   "source": [
    "flights_df_2019.groupby(\"Tail Number\", sort=False)[\"Flight Duration\"].sum()"
   ]
  },
  {
   "cell_type": "code",
   "execution_count": 688,
   "metadata": {},
   "outputs": [
    {
     "data": {
      "text/plain": [
       "pandas.core.series.Series"
      ]
     },
     "execution_count": 688,
     "metadata": {},
     "output_type": "execute_result"
    }
   ],
   "source": [
    "\n",
    "\n",
    "\n",
    "plt.figure(figsize=(20, 10))\n",
    "b = sns.countplot(x = 'Tail Number', data = malf_df_2019, order = malf_df_2019['Tail Number'].value_counts().index)\n",
    "b.axes.set_title(\"Mean Number of Malfunctions per Tail Number, Year of 2019\",fontsize = 20)\n",
    "b.set_xlabel(\"Tail Number\",fontsize = 20)\n",
    "b.set_ylabel(\"Total Number of Malfunctions\",fontsize = 20)\n",
    "b.tick_params(labelsize = 15)"
   ]
  },
  {
   "cell_type": "markdown",
   "metadata": {
    "direction": "ltr"
   },
   "source": [
    "#### Mean Number of Malfunctions per Parking Hour per Tail Number (Bar Chart, 2019 / 2020)"
   ]
  },
  {
   "cell_type": "markdown",
   "metadata": {
    "direction": "ltr"
   },
   "source": [
    "#### Mean Time Between Reported Malfunctions per Tail Number (Bar Chart, 2019 / 2020)"
   ]
  },
  {
   "cell_type": "markdown",
   "metadata": {
    "direction": "ltr"
   },
   "source": [
    "#### Distribution of Flight Hours Between Tail Numbers (Pie Chart, 2019 / 2020)"
   ]
  },
  {
   "cell_type": "markdown",
   "metadata": {
    "direction": "ltr"
   },
   "source": [
    "#### Malfunctions' Types Cross Tail Numbers Heatmap (2019 / 2020)"
   ]
  },
  {
   "cell_type": "markdown",
   "metadata": {
    "direction": "ltr"
   },
   "source": [
    "#### Total Number of Malfunctions per User Type (Bar Chart, 2019 / 2020)"
   ]
  },
  {
   "cell_type": "markdown",
   "metadata": {
    "direction": "ltr"
   },
   "source": [
    "#### Un-Verified Malfunctions' Types Distribution (Nested Pie Chart, 2019 / 2020)"
   ]
  },
  {
   "cell_type": "markdown",
   "metadata": {
    "direction": "ltr"
   },
   "source": [
    "#### Pilots' Reported Malfunctions' Types Distribution (Nested Pie Chart, 2019 / 2020)"
   ]
  },
  {
   "cell_type": "markdown",
   "metadata": {
    "direction": "ltr"
   },
   "source": [
    "#### Mean Number of Malfunctions per Time Intervals Between Flights (Scatter Plot, 2019 / 2020)"
   ]
  },
  {
   "cell_type": "markdown",
   "metadata": {
    "direction": "ltr"
   },
   "source": [
    "#### Total Number of Malfunctions per Type at Ramon Air Force Base (Bar Chart, 2019 / 2020)"
   ]
  },
  {
   "cell_type": "markdown",
   "metadata": {},
   "source": [
    "#### Total Number of Malfunctions per Type at Ramat David Air Force Base (Bar Chart, 2019 / 2020)"
   ]
  },
  {
   "cell_type": "markdown",
   "metadata": {
    "direction": "ltr"
   },
   "source": [
    "#### Mean Time for Handling a Malfunction per Type at Ramon Air Force Base (Bar Chart, 2019 / 2020)"
   ]
  },
  {
   "cell_type": "markdown",
   "metadata": {},
   "source": [
    "#### Mean Time for Handling a Malfunction per Type at Ramat David Air Force Base (Bar Chart, 2019 / 2020)"
   ]
  },
  {
   "cell_type": "markdown",
   "metadata": {},
   "source": [
    "#### Mean Time for Reporting a new Malfunction per Type at Ramon Air Force Base (Bar Chart, 2019 / 2020)"
   ]
  },
  {
   "cell_type": "markdown",
   "metadata": {},
   "source": [
    "#### Mean Time for Reporting a new Malfunction per Type at Ramat David Air Force Base (Bar Chart, 2019 / 2020)"
   ]
  },
  {
   "cell_type": "markdown",
   "metadata": {
    "direction": "ltr"
   },
   "source": [
    "### 4.1.2 Malfunctions and Weather Phenomena"
   ]
  },
  {
   "cell_type": "markdown",
   "metadata": {
    "direction": "ltr"
   },
   "source": [
    "### 4.1.2.1 Understanding the Weather Variables"
   ]
  },
  {
   "cell_type": "markdown",
   "metadata": {
    "direction": "ltr"
   },
   "source": [
    "#### Total Number of Raining Days per Month at Ramon Air Force Base (Bar Chart, 2019 / 2020)"
   ]
  },
  {
   "cell_type": "markdown",
   "metadata": {},
   "source": [
    "#### Total Number of Raining Days per Month at Ramat David Air Force Base (Bar Chart, 2019 / 2020)"
   ]
  },
  {
   "cell_type": "markdown",
   "metadata": {
    "direction": "ltr"
   },
   "source": [
    "#### Rainfall per Month at Ramon Air Force Base (Bar Chart, 2019 / 2020)"
   ]
  },
  {
   "cell_type": "markdown",
   "metadata": {},
   "source": [
    "#### Rainfall per Month at Ramat David Air Force Base (Bar Chart, 2019 / 2020)"
   ]
  },
  {
   "cell_type": "markdown",
   "metadata": {
    "direction": "ltr"
   },
   "source": [
    "#### Mean Temperature per Month at Ramon Air Force Base (Bar Chart, 2019 / 2020)"
   ]
  },
  {
   "cell_type": "markdown",
   "metadata": {},
   "source": [
    "#### Mean Temperature per Month at Ramat David Air Force Base (Bar Chart, 2019 / 2020)"
   ]
  },
  {
   "cell_type": "markdown",
   "metadata": {},
   "source": [
    "#### 5 Windows a Day Mean Humidity per Month at Ramon Air Force Base (Nested Bar Chart, 2019 / 2020)"
   ]
  },
  {
   "cell_type": "markdown",
   "metadata": {
    "direction": "ltr"
   },
   "source": [
    "#### 5 Windows a Day Mean Humidity per Month at Ramat David Air Force Base (Nested Bar Chart, 2019 / 2020)"
   ]
  },
  {
   "cell_type": "markdown",
   "metadata": {
    "direction": "ltr"
   },
   "source": [
    "### 4.1.2.2 Analyzing the Impacts of Outdoor Parking"
   ]
  },
  {
   "cell_type": "markdown",
   "metadata": {
    "direction": "ltr"
   },
   "source": [
    "#### Rain intensity and Malfunctions (Jointgrid, 2019 / 2020)"
   ]
  },
  {
   "cell_type": "markdown",
   "metadata": {
    "direction": "ltr"
   },
   "source": [
    "#### Temperature and Malfunctions (Jointgrid, 2019 / 2020)"
   ]
  },
  {
   "cell_type": "markdown",
   "metadata": {
    "direction": "ltr"
   },
   "source": [
    "#### Mean Wind Velocity and Malfunctions (Jointgrid, 2019 / 2020)"
   ]
  },
  {
   "cell_type": "markdown",
   "metadata": {},
   "source": [
    "East (090)"
   ]
  },
  {
   "cell_type": "markdown",
   "metadata": {},
   "source": [
    "West (270)"
   ]
  },
  {
   "cell_type": "markdown",
   "metadata": {
    "direction": "ltr"
   },
   "source": [
    "#### Temperature Value Cross Malfunctions' Types Heatmap (2019 / 2020)"
   ]
  },
  {
   "cell_type": "markdown",
   "metadata": {
    "direction": "ltr"
   },
   "source": [
    "#### Rainfall (mm) Cross Malfunctions' Types Heatmap (2019 / 2020)"
   ]
  },
  {
   "cell_type": "markdown",
   "metadata": {
    "direction": "ltr"
   },
   "source": [
    "#### Mean Humidity Values Cross Malfunctions' Types Heatmap (2019 / 2020)"
   ]
  },
  {
   "cell_type": "markdown",
   "metadata": {
    "direction": "ltr"
   },
   "source": [
    "#### Weather Variables and Malfunctions' Types (Classes) Swarm Plot"
   ]
  },
  {
   "cell_type": "markdown",
   "metadata": {
    "direction": "ltr"
   },
   "source": [
    "#### Weather Variables Scatter Matrix"
   ]
  },
  {
   "cell_type": "markdown",
   "metadata": {
    "direction": "ltr"
   },
   "source": [
    "### 4.1.2.3 Analyzing the Weather Impacts during Flights"
   ]
  },
  {
   "cell_type": "markdown",
   "metadata": {
    "direction": "ltr"
   },
   "source": [
    "#### Rain intensity and Malfunctions (Jointgrid, 2019 / 2020)"
   ]
  },
  {
   "cell_type": "markdown",
   "metadata": {
    "direction": "ltr"
   },
   "source": [
    "#### Temperature and Malfunctions (Jointgrid, 2019 / 2020)"
   ]
  },
  {
   "cell_type": "markdown",
   "metadata": {
    "direction": "ltr"
   },
   "source": [
    "#### Temperature Value Cross Malfunctions' Types Heatmap (2019 / 2020)"
   ]
  },
  {
   "cell_type": "markdown",
   "metadata": {
    "direction": "ltr"
   },
   "source": [
    "#### Rainfall (mm) Cross Malfunctions' Types Heatmap (2019 / 2020)"
   ]
  },
  {
   "cell_type": "markdown",
   "metadata": {
    "direction": "ltr"
   },
   "source": [
    "#### Weather Variables (Temperature, Rain) and Malfunctions' Types (Classes) Swarm Plot"
   ]
  },
  {
   "cell_type": "markdown",
   "metadata": {
    "direction": "ltr"
   },
   "source": [
    "#### Weather Variables (Temperature, Rain) Scatter Matrix"
   ]
  },
  {
   "cell_type": "markdown",
   "metadata": {
    "direction": "ltr"
   },
   "source": [
    "### 4.1.2.4 Analyzing the Impacts of the Weekly Flight Plan"
   ]
  },
  {
   "cell_type": "markdown",
   "metadata": {
    "direction": "ltr"
   },
   "source": [
    "#### Discrete Distribution (as Horizontal Bar Chart) of Malfunctions' Types per Week's Days (2019 / 2020)"
   ]
  },
  {
   "cell_type": "markdown",
   "metadata": {
    "direction": "ltr"
   },
   "source": [
    "### 4.2 Helicopters-Malfunctions Graph - an Additional Point of View"
   ]
  },
  {
   "cell_type": "markdown",
   "metadata": {
    "direction": "ltr"
   },
   "source": [
    "#### 4.2.1 Processing the Datasets"
   ]
  },
  {
   "cell_type": "markdown",
   "metadata": {
    "direction": "ltr"
   },
   "source": [
    "#### 4.2.2 Builidng a Two-Sided Graph to Describe the Possible Connections Between Helicopters (using NetworkX)"
   ]
  },
  {
   "cell_type": "markdown",
   "metadata": {
    "direction": "ltr"
   },
   "source": [
    "#### 4.2.3 Weighted Projection (Linking Helicopters)\n"
   ]
  },
  {
   "cell_type": "markdown",
   "metadata": {
    "direction": "ltr"
   },
   "source": [
    "#### 4.2.4 Discussion"
   ]
  },
  {
   "cell_type": "markdown",
   "metadata": {
    "direction": "ltr"
   },
   "source": [
    "### 4.3 Analyzing the Impacts of Different Weekly Flight Plans on Malfunctions"
   ]
  },
  {
   "cell_type": "markdown",
   "metadata": {
    "direction": "ltr"
   },
   "source": [
    "#### 4.3.1 Weeks Clustering by their Weekly Flight Plan Pattern using K-Means"
   ]
  },
  {
   "cell_type": "markdown",
   "metadata": {
    "direction": "ltr"
   },
   "source": [
    "#### 4.3.2 Weeks Clustering by their Weekly Flight Plan Pattern using Gaussian Mixture Model"
   ]
  },
  {
   "cell_type": "markdown",
   "metadata": {
    "direction": "ltr"
   },
   "source": [
    "#### 4.3.3 Comparing the Models' Results"
   ]
  },
  {
   "cell_type": "markdown",
   "metadata": {
    "direction": "ltr"
   },
   "source": [
    "#### 4.3.3 Displaying Statistics of Different Weekly Flight Plans"
   ]
  },
  {
   "cell_type": "markdown",
   "metadata": {
    "direction": "ltr"
   },
   "source": [
    "#### 4.3.4 Discrete Distribution (as Horizontal Bar Chart) of Malfunctions' Types per Weekly Flight Plans"
   ]
  },
  {
   "cell_type": "markdown",
   "metadata": {
    "direction": "ltr"
   },
   "source": [
    "#### 4.3.5 Mean Time for Handling a Malfunction per Weekly Flight Plans"
   ]
  },
  {
   "cell_type": "markdown",
   "metadata": {
    "direction": "ltr"
   },
   "source": [
    "#### 4.3.6.\tDiscussion"
   ]
  },
  {
   "cell_type": "markdown",
   "metadata": {
    "direction": "ltr"
   },
   "source": [
    "### 4.4 Building a Regression Model for Classifying Malfunctions Based on Weather Variables (Parking)"
   ]
  },
  {
   "cell_type": "markdown",
   "metadata": {
    "direction": "ltr"
   },
   "source": [
    "#### 4.4.1 Shaping the Datasets"
   ]
  },
  {
   "cell_type": "markdown",
   "metadata": {
    "direction": "ltr"
   },
   "source": [
    "#### 4.4.2 Selecting the Independent Variables and Class Categories (Based on the EDA Phase)"
   ]
  },
  {
   "cell_type": "markdown",
   "metadata": {
    "direction": "ltr"
   },
   "source": [
    "#### 4.4.3 KNN"
   ]
  },
  {
   "cell_type": "markdown",
   "metadata": {
    "direction": "ltr"
   },
   "source": [
    "#### 4.4.4 Logistic Regression "
   ]
  },
  {
   "cell_type": "markdown",
   "metadata": {
    "direction": "ltr"
   },
   "source": [
    "#### 4.4.5 Navie Bayes"
   ]
  },
  {
   "cell_type": "markdown",
   "metadata": {
    "direction": "ltr"
   },
   "source": [
    "#### 4.4.6 Random Forest "
   ]
  },
  {
   "cell_type": "markdown",
   "metadata": {
    "direction": "ltr"
   },
   "source": [
    "#### 4.4.7 Stacking (Optional)"
   ]
  },
  {
   "cell_type": "markdown",
   "metadata": {
    "direction": "ltr"
   },
   "source": [
    "#### 4.4.8 Discussion"
   ]
  },
  {
   "cell_type": "markdown",
   "metadata": {
    "direction": "ltr"
   },
   "source": [
    "### 4.5 Building a Regression Model for Classifying Malfunctions Based on Weather Variables (Flights)"
   ]
  },
  {
   "cell_type": "markdown",
   "metadata": {
    "direction": "ltr"
   },
   "source": [
    "#### 4.5.1 Shaping the Datasets"
   ]
  },
  {
   "cell_type": "markdown",
   "metadata": {
    "direction": "ltr"
   },
   "source": [
    "#### 4.5.2 Selecting the Independent Variables and Class Categories (Based on the EDA Phase)"
   ]
  },
  {
   "cell_type": "markdown",
   "metadata": {
    "direction": "ltr"
   },
   "source": [
    "#### 4.5.3 KNN"
   ]
  },
  {
   "cell_type": "markdown",
   "metadata": {
    "direction": "ltr"
   },
   "source": [
    "#### 4.5.4 Logistic Regression "
   ]
  },
  {
   "cell_type": "markdown",
   "metadata": {
    "direction": "ltr"
   },
   "source": [
    "#### 4.5.5 Navie Bayes"
   ]
  },
  {
   "cell_type": "markdown",
   "metadata": {
    "direction": "ltr"
   },
   "source": [
    "#### 4.5.6 Random Forest "
   ]
  },
  {
   "cell_type": "markdown",
   "metadata": {
    "direction": "ltr"
   },
   "source": [
    "#### 4.5.7 Stacking (Optional)"
   ]
  },
  {
   "cell_type": "markdown",
   "metadata": {
    "direction": "ltr"
   },
   "source": [
    "#### 4.5.8 Discussion"
   ]
  },
  {
   "cell_type": "markdown",
   "metadata": {
    "direction": "ltr"
   },
   "source": [
    "### 4.6 Parking vs. Flights Differences (Discussion)"
   ]
  },
  {
   "cell_type": "markdown",
   "metadata": {
    "direction": "ltr"
   },
   "source": [
    "## 5. Conclusions"
   ]
  }
 ],
 "metadata": {
  "direction": "ltr",
  "kernelspec": {
   "display_name": "Python 3",
   "language": "python",
   "name": "python3"
  },
  "language_info": {
   "codemirror_mode": {
    "name": "ipython",
    "version": 3
   },
   "file_extension": ".py",
   "mimetype": "text/x-python",
   "name": "python",
   "nbconvert_exporter": "python",
   "pygments_lexer": "ipython3",
   "version": "3.8.5"
  }
 },
 "nbformat": 4,
 "nbformat_minor": 4
}
