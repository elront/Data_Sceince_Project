{
 "cells": [
  {
   "cell_type": "markdown",
   "metadata": {
    "direction": "ltr"
   },
   "source": [
    "# Data Science Workshop Project"
   ]
  },
  {
   "cell_type": "markdown",
   "metadata": {},
   "source": [
    "## 1. Introduction"
   ]
  },
  {
   "cell_type": "markdown",
   "metadata": {
    "direction": "ltr"
   },
   "source": [
    "### 3.1 Student's Details"
   ]
  },
  {
   "cell_type": "markdown",
   "metadata": {
    "direction": "ltr"
   },
   "source": [
    "* First name: Elron\n",
    "* Last name: Tvizer\n",
    "* Identification number: 301801346"
   ]
  },
  {
   "cell_type": "markdown",
   "metadata": {
    "direction": "ltr"
   },
   "source": [
    "### 3.2 Project's Goals"
   ]
  },
  {
   "cell_type": "markdown",
   "metadata": {
    "direction": "ltr"
   },
   "source": [
    "This project is meant to help an Israeli Air Force helicopters squadron to improve its maintenance and planning processes, to reduce the overall number of helicopters' malfunctions, and to improve the response time of handling a malfunction. \n",
    "\n",
    "It is well believed for some time that weather phenomena have a great impact of helicopters' serviceability, thus this project intends to clarify this assumption. \n",
    "\n",
    "Furthermore, it is meant to provide insights about the recommended weekly training flights plan, which by default determines the schedule of the maintenance routines and carried out flight, something which may contribute to increase the availability of helicopters, thus increasing the squadron's flexibility to train its pilots. \n",
    "\n",
    "I will seek to perform the above by analysing and extracting insights from the data provided by the Israeli Air Force, as well as by building a regression model for classifying malfunctions based on different weather features, extracted from the Israeli Meteorological Service servers.\n",
    "\n",
    "**Thus, the high-level goals of this project are:**\n",
    "\n",
    "* Conduct an analysis of various aspects of the malfunctions data provided, with respect to the squadron's two main working locations (Ramon Air Force base and Ramat David Air Force base).\n",
    "\n",
    "\n",
    "* Conduct an analysis to conclude the various weekly training flight plans implemented (as projected by the data provided by the Israeli Air Force), then analysing its effect on malfunctions' amount and type, in favour of improving the squadron's work.\n",
    "\n",
    "\n",
    "* Find connections between different tail numbers (helicopters), based on the provided datasets, to give the technical department a different viewpoint of the platform's maintenance activities and regulations.  \n",
    "\n",
    "\n",
    "* Build a regression model for classifying malfunctions, given the input of weather variables (on ground).\n",
    "\n",
    "\n",
    "* Build a regression model for classifying malfunctions, given the input of weather variables (during or after training flights departed from Ramat David Air Force base)."
   ]
  },
  {
   "cell_type": "markdown",
   "metadata": {
    "direction": "ltr"
   },
   "source": [
    "### 3.3 Motivation"
   ]
  },
  {
   "cell_type": "markdown",
   "metadata": {
    "direction": "ltr"
   },
   "source": [
    "Attached is an official request signed by the squadron's deputy commander, requesting to carry out the aforementioned analysis work and recommendations (for the part concerning weather damage impacts):"
   ]
  },
  {
   "cell_type": "markdown",
   "metadata": {},
   "source": [
    "![IAF_Request](images/IAF_Request.jpg)"
   ]
  },
  {
   "cell_type": "markdown",
   "metadata": {
    "direction": "ltr"
   },
   "source": [
    "Personally, as an active reserve officer in the squadron, and as having previously performed a commanding role thus aware of the weighty implications of the relatively low serviceability percentages of the squadron's helicopters, I find a great interest in contributing to this kind of analysis and classification work. \n",
    "\n",
    "As stated in the official request, no analysis of the provided malfunctions data is currently being performed, other than calculations of statistics, which do not help make data-driven decisions (for example: average time between malfunctions, percentage of serviceability (i.e. the total number of helicopters available for flight each morning), etc.). Moreover, various decisions regarding helicopters' spare parts, and the presence of maintenance personnel in the heliport (i.e. where helicopters are parked) are a result of rules of thumb, and \"gut feelings\", thus not knowledge-based.\n",
    "\n",
    "Many times, in the past the weekly flights plan has changed. As mentioned, the weekly flights plan dictates the squadron's progression in training plan, and involves many resources and constraints (for example: meeting the maintenance routines, allocating the required training resources - flight areas, etc.). A work which connects the serviceability of the squadron's helicopters and the weekly flights plan has been conducted in the past, albeit in a non-comprehensive and inclusive manner (based on a small number of samples, and without a specific reference to the malfunctions issue). In this work I would like to reveal the impacts of the weekly flights plan on the malfunctions amount and type, thus allowing a better decisions to be taken.\n",
    "\n",
    "Another important feature of a helicopter is it being able to fly under difficult weather conditions. The squadron's helicopters are capable and required to perform their missions in the presence of hard weather conditions. However, increased number of malfunctions, may reduce the helicopters' serviceability for carrying out these and other missions. A decision for having flights under difficult weather conditions on purpose, may increase the risk factors for specific types of malfunctions. Thus, having this knowledge may spur the squadron's commanders to make some improvements meant to handle these increased risk factors wisely (for example: manufacturing a dedicated sealing component, changing the flight areas in real-time, etc.).\n",
    "\n",
    "Squadron's operations on ground during various weather conditions is another significant issue, since more than 95% of time helicopters are not in air. As stated in the official request - the helicopters are routinely parked outdoor (unlike other aircrafts), and therefore more exposed to weather damage - wind, rain, extreme temperatures (heat or cold), humidity and radiation. Some equipment may be in use, if it turns out that these weather damages are causing a great increase in the number of malfunctions.\n",
    "\n",
    "**To summarize, these are the general and personal motivations for carrying out this project:**\n",
    "* This project may contribute to increase the serviceability of the squadron's helicopters, by providing concrete recommendations for adjusting maintenance processes and flight planning.\n",
    "* This contribution is translated into a better and more accurate utilization of the Israeli taxpayer's money, by increasing the availability of helicopters for flights, instead of being grounded.\n",
    "* A personal desire to promote an issue that has greatly influenced, and still affects, the service experience of many others and mine.\n",
    "* Proof of concept of performing such analysis work, outside the Air Force, allowing additional squadrons to take the same road. This may also allow further un-classified data to be analysed outside the Air Force, offering an outsourced way of doing these kinds of jobs."
   ]
  },
  {
   "cell_type": "markdown",
   "metadata": {
    "direction": "ltr"
   },
   "source": [
    "## 2. Domain-specifc Background"
   ]
  },
  {
   "cell_type": "markdown",
   "metadata": {
    "direction": "ltr"
   },
   "source": [
    "### 2.1 Technical Departments"
   ]
  },
  {
   "cell_type": "markdown",
   "metadata": {
    "direction": "ltr"
   },
   "source": [
    "Helicopter’s maintenance routines are being performed by different technical departments:\n",
    "\n",
    "* **Class A** - a part of the squadron's chain of command, this department is responsible for the weekly and daily maintenance routines. This department is divided into different teams, each of which is responsible for a different technical domain. In addition, this department personnel are present on site (heliport).\n",
    "\n",
    "\n",
    "* **Class B** - a part of the base's chain of command, this department is responsible for crossing-platforms technical domains. This department personnel are also divided into different teams, with respect to a specific technical domain. There is no overlapping between Class A and Class B responsibilities since each of which is responsible for different maintenance aspects and technical fields. This department personnel are not present on site (heliport) and invited upon request, although specific avionic team members are present prior to planned departures (most of the times).\n",
    "\n",
    "\n",
    "* **Class C** - It will not be discussed in this work, as maintenance routines of this class are being initiated once every X flight hours, outside the squadron's authority.\n",
    "\n",
    "\n",
    "* **Class D** - It will not be discussed in this work, as maintenance routines of this class are being initiated once every X flight hours, outside the squadron's authority.\n",
    "\n",
    "\n",
    "**To summarize** - The reported malfunctions that will be reviewed and analyzed during this work are malfunctions that were reported by Class A personnel as well as the squadron's pilots. In addition, these malfunctions are handled and fixed only by Class A and Class B personnel."
   ]
  },
  {
   "cell_type": "markdown",
   "metadata": {
    "direction": "ltr"
   },
   "source": [
    "### 2.2 Regular Maintenance Routines"
   ]
  },
  {
   "cell_type": "markdown",
   "metadata": {
    "direction": "ltr"
   },
   "source": [
    "* **Weekly routine** - Takes place once every two weeks, or every 25 hours of flight. This is the most comprehensive maintenance routine. For this routine, the examined helicopter stands for a full day (morning to evening) and is not available for flight. During the weekly routine, malfunctions may be discovered that will not be detected in the rest of the maintenance routines, since this routine’s checklist is the most comprehensive one.\n",
    "\n",
    "\n",
    "* **Preflight checking routine** - Takes place before a day of flights. This check is valid for 24 hours or 10 cumulative flight hours (following the check).\n",
    "\n",
    "\n",
    "* **Between flights checking routine** - Takes place between flights. Can be performed up to 5 times within the range of the Preflight check. This routine checklist is shortened comparing to the Preflight checklist. However, the probability of not finding a malfunction during this routine while having it found during the Preflight routine is assumed to be low.\n",
    "\n",
    "\n",
    "* **Crews change routine** - This is a much shorter check comparing to the Between flight routine. This check is performed when the helicopter's auxiliary engine is on (i.e. usually when the pilots are being replaced before the helicopter departs for its next flight). After each landing, a crews change routine is being performed. This routine can be performed up to 5 times within the range of the Preflight check (10 flight hours).\n",
    "\n",
    "\n",
    "* **Strips check** - This is a specific test being performed every 5 hours of flight or every time the auxiliary engine shuts down, categorically. At the end of this check just a specific malfunction can be reported. Based on mechanical aspects, this malfunction is not correlated with weather phenomena.\n",
    "\n",
    "\n",
    "* **Quick check routine** - This is another version of the Between flights routine. It is being implemented mostly at Ramat David base."
   ]
  },
  {
   "cell_type": "markdown",
   "metadata": {
    "direction": "ltr"
   },
   "source": [
    "### 2.3 Weekly Flights Plan"
   ]
  },
  {
   "cell_type": "markdown",
   "metadata": {
    "direction": "ltr"
   },
   "source": [
    "The weekly flights plan dictates the weekly training and maintenance activities (operational activities will not be examined in this work).\n",
    "\n",
    "Sunday - Thursday are the main working days, in which training and maintenance activities are being carried out, in accordance with the weekly flights plan. At Ramat David base, Friday is an additional day in which training and maintenance activities may take place.\n",
    "\n",
    "We shall keep in mind that the foreseen weekly flights plan is the actual one being performed. As in other domains, there is a difference between theory and practice. The weekly flights plan is affected by the weather, helicopters' serviceability, and many other factors. The dataset analyzed here (training sorties) reflects what happened in practice, meaning the actual execution of the plan. Although changes are likely to happen, most of the weekly flights plans are executed as is (referring to the following major building blocks), and just a small friction of them is being changed dramatically (i.e. a day of flights being cancelled). Of course, the number of flying helicopters is likely to be changed, beacuse of malfunctions.\n",
    "\n",
    "As an intro, we would like to distinguish between three major building blocks of a weekly flights plan:\n",
    "\n",
    "1. Maintenance day - no training flight are being planned for this day (only maintenance flights, if needed).\n",
    "\n",
    "\n",
    "2. Day flights – flights are being planned for the morning and noon times.\n",
    "\n",
    "\n",
    "3. Day and Night flights - As the above with an addition of flights at night.\n",
    "\n",
    "\n",
    "Although seems simple, the actual flights plan is much more complicated, and involves many considerations (the actual times, the exact number of participating helicopters, time intervals between flights, etc.). Clustering will be a suitable tool for concluding these based on the training sorties dataset (as planned). "
   ]
  },
  {
   "cell_type": "markdown",
   "metadata": {
    "direction": "ltr"
   },
   "source": [
    "### 2.4 When Do Malfunctions are being Reported?"
   ]
  },
  {
   "cell_type": "markdown",
   "metadata": {
    "direction": "ltr"
   },
   "source": [
    "In general, malfunctions are being reported (i.e registered in the technical department information system) when they are found. \n",
    "\n",
    "There are two ways of finding a malfunction:\n",
    "1. During one of the maintenance routines (technicians).\n",
    "2. Before, after or during a flight (pilots).\n",
    "\n",
    "Not all malfunctions result in a grounded helicopter - malfunctions which have been found during flight, may not require an immediate return to base procedure, thus will be reported and handled just after landing. In both cases, the pilots are the ones hold responsibility for reporting the malfunction after landing.\n",
    "\n",
    "This description raises an important question:\n",
    "\n",
    "**For which time interval shall we look while correlating between a discovered malfunction and reported weather variables?** \n",
    "\n",
    "There is no strict answer to that question. However, after having a high-level understanding of the regular maintenance routines, as well as understanding the fundamentals of a default weekly flights plan, a one can argue that we shall look for a 12 hours weather variables history prior to a reported malfunction during Monday to Thursday. This relies on the assumption that in average, at least a single \"Between flight\" checking routine or one planned flight are assumed to be executed during this time interval.\n",
    "\n",
    "We are left with Sunday. Assuming that most of the helicopters are not being maintained during the weekends, a history of 48 hours is required to truly reflect the weather variables impact on the helicopters' serviceability. \n",
    "\n",
    "These time interval assumptions may be changed after having a deeper understanding of the malfunction’s dataset. \n",
    "\n",
    "In addition, time interval may be selected as another independent variable of the regression model."
   ]
  },
  {
   "cell_type": "markdown",
   "metadata": {
    "direction": "ltr"
   },
   "source": [
    "### 2.5 Squadron's Main Locations"
   ]
  },
  {
   "cell_type": "markdown",
   "metadata": {
    "direction": "ltr"
   },
   "source": [
    "The squadron's main locations are:\n",
    "1. **Ramon Air Force base** - Most of the squadron's helicopters are parked and maintained at this location. Therefore, most of the squadron's flights depart and land at this location. Helicopters spare parts are stored in this location.\n",
    "\n",
    "\n",
    "2. **Ramat David Air Force base** - A small number of helicopters are parked there most of the year, with a small team of Class A personnel. Class B personnel are not present on site (besides members of the avionic team). A limited number of spare parts are present on site, thus a more complicated malfunctions may require specific Class A / Class B personnel and equipment to arrive from Ramon Air Force base."
   ]
  },
  {
   "cell_type": "markdown",
   "metadata": {
    "direction": "ltr"
   },
   "source": [
    "### 2.6 Datasets Intro"
   ]
  },
  {
   "cell_type": "markdown",
   "metadata": {
    "direction": "ltr"
   },
   "source": [
    "During this project I will work with the following four datasets:\n",
    "\n",
    "* Malfunctions Dataset.\n",
    "* Training Sorties Dataset.\n",
    "* Helicopters' Parking Locations Dataset.\n",
    "* Meteorological dataset.\n",
    "\n",
    "I chose to extract only 6 months (per year) data - 3 of them in Winter, and the other 3 in Sumner. This is assumed to be more than enough for this work.\n",
    "\n",
    "In the following sections I will shortly describe each of the above - mainly its origin and characteristics."
   ]
  },
  {
   "cell_type": "markdown",
   "metadata": {
    "direction": "ltr"
   },
   "source": [
    "#### 2.6.1 Malfunctions Dataset"
   ]
  },
  {
   "cell_type": "markdown",
   "metadata": {
    "direction": "ltr"
   },
   "source": [
    "The malfunctions dataset has been extracted from the squadron's technical department information system.\n",
    "\n",
    "This system holds a full documentation of past malfunctions, thus it was my first choice. \n",
    "\n",
    "After multiple conversations made with the point of contact assigned by the squadron's deputy commander, as well as conversations made with Israeli Air Force Cyber Security department (responsible for issuing an approval for extracting the data outside of the Israeli Air Force systems), I chose the following informative attributes to be extracted from that system:\n",
    "\n",
    "1. **Tail number** - each helicopter has been named with a specific number (written on top of its tail). This identifier allows someone to refer to a specific helicopter when needed. \n",
    "\n",
    "\n",
    "2. **System** - the name of the system in which the malfunction has been occurred.\n",
    "\n",
    "\n",
    "3. **Sub system** - the identifier of the syb-system in which the malfunction has been occurred.\n",
    "\n",
    "\n",
    "4. **Registration time** - the timestamp of when the malfunction has been registered.\n",
    "\n",
    "\n",
    "5. **Register profession** - the profession of the malfunction's register.\n",
    "\n",
    "\n",
    "6. **Closing time (after taken care of the malfunction)** - the timestamp of when the malfunction has been closed (fixed).\n",
    "\n",
    "\n",
    "7. **Who had closed the malfunction** - the profession of the person who closed the malfunction.\n",
    "\n",
    "\n",
    "8. **Validated?** - the malfunction was still present while the technician was asked to taken care of it.\n",
    "\n",
    "\n",
    "The malfunctions dataset contains data for both 2019 and 2020, as needed."
   ]
  },
  {
   "cell_type": "markdown",
   "metadata": {
    "direction": "ltr"
   },
   "source": [
    "#### 2.6.2 Training Sorties Dataset"
   ]
  },
  {
   "cell_type": "markdown",
   "metadata": {
    "direction": "ltr"
   },
   "source": [
    "The training sorties dataset has been extracted from a dedicated Israeli Air Force information system.\n",
    "\n",
    "As for the malfunctions dataset, the same approval process took place to have the data extracted outside of the Israeli Air Force systems.\n",
    "\n",
    "The training sorties dataset contains the following attributes:\n",
    "\n",
    "1. **Call sign** - each flight is named with a specific call sign (a name), for which flight control personnel can refer to while in air. This attribute can help us to identify which flights took place at northern Israel, since this flights carry a unique call sign.\n",
    "\n",
    "    Note - This attribute has been changed to a Boolean indicating whether a sortie took place in northern Israel.\n",
    "\n",
    "\n",
    "2. **Departure time** - the timestamp in which the flight departured.\n",
    "\n",
    "\n",
    "3. **Landing time** - the timestamp in which the flight landed. \n",
    "\n",
    "\n",
    "3. **Tail number** - as described above (under the Malfunctions Dataset).\n",
    "\n",
    "\n",
    "Although having the full sorties logs, due to classification matters, only specific sorties can be related to a specific geographical location. Thus, I chose to make the in-air analysis only for flights being departed from Ramat David Air Force base. These flights' syllabus and training areas are fixed and considered un-classified.\n",
    "\n",
    "Please note that rainy days are more common in northern Israel than in its southern parts.\n",
    "15%-20% percent of the documented sorties took place in northern Israel, thus providing a solid base for analysis."
   ]
  },
  {
   "cell_type": "markdown",
   "metadata": {
    "direction": "ltr"
   },
   "source": [
    "#### 2.6.3 Helicopters' Parking Locations Dataset"
   ]
  },
  {
   "cell_type": "markdown",
   "metadata": {
    "direction": "ltr"
   },
   "source": [
    "The helicopter's parking locations dataset has been extracted from a dedicated squadron's information system.\n",
    "\n",
    "As for the malfunctions dataset, the same approval process took place to have the data extracted outside of the Israeli Air Force systems.\n",
    "\n",
    "The helicopters parking locations dataset contains the following attributes:\n",
    "\n",
    "1. **Tail Number** - as described above (under the Malfunctions Dataset).\n",
    "\n",
    "\n",
    "2. **Date** - the date for which the location was registrated.\n",
    "\n",
    "\n",
    "3. **Location** - the specific helicopter's parking location, for this aforementioned specific date.\n",
    "\n",
    "Other than Ramon and Ramat David Air Force bases there are other optional locations, which will be omitted, since malfunctions are not being reported while there."
   ]
  },
  {
   "cell_type": "markdown",
   "metadata": {
    "direction": "ltr"
   },
   "source": [
    "#### 2.6.4 Meteorological dataset"
   ]
  },
  {
   "cell_type": "markdown",
   "metadata": {},
   "source": [
    "While looking for a reliable and accurate meteorological data, I approached to the Israeli Metrological Service (IMS) website. After a short wandering I came across an API allowing authorized personnel to extract a 10 minutes resolution weather data taken by multiple meteorological stations, located all across Israel. \n",
    "\n",
    "Here is a link to the IMS API main web page:"
   ]
  },
  {
   "cell_type": "markdown",
   "metadata": {},
   "source": [
    "https://ims.gov.il/he/ObservationDataAPI"
   ]
  },
  {
   "cell_type": "markdown",
   "metadata": {
    "direction": "ltr"
   },
   "source": [
    "After a small registration process, I got my token, allowing me an access to the desired data. \n",
    "\n",
    "Using the IMS site stations' meta-data, I mapped the closest stations to Ramon and Ramat David Air Force bases (for the parking analysis).\n",
    "\n",
    "In addition, I used the same link to choose the closest stations to the training areas in northern Israel. These are meant to serve us while analysing the weather impacts while in-air.\n",
    "\n",
    "Here is a link to the IMS meteorological stations meta-data Excel sheet:"
   ]
  },
  {
   "cell_type": "markdown",
   "metadata": {},
   "source": [
    "https://ims.data.gov.il/sites/default/files/metadata10minutesIMS_IDENVISTA080218_1.xlsx"
   ]
  },
  {
   "cell_type": "markdown",
   "metadata": {},
   "source": [
    "For the reader convenience, attached is a map which depicts the meteorological stations' locations.\n",
    "\n",
    "\n",
    "The chosen stations for this work are:\n",
    "1. For the parking analysis:\n",
    "\n",
    "    1.1 **SDE BOQER (no. 76).**\n",
    "    \n",
    "    1.2 **NEWE YAAR (no. 23).**\n",
    "    \n",
    "    \n",
    "3. For flights been executed in northern Israel (departed from Ramat David Air Force base):\n",
    "    \n",
    "    3.1 **ZEFAT HAR KENAAN (no. 9).**\n",
    "    \n",
    "    3.2 **ESHHAR (no. 13).**\n",
    "    \n",
    "    3.3 **ELON (no. 6).**\n",
    "    \n",
    "    3.4 **KEFAR BLUM (no. 3).**\n",
    "    \n",
    "    3.5 **MEROM GOLAN PICMAN (no. 4).**\n",
    "    \n",
    "    3.6 **GAMLA (no. 12).**\n",
    "    \n",
    "    3.7 **YAVNEEL (no. 26).**\n",
    "    \n",
    "The meteorological dataset will contain the following attributes (based on the stations' equipment):\n",
    "\n",
    "1. **Temperature** - in Celsius.\n",
    "\n",
    "\n",
    "2. **Wind Velocity and Direction** - in meter per second, and degrees.\n",
    "\n",
    "\n",
    "3. **Relative Humidity** - in %.\n",
    "\n",
    "\n",
    "3. **Rain** - in mmillimeter."
   ]
  },
  {
   "cell_type": "markdown",
   "metadata": {},
   "source": [
    "![Ims_stations](images/Ims_stations.jpg)"
   ]
  },
  {
   "cell_type": "markdown",
   "metadata": {
    "direction": "ltr"
   },
   "source": [
    "## 3. Datasets Pre-processing"
   ]
  },
  {
   "cell_type": "markdown",
   "metadata": {},
   "source": [
    "#### Imports"
   ]
  },
  {
   "cell_type": "code",
   "execution_count": 4,
   "metadata": {},
   "outputs": [],
   "source": [
    "import json\n",
    "import requests\n",
    "import pandas as pd\n",
    "import datetime as dt\n",
    "import numpy as np"
   ]
  },
  {
   "cell_type": "markdown",
   "metadata": {
    "direction": "ltr"
   },
   "source": [
    "###  3.1 Malfunctions Dataset"
   ]
  },
  {
   "cell_type": "markdown",
   "metadata": {
    "direction": "ltr"
   },
   "source": [
    "#### 3.1.1 Reading Israeli Air Force CSV"
   ]
  },
  {
   "cell_type": "markdown",
   "metadata": {},
   "source": [
    "We would like to read the .CSV files received from the Israeli Air Force into Pandas dataframes:"
   ]
  },
  {
   "cell_type": "code",
   "execution_count": 88,
   "metadata": {
    "direction": "rtl"
   },
   "outputs": [],
   "source": [
    "malf_df_2019 = pd.read_csv(\"iaf_datasets/malfunctions_dataset_raw_2019.csv\")\n",
    "malf_df_2020 = pd.read_csv(\"iaf_datasets/malfunctions_dataset_raw_2020.csv\")"
   ]
  },
  {
   "cell_type": "markdown",
   "metadata": {},
   "source": [
    "Let's have a sense of the data just read by randomly sampling 5 rows:"
   ]
  },
  {
   "cell_type": "code",
   "execution_count": 89,
   "metadata": {},
   "outputs": [
    {
     "data": {
      "text/html": [
       "<div>\n",
       "<style scoped>\n",
       "    .dataframe tbody tr th:only-of-type {\n",
       "        vertical-align: middle;\n",
       "    }\n",
       "\n",
       "    .dataframe tbody tr th {\n",
       "        vertical-align: top;\n",
       "    }\n",
       "\n",
       "    .dataframe thead th {\n",
       "        text-align: right;\n",
       "    }\n",
       "</style>\n",
       "<table border=\"1\" class=\"dataframe\">\n",
       "  <thead>\n",
       "    <tr style=\"text-align: right;\">\n",
       "      <th></th>\n",
       "      <th>Tail Number</th>\n",
       "      <th>System</th>\n",
       "      <th>Sub-System</th>\n",
       "      <th>Registration Time</th>\n",
       "      <th>Closing Time</th>\n",
       "      <th>Validated?</th>\n",
       "      <th>Register Profession</th>\n",
       "      <th>Closer Profession</th>\n",
       "    </tr>\n",
       "  </thead>\n",
       "  <tbody>\n",
       "    <tr>\n",
       "      <th>1608</th>\n",
       "      <td>NaN</td>\n",
       "      <td>NaN</td>\n",
       "      <td>NaN</td>\n",
       "      <td>NaN</td>\n",
       "      <td>NaN</td>\n",
       "      <td>NaN</td>\n",
       "      <td>NaN</td>\n",
       "      <td>NaN</td>\n",
       "    </tr>\n",
       "    <tr>\n",
       "      <th>683</th>\n",
       "      <td>828.0</td>\n",
       "      <td>26.0</td>\n",
       "      <td>D</td>\n",
       "      <td>12/06/2019 20:51</td>\n",
       "      <td>12/06/2019 23:01</td>\n",
       "      <td>True</td>\n",
       "      <td>Pilot</td>\n",
       "      <td>Class A Electricity Tech</td>\n",
       "    </tr>\n",
       "    <tr>\n",
       "      <th>1461</th>\n",
       "      <td>837.0</td>\n",
       "      <td>75.0</td>\n",
       "      <td>B</td>\n",
       "      <td>26/08/2019 9:57</td>\n",
       "      <td>26/08/2019 10:50</td>\n",
       "      <td>True</td>\n",
       "      <td>Class A Armament Tech</td>\n",
       "      <td>Class A Tech</td>\n",
       "    </tr>\n",
       "    <tr>\n",
       "      <th>323</th>\n",
       "      <td>801.0</td>\n",
       "      <td>63.0</td>\n",
       "      <td>A</td>\n",
       "      <td>30/01/2019 11:16</td>\n",
       "      <td>30/01/2019 15:02</td>\n",
       "      <td>False</td>\n",
       "      <td>Pilot</td>\n",
       "      <td>Class B Avionics Tech</td>\n",
       "    </tr>\n",
       "    <tr>\n",
       "      <th>361</th>\n",
       "      <td>967.0</td>\n",
       "      <td>74.0</td>\n",
       "      <td>3</td>\n",
       "      <td>04/02/2019 20:31</td>\n",
       "      <td>05/02/2019 11:44</td>\n",
       "      <td>True</td>\n",
       "      <td>Pilot</td>\n",
       "      <td>Class B Avionics Tech</td>\n",
       "    </tr>\n",
       "  </tbody>\n",
       "</table>\n",
       "</div>"
      ],
      "text/plain": [
       "      Tail Number  System Sub-System Registration Time      Closing Time  \\\n",
       "1608          NaN     NaN        NaN               NaN               NaN   \n",
       "683         828.0    26.0          D  12/06/2019 20:51  12/06/2019 23:01   \n",
       "1461        837.0    75.0          B   26/08/2019 9:57  26/08/2019 10:50   \n",
       "323         801.0    63.0          A  30/01/2019 11:16  30/01/2019 15:02   \n",
       "361         967.0    74.0          3  04/02/2019 20:31  05/02/2019 11:44   \n",
       "\n",
       "     Validated?    Register Profession         Closer Profession  \n",
       "1608        NaN                    NaN                       NaN  \n",
       "683        True                  Pilot  Class A Electricity Tech  \n",
       "1461       True  Class A Armament Tech              Class A Tech  \n",
       "323       False                  Pilot     Class B Avionics Tech  \n",
       "361        True                  Pilot     Class B Avionics Tech  "
      ]
     },
     "execution_count": 89,
     "metadata": {},
     "output_type": "execute_result"
    }
   ],
   "source": [
    "malf_df_2019.sample(5)"
   ]
  },
  {
   "cell_type": "code",
   "execution_count": 90,
   "metadata": {},
   "outputs": [
    {
     "data": {
      "text/html": [
       "<div>\n",
       "<style scoped>\n",
       "    .dataframe tbody tr th:only-of-type {\n",
       "        vertical-align: middle;\n",
       "    }\n",
       "\n",
       "    .dataframe tbody tr th {\n",
       "        vertical-align: top;\n",
       "    }\n",
       "\n",
       "    .dataframe thead th {\n",
       "        text-align: right;\n",
       "    }\n",
       "</style>\n",
       "<table border=\"1\" class=\"dataframe\">\n",
       "  <thead>\n",
       "    <tr style=\"text-align: right;\">\n",
       "      <th></th>\n",
       "      <th>Tail Number</th>\n",
       "      <th>System</th>\n",
       "      <th>Sub-System</th>\n",
       "      <th>Registration Time</th>\n",
       "      <th>Closing Time</th>\n",
       "      <th>Validated?</th>\n",
       "      <th>Register Profession</th>\n",
       "      <th>Closer Profession</th>\n",
       "    </tr>\n",
       "  </thead>\n",
       "  <tbody>\n",
       "    <tr>\n",
       "      <th>1100</th>\n",
       "      <td>832.0</td>\n",
       "      <td>90</td>\n",
       "      <td>A</td>\n",
       "      <td>06/07/2020 14:36</td>\n",
       "      <td>06/07/2020 21:53</td>\n",
       "      <td>False</td>\n",
       "      <td>Pilot</td>\n",
       "      <td>Class B Flight Control Tech</td>\n",
       "    </tr>\n",
       "    <tr>\n",
       "      <th>536</th>\n",
       "      <td>961.0</td>\n",
       "      <td>62</td>\n",
       "      <td>F</td>\n",
       "      <td>20/02/2020 15:26</td>\n",
       "      <td>20/02/2020 19:47</td>\n",
       "      <td>True</td>\n",
       "      <td>Pilot</td>\n",
       "      <td>Class B Avionics Tech</td>\n",
       "    </tr>\n",
       "    <tr>\n",
       "      <th>1371</th>\n",
       "      <td>801.0</td>\n",
       "      <td>14</td>\n",
       "      <td>R</td>\n",
       "      <td>28/07/2020 14:11</td>\n",
       "      <td>28/07/2020 22:02</td>\n",
       "      <td>True</td>\n",
       "      <td>Pilot</td>\n",
       "      <td>Class A Tech</td>\n",
       "    </tr>\n",
       "    <tr>\n",
       "      <th>234</th>\n",
       "      <td>828.0</td>\n",
       "      <td>15</td>\n",
       "      <td>C</td>\n",
       "      <td>26/01/2020 16:56</td>\n",
       "      <td>27/01/2020 23:32</td>\n",
       "      <td>True</td>\n",
       "      <td>Pilot</td>\n",
       "      <td>Class A Officer</td>\n",
       "    </tr>\n",
       "    <tr>\n",
       "      <th>1003</th>\n",
       "      <td>842.0</td>\n",
       "      <td>74</td>\n",
       "      <td>R</td>\n",
       "      <td>29/06/2020 22:00</td>\n",
       "      <td>30/06/2020 11:19</td>\n",
       "      <td>True</td>\n",
       "      <td>Pilot</td>\n",
       "      <td>Class A Officer</td>\n",
       "    </tr>\n",
       "  </tbody>\n",
       "</table>\n",
       "</div>"
      ],
      "text/plain": [
       "      Tail Number  System Sub-System Registration Time      Closing Time  \\\n",
       "1100        832.0      90          A  06/07/2020 14:36  06/07/2020 21:53   \n",
       "536         961.0      62          F  20/02/2020 15:26  20/02/2020 19:47   \n",
       "1371        801.0      14          R  28/07/2020 14:11  28/07/2020 22:02   \n",
       "234         828.0      15          C  26/01/2020 16:56  27/01/2020 23:32   \n",
       "1003        842.0      74          R  29/06/2020 22:00  30/06/2020 11:19   \n",
       "\n",
       "      Validated? Register Profession            Closer Profession  \n",
       "1100       False               Pilot  Class B Flight Control Tech  \n",
       "536         True               Pilot        Class B Avionics Tech  \n",
       "1371        True               Pilot                 Class A Tech  \n",
       "234         True               Pilot              Class A Officer  \n",
       "1003        True               Pilot              Class A Officer  "
      ]
     },
     "execution_count": 90,
     "metadata": {},
     "output_type": "execute_result"
    }
   ],
   "source": [
    "malf_df_2020.sample(5)"
   ]
  },
  {
   "cell_type": "markdown",
   "metadata": {},
   "source": [
    "Let's change the 'Tail Number' column values to string format:"
   ]
  },
  {
   "cell_type": "code",
   "execution_count": 91,
   "metadata": {},
   "outputs": [],
   "source": [
    "def change_to_string_format(malf_df):\n",
    "    malf_df['Tail Number'] = malf_df['Tail Number'].apply('{0:g}'.format)\n",
    "\n",
    "change_to_string_format(malf_df_2019)\n",
    "change_to_string_format(malf_df_2020)"
   ]
  },
  {
   "cell_type": "markdown",
   "metadata": {},
   "source": [
    "Now, let's change the registration and closing times to follow the datetime convention:"
   ]
  },
  {
   "cell_type": "code",
   "execution_count": 92,
   "metadata": {},
   "outputs": [],
   "source": [
    "def convert_to_datetime(malf_df):\n",
    "    # Convert to datetime objects.\n",
    "    malf_df['Registration Time'] = pd.to_datetime(malf_df['Registration Time'], dayfirst=True)\n",
    "    malf_df['Closing Time'] = pd.to_datetime(malf_df['Closing Time'], dayfirst=True)\n",
    "\n",
    "# Convert to datetime objects for 2020.\n",
    "convert_to_datetime(malf_df_2019)\n",
    "convert_to_datetime(malf_df_2020)"
   ]
  },
  {
   "cell_type": "markdown",
   "metadata": {},
   "source": [
    "We would like to give meaningful names instead of the current 'System' and 'Sub-System' columns' values:"
   ]
  },
  {
   "cell_type": "code",
   "execution_count": 93,
   "metadata": {},
   "outputs": [],
   "source": [
    "# Determine the system name by its code.\n",
    "def systems_mapping (symbol):\n",
    "    if symbol == 69:\n",
    "        return 'Missiles'\n",
    "    elif symbol == 63:\n",
    "        return 'Nadiv'\n",
    "    elif symbol == 74:\n",
    "        return 'Fire Control'\n",
    "    elif symbol == 21:\n",
    "        return 'Engine Control'\n",
    "    elif symbol == 11:\n",
    "        return 'Fuselage'\n",
    "    elif symbol == 65:\n",
    "        return 'IFF'\n",
    "    elif symbol == 75:\n",
    "        return 'Armament'\n",
    "    elif symbol == 13:\n",
    "        return 'Landing Gears'\n",
    "    elif symbol == 76:\n",
    "        return 'Electronic Warfare'\n",
    "    elif symbol == 41:\n",
    "        return 'Air Conditioning'\n",
    "    elif symbol == 51:\n",
    "        return 'Flight Instruments'\n",
    "    elif symbol == 26:\n",
    "        return 'Transmissions'\n",
    "    elif symbol == 0:\n",
    "        return 'General'\n",
    "    elif symbol == 45:\n",
    "        return 'Hydraulics'\n",
    "    elif symbol == 48:\n",
    "        return 'Air Data'\n",
    "    elif symbol == 49:\n",
    "        return 'Service Systems'\n",
    "    elif symbol == 24:\n",
    "        return 'APU'\n",
    "    elif symbol == 90:\n",
    "        return 'THUMS'\n",
    "    elif symbol == 14:\n",
    "        return 'Flight Controls'\n",
    "    elif symbol == 46:\n",
    "        return 'Fuel'\n",
    "    elif symbol == 22:\n",
    "        return 'Engine'\n",
    "    elif symbol == 42:\n",
    "        return 'Electricity'\n",
    "    elif symbol == 43:\n",
    "        return 'Pitot'\n",
    "    elif symbol == 47:\n",
    "        return 'Pneomatic'\n",
    "    elif symbol == 12:\n",
    "        return 'Cockpit'\n",
    "    elif symbol == 44:\n",
    "        return 'Lighting'\n",
    "    elif symbol == 71:\n",
    "        return 'Navigation'\n",
    "    elif symbol == 70:\n",
    "        return 'Guided Weapon'\n",
    "    elif symbol == 91:\n",
    "        return 'Safety and Rescue'\n",
    "    elif symbol == 96:\n",
    "        return 'Private Equipment'\n",
    "    elif symbol == 95:\n",
    "        return 'Manat'\n",
    "    elif symbol == 28:\n",
    "        return 'Power Shafts'\n",
    "    elif symbol == 62:\n",
    "        return 'Comm'\n",
    "    elif symbol == 15:\n",
    "        return 'Rotors'\n",
    "    elif symbol == 16:\n",
    "        return 'Vibration'\n",
    "    \n",
    "\n",
    "def apply_on_dataframe(malf_df):\n",
    "    malf_df['System'] = malf_df.apply(lambda row: systems_mapping(row['System']), axis=1)\n",
    "\n",
    "apply_on_dataframe(malf_df_2019)\n",
    "apply_on_dataframe(malf_df_2020)"
   ]
  },
  {
   "cell_type": "markdown",
   "metadata": {},
   "source": [
    "We would like to verify that we did not miss any integer value, converting it into a meaningful string:"
   ]
  },
  {
   "cell_type": "code",
   "execution_count": 94,
   "metadata": {},
   "outputs": [
    {
     "name": "stdout",
     "output_type": "stream",
     "text": [
      "{'General', None, 'Nadiv', 'Rotors', 'Cockpit', 'Comm', 'Armament', 'Lighting', 'APU', 'Air Conditioning', 'Private Equipment', 'Flight Controls', 'Missiles', 'IFF', 'Service Systems', 'Engine Control', 'Pneomatic', 'Fire Control', 'Landing Gears', 'Transmissions', 'Vibration', 'Navigation', 'Fuselage', 'Power Shafts', 'Electricity', 'Pitot', 'THUMS', 'Fuel', 'Air Data', 'Hydraulics', 'Flight Instruments', 'Engine', 'Electronic Warfare'}\n"
     ]
    }
   ],
   "source": [
    "systems_set = set(malf_df_2019['System'].unique())\n",
    "\n",
    "for item in malf_df_2020['System'].unique():\n",
    "    systems_set.add(item)\n",
    "    \n",
    "print(systems_set)"
   ]
  },
  {
   "cell_type": "markdown",
   "metadata": {},
   "source": [
    "The sub-system column's codes will remain as is, due to classification issues."
   ]
  },
  {
   "cell_type": "markdown",
   "metadata": {},
   "source": [
    "Let's check for the uniqe values of the register and closer profession's values:"
   ]
  },
  {
   "cell_type": "code",
   "execution_count": 95,
   "metadata": {},
   "outputs": [
    {
     "name": "stdout",
     "output_type": "stream",
     "text": [
      "{'Class A Tech', 'Class A Electricity Tech', 'Class B Flight Control Tech', nan, 'Class A Airborne Mechanic', 'Pilot', 'Class A Officer', 'Class B Armament Comm Tech', 'Class A Heli Struct Sys Tech', 'Class B Avionics Tech', 'Class A Armament Tech', 'Class B Engine Tech', 'Class B Structurer Tech', 'Class B Mechanic'}\n"
     ]
    }
   ],
   "source": [
    "registers_professions_set = set(malf_df_2019['Register Profession'].unique())\n",
    "\n",
    "for item in malf_df_2020['Register Profession'].unique():\n",
    "    registers_professions_set.add(item)\n",
    "    \n",
    "print(registers_professions_set)"
   ]
  },
  {
   "cell_type": "markdown",
   "metadata": {},
   "source": [
    "And now for the tail numbers:"
   ]
  },
  {
   "cell_type": "code",
   "execution_count": 101,
   "metadata": {},
   "outputs": [
    {
     "name": "stdout",
     "output_type": "stream",
     "text": [
      "{'961', '845', '815', '837', '938', '941', '967', '956', '834', '921', '910', '801', '935', '830', '840', '828', '832', '820', '804', '806', '966', '905', '842', '924', '812'}\n"
     ]
    }
   ],
   "source": [
    "tail_numbers_set = set(malf_df_2019['Tail Number'].unique())\n",
    "\n",
    "for item in malf_df_2020['Tail Number'].unique():\n",
    "    tail_numbers_set.add(item)\n",
    "    \n",
    "print(tail_numbers_set)"
   ]
  },
  {
   "cell_type": "markdown",
   "metadata": {},
   "source": [
    "Finally, we would like to verify that closing times are later than registration times:"
   ]
  },
  {
   "cell_type": "code",
   "execution_count": 97,
   "metadata": {},
   "outputs": [],
   "source": [
    "def validate_times(malf_df):\n",
    "    invalid_times = []\n",
    "\n",
    "    # Iterate over 'Registration Time' and 'Closing Time' instances to check for the condition.\n",
    "    for instance in zip(malf_df['Registration Time'], malf_df['Closing Time']):\n",
    "        if instance[0] > instance[1]:\n",
    "            invalid_times.append(instance)\n",
    "\n",
    "    # Print a nice message.\n",
    "    if not invalid_times:\n",
    "        print(\"Closing times are later than registration times!\")\n",
    "    else:\n",
    "        print(\"The following invalid tuples were found: \", invalid_dates)"
   ]
  },
  {
   "cell_type": "code",
   "execution_count": 98,
   "metadata": {},
   "outputs": [
    {
     "name": "stdout",
     "output_type": "stream",
     "text": [
      "Closing times are later than registration times!\n"
     ]
    }
   ],
   "source": [
    "validate_times(malf_df_2019)"
   ]
  },
  {
   "cell_type": "code",
   "execution_count": 99,
   "metadata": {},
   "outputs": [
    {
     "name": "stdout",
     "output_type": "stream",
     "text": [
      "Closing times are later than registration times!\n"
     ]
    }
   ],
   "source": [
    "validate_times(malf_df_2020)"
   ]
  },
  {
   "cell_type": "markdown",
   "metadata": {
    "direction": "ltr"
   },
   "source": [
    "#### 3.1.2 Check and Handle Missing Values (if any)"
   ]
  },
  {
   "cell_type": "markdown",
   "metadata": {
    "direction": "ltr"
   },
   "source": [
    "We already understood that we are missing some values. We don't have a straight forward and relevant way to complete those, so we will just drop them:"
   ]
  },
  {
   "cell_type": "code",
   "execution_count": 100,
   "metadata": {},
   "outputs": [],
   "source": [
    "def clean_nans(malf_df):\n",
    "    # Tail Number attribute has been converted to String, thus we shall assign NaN to the corresponded values first.\n",
    "    malf_df.loc[malf_df['Tail Number'] == 'nan'] = np.nan\n",
    "    malf_df.dropna(inplace = True)\n",
    "\n",
    "\n",
    "clean_nans(malf_df_2019)\n",
    "clean_nans(malf_df_2020)"
   ]
  },
  {
   "cell_type": "markdown",
   "metadata": {},
   "source": [
    "We would like to verify that all reported malfunctions have been registered during Winter (December, January, February) and Summer (June, July, August) months:"
   ]
  },
  {
   "cell_type": "code",
   "execution_count": 103,
   "metadata": {},
   "outputs": [],
   "source": [
    "def validate_dates(malf_df, first_period_starting_date, first_period_ending_date, \n",
    "                   second_period_starting_date, second_period_ending_date):\n",
    "    invalid_dates = []\n",
    "    \n",
    "    # Iterate over 'Registration Time' instances to check for the condition.\n",
    "    for instance in malf_df['Registration Time']:\n",
    "        if first_period_starting_date <= instance <= first_period_ending_date or \\\n",
    "        second_period_starting_date <= instance <= second_period_ending_date:\n",
    "            invalid_dates.append(instance)\n",
    "\n",
    "    # Print a nice message.\n",
    "    if not invalid_dates:\n",
    "        print(\"All dates are during the specified months!\")\n",
    "    else:\n",
    "        print(\"The following invalid dates were found: \", invalid_dates)"
   ]
  },
  {
   "cell_type": "code",
   "execution_count": 104,
   "metadata": {},
   "outputs": [
    {
     "name": "stdout",
     "output_type": "stream",
     "text": [
      "All dates are during the specified months!\n"
     ]
    }
   ],
   "source": [
    "validate_dates(malf_df_2019, dt.datetime(2019,3,1), dt.datetime(2019,5,31), dt.datetime(2019,9,1), dt.datetime(2019,12,31))"
   ]
  },
  {
   "cell_type": "code",
   "execution_count": 105,
   "metadata": {},
   "outputs": [
    {
     "name": "stdout",
     "output_type": "stream",
     "text": [
      "All dates are during the specified months!\n"
     ]
    }
   ],
   "source": [
    "validate_dates(malf_df_2020, dt.datetime(2020,3,1), dt.datetime(2020,5,31), dt.datetime(2020,9,1), dt.datetime(2020,12,31))"
   ]
  },
  {
   "cell_type": "markdown",
   "metadata": {
    "direction": "ltr"
   },
   "source": [
    "#### 3.1.3 Shaping the Dataset"
   ]
  },
  {
   "cell_type": "markdown",
   "metadata": {
    "direction": "ltr"
   },
   "source": [
    "The only thing we would like to do with the malfunctions dataframes is to add to them another column specifying the malfunction's handling duration:"
   ]
  },
  {
   "cell_type": "code",
   "execution_count": 106,
   "metadata": {},
   "outputs": [],
   "source": [
    "# Calculates the time delta.\n",
    "def calc_time_delta (row):\n",
    "    return row['Closing Time'] - row['Registration Time']\n",
    "\n",
    "def apply_on_dataframe(malf_df):\n",
    "    malf_df['Malfunction Handling Duration'] = malf_df.apply(lambda row: calc_time_delta(row), axis=1)\n",
    "\n",
    "apply_on_dataframe(malf_df_2019)    \n",
    "apply_on_dataframe(malf_df_2020)    "
   ]
  },
  {
   "cell_type": "markdown",
   "metadata": {},
   "source": [
    "Now, we would like to change the columns' order as following:"
   ]
  },
  {
   "cell_type": "code",
   "execution_count": 107,
   "metadata": {},
   "outputs": [],
   "source": [
    "def change_columns_order(malf_df):\n",
    "    malf_df = malf_df[['Tail Number', 'Registration Time', 'Closing Time', \n",
    "                         'Malfunction Handling Duration', 'System', 'Sub-System',\n",
    "                         'Register Profession', 'Closer Profession', 'Validated?']]\n",
    "\n",
    "change_columns_order(malf_df_2019)\n",
    "change_columns_order(malf_df_2020)"
   ]
  },
  {
   "cell_type": "markdown",
   "metadata": {},
   "source": [
    "Finally, let's change the registration and closing times to follow UTC+0, in order them to correspond with the meterological dataframe (as further discussed below):"
   ]
  },
  {
   "cell_type": "code",
   "execution_count": 108,
   "metadata": {},
   "outputs": [],
   "source": [
    "def change_to_utc(given_df, column, winter_time_starting_date, winter_time_ending_date):\n",
    "    given_df.loc[(given_df[column] > winter_time_starting_date) & \\\n",
    "                   (given_df[column] < winter_time_ending_date), column] = \\\n",
    "    given_df.loc[(given_df[column] > winter_time_starting_date) & \\\n",
    "                   (given_df[column] < winter_time_ending_date), column] - dt.timedelta(hours = 2)\n",
    "    \n",
    "    given_df.loc[given_df[column] >= winter_time_ending_date, column] = \\\n",
    "    given_df.loc[given_df[column] >= winter_time_ending_date, column] - dt.timedelta(hours = 3)"
   ]
  },
  {
   "cell_type": "code",
   "execution_count": 109,
   "metadata": {},
   "outputs": [],
   "source": [
    "winter_time_starting_date_2019 = dt.datetime(2018,10,28)\n",
    "winter_time_ending_date_2019 = dt.datetime(2019,3,29)\n",
    "winter_time_starting_date_2020 = dt.datetime(2019,10,27)\n",
    "winter_time_ending_date_2020 = dt.datetime(2020,3,27)"
   ]
  },
  {
   "cell_type": "code",
   "execution_count": 110,
   "metadata": {},
   "outputs": [],
   "source": [
    "change_to_utc(malf_df_2019, 'Registration Time', winter_time_starting_date_2019, winter_time_ending_date_2019)\n",
    "change_to_utc(malf_df_2019, 'Closing Time', winter_time_starting_date_2019, winter_time_ending_date_2019)"
   ]
  },
  {
   "cell_type": "code",
   "execution_count": 111,
   "metadata": {},
   "outputs": [],
   "source": [
    "change_to_utc(malf_df_2020, 'Registration Time', winter_time_starting_date_2020, winter_time_ending_date_2020)\n",
    "change_to_utc(malf_df_2020, 'Closing Time', winter_time_starting_date_2020, winter_time_ending_date_2020)"
   ]
  },
  {
   "cell_type": "markdown",
   "metadata": {},
   "source": [
    "Last look on the dataframes before saving them:"
   ]
  },
  {
   "cell_type": "code",
   "execution_count": 112,
   "metadata": {},
   "outputs": [
    {
     "data": {
      "text/html": [
       "<div>\n",
       "<style scoped>\n",
       "    .dataframe tbody tr th:only-of-type {\n",
       "        vertical-align: middle;\n",
       "    }\n",
       "\n",
       "    .dataframe tbody tr th {\n",
       "        vertical-align: top;\n",
       "    }\n",
       "\n",
       "    .dataframe thead th {\n",
       "        text-align: right;\n",
       "    }\n",
       "</style>\n",
       "<table border=\"1\" class=\"dataframe\">\n",
       "  <thead>\n",
       "    <tr style=\"text-align: right;\">\n",
       "      <th></th>\n",
       "      <th>Tail Number</th>\n",
       "      <th>System</th>\n",
       "      <th>Sub-System</th>\n",
       "      <th>Registration Time</th>\n",
       "      <th>Closing Time</th>\n",
       "      <th>Validated?</th>\n",
       "      <th>Register Profession</th>\n",
       "      <th>Closer Profession</th>\n",
       "      <th>Malfunction Handling Duration</th>\n",
       "    </tr>\n",
       "  </thead>\n",
       "  <tbody>\n",
       "    <tr>\n",
       "      <th>972</th>\n",
       "      <td>910</td>\n",
       "      <td>THUMS</td>\n",
       "      <td>A</td>\n",
       "      <td>2019-07-16 14:48:00</td>\n",
       "      <td>2019-07-16 17:23:00</td>\n",
       "      <td>True</td>\n",
       "      <td>Class A Electricity Tech</td>\n",
       "      <td>Class B Flight Control Tech</td>\n",
       "      <td>0 days 02:35:00</td>\n",
       "    </tr>\n",
       "    <tr>\n",
       "      <th>723</th>\n",
       "      <td>910</td>\n",
       "      <td>Cockpit</td>\n",
       "      <td>A</td>\n",
       "      <td>2019-06-18 13:17:00</td>\n",
       "      <td>2019-06-18 13:22:00</td>\n",
       "      <td>True</td>\n",
       "      <td>Class A Heli Struct Sys Tech</td>\n",
       "      <td>Class A Heli Struct Sys Tech</td>\n",
       "      <td>0 days 00:05:00</td>\n",
       "    </tr>\n",
       "    <tr>\n",
       "      <th>454</th>\n",
       "      <td>840</td>\n",
       "      <td>Engine</td>\n",
       "      <td>1</td>\n",
       "      <td>2019-02-13 17:13:00</td>\n",
       "      <td>2019-02-17 13:19:00</td>\n",
       "      <td>True</td>\n",
       "      <td>Class A Electricity Tech</td>\n",
       "      <td>Class A Electricity Tech</td>\n",
       "      <td>3 days 20:06:00</td>\n",
       "    </tr>\n",
       "    <tr>\n",
       "      <th>246</th>\n",
       "      <td>845</td>\n",
       "      <td>Electronic Warfare</td>\n",
       "      <td>W</td>\n",
       "      <td>2019-01-23 10:11:00</td>\n",
       "      <td>2019-01-23 10:26:00</td>\n",
       "      <td>True</td>\n",
       "      <td>Class A Electricity Tech</td>\n",
       "      <td>Class B Avionics Tech</td>\n",
       "      <td>0 days 00:15:00</td>\n",
       "    </tr>\n",
       "    <tr>\n",
       "      <th>658</th>\n",
       "      <td>801</td>\n",
       "      <td>Comm</td>\n",
       "      <td>K</td>\n",
       "      <td>2019-06-11 07:10:00</td>\n",
       "      <td>2019-06-11 08:19:00</td>\n",
       "      <td>True</td>\n",
       "      <td>Class B Avionics Tech</td>\n",
       "      <td>Class B Avionics Tech</td>\n",
       "      <td>0 days 01:09:00</td>\n",
       "    </tr>\n",
       "  </tbody>\n",
       "</table>\n",
       "</div>"
      ],
      "text/plain": [
       "    Tail Number              System Sub-System   Registration Time  \\\n",
       "972         910               THUMS          A 2019-07-16 14:48:00   \n",
       "723         910             Cockpit          A 2019-06-18 13:17:00   \n",
       "454         840              Engine          1 2019-02-13 17:13:00   \n",
       "246         845  Electronic Warfare          W 2019-01-23 10:11:00   \n",
       "658         801                Comm          K 2019-06-11 07:10:00   \n",
       "\n",
       "           Closing Time Validated?           Register Profession  \\\n",
       "972 2019-07-16 17:23:00       True      Class A Electricity Tech   \n",
       "723 2019-06-18 13:22:00       True  Class A Heli Struct Sys Tech   \n",
       "454 2019-02-17 13:19:00       True      Class A Electricity Tech   \n",
       "246 2019-01-23 10:26:00       True      Class A Electricity Tech   \n",
       "658 2019-06-11 08:19:00       True         Class B Avionics Tech   \n",
       "\n",
       "                Closer Profession Malfunction Handling Duration  \n",
       "972   Class B Flight Control Tech               0 days 02:35:00  \n",
       "723  Class A Heli Struct Sys Tech               0 days 00:05:00  \n",
       "454      Class A Electricity Tech               3 days 20:06:00  \n",
       "246         Class B Avionics Tech               0 days 00:15:00  \n",
       "658         Class B Avionics Tech               0 days 01:09:00  "
      ]
     },
     "execution_count": 112,
     "metadata": {},
     "output_type": "execute_result"
    }
   ],
   "source": [
    "malf_df_2019.sample(5)"
   ]
  },
  {
   "cell_type": "code",
   "execution_count": 113,
   "metadata": {},
   "outputs": [
    {
     "data": {
      "text/html": [
       "<div>\n",
       "<style scoped>\n",
       "    .dataframe tbody tr th:only-of-type {\n",
       "        vertical-align: middle;\n",
       "    }\n",
       "\n",
       "    .dataframe tbody tr th {\n",
       "        vertical-align: top;\n",
       "    }\n",
       "\n",
       "    .dataframe thead th {\n",
       "        text-align: right;\n",
       "    }\n",
       "</style>\n",
       "<table border=\"1\" class=\"dataframe\">\n",
       "  <thead>\n",
       "    <tr style=\"text-align: right;\">\n",
       "      <th></th>\n",
       "      <th>Tail Number</th>\n",
       "      <th>System</th>\n",
       "      <th>Sub-System</th>\n",
       "      <th>Registration Time</th>\n",
       "      <th>Closing Time</th>\n",
       "      <th>Validated?</th>\n",
       "      <th>Register Profession</th>\n",
       "      <th>Closer Profession</th>\n",
       "      <th>Malfunction Handling Duration</th>\n",
       "    </tr>\n",
       "  </thead>\n",
       "  <tbody>\n",
       "    <tr>\n",
       "      <th>184</th>\n",
       "      <td>815</td>\n",
       "      <td>Fuselage</td>\n",
       "      <td>G</td>\n",
       "      <td>2020-01-16 11:12:00</td>\n",
       "      <td>2020-01-22 13:14:00</td>\n",
       "      <td>1.0</td>\n",
       "      <td>Class A Heli Struct Sys Tech</td>\n",
       "      <td>Class A Tech</td>\n",
       "      <td>6 days 02:02:00</td>\n",
       "    </tr>\n",
       "    <tr>\n",
       "      <th>1640</th>\n",
       "      <td>812</td>\n",
       "      <td>Comm</td>\n",
       "      <td>I</td>\n",
       "      <td>2020-08-30 14:28:00</td>\n",
       "      <td>2020-08-30 14:29:00</td>\n",
       "      <td>1.0</td>\n",
       "      <td>Class B Avionics Tech</td>\n",
       "      <td>Class B Avionics Tech</td>\n",
       "      <td>0 days 00:01:00</td>\n",
       "    </tr>\n",
       "    <tr>\n",
       "      <th>1994</th>\n",
       "      <td>941</td>\n",
       "      <td>Fuselage</td>\n",
       "      <td>C</td>\n",
       "      <td>2019-12-24 14:20:00</td>\n",
       "      <td>2019-12-24 18:39:00</td>\n",
       "      <td>1.0</td>\n",
       "      <td>Class B Avionics Tech</td>\n",
       "      <td>Class B Structurer Tech</td>\n",
       "      <td>0 days 04:19:00</td>\n",
       "    </tr>\n",
       "    <tr>\n",
       "      <th>1702</th>\n",
       "      <td>830</td>\n",
       "      <td>Rotors</td>\n",
       "      <td>B</td>\n",
       "      <td>2019-12-02 12:17:00</td>\n",
       "      <td>2019-12-03 12:34:00</td>\n",
       "      <td>1.0</td>\n",
       "      <td>Class A Electricity Tech</td>\n",
       "      <td>Class A Heli Struct Sys Tech</td>\n",
       "      <td>1 days 00:17:00</td>\n",
       "    </tr>\n",
       "    <tr>\n",
       "      <th>984</th>\n",
       "      <td>815</td>\n",
       "      <td>Lighting</td>\n",
       "      <td>A</td>\n",
       "      <td>2020-06-28 19:43:00</td>\n",
       "      <td>2020-06-29 06:29:00</td>\n",
       "      <td>1.0</td>\n",
       "      <td>Class A Electricity Tech</td>\n",
       "      <td>Class A Electricity Tech</td>\n",
       "      <td>0 days 10:46:00</td>\n",
       "    </tr>\n",
       "  </tbody>\n",
       "</table>\n",
       "</div>"
      ],
      "text/plain": [
       "     Tail Number    System Sub-System   Registration Time        Closing Time  \\\n",
       "184          815  Fuselage          G 2020-01-16 11:12:00 2020-01-22 13:14:00   \n",
       "1640         812      Comm          I 2020-08-30 14:28:00 2020-08-30 14:29:00   \n",
       "1994         941  Fuselage          C 2019-12-24 14:20:00 2019-12-24 18:39:00   \n",
       "1702         830    Rotors          B 2019-12-02 12:17:00 2019-12-03 12:34:00   \n",
       "984          815  Lighting          A 2020-06-28 19:43:00 2020-06-29 06:29:00   \n",
       "\n",
       "      Validated?           Register Profession             Closer Profession  \\\n",
       "184          1.0  Class A Heli Struct Sys Tech                  Class A Tech   \n",
       "1640         1.0         Class B Avionics Tech         Class B Avionics Tech   \n",
       "1994         1.0         Class B Avionics Tech       Class B Structurer Tech   \n",
       "1702         1.0      Class A Electricity Tech  Class A Heli Struct Sys Tech   \n",
       "984          1.0      Class A Electricity Tech      Class A Electricity Tech   \n",
       "\n",
       "     Malfunction Handling Duration  \n",
       "184                6 days 02:02:00  \n",
       "1640               0 days 00:01:00  \n",
       "1994               0 days 04:19:00  \n",
       "1702               1 days 00:17:00  \n",
       "984                0 days 10:46:00  "
      ]
     },
     "execution_count": 113,
     "metadata": {},
     "output_type": "execute_result"
    }
   ],
   "source": [
    "malf_df_2020.sample(5)"
   ]
  },
  {
   "cell_type": "markdown",
   "metadata": {},
   "source": [
    "Finally, we would like to save the dataframes into a dedicated directory (for a later use):"
   ]
  },
  {
   "cell_type": "code",
   "execution_count": 114,
   "metadata": {},
   "outputs": [],
   "source": [
    "malf_df_2019.to_pickle(\"malfunctions_data_set/malfunctions_dataset_2019.pkl\")\n",
    "malf_df_2020.to_pickle(\"malfunctions_data_set/malfunctions_dataset_2020.pkl\")"
   ]
  },
  {
   "cell_type": "markdown",
   "metadata": {
    "direction": "ltr"
   },
   "source": [
    "###  3.2  Training Sorties Dataset"
   ]
  },
  {
   "cell_type": "markdown",
   "metadata": {
    "direction": "ltr"
   },
   "source": [
    "#### 3.2.1 Reading Israeli Air Force CSV"
   ]
  },
  {
   "cell_type": "markdown",
   "metadata": {
    "direction": "ltr"
   },
   "source": [
    "We would like to read the .CSV files received from the Israeli Air Force into Pandas dataframes:"
   ]
  },
  {
   "cell_type": "code",
   "execution_count": 115,
   "metadata": {},
   "outputs": [],
   "source": [
    "flights_df_2019 = pd.read_csv(\"iaf_datasets/flights_dataset_raw_2019.csv\")\n",
    "flights_df_2020 = pd.read_csv(\"iaf_datasets/flights_dataset_raw_2020.csv\")"
   ]
  },
  {
   "cell_type": "markdown",
   "metadata": {},
   "source": [
    "Let's have a sense of the data just read by randomly sampling 5 rows:"
   ]
  },
  {
   "cell_type": "code",
   "execution_count": 116,
   "metadata": {},
   "outputs": [
    {
     "data": {
      "text/html": [
       "<div>\n",
       "<style scoped>\n",
       "    .dataframe tbody tr th:only-of-type {\n",
       "        vertical-align: middle;\n",
       "    }\n",
       "\n",
       "    .dataframe tbody tr th {\n",
       "        vertical-align: top;\n",
       "    }\n",
       "\n",
       "    .dataframe thead th {\n",
       "        text-align: right;\n",
       "    }\n",
       "</style>\n",
       "<table border=\"1\" class=\"dataframe\">\n",
       "  <thead>\n",
       "    <tr style=\"text-align: right;\">\n",
       "      <th></th>\n",
       "      <th>Northern Flight</th>\n",
       "      <th>Landing Time</th>\n",
       "      <th>Departure Time</th>\n",
       "      <th>Tail Number</th>\n",
       "      <th>Date</th>\n",
       "    </tr>\n",
       "  </thead>\n",
       "  <tbody>\n",
       "    <tr>\n",
       "      <th>672</th>\n",
       "      <td>False</td>\n",
       "      <td>20/01/2019 12:14</td>\n",
       "      <td>20/01/2019 11:04</td>\n",
       "      <td>935</td>\n",
       "      <td>20/01/2019</td>\n",
       "    </tr>\n",
       "    <tr>\n",
       "      <th>372</th>\n",
       "      <td>True</td>\n",
       "      <td>03/02/2019 15:44</td>\n",
       "      <td>03/02/2019 14:34</td>\n",
       "      <td>820</td>\n",
       "      <td>03/02/2019</td>\n",
       "    </tr>\n",
       "    <tr>\n",
       "      <th>816</th>\n",
       "      <td>False</td>\n",
       "      <td>19/02/2019 22:00</td>\n",
       "      <td>19/02/2019 21:10</td>\n",
       "      <td>830</td>\n",
       "      <td>19/02/2019</td>\n",
       "    </tr>\n",
       "    <tr>\n",
       "      <th>409</th>\n",
       "      <td>False</td>\n",
       "      <td>19/12/2018 21:40</td>\n",
       "      <td>19/12/2018 20:30</td>\n",
       "      <td>806</td>\n",
       "      <td>19/12/2018</td>\n",
       "    </tr>\n",
       "    <tr>\n",
       "      <th>1248</th>\n",
       "      <td>False</td>\n",
       "      <td>22/07/2019 19:55</td>\n",
       "      <td>22/07/2019 18:50</td>\n",
       "      <td>924</td>\n",
       "      <td>22/07/2019</td>\n",
       "    </tr>\n",
       "  </tbody>\n",
       "</table>\n",
       "</div>"
      ],
      "text/plain": [
       "      Northern Flight      Landing Time    Departure Time  Tail Number  \\\n",
       "672             False  20/01/2019 12:14  20/01/2019 11:04          935   \n",
       "372              True  03/02/2019 15:44  03/02/2019 14:34          820   \n",
       "816             False  19/02/2019 22:00  19/02/2019 21:10          830   \n",
       "409             False  19/12/2018 21:40  19/12/2018 20:30          806   \n",
       "1248            False  22/07/2019 19:55  22/07/2019 18:50          924   \n",
       "\n",
       "            Date  \n",
       "672   20/01/2019  \n",
       "372   03/02/2019  \n",
       "816   19/02/2019  \n",
       "409   19/12/2018  \n",
       "1248  22/07/2019  "
      ]
     },
     "execution_count": 116,
     "metadata": {},
     "output_type": "execute_result"
    }
   ],
   "source": [
    "flights_df_2019.sample(5)"
   ]
  },
  {
   "cell_type": "code",
   "execution_count": 117,
   "metadata": {},
   "outputs": [
    {
     "data": {
      "text/html": [
       "<div>\n",
       "<style scoped>\n",
       "    .dataframe tbody tr th:only-of-type {\n",
       "        vertical-align: middle;\n",
       "    }\n",
       "\n",
       "    .dataframe tbody tr th {\n",
       "        vertical-align: top;\n",
       "    }\n",
       "\n",
       "    .dataframe thead th {\n",
       "        text-align: right;\n",
       "    }\n",
       "</style>\n",
       "<table border=\"1\" class=\"dataframe\">\n",
       "  <thead>\n",
       "    <tr style=\"text-align: right;\">\n",
       "      <th></th>\n",
       "      <th>Northern Flight</th>\n",
       "      <th>Landing Time</th>\n",
       "      <th>Departure Time</th>\n",
       "      <th>Tail Number</th>\n",
       "      <th>Date</th>\n",
       "    </tr>\n",
       "  </thead>\n",
       "  <tbody>\n",
       "    <tr>\n",
       "      <th>937</th>\n",
       "      <td>False</td>\n",
       "      <td>26/02/2020 13:25</td>\n",
       "      <td>26/02/2020 13:10</td>\n",
       "      <td>830</td>\n",
       "      <td>26/02/2020</td>\n",
       "    </tr>\n",
       "    <tr>\n",
       "      <th>715</th>\n",
       "      <td>False</td>\n",
       "      <td>29/01/2020 16:06</td>\n",
       "      <td>29/01/2020 15:16</td>\n",
       "      <td>961</td>\n",
       "      <td>29/01/2020</td>\n",
       "    </tr>\n",
       "    <tr>\n",
       "      <th>258</th>\n",
       "      <td>False</td>\n",
       "      <td>12/02/2020 12:11</td>\n",
       "      <td>12/02/2020 11:26</td>\n",
       "      <td>804</td>\n",
       "      <td>12/02/2020</td>\n",
       "    </tr>\n",
       "    <tr>\n",
       "      <th>1963</th>\n",
       "      <td>False</td>\n",
       "      <td>15/06/2020 20:09</td>\n",
       "      <td>15/06/2020 19:19</td>\n",
       "      <td>812</td>\n",
       "      <td>15/06/2020</td>\n",
       "    </tr>\n",
       "    <tr>\n",
       "      <th>2129</th>\n",
       "      <td>False</td>\n",
       "      <td>03/08/2020 18:10</td>\n",
       "      <td>03/08/2020 17:20</td>\n",
       "      <td>806</td>\n",
       "      <td>03/08/2020</td>\n",
       "    </tr>\n",
       "  </tbody>\n",
       "</table>\n",
       "</div>"
      ],
      "text/plain": [
       "      Northern Flight      Landing Time    Departure Time  Tail Number  \\\n",
       "937             False  26/02/2020 13:25  26/02/2020 13:10          830   \n",
       "715             False  29/01/2020 16:06  29/01/2020 15:16          961   \n",
       "258             False  12/02/2020 12:11  12/02/2020 11:26          804   \n",
       "1963            False  15/06/2020 20:09  15/06/2020 19:19          812   \n",
       "2129            False  03/08/2020 18:10  03/08/2020 17:20          806   \n",
       "\n",
       "            Date  \n",
       "937   26/02/2020  \n",
       "715   29/01/2020  \n",
       "258   12/02/2020  \n",
       "1963  15/06/2020  \n",
       "2129  03/08/2020  "
      ]
     },
     "execution_count": 117,
     "metadata": {},
     "output_type": "execute_result"
    }
   ],
   "source": [
    "flights_df_2020.sample(5)"
   ]
  },
  {
   "cell_type": "markdown",
   "metadata": {},
   "source": [
    "We would like to set the \"Tail Number\" column as the dataframes' index:"
   ]
  },
  {
   "cell_type": "code",
   "execution_count": 118,
   "metadata": {},
   "outputs": [],
   "source": [
    "def set_tail_number_as_index(flights_df):\n",
    "    flights_df.set_index('Tail Number', inplace = True)\n",
    "\n",
    "set_tail_number_as_index(flights_df_2019)\n",
    "set_tail_number_as_index(flights_df_2020)"
   ]
  },
  {
   "cell_type": "markdown",
   "metadata": {},
   "source": [
    "Let's drop the \"Date\" column, since this data is already a part of the landing and departure times:"
   ]
  },
  {
   "cell_type": "code",
   "execution_count": 119,
   "metadata": {},
   "outputs": [],
   "source": [
    "def drop_date_cloumn(flights_df):\n",
    "    flights_df.drop(columns = [\"Date\"], inplace = True)\n",
    "\n",
    "drop_date_cloumn(flights_df_2019)\n",
    "drop_date_cloumn(flights_df_2020)"
   ]
  },
  {
   "cell_type": "markdown",
   "metadata": {},
   "source": [
    "Finally, we would like to change the departure and landing times to follow the datetime convention:"
   ]
  },
  {
   "cell_type": "code",
   "execution_count": 120,
   "metadata": {},
   "outputs": [],
   "source": [
    "def convert_to_datetime(flights_df):\n",
    "    flights_df['Departure Time'] = pd.to_datetime(flights_df['Departure Time'], dayfirst=True)\n",
    "    flights_df['Landing Time'] = pd.to_datetime(flights_df['Landing Time'], dayfirst=True)\n",
    "\n",
    "convert_to_datetime(flights_df_2019)\n",
    "convert_to_datetime(flights_df_2020)"
   ]
  },
  {
   "cell_type": "markdown",
   "metadata": {
    "direction": "ltr"
   },
   "source": [
    "#### 3.2.2 Check and Handle Missing Values (if any)"
   ]
  },
  {
   "cell_type": "markdown",
   "metadata": {
    "direction": "ltr"
   },
   "source": [
    "We would like to understand if our dataframes have missing values (NaNs):"
   ]
  },
  {
   "cell_type": "code",
   "execution_count": 121,
   "metadata": {},
   "outputs": [
    {
     "data": {
      "text/plain": [
       "Northern Flight    0\n",
       "Landing Time       0\n",
       "Departure Time     0\n",
       "dtype: int64"
      ]
     },
     "execution_count": 121,
     "metadata": {},
     "output_type": "execute_result"
    }
   ],
   "source": [
    "flights_df_2019.isnull().sum()"
   ]
  },
  {
   "cell_type": "code",
   "execution_count": 122,
   "metadata": {},
   "outputs": [
    {
     "data": {
      "text/plain": [
       "Northern Flight    0\n",
       "Landing Time       0\n",
       "Departure Time     0\n",
       "dtype: int64"
      ]
     },
     "execution_count": 122,
     "metadata": {},
     "output_type": "execute_result"
    }
   ],
   "source": [
    "flights_df_2020.isnull().sum()"
   ]
  },
  {
   "cell_type": "markdown",
   "metadata": {},
   "source": [
    "Based on my past experience, I expect 15% - 20% of sorties to have the 'Northern Israel' flag set True:"
   ]
  },
  {
   "cell_type": "code",
   "execution_count": 123,
   "metadata": {},
   "outputs": [
    {
     "name": "stdout",
     "output_type": "stream",
     "text": [
      "2019 Statistics:\n",
      "Northern Flight    15.986395\n",
      "Landing Time       15.986395\n",
      "Departure Time     15.986395\n",
      "dtype: float64\n",
      "\n",
      "2020 Statistics:\n",
      "Northern Flight    16.318962\n",
      "Landing Time       16.318962\n",
      "Departure Time     16.318962\n",
      "dtype: float64\n"
     ]
    }
   ],
   "source": [
    "def calc_northern_israel_prec(flights_df):\n",
    "    print((flights_df[flights_df['Northern Flight'] == True].count() / flights_df.count()) * 100)\n",
    "\n",
    "print(\"2019 Statistics:\")\n",
    "calc_northern_israel_prec(flights_df_2019)\n",
    "\n",
    "print(\"\\n2020 Statistics:\")\n",
    "calc_northern_israel_prec(flights_df_2020)"
   ]
  },
  {
   "cell_type": "markdown",
   "metadata": {},
   "source": [
    "We would like to verify that all sorties took place during Winter(December, January, February) and Summer (June, July, August) months:"
   ]
  },
  {
   "cell_type": "code",
   "execution_count": 126,
   "metadata": {},
   "outputs": [],
   "source": [
    "def validator(flights_df, column_name, first_period_starting_date, first_period_ending_date, \n",
    "              second_period_starting_date, second_period_ending_date):\n",
    "    \n",
    "    invalid_dates = []\n",
    "\n",
    "    # Iterate over the column's instances to check for the condition.\n",
    "    for instance in flights_df[column_name]:\n",
    "        if first_period_starting_date <= instance <= first_period_ending_date or \\\n",
    "         second_period_starting_date <= instance <= second_period_ending_date:\n",
    "            invalid_dates.append(instance)\n",
    "\n",
    "    return invalid_dates\n",
    "        \n",
    "        \n",
    "def validate_dates(flights_df, first_period_starting_date, first_period_ending_date, \n",
    "                   second_period_starting_date, second_period_ending_date):\n",
    "                   \n",
    "    # Use the Validator method to validate the dates.\n",
    "    invalid_dates_departure = validator(flights_df, 'Departure Time', first_period_starting_date, first_period_ending_date, \n",
    "                              second_period_starting_date, second_period_ending_date)\n",
    "    invalid_dates_landing = validator(flights_df, 'Landing Time', first_period_starting_date, first_period_ending_date, \n",
    "                              second_period_starting_date, second_period_ending_date)\n",
    "                   \n",
    "    # Print a nice message.\n",
    "    if not invalid_dates_departure and not invalid_dates_landing:\n",
    "        print(\"All dates are during the specified months!\")\n",
    "    else:\n",
    "        print(\"The following invalid dates were found: \", invalid_dates_departure, invalid_dates_landing) "
   ]
  },
  {
   "cell_type": "code",
   "execution_count": 127,
   "metadata": {},
   "outputs": [
    {
     "name": "stdout",
     "output_type": "stream",
     "text": [
      "All dates are during the specified months!\n"
     ]
    }
   ],
   "source": [
    "validate_dates(flights_df_2019, dt.datetime(2019,3,1), dt.datetime(2019,5,31), dt.datetime(2019,9,1), dt.datetime(2019,12,31))"
   ]
  },
  {
   "cell_type": "code",
   "execution_count": 128,
   "metadata": {},
   "outputs": [
    {
     "name": "stdout",
     "output_type": "stream",
     "text": [
      "All dates are during the specified months!\n"
     ]
    }
   ],
   "source": [
    "validate_dates(flights_df_2020, dt.datetime(2020,3,1), dt.datetime(2020,5,31), dt.datetime(2020,9,1), dt.datetime(2020,12,31))"
   ]
  },
  {
   "cell_type": "markdown",
   "metadata": {},
   "source": [
    "Finally, we would like to verify that landing times are later than departure times:"
   ]
  },
  {
   "cell_type": "code",
   "execution_count": 129,
   "metadata": {},
   "outputs": [],
   "source": [
    "def validate_times(flights_df):\n",
    "    invalid_times = []\n",
    "\n",
    "    # Iterate over 'Departure Time' and 'Landing Time' instances to check for the condition.\n",
    "    for instance in zip(flights_df['Departure Time'], flights_df['Landing Time']):\n",
    "        if instance[0] > instance[1]:\n",
    "            invalid_times.append(instance)\n",
    "\n",
    "\n",
    "    # Print a nice message.\n",
    "    if not invalid_times:\n",
    "        print(\"Landing times are later than departure times!\")\n",
    "    else:\n",
    "        print(\"The following invalid tuples were found: \", invalid_dates)"
   ]
  },
  {
   "cell_type": "code",
   "execution_count": 130,
   "metadata": {},
   "outputs": [
    {
     "name": "stdout",
     "output_type": "stream",
     "text": [
      "Landing times are later than departure times!\n"
     ]
    }
   ],
   "source": [
    "validate_times(flights_df_2019)"
   ]
  },
  {
   "cell_type": "code",
   "execution_count": 131,
   "metadata": {},
   "outputs": [
    {
     "name": "stdout",
     "output_type": "stream",
     "text": [
      "Landing times are later than departure times!\n"
     ]
    }
   ],
   "source": [
    "validate_times(flights_df_2020)"
   ]
  },
  {
   "cell_type": "markdown",
   "metadata": {
    "direction": "ltr"
   },
   "source": [
    "#### 3.2.3 Shaping the Dataset"
   ]
  },
  {
   "cell_type": "markdown",
   "metadata": {
    "direction": "ltr"
   },
   "source": [
    "The only thing we would like to do with the training sorties dataframes is to add to them another column for the flight's duration:"
   ]
  },
  {
   "cell_type": "code",
   "execution_count": 132,
   "metadata": {},
   "outputs": [],
   "source": [
    "# Calculates the time delta.\n",
    "def calc_time_delta (row):\n",
    "    return row['Landing Time'] - row['Departure Time']\n",
    "\n",
    "# Apply on Dataframe.\n",
    "def apply_on_dataframe(flights_df):\n",
    "    flights_df['Flight Duration'] = flights_df.apply(lambda row: calc_time_delta(row), axis=1)\n",
    "    \n",
    "apply_on_dataframe(flights_df_2019)\n",
    "apply_on_dataframe(flights_df_2020)"
   ]
  },
  {
   "cell_type": "markdown",
   "metadata": {},
   "source": [
    "The squadron flies about ~4000 hours per year. Therefore, we are expecting ~2000 hours totally:"
   ]
  },
  {
   "cell_type": "code",
   "execution_count": 133,
   "metadata": {},
   "outputs": [
    {
     "name": "stdout",
     "output_type": "stream",
     "text": [
      "Total flights' hours reported in 2019: 1542.6833333333334\n",
      "Total flights' hours reported in 2020: 1845.8333333333333\n"
     ]
    }
   ],
   "source": [
    "def print_annually_flight_hours(flights_df, year):\n",
    "    print(\"Total flights' hours reported in {0}: {1}\".format(year ,flights_df['Flight Duration'].sum().total_seconds() / 3600))\n",
    "    \n",
    "print_annually_flight_hours(flights_df_2019, 2019)\n",
    "print_annually_flight_hours(flights_df_2020, 2020)"
   ]
  },
  {
   "cell_type": "markdown",
   "metadata": {},
   "source": [
    "It seems that the squadron flew less than expected during the reviewed part of 2019."
   ]
  },
  {
   "cell_type": "markdown",
   "metadata": {},
   "source": [
    "Now, we would like to change the columns order as following:"
   ]
  },
  {
   "cell_type": "code",
   "execution_count": 134,
   "metadata": {},
   "outputs": [],
   "source": [
    "def change_columns_order(flights_df):\n",
    "    flights_df = flights_df[['Departure Time', 'Landing Time', 'Flight Duration', 'Northern Flight']]\n",
    "    \n",
    "change_columns_order(flights_df_2019)\n",
    "change_columns_order(flights_df_2020)"
   ]
  },
  {
   "cell_type": "markdown",
   "metadata": {},
   "source": [
    "Finally, let's change the departure and landing times to follow UTC+0, in order them to correspond with the meterological dataframe (as further discussed below):\n",
    "\n",
    "Note - the method to be used was written under the \"Malfunctions Dataset\" section."
   ]
  },
  {
   "cell_type": "code",
   "execution_count": 135,
   "metadata": {},
   "outputs": [],
   "source": [
    "change_to_utc(flights_df_2019, 'Departure Time', winter_time_starting_date_2019, winter_time_ending_date_2019)\n",
    "change_to_utc(flights_df_2019, 'Landing Time', winter_time_starting_date_2019, winter_time_ending_date_2019)"
   ]
  },
  {
   "cell_type": "code",
   "execution_count": 136,
   "metadata": {},
   "outputs": [],
   "source": [
    "change_to_utc(flights_df_2020, 'Departure Time', winter_time_starting_date_2020, winter_time_ending_date_2020)\n",
    "change_to_utc(flights_df_2020, 'Landing Time', winter_time_starting_date_2020, winter_time_ending_date_2020)"
   ]
  },
  {
   "cell_type": "markdown",
   "metadata": {},
   "source": [
    "Last look on the dataframes before saving them:"
   ]
  },
  {
   "cell_type": "code",
   "execution_count": 137,
   "metadata": {},
   "outputs": [
    {
     "data": {
      "text/html": [
       "<div>\n",
       "<style scoped>\n",
       "    .dataframe tbody tr th:only-of-type {\n",
       "        vertical-align: middle;\n",
       "    }\n",
       "\n",
       "    .dataframe tbody tr th {\n",
       "        vertical-align: top;\n",
       "    }\n",
       "\n",
       "    .dataframe thead th {\n",
       "        text-align: right;\n",
       "    }\n",
       "</style>\n",
       "<table border=\"1\" class=\"dataframe\">\n",
       "  <thead>\n",
       "    <tr style=\"text-align: right;\">\n",
       "      <th></th>\n",
       "      <th>Northern Flight</th>\n",
       "      <th>Landing Time</th>\n",
       "      <th>Departure Time</th>\n",
       "      <th>Flight Duration</th>\n",
       "    </tr>\n",
       "    <tr>\n",
       "      <th>Tail Number</th>\n",
       "      <th></th>\n",
       "      <th></th>\n",
       "      <th></th>\n",
       "      <th></th>\n",
       "    </tr>\n",
       "  </thead>\n",
       "  <tbody>\n",
       "    <tr>\n",
       "      <th>924</th>\n",
       "      <td>False</td>\n",
       "      <td>2019-07-22 18:41:00</td>\n",
       "      <td>2019-07-22 17:56:00</td>\n",
       "      <td>0 days 00:45:00</td>\n",
       "    </tr>\n",
       "    <tr>\n",
       "      <th>910</th>\n",
       "      <td>False</td>\n",
       "      <td>2019-08-30 16:19:00</td>\n",
       "      <td>2019-08-30 16:09:00</td>\n",
       "      <td>0 days 00:10:00</td>\n",
       "    </tr>\n",
       "    <tr>\n",
       "      <th>845</th>\n",
       "      <td>False</td>\n",
       "      <td>2019-06-03 09:59:00</td>\n",
       "      <td>2019-06-03 08:44:00</td>\n",
       "      <td>0 days 01:15:00</td>\n",
       "    </tr>\n",
       "    <tr>\n",
       "      <th>921</th>\n",
       "      <td>False</td>\n",
       "      <td>2019-01-28 13:16:00</td>\n",
       "      <td>2019-01-28 12:26:00</td>\n",
       "      <td>0 days 00:50:00</td>\n",
       "    </tr>\n",
       "    <tr>\n",
       "      <th>840</th>\n",
       "      <td>False</td>\n",
       "      <td>2019-08-07 10:49:00</td>\n",
       "      <td>2019-08-07 09:09:00</td>\n",
       "      <td>0 days 01:40:00</td>\n",
       "    </tr>\n",
       "  </tbody>\n",
       "</table>\n",
       "</div>"
      ],
      "text/plain": [
       "             Northern Flight        Landing Time      Departure Time  \\\n",
       "Tail Number                                                            \n",
       "924                    False 2019-07-22 18:41:00 2019-07-22 17:56:00   \n",
       "910                    False 2019-08-30 16:19:00 2019-08-30 16:09:00   \n",
       "845                    False 2019-06-03 09:59:00 2019-06-03 08:44:00   \n",
       "921                    False 2019-01-28 13:16:00 2019-01-28 12:26:00   \n",
       "840                    False 2019-08-07 10:49:00 2019-08-07 09:09:00   \n",
       "\n",
       "            Flight Duration  \n",
       "Tail Number                  \n",
       "924         0 days 00:45:00  \n",
       "910         0 days 00:10:00  \n",
       "845         0 days 01:15:00  \n",
       "921         0 days 00:50:00  \n",
       "840         0 days 01:40:00  "
      ]
     },
     "execution_count": 137,
     "metadata": {},
     "output_type": "execute_result"
    }
   ],
   "source": [
    "flights_df_2019.sample(5)"
   ]
  },
  {
   "cell_type": "code",
   "execution_count": 138,
   "metadata": {},
   "outputs": [
    {
     "data": {
      "text/html": [
       "<div>\n",
       "<style scoped>\n",
       "    .dataframe tbody tr th:only-of-type {\n",
       "        vertical-align: middle;\n",
       "    }\n",
       "\n",
       "    .dataframe tbody tr th {\n",
       "        vertical-align: top;\n",
       "    }\n",
       "\n",
       "    .dataframe thead th {\n",
       "        text-align: right;\n",
       "    }\n",
       "</style>\n",
       "<table border=\"1\" class=\"dataframe\">\n",
       "  <thead>\n",
       "    <tr style=\"text-align: right;\">\n",
       "      <th></th>\n",
       "      <th>Northern Flight</th>\n",
       "      <th>Landing Time</th>\n",
       "      <th>Departure Time</th>\n",
       "      <th>Flight Duration</th>\n",
       "    </tr>\n",
       "    <tr>\n",
       "      <th>Tail Number</th>\n",
       "      <th></th>\n",
       "      <th></th>\n",
       "      <th></th>\n",
       "      <th></th>\n",
       "    </tr>\n",
       "  </thead>\n",
       "  <tbody>\n",
       "    <tr>\n",
       "      <th>828</th>\n",
       "      <td>False</td>\n",
       "      <td>2020-06-01 07:40:00</td>\n",
       "      <td>2020-06-01 07:35:00</td>\n",
       "      <td>0 days 00:05:00</td>\n",
       "    </tr>\n",
       "    <tr>\n",
       "      <th>812</th>\n",
       "      <td>False</td>\n",
       "      <td>2020-07-08 17:52:00</td>\n",
       "      <td>2020-07-08 16:52:00</td>\n",
       "      <td>0 days 01:00:00</td>\n",
       "    </tr>\n",
       "    <tr>\n",
       "      <th>837</th>\n",
       "      <td>False</td>\n",
       "      <td>2020-06-15 17:01:00</td>\n",
       "      <td>2020-06-15 16:01:00</td>\n",
       "      <td>0 days 01:00:00</td>\n",
       "    </tr>\n",
       "    <tr>\n",
       "      <th>812</th>\n",
       "      <td>True</td>\n",
       "      <td>2020-08-02 12:06:00</td>\n",
       "      <td>2020-08-02 10:46:00</td>\n",
       "      <td>0 days 01:20:00</td>\n",
       "    </tr>\n",
       "    <tr>\n",
       "      <th>828</th>\n",
       "      <td>False</td>\n",
       "      <td>2020-06-01 15:02:00</td>\n",
       "      <td>2020-06-01 14:57:00</td>\n",
       "      <td>0 days 00:05:00</td>\n",
       "    </tr>\n",
       "  </tbody>\n",
       "</table>\n",
       "</div>"
      ],
      "text/plain": [
       "             Northern Flight        Landing Time      Departure Time  \\\n",
       "Tail Number                                                            \n",
       "828                    False 2020-06-01 07:40:00 2020-06-01 07:35:00   \n",
       "812                    False 2020-07-08 17:52:00 2020-07-08 16:52:00   \n",
       "837                    False 2020-06-15 17:01:00 2020-06-15 16:01:00   \n",
       "812                     True 2020-08-02 12:06:00 2020-08-02 10:46:00   \n",
       "828                    False 2020-06-01 15:02:00 2020-06-01 14:57:00   \n",
       "\n",
       "            Flight Duration  \n",
       "Tail Number                  \n",
       "828         0 days 00:05:00  \n",
       "812         0 days 01:00:00  \n",
       "837         0 days 01:00:00  \n",
       "812         0 days 01:20:00  \n",
       "828         0 days 00:05:00  "
      ]
     },
     "execution_count": 138,
     "metadata": {},
     "output_type": "execute_result"
    }
   ],
   "source": [
    "flights_df_2020.sample(5)"
   ]
  },
  {
   "cell_type": "markdown",
   "metadata": {},
   "source": [
    "Finally, we would like to save the dataframes into a dedicated directory (for a later use):"
   ]
  },
  {
   "cell_type": "code",
   "execution_count": 139,
   "metadata": {},
   "outputs": [],
   "source": [
    "flights_df_2019.to_pickle(\"helicopters_flights_data_set/flights_dataset_2019.pkl\")\n",
    "flights_df_2020.to_pickle(\"helicopters_flights_data_set/flights_dataset_2020.pkl\")"
   ]
  },
  {
   "cell_type": "markdown",
   "metadata": {
    "direction": "ltr"
   },
   "source": [
    "###  3.3 Helicopters' Parking Locations Dataset"
   ]
  },
  {
   "cell_type": "markdown",
   "metadata": {
    "direction": "ltr"
   },
   "source": [
    "#### 3.3.1 Reading Israeli Air Force CSV"
   ]
  },
  {
   "cell_type": "markdown",
   "metadata": {},
   "source": [
    "We would like to read the .CSV files received from the Israeli Air Force into a Pandas dataframes:"
   ]
  },
  {
   "cell_type": "code",
   "execution_count": 143,
   "metadata": {
    "direction": "rtl"
   },
   "outputs": [],
   "source": [
    "parking_df_2019 = pd.read_csv(\"iaf_datasets/parking_dataset_raw_2019.csv\")\n",
    "parking_df_2020 = pd.read_csv(\"iaf_datasets/parking_dataset_raw_2020.csv\")"
   ]
  },
  {
   "cell_type": "markdown",
   "metadata": {},
   "source": [
    "Let's have a sense of the data just read by randomly sampling 5 rows:"
   ]
  },
  {
   "cell_type": "code",
   "execution_count": 144,
   "metadata": {},
   "outputs": [
    {
     "data": {
      "text/html": [
       "<div>\n",
       "<style scoped>\n",
       "    .dataframe tbody tr th:only-of-type {\n",
       "        vertical-align: middle;\n",
       "    }\n",
       "\n",
       "    .dataframe tbody tr th {\n",
       "        vertical-align: top;\n",
       "    }\n",
       "\n",
       "    .dataframe thead th {\n",
       "        text-align: right;\n",
       "    }\n",
       "</style>\n",
       "<table border=\"1\" class=\"dataframe\">\n",
       "  <thead>\n",
       "    <tr style=\"text-align: right;\">\n",
       "      <th></th>\n",
       "      <th>Unnamed: 0</th>\n",
       "      <th>801</th>\n",
       "      <th>804</th>\n",
       "      <th>806</th>\n",
       "      <th>812</th>\n",
       "      <th>815</th>\n",
       "      <th>820</th>\n",
       "      <th>828</th>\n",
       "      <th>830</th>\n",
       "      <th>832</th>\n",
       "      <th>...</th>\n",
       "      <th>910</th>\n",
       "      <th>921</th>\n",
       "      <th>924</th>\n",
       "      <th>935</th>\n",
       "      <th>938</th>\n",
       "      <th>941</th>\n",
       "      <th>956</th>\n",
       "      <th>961</th>\n",
       "      <th>966</th>\n",
       "      <th>967</th>\n",
       "    </tr>\n",
       "  </thead>\n",
       "  <tbody>\n",
       "    <tr>\n",
       "      <th>323</th>\n",
       "      <td>20/10/2019</td>\n",
       "      <td>25</td>\n",
       "      <td>25</td>\n",
       "      <td>25</td>\n",
       "      <td>25</td>\n",
       "      <td>25</td>\n",
       "      <td>25</td>\n",
       "      <td>25</td>\n",
       "      <td>25</td>\n",
       "      <td>25</td>\n",
       "      <td>...</td>\n",
       "      <td>25</td>\n",
       "      <td>25</td>\n",
       "      <td>25</td>\n",
       "      <td>25</td>\n",
       "      <td>25</td>\n",
       "      <td>25</td>\n",
       "      <td>25</td>\n",
       "      <td>25</td>\n",
       "      <td>25</td>\n",
       "      <td>25</td>\n",
       "    </tr>\n",
       "    <tr>\n",
       "      <th>72</th>\n",
       "      <td>11/02/2019</td>\n",
       "      <td>25</td>\n",
       "      <td>25</td>\n",
       "      <td>1</td>\n",
       "      <td>25</td>\n",
       "      <td>25</td>\n",
       "      <td>1</td>\n",
       "      <td>25</td>\n",
       "      <td>25</td>\n",
       "      <td>25</td>\n",
       "      <td>...</td>\n",
       "      <td>25</td>\n",
       "      <td>25</td>\n",
       "      <td>25</td>\n",
       "      <td>1</td>\n",
       "      <td>25</td>\n",
       "      <td>25</td>\n",
       "      <td>25</td>\n",
       "      <td>1</td>\n",
       "      <td>25</td>\n",
       "      <td>25</td>\n",
       "    </tr>\n",
       "    <tr>\n",
       "      <th>18</th>\n",
       "      <td>19/12/2018</td>\n",
       "      <td>25</td>\n",
       "      <td>25</td>\n",
       "      <td>25</td>\n",
       "      <td>25</td>\n",
       "      <td>25</td>\n",
       "      <td>25</td>\n",
       "      <td>25</td>\n",
       "      <td>25</td>\n",
       "      <td>25</td>\n",
       "      <td>...</td>\n",
       "      <td>25</td>\n",
       "      <td>25</td>\n",
       "      <td>25</td>\n",
       "      <td>25</td>\n",
       "      <td>25</td>\n",
       "      <td>25</td>\n",
       "      <td>25</td>\n",
       "      <td>25</td>\n",
       "      <td>25</td>\n",
       "      <td>25</td>\n",
       "    </tr>\n",
       "    <tr>\n",
       "      <th>8</th>\n",
       "      <td>09/12/2018</td>\n",
       "      <td>1</td>\n",
       "      <td>25</td>\n",
       "      <td>1</td>\n",
       "      <td>1</td>\n",
       "      <td>25</td>\n",
       "      <td>25</td>\n",
       "      <td>25</td>\n",
       "      <td>25</td>\n",
       "      <td>25</td>\n",
       "      <td>...</td>\n",
       "      <td>25</td>\n",
       "      <td>25</td>\n",
       "      <td>25</td>\n",
       "      <td>1</td>\n",
       "      <td>25</td>\n",
       "      <td>25</td>\n",
       "      <td>25</td>\n",
       "      <td>25</td>\n",
       "      <td>25</td>\n",
       "      <td>25</td>\n",
       "    </tr>\n",
       "    <tr>\n",
       "      <th>232</th>\n",
       "      <td>21/07/2019</td>\n",
       "      <td>25</td>\n",
       "      <td>25</td>\n",
       "      <td>25</td>\n",
       "      <td>25</td>\n",
       "      <td>25</td>\n",
       "      <td>25</td>\n",
       "      <td>25</td>\n",
       "      <td>25</td>\n",
       "      <td>25</td>\n",
       "      <td>...</td>\n",
       "      <td>25</td>\n",
       "      <td>25</td>\n",
       "      <td>25</td>\n",
       "      <td>25</td>\n",
       "      <td>25</td>\n",
       "      <td>25</td>\n",
       "      <td>25</td>\n",
       "      <td>25</td>\n",
       "      <td>25</td>\n",
       "      <td>25</td>\n",
       "    </tr>\n",
       "  </tbody>\n",
       "</table>\n",
       "<p>5 rows × 26 columns</p>\n",
       "</div>"
      ],
      "text/plain": [
       "     Unnamed: 0  801  804  806  812  815  820  828  830  832  ...  910  921  \\\n",
       "323  20/10/2019   25   25   25   25   25   25   25   25   25  ...   25   25   \n",
       "72   11/02/2019   25   25    1   25   25    1   25   25   25  ...   25   25   \n",
       "18   19/12/2018   25   25   25   25   25   25   25   25   25  ...   25   25   \n",
       "8    09/12/2018    1   25    1    1   25   25   25   25   25  ...   25   25   \n",
       "232  21/07/2019   25   25   25   25   25   25   25   25   25  ...   25   25   \n",
       "\n",
       "     924  935  938  941  956  961  966  967  \n",
       "323   25   25   25   25   25   25   25   25  \n",
       "72    25    1   25   25   25    1   25   25  \n",
       "18    25   25   25   25   25   25   25   25  \n",
       "8     25    1   25   25   25   25   25   25  \n",
       "232   25   25   25   25   25   25   25   25  \n",
       "\n",
       "[5 rows x 26 columns]"
      ]
     },
     "execution_count": 144,
     "metadata": {},
     "output_type": "execute_result"
    }
   ],
   "source": [
    "parking_df_2019.sample(5)"
   ]
  },
  {
   "cell_type": "code",
   "execution_count": 145,
   "metadata": {},
   "outputs": [
    {
     "data": {
      "text/html": [
       "<div>\n",
       "<style scoped>\n",
       "    .dataframe tbody tr th:only-of-type {\n",
       "        vertical-align: middle;\n",
       "    }\n",
       "\n",
       "    .dataframe tbody tr th {\n",
       "        vertical-align: top;\n",
       "    }\n",
       "\n",
       "    .dataframe thead th {\n",
       "        text-align: right;\n",
       "    }\n",
       "</style>\n",
       "<table border=\"1\" class=\"dataframe\">\n",
       "  <thead>\n",
       "    <tr style=\"text-align: right;\">\n",
       "      <th></th>\n",
       "      <th>Unnamed: 0</th>\n",
       "      <th>801</th>\n",
       "      <th>804</th>\n",
       "      <th>806</th>\n",
       "      <th>812</th>\n",
       "      <th>815</th>\n",
       "      <th>820</th>\n",
       "      <th>828</th>\n",
       "      <th>830</th>\n",
       "      <th>832</th>\n",
       "      <th>...</th>\n",
       "      <th>910</th>\n",
       "      <th>921</th>\n",
       "      <th>924</th>\n",
       "      <th>935</th>\n",
       "      <th>938</th>\n",
       "      <th>941</th>\n",
       "      <th>956</th>\n",
       "      <th>961</th>\n",
       "      <th>966</th>\n",
       "      <th>967</th>\n",
       "    </tr>\n",
       "  </thead>\n",
       "  <tbody>\n",
       "    <tr>\n",
       "      <th>148</th>\n",
       "      <td>27/04/2020</td>\n",
       "      <td>25</td>\n",
       "      <td>25</td>\n",
       "      <td>25</td>\n",
       "      <td>25</td>\n",
       "      <td>25</td>\n",
       "      <td>25</td>\n",
       "      <td>25</td>\n",
       "      <td>25</td>\n",
       "      <td>25</td>\n",
       "      <td>...</td>\n",
       "      <td>25</td>\n",
       "      <td>25</td>\n",
       "      <td>25</td>\n",
       "      <td>25</td>\n",
       "      <td>25</td>\n",
       "      <td>25</td>\n",
       "      <td>25</td>\n",
       "      <td>25</td>\n",
       "      <td>25</td>\n",
       "      <td>25</td>\n",
       "    </tr>\n",
       "    <tr>\n",
       "      <th>308</th>\n",
       "      <td>04/10/2020</td>\n",
       "      <td>25</td>\n",
       "      <td>25</td>\n",
       "      <td>25</td>\n",
       "      <td>25</td>\n",
       "      <td>25</td>\n",
       "      <td>25</td>\n",
       "      <td>25</td>\n",
       "      <td>25</td>\n",
       "      <td>25</td>\n",
       "      <td>...</td>\n",
       "      <td>25</td>\n",
       "      <td>25</td>\n",
       "      <td>25</td>\n",
       "      <td>25</td>\n",
       "      <td>25</td>\n",
       "      <td>1</td>\n",
       "      <td>25</td>\n",
       "      <td>25</td>\n",
       "      <td>1</td>\n",
       "      <td>1</td>\n",
       "    </tr>\n",
       "    <tr>\n",
       "      <th>16</th>\n",
       "      <td>17/12/2019</td>\n",
       "      <td>25</td>\n",
       "      <td>25</td>\n",
       "      <td>25</td>\n",
       "      <td>25</td>\n",
       "      <td>25</td>\n",
       "      <td>25</td>\n",
       "      <td>25</td>\n",
       "      <td>25</td>\n",
       "      <td>1</td>\n",
       "      <td>...</td>\n",
       "      <td>25</td>\n",
       "      <td>25</td>\n",
       "      <td>25</td>\n",
       "      <td>25</td>\n",
       "      <td>25</td>\n",
       "      <td>25</td>\n",
       "      <td>25</td>\n",
       "      <td>25</td>\n",
       "      <td>1</td>\n",
       "      <td>25</td>\n",
       "    </tr>\n",
       "    <tr>\n",
       "      <th>21</th>\n",
       "      <td>22/12/2019</td>\n",
       "      <td>25</td>\n",
       "      <td>25</td>\n",
       "      <td>25</td>\n",
       "      <td>25</td>\n",
       "      <td>25</td>\n",
       "      <td>25</td>\n",
       "      <td>25</td>\n",
       "      <td>25</td>\n",
       "      <td>1</td>\n",
       "      <td>...</td>\n",
       "      <td>25</td>\n",
       "      <td>25</td>\n",
       "      <td>25</td>\n",
       "      <td>25</td>\n",
       "      <td>25</td>\n",
       "      <td>25</td>\n",
       "      <td>25</td>\n",
       "      <td>25</td>\n",
       "      <td>1</td>\n",
       "      <td>25</td>\n",
       "    </tr>\n",
       "    <tr>\n",
       "      <th>355</th>\n",
       "      <td>20/11/2020</td>\n",
       "      <td>25</td>\n",
       "      <td>25</td>\n",
       "      <td>25</td>\n",
       "      <td>25</td>\n",
       "      <td>25</td>\n",
       "      <td>25</td>\n",
       "      <td>25</td>\n",
       "      <td>25</td>\n",
       "      <td>25</td>\n",
       "      <td>...</td>\n",
       "      <td>25</td>\n",
       "      <td>25</td>\n",
       "      <td>25</td>\n",
       "      <td>25</td>\n",
       "      <td>25</td>\n",
       "      <td>25</td>\n",
       "      <td>25</td>\n",
       "      <td>25</td>\n",
       "      <td>25</td>\n",
       "      <td>25</td>\n",
       "    </tr>\n",
       "  </tbody>\n",
       "</table>\n",
       "<p>5 rows × 26 columns</p>\n",
       "</div>"
      ],
      "text/plain": [
       "     Unnamed: 0  801  804  806  812  815  820  828  830  832  ...  910  921  \\\n",
       "148  27/04/2020   25   25   25   25   25   25   25   25   25  ...   25   25   \n",
       "308  04/10/2020   25   25   25   25   25   25   25   25   25  ...   25   25   \n",
       "16   17/12/2019   25   25   25   25   25   25   25   25    1  ...   25   25   \n",
       "21   22/12/2019   25   25   25   25   25   25   25   25    1  ...   25   25   \n",
       "355  20/11/2020   25   25   25   25   25   25   25   25   25  ...   25   25   \n",
       "\n",
       "     924  935  938  941  956  961  966  967  \n",
       "148   25   25   25   25   25   25   25   25  \n",
       "308   25   25   25    1   25   25    1    1  \n",
       "16    25   25   25   25   25   25    1   25  \n",
       "21    25   25   25   25   25   25    1   25  \n",
       "355   25   25   25   25   25   25   25   25  \n",
       "\n",
       "[5 rows x 26 columns]"
      ]
     },
     "execution_count": 145,
     "metadata": {},
     "output_type": "execute_result"
    }
   ],
   "source": [
    "parking_df_2020.sample(5)"
   ]
  },
  {
   "cell_type": "markdown",
   "metadata": {},
   "source": [
    "We would like to change the 'Unnamed: 0' column name to 'Date'. Then, changing it to follow the datetime convention (type). At the end, we would like to set it as the dataframes' index:"
   ]
  },
  {
   "cell_type": "code",
   "execution_count": 146,
   "metadata": {},
   "outputs": [],
   "source": [
    "def manipulate_date_column(parking_df):\n",
    "    parking_df.rename(columns={'Unnamed: 0': 'Date'}, inplace=True)\n",
    "\n",
    "    # Convert to datetime objects.\n",
    "    parking_df['Date'] = pd.to_datetime(parking_df['Date'], dayfirst=True)\n",
    "\n",
    "    parking_df.set_index('Date', inplace=True)\n",
    "\n",
    "manipulate_date_column(parking_df_2019)\n",
    "manipulate_date_column(parking_df_2020)"
   ]
  },
  {
   "cell_type": "markdown",
   "metadata": {
    "direction": "ltr"
   },
   "source": [
    "#### 3.3.2 Check and Handle Missing Values (if any)"
   ]
  },
  {
   "cell_type": "markdown",
   "metadata": {},
   "source": [
    "We would like to understand if our dataframes have missing values (NaNs):"
   ]
  },
  {
   "cell_type": "code",
   "execution_count": 147,
   "metadata": {
    "direction": "rtl"
   },
   "outputs": [
    {
     "data": {
      "text/plain": [
       "801    0\n",
       "804    0\n",
       "806    0\n",
       "812    0\n",
       "815    0\n",
       "820    0\n",
       "828    0\n",
       "830    0\n",
       "832    0\n",
       "834    0\n",
       "837    0\n",
       "840    0\n",
       "842    0\n",
       "845    0\n",
       "905    0\n",
       "910    0\n",
       "921    0\n",
       "924    0\n",
       "935    0\n",
       "938    0\n",
       "941    0\n",
       "956    0\n",
       "961    0\n",
       "966    0\n",
       "967    0\n",
       "dtype: int64"
      ]
     },
     "execution_count": 147,
     "metadata": {},
     "output_type": "execute_result"
    }
   ],
   "source": [
    "parking_df_2019.isnull().sum()"
   ]
  },
  {
   "cell_type": "code",
   "execution_count": 148,
   "metadata": {},
   "outputs": [
    {
     "data": {
      "text/plain": [
       "801    0\n",
       "804    0\n",
       "806    0\n",
       "812    0\n",
       "815    0\n",
       "820    0\n",
       "828    0\n",
       "830    0\n",
       "832    0\n",
       "834    0\n",
       "837    0\n",
       "840    0\n",
       "842    0\n",
       "845    0\n",
       "905    0\n",
       "910    0\n",
       "921    0\n",
       "924    0\n",
       "935    0\n",
       "938    0\n",
       "941    0\n",
       "956    0\n",
       "961    0\n",
       "966    0\n",
       "967    0\n",
       "dtype: int64"
      ]
     },
     "execution_count": 148,
     "metadata": {},
     "output_type": "execute_result"
    }
   ],
   "source": [
    "parking_df_2020.isnull().sum()"
   ]
  },
  {
   "cell_type": "markdown",
   "metadata": {},
   "source": [
    "We would like to print all possible parking locations:"
   ]
  },
  {
   "cell_type": "code",
   "execution_count": 149,
   "metadata": {},
   "outputs": [],
   "source": [
    "def print_parking_locations(parking_df):\n",
    "    parking_locations = []\n",
    "\n",
    "    # Iterate over the columns unique values (except the Date).\n",
    "    for col in parking_df.columns[1:]:\n",
    "        for location in parking_df[col].unique():\n",
    "            parking_locations.append(location)\n",
    "\n",
    "    # Print the set of locations\n",
    "    print('The parking locations reported are:', set(parking_locations))"
   ]
  },
  {
   "cell_type": "code",
   "execution_count": 150,
   "metadata": {},
   "outputs": [
    {
     "name": "stdout",
     "output_type": "stream",
     "text": [
      "The parking locations reported are: {8, 25, 1}\n"
     ]
    }
   ],
   "source": [
    "print_parking_locations(parking_df_2019)"
   ]
  },
  {
   "cell_type": "markdown",
   "metadata": {},
   "source": [
    "We can see that the dataframe contains 3 different locations:\n",
    "\n",
    "1 = Ramat David Air Force base.\n",
    "\n",
    "25 = Ramon Air Force base.\n",
    "\n",
    "8 = Another base. No malfunctions are assumed to be reported while parked there."
   ]
  },
  {
   "cell_type": "markdown",
   "metadata": {},
   "source": [
    "Let's verify that the number of '8's are relatively small (thus not having any effect of the expected analysis):"
   ]
  },
  {
   "cell_type": "code",
   "execution_count": 151,
   "metadata": {},
   "outputs": [],
   "source": [
    "def count_location(parking_df, location):\n",
    "    count = 0\n",
    "\n",
    "    # Iterate over the dataframe and count 10s.\n",
    "    for col in parking_df.columns[1:]:\n",
    "        for value in parking_df[col]:\n",
    "            if value == location:\n",
    "                count += 1\n",
    "\n",
    "    print('The total number of {0}s is: {1}'.format(location, count))"
   ]
  },
  {
   "cell_type": "code",
   "execution_count": 152,
   "metadata": {},
   "outputs": [
    {
     "name": "stdout",
     "output_type": "stream",
     "text": [
      "The total number of 8s is: 13\n"
     ]
    }
   ],
   "source": [
    "count_location(parking_df_2019, 8)"
   ]
  },
  {
   "cell_type": "markdown",
   "metadata": {},
   "source": [
    "Relatively small. We can just ignore these reports for now."
   ]
  },
  {
   "cell_type": "markdown",
   "metadata": {},
   "source": [
    "Let's do the same for 2020 dataframe:"
   ]
  },
  {
   "cell_type": "code",
   "execution_count": 154,
   "metadata": {},
   "outputs": [
    {
     "name": "stdout",
     "output_type": "stream",
     "text": [
      "The parking locations reported are: {25, 10, 1}\n"
     ]
    }
   ],
   "source": [
    "print_parking_locations(parking_df_2020)"
   ]
  },
  {
   "cell_type": "markdown",
   "metadata": {},
   "source": [
    "We can see that the dataframe contains an additional location besides 1 and 25:\n",
    "\n",
    "10 = Another base. No malfunctions are assumed to be reported while parked there."
   ]
  },
  {
   "cell_type": "markdown",
   "metadata": {},
   "source": [
    "Let's verify that the number of '10's are small (thus not having any effect of the expected analysis):"
   ]
  },
  {
   "cell_type": "code",
   "execution_count": 155,
   "metadata": {},
   "outputs": [
    {
     "name": "stdout",
     "output_type": "stream",
     "text": [
      "The total number of 10s is: 8\n"
     ]
    }
   ],
   "source": [
    "count_location(parking_df_2020, 10)"
   ]
  },
  {
   "cell_type": "markdown",
   "metadata": {},
   "source": [
    "Relatively small. We can just ignore these reports for now."
   ]
  },
  {
   "cell_type": "markdown",
   "metadata": {},
   "source": [
    "Finally, we want to make sure that a parking location was reported for each and every data:"
   ]
  },
  {
   "cell_type": "code",
   "execution_count": 157,
   "metadata": {},
   "outputs": [],
   "source": [
    "def confirm_reports(parking_df, start_date, end_date):\n",
    "    # Create a new Dataframe with the speicifed datatime values, and calculate the difference.\n",
    "    res = list(pd.date_range(start = start_date, end = end_date ).difference(parking_df.index))\n",
    "\n",
    "    # Print a nice message.\n",
    "    if not res:\n",
    "        print(\"There are no missing dates!\")\n",
    "    else:\n",
    "        print(res)"
   ]
  },
  {
   "cell_type": "code",
   "execution_count": 158,
   "metadata": {},
   "outputs": [
    {
     "name": "stdout",
     "output_type": "stream",
     "text": [
      "There are no missing dates!\n"
     ]
    }
   ],
   "source": [
    "confirm_reports(parking_df_2019, '2018/12/01', '2019/12/31')"
   ]
  },
  {
   "cell_type": "code",
   "execution_count": 159,
   "metadata": {},
   "outputs": [
    {
     "name": "stdout",
     "output_type": "stream",
     "text": [
      "There are no missing dates!\n"
     ]
    }
   ],
   "source": [
    "confirm_reports(parking_df_2020, '2019/12/01', '2020/12/31')"
   ]
  },
  {
   "cell_type": "markdown",
   "metadata": {
    "direction": "ltr"
   },
   "source": [
    "#### 3.3.3 Shaping the Dataset"
   ]
  },
  {
   "cell_type": "markdown",
   "metadata": {},
   "source": [
    "We would like to reshape our dataframes by melting and setting them another index (\"Tail Number\"):"
   ]
  },
  {
   "cell_type": "code",
   "execution_count": 160,
   "metadata": {
    "direction": "rtl"
   },
   "outputs": [],
   "source": [
    "def shape_dataframe(parking_df):\n",
    "    # Melt.\n",
    "    returned_parking_df = parking_df.melt(ignore_index=False)\n",
    "\n",
    "    # Reanme columns' names.\n",
    "    returned_parking_df.rename(columns={'variable': 'Tail Number', 'value' : 'Parking Location'}, inplace=True)\n",
    "\n",
    "    # Set multi-index.\n",
    "    returned_parking_df.set_index(['Tail Number'], append=True, inplace=True)\n",
    "    return returned_parking_df\n",
    "\n",
    "parking_df_2019 = shape_dataframe(parking_df_2019)\n",
    "parking_df_2020 = shape_dataframe(parking_df_2020)"
   ]
  },
  {
   "cell_type": "markdown",
   "metadata": {},
   "source": [
    "We would like to preserve the selected Winter (December, January, February) and Summer (June, July, August) months, and to omit all others:"
   ]
  },
  {
   "cell_type": "code",
   "execution_count": 161,
   "metadata": {},
   "outputs": [],
   "source": [
    "def delete_unwanted_dates(parking_df, requested_dates_to_delete):\n",
    "    # Iterate over the list, to delete the specified periods.\n",
    "    for period in requested_dates_to_delete:\n",
    "        remove = pd.date_range(start = period[0], end = period[1], freq='D')\n",
    "        parking_df.drop(remove, level=0, inplace=True)"
   ]
  },
  {
   "cell_type": "code",
   "execution_count": 162,
   "metadata": {},
   "outputs": [],
   "source": [
    "dates_to_delete_2019 = [(\"2019/03/01\",\"2019/05/31\"), (\"2019/09/01\",\"2019/12/31\")]\n",
    "delete_unwanted_dates(parking_df_2019, dates_to_delete_2019)"
   ]
  },
  {
   "cell_type": "code",
   "execution_count": 163,
   "metadata": {},
   "outputs": [],
   "source": [
    "dates_to_delete_2020 = [(\"2020/03/01\",\"2020/05/31\"), (\"2020/09/01\",\"2020/12/31\")]\n",
    "delete_unwanted_dates(parking_df_2020, dates_to_delete_2020)"
   ]
  },
  {
   "cell_type": "markdown",
   "metadata": {},
   "source": [
    "Let's randomly sample our reshaped dataframes:"
   ]
  },
  {
   "cell_type": "code",
   "execution_count": 164,
   "metadata": {},
   "outputs": [
    {
     "data": {
      "text/html": [
       "<div>\n",
       "<style scoped>\n",
       "    .dataframe tbody tr th:only-of-type {\n",
       "        vertical-align: middle;\n",
       "    }\n",
       "\n",
       "    .dataframe tbody tr th {\n",
       "        vertical-align: top;\n",
       "    }\n",
       "\n",
       "    .dataframe thead th {\n",
       "        text-align: right;\n",
       "    }\n",
       "</style>\n",
       "<table border=\"1\" class=\"dataframe\">\n",
       "  <thead>\n",
       "    <tr style=\"text-align: right;\">\n",
       "      <th></th>\n",
       "      <th></th>\n",
       "      <th>Parking Location</th>\n",
       "    </tr>\n",
       "    <tr>\n",
       "      <th>Date</th>\n",
       "      <th>Tail Number</th>\n",
       "      <th></th>\n",
       "    </tr>\n",
       "  </thead>\n",
       "  <tbody>\n",
       "    <tr>\n",
       "      <th>2019-06-10</th>\n",
       "      <th>828</th>\n",
       "      <td>25</td>\n",
       "    </tr>\n",
       "    <tr>\n",
       "      <th>2019-08-11</th>\n",
       "      <th>921</th>\n",
       "      <td>25</td>\n",
       "    </tr>\n",
       "    <tr>\n",
       "      <th>2019-02-18</th>\n",
       "      <th>910</th>\n",
       "      <td>25</td>\n",
       "    </tr>\n",
       "    <tr>\n",
       "      <th>2019-01-30</th>\n",
       "      <th>840</th>\n",
       "      <td>25</td>\n",
       "    </tr>\n",
       "    <tr>\n",
       "      <th>2019-02-03</th>\n",
       "      <th>961</th>\n",
       "      <td>25</td>\n",
       "    </tr>\n",
       "  </tbody>\n",
       "</table>\n",
       "</div>"
      ],
      "text/plain": [
       "                        Parking Location\n",
       "Date       Tail Number                  \n",
       "2019-06-10 828                        25\n",
       "2019-08-11 921                        25\n",
       "2019-02-18 910                        25\n",
       "2019-01-30 840                        25\n",
       "2019-02-03 961                        25"
      ]
     },
     "execution_count": 164,
     "metadata": {},
     "output_type": "execute_result"
    }
   ],
   "source": [
    "parking_df_2019.sample(5)"
   ]
  },
  {
   "cell_type": "code",
   "execution_count": 170,
   "metadata": {},
   "outputs": [
    {
     "data": {
      "text/html": [
       "<div>\n",
       "<style scoped>\n",
       "    .dataframe tbody tr th:only-of-type {\n",
       "        vertical-align: middle;\n",
       "    }\n",
       "\n",
       "    .dataframe tbody tr th {\n",
       "        vertical-align: top;\n",
       "    }\n",
       "\n",
       "    .dataframe thead th {\n",
       "        text-align: right;\n",
       "    }\n",
       "</style>\n",
       "<table border=\"1\" class=\"dataframe\">\n",
       "  <thead>\n",
       "    <tr style=\"text-align: right;\">\n",
       "      <th></th>\n",
       "      <th></th>\n",
       "      <th>Parking Location</th>\n",
       "    </tr>\n",
       "    <tr>\n",
       "      <th>Date</th>\n",
       "      <th>Tail Number</th>\n",
       "      <th></th>\n",
       "    </tr>\n",
       "  </thead>\n",
       "  <tbody>\n",
       "    <tr>\n",
       "      <th>2020-02-28</th>\n",
       "      <th>806</th>\n",
       "      <td>1</td>\n",
       "    </tr>\n",
       "    <tr>\n",
       "      <th>2020-08-21</th>\n",
       "      <th>828</th>\n",
       "      <td>25</td>\n",
       "    </tr>\n",
       "    <tr>\n",
       "      <th>2020-07-16</th>\n",
       "      <th>921</th>\n",
       "      <td>25</td>\n",
       "    </tr>\n",
       "    <tr>\n",
       "      <th>2020-07-03</th>\n",
       "      <th>842</th>\n",
       "      <td>25</td>\n",
       "    </tr>\n",
       "    <tr>\n",
       "      <th>2020-02-07</th>\n",
       "      <th>956</th>\n",
       "      <td>25</td>\n",
       "    </tr>\n",
       "  </tbody>\n",
       "</table>\n",
       "</div>"
      ],
      "text/plain": [
       "                        Parking Location\n",
       "Date       Tail Number                  \n",
       "2020-02-28 806                         1\n",
       "2020-08-21 828                        25\n",
       "2020-07-16 921                        25\n",
       "2020-07-03 842                        25\n",
       "2020-02-07 956                        25"
      ]
     },
     "execution_count": 170,
     "metadata": {},
     "output_type": "execute_result"
    }
   ],
   "source": [
    "parking_df_2020.sample(5)"
   ]
  },
  {
   "cell_type": "markdown",
   "metadata": {},
   "source": [
    "Finally, we would like to save the dataframes into a dedicated directory (for a later use):"
   ]
  },
  {
   "cell_type": "code",
   "execution_count": 171,
   "metadata": {},
   "outputs": [],
   "source": [
    "parking_df_2019.to_pickle(\"helicopters_parking_data_set/parking_dataset_2019.pkl\")\n",
    "parking_df_2020.to_pickle(\"helicopters_parking_data_set/parking_dataset_2020.pkl\")"
   ]
  },
  {
   "cell_type": "markdown",
   "metadata": {
    "direction": "ltr"
   },
   "source": [
    "### 3.4 Meteorological dataset"
   ]
  },
  {
   "cell_type": "markdown",
   "metadata": {
    "direction": "ltr"
   },
   "source": [
    "#### 3.4.1 Extract Data from IMS Server"
   ]
  },
  {
   "cell_type": "markdown",
   "metadata": {},
   "source": [
    "As mentioned, we would like to retrieve data for specific metrological stations (as discussed above):"
   ]
  },
  {
   "cell_type": "code",
   "execution_count": 172,
   "metadata": {},
   "outputs": [],
   "source": [
    "# Prepare a list of tuples - Station's name and id.\n",
    "stations_list = [('SEDE BOQER', 98),\n",
    "                 ('NEWE YAAR', 186),\n",
    "                 ('YAVNEEL', 11), \n",
    "                 ('GAMLA', 227),\n",
    "                 ('MEROM GOLAN PICMAN', 10),\n",
    "                 ('KEFAR BLUM', 202),\n",
    "                 ('ELON', 73),\n",
    "                 ('ESHHAR', 205), \n",
    "                 ('ZEFAT HAR KENAAN', 62)]"
   ]
  },
  {
   "cell_type": "markdown",
   "metadata": {},
   "source": [
    "The server returns a full JSON object, contains all of the weather data present for that station. \n",
    "\n",
    "We would like to convert the given data to a nice Pandas dataframe, saving only the relevant attributes:"
   ]
  },
  {
   "cell_type": "code",
   "execution_count": 177,
   "metadata": {},
   "outputs": [],
   "source": [
    "# Use unique token recived from the IMS to retrive data.\n",
    "headers = {'Authorization': 'ApiToken f058958a-d8bd-47cc-95d7-7ecf98610e47'}\n",
    "\n",
    "def extract_ims_data(dates_to_retrive):\n",
    "    # Fill the observations list.\n",
    "    observations_list = []\n",
    "\n",
    "    # Retrive data for the selcted dates.\n",
    "    for date in dates_to_retrive:\n",
    "        print(\"Retrive {} to {} data..\".format(date[0], date[1]))\n",
    "        # Retrive data for every station within the stations list.\n",
    "        for station in stations_list:\n",
    "            url = \"https://api.ims.gov.il/v1/envista/stations/{}/data?from={}&to={}\".format(station[1], date[0], date[1])\n",
    "            # Get JSON from IMS server.\n",
    "            response = requests.request(\"GET\", url, headers=headers)\n",
    "            if response.status_code == requests.codes.ok:\n",
    "                data = json.loads(response.text.encode('utf8'))\n",
    "                # Print to console.\n",
    "                print(\"Succefully retrived {} meterological data from IMS server..\".format(station[0]))\n",
    "            else:\n",
    "                print(\"\\x1b[31mRequest returned with a fault. \\\n",
    "                      Can't retrive {} data from IMS server..\\x1b[0m\".format(station[0]))\n",
    "            # Travel through the JSON to extract the desired features.\n",
    "            for record in data['data']:\n",
    "                single_observation = {'Time': pd.to_datetime(record['datetime']), 'Station Name': station[0]}\n",
    "                for channel in record['channels']:\n",
    "                    if channel['name'] == 'Rain':\n",
    "                        single_observation['Rain'] = channel['value']\n",
    "                    elif channel['name'] == 'RH':\n",
    "                        single_observation['Humidity'] = channel['value']\n",
    "                    elif channel['name'] == 'TD':\n",
    "                        single_observation['Temperature'] = channel['value']\n",
    "                    elif channel['name'] == 'WD':\n",
    "                        single_observation['Wind Direction'] = channel['value']\n",
    "                    elif channel['name'] == 'WS':\n",
    "                        single_observation['Wind Speed'] = channel['value']\n",
    "                observations_list.append(single_observation)\n",
    "\n",
    "    # Create new dataFrame to keep the meterological data.\n",
    "    return pd.DataFrame(observations_list)"
   ]
  },
  {
   "cell_type": "code",
   "execution_count": 178,
   "metadata": {},
   "outputs": [
    {
     "name": "stdout",
     "output_type": "stream",
     "text": [
      "Retrive 2018/12/01 to 2019/02/28 data..\n",
      "Succefully retrived SEDE BOQER meterological data from IMS server..\n",
      "Succefully retrived NEWE YAAR meterological data from IMS server..\n",
      "Succefully retrived YAVNEEL meterological data from IMS server..\n",
      "Succefully retrived GAMLA meterological data from IMS server..\n",
      "Succefully retrived MEROM GOLAN PICMAN meterological data from IMS server..\n",
      "Succefully retrived KEFAR BLUM meterological data from IMS server..\n",
      "Succefully retrived ELON meterological data from IMS server..\n",
      "Succefully retrived ESHHAR meterological data from IMS server..\n",
      "Succefully retrived ZEFAT HAR KENAAN meterological data from IMS server..\n",
      "Retrive 2019/06/01 to 2019/08/31 data..\n",
      "Succefully retrived SEDE BOQER meterological data from IMS server..\n",
      "Succefully retrived NEWE YAAR meterological data from IMS server..\n",
      "Succefully retrived YAVNEEL meterological data from IMS server..\n",
      "Succefully retrived GAMLA meterological data from IMS server..\n",
      "Succefully retrived MEROM GOLAN PICMAN meterological data from IMS server..\n",
      "Succefully retrived KEFAR BLUM meterological data from IMS server..\n",
      "Succefully retrived ELON meterological data from IMS server..\n",
      "Succefully retrived ESHHAR meterological data from IMS server..\n",
      "Succefully retrived ZEFAT HAR KENAAN meterological data from IMS server..\n"
     ]
    }
   ],
   "source": [
    "# Selected dates to retrive from.\n",
    "dates_to_retrive_2019 = [(\"2018/12/01\",\"2019/02/28\"), (\"2019/06/01\",\"2019/08/31\")]\n",
    "\n",
    "meterological_df_2019 = extract_ims_data(dates_to_retrive_2019)"
   ]
  },
  {
   "cell_type": "code",
   "execution_count": 179,
   "metadata": {},
   "outputs": [
    {
     "name": "stdout",
     "output_type": "stream",
     "text": [
      "Retrive 2019/12/01 to 2020/02/29 data..\n",
      "Succefully retrived SEDE BOQER meterological data from IMS server..\n",
      "Succefully retrived NEWE YAAR meterological data from IMS server..\n",
      "Succefully retrived YAVNEEL meterological data from IMS server..\n",
      "Succefully retrived GAMLA meterological data from IMS server..\n",
      "Succefully retrived MEROM GOLAN PICMAN meterological data from IMS server..\n",
      "Succefully retrived KEFAR BLUM meterological data from IMS server..\n",
      "Succefully retrived ELON meterological data from IMS server..\n",
      "Succefully retrived ESHHAR meterological data from IMS server..\n",
      "Succefully retrived ZEFAT HAR KENAAN meterological data from IMS server..\n",
      "Retrive 2020/06/01 to 2020/08/31 data..\n",
      "Succefully retrived SEDE BOQER meterological data from IMS server..\n",
      "Succefully retrived NEWE YAAR meterological data from IMS server..\n",
      "Succefully retrived YAVNEEL meterological data from IMS server..\n",
      "Succefully retrived GAMLA meterological data from IMS server..\n",
      "Succefully retrived MEROM GOLAN PICMAN meterological data from IMS server..\n",
      "Succefully retrived KEFAR BLUM meterological data from IMS server..\n",
      "Succefully retrived ELON meterological data from IMS server..\n",
      "Succefully retrived ESHHAR meterological data from IMS server..\n",
      "Succefully retrived ZEFAT HAR KENAAN meterological data from IMS server..\n"
     ]
    }
   ],
   "source": [
    "# Select dates to retrive from.\n",
    "dates_to_retrive_2020 = [(\"2019/12/01\",\"2020/02/29\"), (\"2020/06/01\",\"2020/08/31\")]\n",
    "\n",
    "meterological_df_2020 = extract_ims_data(dates_to_retrive_2020)"
   ]
  },
  {
   "cell_type": "markdown",
   "metadata": {},
   "source": [
    "Let's have a sense of the data just extarcted by randomly sampling 5 rows:"
   ]
  },
  {
   "cell_type": "code",
   "execution_count": 180,
   "metadata": {},
   "outputs": [
    {
     "data": {
      "text/html": [
       "<div>\n",
       "<style scoped>\n",
       "    .dataframe tbody tr th:only-of-type {\n",
       "        vertical-align: middle;\n",
       "    }\n",
       "\n",
       "    .dataframe tbody tr th {\n",
       "        vertical-align: top;\n",
       "    }\n",
       "\n",
       "    .dataframe thead th {\n",
       "        text-align: right;\n",
       "    }\n",
       "</style>\n",
       "<table border=\"1\" class=\"dataframe\">\n",
       "  <thead>\n",
       "    <tr style=\"text-align: right;\">\n",
       "      <th></th>\n",
       "      <th>Time</th>\n",
       "      <th>Station Name</th>\n",
       "      <th>Rain</th>\n",
       "      <th>Wind Speed</th>\n",
       "      <th>Wind Direction</th>\n",
       "      <th>Temperature</th>\n",
       "      <th>Humidity</th>\n",
       "    </tr>\n",
       "  </thead>\n",
       "  <tbody>\n",
       "    <tr>\n",
       "      <th>95775</th>\n",
       "      <td>2019-01-12 03:50:00+02:00</td>\n",
       "      <td>ESHHAR</td>\n",
       "      <td>0.0</td>\n",
       "      <td>7.4</td>\n",
       "      <td>101.0</td>\n",
       "      <td>9.8</td>\n",
       "      <td>52.0</td>\n",
       "    </tr>\n",
       "    <tr>\n",
       "      <th>125198</th>\n",
       "      <td>2019-08-08 14:30:00+03:00</td>\n",
       "      <td>SEDE BOQER</td>\n",
       "      <td>0.0</td>\n",
       "      <td>4.3</td>\n",
       "      <td>311.0</td>\n",
       "      <td>32.7</td>\n",
       "      <td>31.0</td>\n",
       "    </tr>\n",
       "    <tr>\n",
       "      <th>145591</th>\n",
       "      <td>2019-06-29 12:50:00+03:00</td>\n",
       "      <td>YAVNEEL</td>\n",
       "      <td>0.0</td>\n",
       "      <td>5.9</td>\n",
       "      <td>234.0</td>\n",
       "      <td>33.4</td>\n",
       "      <td>40.0</td>\n",
       "    </tr>\n",
       "    <tr>\n",
       "      <th>53218</th>\n",
       "      <td>2018-12-14 14:20:00+02:00</td>\n",
       "      <td>MEROM GOLAN PICMAN</td>\n",
       "      <td>0.0</td>\n",
       "      <td>2.3</td>\n",
       "      <td>76.0</td>\n",
       "      <td>11.9</td>\n",
       "      <td>59.0</td>\n",
       "    </tr>\n",
       "    <tr>\n",
       "      <th>149659</th>\n",
       "      <td>2019-07-27 20:00:00+03:00</td>\n",
       "      <td>YAVNEEL</td>\n",
       "      <td>0.0</td>\n",
       "      <td>7.2</td>\n",
       "      <td>271.0</td>\n",
       "      <td>28.2</td>\n",
       "      <td>66.0</td>\n",
       "    </tr>\n",
       "  </tbody>\n",
       "</table>\n",
       "</div>"
      ],
      "text/plain": [
       "                             Time        Station Name  Rain  Wind Speed  \\\n",
       "95775   2019-01-12 03:50:00+02:00              ESHHAR   0.0         7.4   \n",
       "125198  2019-08-08 14:30:00+03:00          SEDE BOQER   0.0         4.3   \n",
       "145591  2019-06-29 12:50:00+03:00             YAVNEEL   0.0         5.9   \n",
       "53218   2018-12-14 14:20:00+02:00  MEROM GOLAN PICMAN   0.0         2.3   \n",
       "149659  2019-07-27 20:00:00+03:00             YAVNEEL   0.0         7.2   \n",
       "\n",
       "        Wind Direction  Temperature  Humidity  \n",
       "95775            101.0          9.8      52.0  \n",
       "125198           311.0         32.7      31.0  \n",
       "145591           234.0         33.4      40.0  \n",
       "53218             76.0         11.9      59.0  \n",
       "149659           271.0         28.2      66.0  "
      ]
     },
     "execution_count": 180,
     "metadata": {},
     "output_type": "execute_result"
    }
   ],
   "source": [
    "meterological_df_2019.sample(5)"
   ]
  },
  {
   "cell_type": "code",
   "execution_count": 181,
   "metadata": {},
   "outputs": [
    {
     "data": {
      "text/html": [
       "<div>\n",
       "<style scoped>\n",
       "    .dataframe tbody tr th:only-of-type {\n",
       "        vertical-align: middle;\n",
       "    }\n",
       "\n",
       "    .dataframe tbody tr th {\n",
       "        vertical-align: top;\n",
       "    }\n",
       "\n",
       "    .dataframe thead th {\n",
       "        text-align: right;\n",
       "    }\n",
       "</style>\n",
       "<table border=\"1\" class=\"dataframe\">\n",
       "  <thead>\n",
       "    <tr style=\"text-align: right;\">\n",
       "      <th></th>\n",
       "      <th>Time</th>\n",
       "      <th>Station Name</th>\n",
       "      <th>Rain</th>\n",
       "      <th>Wind Speed</th>\n",
       "      <th>Wind Direction</th>\n",
       "      <th>Temperature</th>\n",
       "      <th>Humidity</th>\n",
       "    </tr>\n",
       "  </thead>\n",
       "  <tbody>\n",
       "    <tr>\n",
       "      <th>81322</th>\n",
       "      <td>2019-12-30 12:30:00+02:00</td>\n",
       "      <td>ELON</td>\n",
       "      <td>0.0</td>\n",
       "      <td>2.1</td>\n",
       "      <td>171.0</td>\n",
       "      <td>14.0</td>\n",
       "      <td>66.0</td>\n",
       "    </tr>\n",
       "    <tr>\n",
       "      <th>134515</th>\n",
       "      <td>2020-07-09 00:30:00+03:00</td>\n",
       "      <td>NEWE YAAR</td>\n",
       "      <td>0.0</td>\n",
       "      <td>0.5</td>\n",
       "      <td>335.0</td>\n",
       "      <td>22.6</td>\n",
       "      <td>94.0</td>\n",
       "    </tr>\n",
       "    <tr>\n",
       "      <th>207880</th>\n",
       "      <td>2020-06-02 13:50:00+03:00</td>\n",
       "      <td>ESHHAR</td>\n",
       "      <td>0.0</td>\n",
       "      <td>8.1</td>\n",
       "      <td>287.0</td>\n",
       "      <td>22.8</td>\n",
       "      <td>67.0</td>\n",
       "    </tr>\n",
       "    <tr>\n",
       "      <th>76279</th>\n",
       "      <td>2020-02-23 10:50:00+02:00</td>\n",
       "      <td>KEFAR BLUM</td>\n",
       "      <td>0.0</td>\n",
       "      <td>1.0</td>\n",
       "      <td>184.0</td>\n",
       "      <td>14.8</td>\n",
       "      <td>72.0</td>\n",
       "    </tr>\n",
       "    <tr>\n",
       "      <th>124870</th>\n",
       "      <td>2020-08-02 00:40:00+03:00</td>\n",
       "      <td>SEDE BOQER</td>\n",
       "      <td>0.0</td>\n",
       "      <td>1.2</td>\n",
       "      <td>293.0</td>\n",
       "      <td>23.0</td>\n",
       "      <td>55.0</td>\n",
       "    </tr>\n",
       "  </tbody>\n",
       "</table>\n",
       "</div>"
      ],
      "text/plain": [
       "                             Time Station Name  Rain  Wind Speed  \\\n",
       "81322   2019-12-30 12:30:00+02:00         ELON   0.0         2.1   \n",
       "134515  2020-07-09 00:30:00+03:00    NEWE YAAR   0.0         0.5   \n",
       "207880  2020-06-02 13:50:00+03:00       ESHHAR   0.0         8.1   \n",
       "76279   2020-02-23 10:50:00+02:00   KEFAR BLUM   0.0         1.0   \n",
       "124870  2020-08-02 00:40:00+03:00   SEDE BOQER   0.0         1.2   \n",
       "\n",
       "        Wind Direction  Temperature  Humidity  \n",
       "81322            171.0         14.0      66.0  \n",
       "134515           335.0         22.6      94.0  \n",
       "207880           287.0         22.8      67.0  \n",
       "76279            184.0         14.8      72.0  \n",
       "124870           293.0         23.0      55.0  "
      ]
     },
     "execution_count": 181,
     "metadata": {},
     "output_type": "execute_result"
    }
   ],
   "source": [
    "meterological_df_2020.sample(5)"
   ]
  },
  {
   "cell_type": "markdown",
   "metadata": {
    "direction": "ltr"
   },
   "source": [
    "#### 3.4.2 Check and Handle Missing Values (if any)"
   ]
  },
  {
   "cell_type": "markdown",
   "metadata": {},
   "source": [
    "First, we would like to understand if our Dataframes have missing values (NaNs), and under which column:"
   ]
  },
  {
   "cell_type": "code",
   "execution_count": 182,
   "metadata": {},
   "outputs": [
    {
     "data": {
      "text/plain": [
       "Time              0\n",
       "Station Name      0\n",
       "Rain              0\n",
       "Wind Speed        0\n",
       "Wind Direction    0\n",
       "Temperature       0\n",
       "Humidity          0\n",
       "dtype: int64"
      ]
     },
     "execution_count": 182,
     "metadata": {},
     "output_type": "execute_result"
    }
   ],
   "source": [
    "meterological_df_2019.isnull().sum()"
   ]
  },
  {
   "cell_type": "code",
   "execution_count": 183,
   "metadata": {},
   "outputs": [
    {
     "data": {
      "text/plain": [
       "Time              0\n",
       "Station Name      0\n",
       "Rain              0\n",
       "Wind Speed        0\n",
       "Wind Direction    0\n",
       "Temperature       0\n",
       "Humidity          0\n",
       "dtype: int64"
      ]
     },
     "execution_count": 183,
     "metadata": {},
     "output_type": "execute_result"
    }
   ],
   "source": [
    "meterological_df_2020.isnull().sum()"
   ]
  },
  {
   "cell_type": "markdown",
   "metadata": {},
   "source": [
    "Second, we would like to get some statistics about the data just extracted, to verify that the data make sense:"
   ]
  },
  {
   "cell_type": "code",
   "execution_count": 184,
   "metadata": {},
   "outputs": [
    {
     "data": {
      "text/html": [
       "<div>\n",
       "<style scoped>\n",
       "    .dataframe tbody tr th:only-of-type {\n",
       "        vertical-align: middle;\n",
       "    }\n",
       "\n",
       "    .dataframe tbody tr th {\n",
       "        vertical-align: top;\n",
       "    }\n",
       "\n",
       "    .dataframe thead th {\n",
       "        text-align: right;\n",
       "    }\n",
       "</style>\n",
       "<table border=\"1\" class=\"dataframe\">\n",
       "  <thead>\n",
       "    <tr style=\"text-align: right;\">\n",
       "      <th></th>\n",
       "      <th>Rain</th>\n",
       "      <th>Wind Speed</th>\n",
       "      <th>Wind Direction</th>\n",
       "      <th>Temperature</th>\n",
       "      <th>Humidity</th>\n",
       "    </tr>\n",
       "  </thead>\n",
       "  <tbody>\n",
       "    <tr>\n",
       "      <th>count</th>\n",
       "      <td>233037.000000</td>\n",
       "      <td>233037.000000</td>\n",
       "      <td>233037.000000</td>\n",
       "      <td>233037.000000</td>\n",
       "      <td>233037.000000</td>\n",
       "    </tr>\n",
       "    <tr>\n",
       "      <th>mean</th>\n",
       "      <td>0.020216</td>\n",
       "      <td>3.297055</td>\n",
       "      <td>212.590057</td>\n",
       "      <td>18.528413</td>\n",
       "      <td>69.460734</td>\n",
       "    </tr>\n",
       "    <tr>\n",
       "      <th>std</th>\n",
       "      <td>0.157005</td>\n",
       "      <td>20.862398</td>\n",
       "      <td>97.816149</td>\n",
       "      <td>22.460735</td>\n",
       "      <td>29.933728</td>\n",
       "    </tr>\n",
       "    <tr>\n",
       "      <th>min</th>\n",
       "      <td>0.000000</td>\n",
       "      <td>-9999.000000</td>\n",
       "      <td>-9999.000000</td>\n",
       "      <td>-9999.000000</td>\n",
       "      <td>-9999.000000</td>\n",
       "    </tr>\n",
       "    <tr>\n",
       "      <th>25%</th>\n",
       "      <td>0.000000</td>\n",
       "      <td>1.400000</td>\n",
       "      <td>122.000000</td>\n",
       "      <td>11.000000</td>\n",
       "      <td>52.000000</td>\n",
       "    </tr>\n",
       "    <tr>\n",
       "      <th>50%</th>\n",
       "      <td>0.000000</td>\n",
       "      <td>2.800000</td>\n",
       "      <td>241.000000</td>\n",
       "      <td>18.600000</td>\n",
       "      <td>72.000000</td>\n",
       "    </tr>\n",
       "    <tr>\n",
       "      <th>75%</th>\n",
       "      <td>0.000000</td>\n",
       "      <td>4.700000</td>\n",
       "      <td>290.000000</td>\n",
       "      <td>25.500000</td>\n",
       "      <td>88.000000</td>\n",
       "    </tr>\n",
       "    <tr>\n",
       "      <th>max</th>\n",
       "      <td>10.600000</td>\n",
       "      <td>22.000000</td>\n",
       "      <td>360.000000</td>\n",
       "      <td>54.400000</td>\n",
       "      <td>100.000000</td>\n",
       "    </tr>\n",
       "  </tbody>\n",
       "</table>\n",
       "</div>"
      ],
      "text/plain": [
       "                Rain     Wind Speed  Wind Direction    Temperature  \\\n",
       "count  233037.000000  233037.000000   233037.000000  233037.000000   \n",
       "mean        0.020216       3.297055      212.590057      18.528413   \n",
       "std         0.157005      20.862398       97.816149      22.460735   \n",
       "min         0.000000   -9999.000000    -9999.000000   -9999.000000   \n",
       "25%         0.000000       1.400000      122.000000      11.000000   \n",
       "50%         0.000000       2.800000      241.000000      18.600000   \n",
       "75%         0.000000       4.700000      290.000000      25.500000   \n",
       "max        10.600000      22.000000      360.000000      54.400000   \n",
       "\n",
       "            Humidity  \n",
       "count  233037.000000  \n",
       "mean       69.460734  \n",
       "std        29.933728  \n",
       "min     -9999.000000  \n",
       "25%        52.000000  \n",
       "50%        72.000000  \n",
       "75%        88.000000  \n",
       "max       100.000000  "
      ]
     },
     "execution_count": 184,
     "metadata": {},
     "output_type": "execute_result"
    }
   ],
   "source": [
    "meterological_df_2019.describe()"
   ]
  },
  {
   "cell_type": "markdown",
   "metadata": {},
   "source": [
    "It seems that we have a problem with specific rows, resulting in an invalid minimun value of -9999.0.\n",
    "Let's find these rows:"
   ]
  },
  {
   "cell_type": "code",
   "execution_count": 192,
   "metadata": {},
   "outputs": [
    {
     "data": {
      "text/html": [
       "<div>\n",
       "<style scoped>\n",
       "    .dataframe tbody tr th:only-of-type {\n",
       "        vertical-align: middle;\n",
       "    }\n",
       "\n",
       "    .dataframe tbody tr th {\n",
       "        vertical-align: top;\n",
       "    }\n",
       "\n",
       "    .dataframe thead th {\n",
       "        text-align: right;\n",
       "    }\n",
       "</style>\n",
       "<table border=\"1\" class=\"dataframe\">\n",
       "  <thead>\n",
       "    <tr style=\"text-align: right;\">\n",
       "      <th></th>\n",
       "      <th>Time</th>\n",
       "      <th>Station Name</th>\n",
       "      <th>Rain</th>\n",
       "      <th>Wind Speed</th>\n",
       "      <th>Wind Direction</th>\n",
       "      <th>Temperature</th>\n",
       "      <th>Humidity</th>\n",
       "    </tr>\n",
       "  </thead>\n",
       "  <tbody>\n",
       "    <tr>\n",
       "      <th>54508</th>\n",
       "      <td>2018-12-23 13:20:00+02:00</td>\n",
       "      <td>MEROM GOLAN PICMAN</td>\n",
       "      <td>0.0</td>\n",
       "      <td>-9999.0</td>\n",
       "      <td>-9999.0</td>\n",
       "      <td>-9999.0</td>\n",
       "      <td>-9999.0</td>\n",
       "    </tr>\n",
       "  </tbody>\n",
       "</table>\n",
       "</div>"
      ],
      "text/plain": [
       "                            Time        Station Name  Rain  Wind Speed  \\\n",
       "54508  2018-12-23 13:20:00+02:00  MEROM GOLAN PICMAN   0.0     -9999.0   \n",
       "\n",
       "       Wind Direction  Temperature  Humidity  \n",
       "54508         -9999.0      -9999.0   -9999.0  "
      ]
     },
     "execution_count": 192,
     "metadata": {},
     "output_type": "execute_result"
    }
   ],
   "source": [
    "meterological_df_2019.loc[meterological_df_2019[\"Temperature\"] == -9999.0]"
   ]
  },
  {
   "cell_type": "markdown",
   "metadata": {},
   "source": [
    "We found a single row. \n",
    "Since this is just a single row, and we are aiming to group the data by 1-hour time frame resolution, we can just discard it:  "
   ]
  },
  {
   "cell_type": "code",
   "execution_count": 197,
   "metadata": {},
   "outputs": [],
   "source": [
    "meterological_df_2019.drop(meterological_df_2019.index[meterological_df_2019[\"Temperature\"] == -9999.0].tolist(), \n",
    "                           inplace = True)"
   ]
  },
  {
   "cell_type": "markdown",
   "metadata": {},
   "source": [
    "Let's have the dataframe description again to verify that it all went as planned:"
   ]
  },
  {
   "cell_type": "code",
   "execution_count": 198,
   "metadata": {},
   "outputs": [
    {
     "data": {
      "text/html": [
       "<div>\n",
       "<style scoped>\n",
       "    .dataframe tbody tr th:only-of-type {\n",
       "        vertical-align: middle;\n",
       "    }\n",
       "\n",
       "    .dataframe tbody tr th {\n",
       "        vertical-align: top;\n",
       "    }\n",
       "\n",
       "    .dataframe thead th {\n",
       "        text-align: right;\n",
       "    }\n",
       "</style>\n",
       "<table border=\"1\" class=\"dataframe\">\n",
       "  <thead>\n",
       "    <tr style=\"text-align: right;\">\n",
       "      <th></th>\n",
       "      <th>Rain</th>\n",
       "      <th>Wind Speed</th>\n",
       "      <th>Wind Direction</th>\n",
       "      <th>Temperature</th>\n",
       "      <th>Humidity</th>\n",
       "    </tr>\n",
       "  </thead>\n",
       "  <tbody>\n",
       "    <tr>\n",
       "      <th>count</th>\n",
       "      <td>233036.000000</td>\n",
       "      <td>233036.000000</td>\n",
       "      <td>233036.000000</td>\n",
       "      <td>233036.000000</td>\n",
       "      <td>233036.000000</td>\n",
       "    </tr>\n",
       "    <tr>\n",
       "      <th>mean</th>\n",
       "      <td>0.020216</td>\n",
       "      <td>3.339977</td>\n",
       "      <td>212.633876</td>\n",
       "      <td>18.571400</td>\n",
       "      <td>69.503939</td>\n",
       "    </tr>\n",
       "    <tr>\n",
       "      <th>std</th>\n",
       "      <td>0.157005</td>\n",
       "      <td>2.433606</td>\n",
       "      <td>95.501657</td>\n",
       "      <td>8.594136</td>\n",
       "      <td>21.471244</td>\n",
       "    </tr>\n",
       "    <tr>\n",
       "      <th>min</th>\n",
       "      <td>0.000000</td>\n",
       "      <td>0.000000</td>\n",
       "      <td>0.000000</td>\n",
       "      <td>-23.800000</td>\n",
       "      <td>5.000000</td>\n",
       "    </tr>\n",
       "    <tr>\n",
       "      <th>25%</th>\n",
       "      <td>0.000000</td>\n",
       "      <td>1.400000</td>\n",
       "      <td>122.000000</td>\n",
       "      <td>11.000000</td>\n",
       "      <td>52.000000</td>\n",
       "    </tr>\n",
       "    <tr>\n",
       "      <th>50%</th>\n",
       "      <td>0.000000</td>\n",
       "      <td>2.800000</td>\n",
       "      <td>241.000000</td>\n",
       "      <td>18.600000</td>\n",
       "      <td>72.000000</td>\n",
       "    </tr>\n",
       "    <tr>\n",
       "      <th>75%</th>\n",
       "      <td>0.000000</td>\n",
       "      <td>4.700000</td>\n",
       "      <td>290.000000</td>\n",
       "      <td>25.500000</td>\n",
       "      <td>88.000000</td>\n",
       "    </tr>\n",
       "    <tr>\n",
       "      <th>max</th>\n",
       "      <td>10.600000</td>\n",
       "      <td>22.000000</td>\n",
       "      <td>360.000000</td>\n",
       "      <td>54.400000</td>\n",
       "      <td>100.000000</td>\n",
       "    </tr>\n",
       "  </tbody>\n",
       "</table>\n",
       "</div>"
      ],
      "text/plain": [
       "                Rain     Wind Speed  Wind Direction    Temperature  \\\n",
       "count  233036.000000  233036.000000   233036.000000  233036.000000   \n",
       "mean        0.020216       3.339977      212.633876      18.571400   \n",
       "std         0.157005       2.433606       95.501657       8.594136   \n",
       "min         0.000000       0.000000        0.000000     -23.800000   \n",
       "25%         0.000000       1.400000      122.000000      11.000000   \n",
       "50%         0.000000       2.800000      241.000000      18.600000   \n",
       "75%         0.000000       4.700000      290.000000      25.500000   \n",
       "max        10.600000      22.000000      360.000000      54.400000   \n",
       "\n",
       "            Humidity  \n",
       "count  233036.000000  \n",
       "mean       69.503939  \n",
       "std        21.471244  \n",
       "min         5.000000  \n",
       "25%        52.000000  \n",
       "50%        72.000000  \n",
       "75%        88.000000  \n",
       "max       100.000000  "
      ]
     },
     "execution_count": 198,
     "metadata": {},
     "output_type": "execute_result"
    }
   ],
   "source": [
    "meterological_df_2019.describe()"
   ]
  },
  {
   "cell_type": "markdown",
   "metadata": {},
   "source": [
    "Let's proceed with 2020 data:"
   ]
  },
  {
   "cell_type": "code",
   "execution_count": 199,
   "metadata": {},
   "outputs": [
    {
     "data": {
      "text/html": [
       "<div>\n",
       "<style scoped>\n",
       "    .dataframe tbody tr th:only-of-type {\n",
       "        vertical-align: middle;\n",
       "    }\n",
       "\n",
       "    .dataframe tbody tr th {\n",
       "        vertical-align: top;\n",
       "    }\n",
       "\n",
       "    .dataframe thead th {\n",
       "        text-align: right;\n",
       "    }\n",
       "</style>\n",
       "<table border=\"1\" class=\"dataframe\">\n",
       "  <thead>\n",
       "    <tr style=\"text-align: right;\">\n",
       "      <th></th>\n",
       "      <th>Rain</th>\n",
       "      <th>Wind Speed</th>\n",
       "      <th>Wind Direction</th>\n",
       "      <th>Temperature</th>\n",
       "      <th>Humidity</th>\n",
       "    </tr>\n",
       "  </thead>\n",
       "  <tbody>\n",
       "    <tr>\n",
       "      <th>count</th>\n",
       "      <td>233857.000000</td>\n",
       "      <td>233857.000000</td>\n",
       "      <td>233857.000000</td>\n",
       "      <td>233857.000000</td>\n",
       "      <td>233857.000000</td>\n",
       "    </tr>\n",
       "    <tr>\n",
       "      <th>mean</th>\n",
       "      <td>0.020523</td>\n",
       "      <td>3.232141</td>\n",
       "      <td>218.200862</td>\n",
       "      <td>18.078311</td>\n",
       "      <td>71.335530</td>\n",
       "    </tr>\n",
       "    <tr>\n",
       "      <th>std</th>\n",
       "      <td>0.163881</td>\n",
       "      <td>2.342747</td>\n",
       "      <td>96.174198</td>\n",
       "      <td>8.592922</td>\n",
       "      <td>21.268362</td>\n",
       "    </tr>\n",
       "    <tr>\n",
       "      <th>min</th>\n",
       "      <td>0.000000</td>\n",
       "      <td>0.000000</td>\n",
       "      <td>0.000000</td>\n",
       "      <td>-5.400000</td>\n",
       "      <td>4.000000</td>\n",
       "    </tr>\n",
       "    <tr>\n",
       "      <th>25%</th>\n",
       "      <td>0.000000</td>\n",
       "      <td>1.400000</td>\n",
       "      <td>139.000000</td>\n",
       "      <td>10.700000</td>\n",
       "      <td>55.000000</td>\n",
       "    </tr>\n",
       "    <tr>\n",
       "      <th>50%</th>\n",
       "      <td>0.000000</td>\n",
       "      <td>2.700000</td>\n",
       "      <td>249.000000</td>\n",
       "      <td>18.000000</td>\n",
       "      <td>74.000000</td>\n",
       "    </tr>\n",
       "    <tr>\n",
       "      <th>75%</th>\n",
       "      <td>0.000000</td>\n",
       "      <td>4.600000</td>\n",
       "      <td>292.000000</td>\n",
       "      <td>25.000000</td>\n",
       "      <td>90.000000</td>\n",
       "    </tr>\n",
       "    <tr>\n",
       "      <th>max</th>\n",
       "      <td>10.100000</td>\n",
       "      <td>21.600000</td>\n",
       "      <td>360.000000</td>\n",
       "      <td>46.400000</td>\n",
       "      <td>100.000000</td>\n",
       "    </tr>\n",
       "  </tbody>\n",
       "</table>\n",
       "</div>"
      ],
      "text/plain": [
       "                Rain     Wind Speed  Wind Direction    Temperature  \\\n",
       "count  233857.000000  233857.000000   233857.000000  233857.000000   \n",
       "mean        0.020523       3.232141      218.200862      18.078311   \n",
       "std         0.163881       2.342747       96.174198       8.592922   \n",
       "min         0.000000       0.000000        0.000000      -5.400000   \n",
       "25%         0.000000       1.400000      139.000000      10.700000   \n",
       "50%         0.000000       2.700000      249.000000      18.000000   \n",
       "75%         0.000000       4.600000      292.000000      25.000000   \n",
       "max        10.100000      21.600000      360.000000      46.400000   \n",
       "\n",
       "            Humidity  \n",
       "count  233857.000000  \n",
       "mean       71.335530  \n",
       "std        21.268362  \n",
       "min         4.000000  \n",
       "25%        55.000000  \n",
       "50%        74.000000  \n",
       "75%        90.000000  \n",
       "max       100.000000  "
      ]
     },
     "execution_count": 199,
     "metadata": {},
     "output_type": "execute_result"
    }
   ],
   "source": [
    "meterological_df_2020.describe()"
   ]
  },
  {
   "cell_type": "markdown",
   "metadata": {},
   "source": [
    "Finally, we want to make sure that we have all the dates specified in the dates' range:"
   ]
  },
  {
   "cell_type": "code",
   "execution_count": 200,
   "metadata": {},
   "outputs": [],
   "source": [
    "def check_for_missing_dates(meterological_df, dates_to_retrive):\n",
    "    res = []\n",
    "\n",
    "    # Create a new Dataframe with the speicifed datatime values, and calculate the difference.\n",
    "    for period in dates_to_retrive:\n",
    "        res.append(pd.date_range(start = period[0], end = period[1] , freq='10m').difference(meterological_df['Time']))\n",
    "\n",
    "    # Print a nice message.\n",
    "    if not res:\n",
    "        print(\"There are no missing dates!\")\n",
    "    else:\n",
    "        print(\"The missing times are:\", res)\n",
    "        \n",
    "    return res"
   ]
  },
  {
   "cell_type": "code",
   "execution_count": 201,
   "metadata": {},
   "outputs": [
    {
     "name": "stdout",
     "output_type": "stream",
     "text": [
      "The missing times are: [DatetimeIndex(['2018-12-31'], dtype='datetime64[ns]', freq=None), DatetimeIndex(['2019-06-30'], dtype='datetime64[ns]', freq=None)]\n"
     ]
    }
   ],
   "source": [
    "result = check_for_missing_dates(meterological_df_2019, dates_to_retrive_2019)"
   ]
  },
  {
   "cell_type": "markdown",
   "metadata": {},
   "source": [
    "It seems we are missing data relevant for the end of each period. \n",
    "\n",
    "Let's verify if it is just a specific 10 minutes sample which is missing:"
   ]
  },
  {
   "cell_type": "code",
   "execution_count": 202,
   "metadata": {},
   "outputs": [
    {
     "name": "stdout",
     "output_type": "stream",
     "text": [
      "[datetime.time(0, 0)] [datetime.time(0, 0)]\n"
     ]
    }
   ],
   "source": [
    "print(result[0].time, result[1].time)"
   ]
  },
  {
   "cell_type": "markdown",
   "metadata": {},
   "source": [
    "This is right. Since we are planning to group the data by a 1-hour time frame resolution, these findings can be left for later on.\n",
    "\n",
    "Let's proceed to 2020:"
   ]
  },
  {
   "cell_type": "code",
   "execution_count": 207,
   "metadata": {},
   "outputs": [
    {
     "name": "stdout",
     "output_type": "stream",
     "text": [
      "The missing times are: [DatetimeIndex(['2019-12-31'], dtype='datetime64[ns]', freq=None), DatetimeIndex(['2020-06-30'], dtype='datetime64[ns]', freq=None)]\n"
     ]
    }
   ],
   "source": [
    "result = check_for_missing_dates(meterological_df_2020, dates_to_retrive_2020)"
   ]
  },
  {
   "cell_type": "markdown",
   "metadata": {},
   "source": [
    "It seems that we are facing the same issue as in 2019. \n",
    "\n",
    "Let's verify if it is just a specific 10 minutes sample which is missing:"
   ]
  },
  {
   "cell_type": "code",
   "execution_count": 208,
   "metadata": {},
   "outputs": [
    {
     "name": "stdout",
     "output_type": "stream",
     "text": [
      "[datetime.time(0, 0)] [datetime.time(0, 0)]\n"
     ]
    }
   ],
   "source": [
    "print(result[0].time, result[1].time)"
   ]
  },
  {
   "cell_type": "markdown",
   "metadata": {},
   "source": [
    "This is right. \n",
    "\n",
    "As stated, this will be taken care when grouping the data."
   ]
  },
  {
   "cell_type": "markdown",
   "metadata": {
    "direction": "ltr"
   },
   "source": [
    "#### 3.4.3 Shaping the Dataset"
   ]
  },
  {
   "cell_type": "markdown",
   "metadata": {},
   "source": [
    "We want to reshape our dataframes to have a 1 hour resolution, instead of 10 minutes:"
   ]
  },
  {
   "cell_type": "code",
   "execution_count": 209,
   "metadata": {},
   "outputs": [],
   "source": [
    "def reshape_dataframe(meterological_df):\n",
    "    # Convert Time column to datetimeIndex object, to allow Grouper with frequency opeartors.\n",
    "    meterological_df.Time = pd.to_datetime(meterological_df.Time, utc=True)\n",
    "\n",
    "    # Group by Stations and Time, while changing the time resolution to hours.\n",
    "    meterological_df = meterological_df.groupby([pd.Grouper(key='Station Name'), pd.Grouper(freq='H', key='Time')]).agg(\n",
    "        {'Rain': \"sum\",\n",
    "         'Wind Speed': \"mean\", \n",
    "         'Wind Direction': 'mean',\n",
    "         'Temperature': \"mean\",\n",
    "         'Humidity': \"mean\"})\n",
    "\n",
    "    return meterological_df\n",
    "\n",
    "meterological_df_2019 = reshape_dataframe(meterological_df_2019)\n",
    "meterological_df_2020 = reshape_dataframe(meterological_df_2020)"
   ]
  },
  {
   "cell_type": "markdown",
   "metadata": {},
   "source": [
    "Please note that we changed the time zone from UTC + 2\\3 to UTC + 0. Please recall that we have already implemented the same convention for the training sorties and malfunction dataframes, to avoid incompatibility problems.\n",
    "\n",
    "We would like to verify the results by randomly sampling 5 rows:"
   ]
  },
  {
   "cell_type": "code",
   "execution_count": 212,
   "metadata": {},
   "outputs": [
    {
     "data": {
      "text/html": [
       "<div>\n",
       "<style scoped>\n",
       "    .dataframe tbody tr th:only-of-type {\n",
       "        vertical-align: middle;\n",
       "    }\n",
       "\n",
       "    .dataframe tbody tr th {\n",
       "        vertical-align: top;\n",
       "    }\n",
       "\n",
       "    .dataframe thead th {\n",
       "        text-align: right;\n",
       "    }\n",
       "</style>\n",
       "<table border=\"1\" class=\"dataframe\">\n",
       "  <thead>\n",
       "    <tr style=\"text-align: right;\">\n",
       "      <th></th>\n",
       "      <th></th>\n",
       "      <th>Rain</th>\n",
       "      <th>Wind Speed</th>\n",
       "      <th>Wind Direction</th>\n",
       "      <th>Temperature</th>\n",
       "      <th>Humidity</th>\n",
       "    </tr>\n",
       "    <tr>\n",
       "      <th>Station Name</th>\n",
       "      <th>Time</th>\n",
       "      <th></th>\n",
       "      <th></th>\n",
       "      <th></th>\n",
       "      <th></th>\n",
       "      <th></th>\n",
       "    </tr>\n",
       "  </thead>\n",
       "  <tbody>\n",
       "    <tr>\n",
       "      <th>SEDE BOQER</th>\n",
       "      <th>2019-07-25 01:00:00+00:00</th>\n",
       "      <td>0.0</td>\n",
       "      <td>0.566667</td>\n",
       "      <td>96.333333</td>\n",
       "      <td>19.183333</td>\n",
       "      <td>89.833333</td>\n",
       "    </tr>\n",
       "    <tr>\n",
       "      <th>NEWE YAAR</th>\n",
       "      <th>2019-02-01 12:00:00+00:00</th>\n",
       "      <td>0.0</td>\n",
       "      <td>1.350000</td>\n",
       "      <td>187.166667</td>\n",
       "      <td>17.433333</td>\n",
       "      <td>47.000000</td>\n",
       "    </tr>\n",
       "    <tr>\n",
       "      <th>ZEFAT HAR KENAAN</th>\n",
       "      <th>2019-07-30 07:00:00+00:00</th>\n",
       "      <td>0.0</td>\n",
       "      <td>2.716667</td>\n",
       "      <td>218.500000</td>\n",
       "      <td>28.616667</td>\n",
       "      <td>46.000000</td>\n",
       "    </tr>\n",
       "    <tr>\n",
       "      <th>ELON</th>\n",
       "      <th>2018-12-17 19:00:00+00:00</th>\n",
       "      <td>0.0</td>\n",
       "      <td>1.400000</td>\n",
       "      <td>166.666667</td>\n",
       "      <td>13.533333</td>\n",
       "      <td>94.333333</td>\n",
       "    </tr>\n",
       "    <tr>\n",
       "      <th>ZEFAT HAR KENAAN</th>\n",
       "      <th>2019-08-28 09:00:00+00:00</th>\n",
       "      <td>0.0</td>\n",
       "      <td>3.533333</td>\n",
       "      <td>47.833333</td>\n",
       "      <td>29.000000</td>\n",
       "      <td>57.833333</td>\n",
       "    </tr>\n",
       "  </tbody>\n",
       "</table>\n",
       "</div>"
      ],
      "text/plain": [
       "                                            Rain  Wind Speed  Wind Direction  \\\n",
       "Station Name     Time                                                          \n",
       "SEDE BOQER       2019-07-25 01:00:00+00:00   0.0    0.566667       96.333333   \n",
       "NEWE YAAR        2019-02-01 12:00:00+00:00   0.0    1.350000      187.166667   \n",
       "ZEFAT HAR KENAAN 2019-07-30 07:00:00+00:00   0.0    2.716667      218.500000   \n",
       "ELON             2018-12-17 19:00:00+00:00   0.0    1.400000      166.666667   \n",
       "ZEFAT HAR KENAAN 2019-08-28 09:00:00+00:00   0.0    3.533333       47.833333   \n",
       "\n",
       "                                            Temperature   Humidity  \n",
       "Station Name     Time                                               \n",
       "SEDE BOQER       2019-07-25 01:00:00+00:00    19.183333  89.833333  \n",
       "NEWE YAAR        2019-02-01 12:00:00+00:00    17.433333  47.000000  \n",
       "ZEFAT HAR KENAAN 2019-07-30 07:00:00+00:00    28.616667  46.000000  \n",
       "ELON             2018-12-17 19:00:00+00:00    13.533333  94.333333  \n",
       "ZEFAT HAR KENAAN 2019-08-28 09:00:00+00:00    29.000000  57.833333  "
      ]
     },
     "execution_count": 212,
     "metadata": {},
     "output_type": "execute_result"
    }
   ],
   "source": [
    "meterological_df_2019.sample(5)"
   ]
  },
  {
   "cell_type": "code",
   "execution_count": 213,
   "metadata": {},
   "outputs": [
    {
     "data": {
      "text/html": [
       "<div>\n",
       "<style scoped>\n",
       "    .dataframe tbody tr th:only-of-type {\n",
       "        vertical-align: middle;\n",
       "    }\n",
       "\n",
       "    .dataframe tbody tr th {\n",
       "        vertical-align: top;\n",
       "    }\n",
       "\n",
       "    .dataframe thead th {\n",
       "        text-align: right;\n",
       "    }\n",
       "</style>\n",
       "<table border=\"1\" class=\"dataframe\">\n",
       "  <thead>\n",
       "    <tr style=\"text-align: right;\">\n",
       "      <th></th>\n",
       "      <th></th>\n",
       "      <th>Rain</th>\n",
       "      <th>Wind Speed</th>\n",
       "      <th>Wind Direction</th>\n",
       "      <th>Temperature</th>\n",
       "      <th>Humidity</th>\n",
       "    </tr>\n",
       "    <tr>\n",
       "      <th>Station Name</th>\n",
       "      <th>Time</th>\n",
       "      <th></th>\n",
       "      <th></th>\n",
       "      <th></th>\n",
       "      <th></th>\n",
       "      <th></th>\n",
       "    </tr>\n",
       "  </thead>\n",
       "  <tbody>\n",
       "    <tr>\n",
       "      <th rowspan=\"2\" valign=\"top\">GAMLA</th>\n",
       "      <th>2020-01-10 15:00:00+00:00</th>\n",
       "      <td>0.0</td>\n",
       "      <td>1.216667</td>\n",
       "      <td>254.500000</td>\n",
       "      <td>9.050000</td>\n",
       "      <td>90.833333</td>\n",
       "    </tr>\n",
       "    <tr>\n",
       "      <th>2020-01-30 19:00:00+00:00</th>\n",
       "      <td>0.0</td>\n",
       "      <td>2.516667</td>\n",
       "      <td>225.166667</td>\n",
       "      <td>11.350000</td>\n",
       "      <td>91.500000</td>\n",
       "    </tr>\n",
       "    <tr>\n",
       "      <th>ZEFAT HAR KENAAN</th>\n",
       "      <th>2020-02-23 09:00:00+00:00</th>\n",
       "      <td>0.0</td>\n",
       "      <td>2.116667</td>\n",
       "      <td>125.000000</td>\n",
       "      <td>9.000000</td>\n",
       "      <td>78.500000</td>\n",
       "    </tr>\n",
       "    <tr>\n",
       "      <th>SEDE BOQER</th>\n",
       "      <th>2019-12-28 08:00:00+00:00</th>\n",
       "      <td>0.0</td>\n",
       "      <td>3.933333</td>\n",
       "      <td>226.666667</td>\n",
       "      <td>12.950000</td>\n",
       "      <td>61.166667</td>\n",
       "    </tr>\n",
       "    <tr>\n",
       "      <th>GAMLA</th>\n",
       "      <th>2020-01-16 00:00:00+00:00</th>\n",
       "      <td>0.0</td>\n",
       "      <td>8.516667</td>\n",
       "      <td>56.166667</td>\n",
       "      <td>11.616667</td>\n",
       "      <td>65.833333</td>\n",
       "    </tr>\n",
       "  </tbody>\n",
       "</table>\n",
       "</div>"
      ],
      "text/plain": [
       "                                            Rain  Wind Speed  Wind Direction  \\\n",
       "Station Name     Time                                                          \n",
       "GAMLA            2020-01-10 15:00:00+00:00   0.0    1.216667      254.500000   \n",
       "                 2020-01-30 19:00:00+00:00   0.0    2.516667      225.166667   \n",
       "ZEFAT HAR KENAAN 2020-02-23 09:00:00+00:00   0.0    2.116667      125.000000   \n",
       "SEDE BOQER       2019-12-28 08:00:00+00:00   0.0    3.933333      226.666667   \n",
       "GAMLA            2020-01-16 00:00:00+00:00   0.0    8.516667       56.166667   \n",
       "\n",
       "                                            Temperature   Humidity  \n",
       "Station Name     Time                                               \n",
       "GAMLA            2020-01-10 15:00:00+00:00     9.050000  90.833333  \n",
       "                 2020-01-30 19:00:00+00:00    11.350000  91.500000  \n",
       "ZEFAT HAR KENAAN 2020-02-23 09:00:00+00:00     9.000000  78.500000  \n",
       "SEDE BOQER       2019-12-28 08:00:00+00:00    12.950000  61.166667  \n",
       "GAMLA            2020-01-16 00:00:00+00:00    11.616667  65.833333  "
      ]
     },
     "execution_count": 213,
     "metadata": {},
     "output_type": "execute_result"
    }
   ],
   "source": [
    "meterological_df_2020.sample(5)"
   ]
  },
  {
   "cell_type": "markdown",
   "metadata": {},
   "source": [
    "Finally, we would like to save the Dataframes into a dedicated directory (for a later use):"
   ]
  },
  {
   "cell_type": "code",
   "execution_count": 214,
   "metadata": {},
   "outputs": [],
   "source": [
    "meterological_df_2019.to_pickle(\"meteorological_data_set/meterological_dataset_2019.pkl\")\n",
    "meterological_df_2020.to_pickle(\"meteorological_data_set/meterological_dataset_2020.pkl\")"
   ]
  },
  {
   "cell_type": "markdown",
   "metadata": {
    "direction": "ltr"
   },
   "source": [
    "## 4. Results, Findings and Discussion"
   ]
  },
  {
   "cell_type": "markdown",
   "metadata": {
    "direction": "ltr"
   },
   "source": [
    "### 4.1 EDA"
   ]
  },
  {
   "cell_type": "markdown",
   "metadata": {},
   "source": [
    "This section is aiming to provide important facts and inshights about the given data. \n",
    "\n",
    "Most of this section will be introduced using visualizations, accompanied with some plain text (for the discussion part)."
   ]
  },
  {
   "cell_type": "markdown",
   "metadata": {},
   "source": [
    "#### Imports"
   ]
  },
  {
   "cell_type": "code",
   "execution_count": 216,
   "metadata": {},
   "outputs": [],
   "source": [
    "import numpy as np\n",
    "import seaborn as sns\n",
    "import matplotlib.pyplot as plt"
   ]
  },
  {
   "cell_type": "markdown",
   "metadata": {
    "direction": "ltr"
   },
   "source": [
    "### 4.1.1 General Malfunctions Discovery"
   ]
  },
  {
   "cell_type": "markdown",
   "metadata": {
    "direction": "ltr"
   },
   "source": [
    "#### Total Number of Malfunctions per System (Bar Chart, 2019 / 2020)"
   ]
  },
  {
   "cell_type": "markdown",
   "metadata": {},
   "source": [
    "It won't be serious to argue that the number of malfunctions distributes uniformly between the helicopter's systems. The following diagrams will present this distribution, alongside the exact number reported."
   ]
  },
  {
   "cell_type": "markdown",
   "metadata": {},
   "source": [
    "**2019**"
   ]
  },
  {
   "cell_type": "markdown",
   "metadata": {},
   "source": [
    "The following method is meant to plot the required graph:"
   ]
  },
  {
   "cell_type": "code",
   "execution_count": 228,
   "metadata": {},
   "outputs": [],
   "source": [
    "def plot_malf_per_system(malf_df, year):\n",
    "    # Determine the plot's size.\n",
    "    plt.figure(figsize=(20, 8))\n",
    "    \n",
    "    # Create the plot, using Sea Born count plot.\n",
    "    plot = sns.countplot(x = 'System', \n",
    "                      data = malf_df, \n",
    "                      order = malf_df['System'].value_counts().index,\n",
    "                      palette = \"mako\")\n",
    "    \n",
    "    # Set titles.\n",
    "    plot.axes.set_title(\"Total Number of Malfunctions per System, Year of {0}\".format(year), fontsize = 20)\n",
    "    plot.set_xlabel(\"System's Name\",fontsize = 15)\n",
    "    plot.set_ylabel(\"Total Number of Malfunctions\",fontsize = 15)\n",
    "    plt.xticks(rotation = 70)\n",
    "    plot.tick_params(labelsize = 15)"
   ]
  },
  {
   "cell_type": "markdown",
   "metadata": {},
   "source": [
    "Let's plot it:"
   ]
  },
  {
   "cell_type": "code",
   "execution_count": 229,
   "metadata": {},
   "outputs": [
    {
     "data": {
      "image/png": "[encoded data removed]",
      "text/plain": [
       "<Figure size 1440x576 with 1 Axes>"
      ]
     },
     "metadata": {
      "needs_background": "light"
     },
     "output_type": "display_data"
    }
   ],
   "source": [
    "plot_malf_per_system(malf_df_2019, 2019)"
   ]
  },
  {
   "cell_type": "markdown",
   "metadata": {},
   "source": [
    "**2020**"
   ]
  },
  {
   "cell_type": "markdown",
   "metadata": {},
   "source": [
    "Let's do the same for 2020:"
   ]
  },
  {
   "cell_type": "code",
   "execution_count": 230,
   "metadata": {},
   "outputs": [
    {
     "data": {
      "image/png": "[encoded data removed]",
      "text/plain": [
       "<Figure size 1440x576 with 1 Axes>"
      ]
     },
     "metadata": {
      "needs_background": "light"
     },
     "output_type": "display_data"
    }
   ],
   "source": [
    "plot_malf_per_system(malf_df_2020, 2020)"
   ]
  },
  {
   "cell_type": "markdown",
   "metadata": {},
   "source": [
    "***Discussion***"
   ]
  },
  {
   "cell_type": "markdown",
   "metadata": {},
   "source": [
    "* We can easily see that both \"Fuselage\" and \"Fire Control\" systems are reported as having the greatest number of malfunctions for both 2019 and 2020. Moreover, the four next significant systems (in terms of the total number of malfunctions) are the same for both years (\"Cockpit\", \"Lighting\", \"Armament\", \"Transmissions\" and \"Comm\").\n",
    "\n",
    "* In general, the total number and distribution of malfunctions (per system), are appear to be similar for 2019 and 2020. \n",
    "* As assumed, the distribution reflected from these diagrams is not a uniform one.\n",
    "* Fire Control systems are mostly under class B avionics team resposiblity. The depicted data may urge thier move to a permanent abode in the squadron's heliport."
   ]
  },
  {
   "cell_type": "markdown",
   "metadata": {
    "direction": "ltr"
   },
   "source": [
    "#### Total Number of Malfunctions per Tail Number (Bar Chart, 2019 / 2020)"
   ]
  },
  {
   "cell_type": "markdown",
   "metadata": {},
   "source": [
    "Without pervious knowledge, we would assume (naively) that the number of malfunctions per tail number shall be relatively close. This assumption relies on the fact that by default the flight activities shall be shared equally as possible between all helicopters, to avoid surplus maintenance activities.\n",
    "\n",
    "The following diagrams may confirm that assumption."
   ]
  },
  {
   "cell_type": "markdown",
   "metadata": {},
   "source": [
    "The following method is meant to prepare the plot's data, out of the given dataframes:"
   ]
  },
  {
   "cell_type": "code",
   "execution_count": 224,
   "metadata": {},
   "outputs": [],
   "source": [
    "def prepare_data_for_malf_per_tail_number_plot(malf_df):\n",
    "    # Calculate the number of malfunctions per tail number, then saved in a new Pandas series.\n",
    "    tail_number_malf_df = pd.DataFrame(malf_df.groupby(\"Tail Number\")[\"System\"].count())\n",
    "\n",
    "    # Reshape the dataframe.\n",
    "    tail_number_malf_df.rename(columns={\"System\": \"Number of Malfunctions\"}, inplace = True)\n",
    "    tail_number_malf_df.reset_index(inplace = True)\n",
    "    return tail_number_malf_df"
   ]
  },
  {
   "cell_type": "markdown",
   "metadata": {},
   "source": [
    "Now, let's use it to prepare our data for plotting:"
   ]
  },
  {
   "cell_type": "code",
   "execution_count": 225,
   "metadata": {},
   "outputs": [],
   "source": [
    "tail_number_malf_df_2019 = prepare_data_for_malf_per_tail_number_plot(malf_df_2019)\n",
    "\n",
    "tail_number_malf_df_2020 = prepare_data_for_malf_per_tail_number_plot(malf_df_2020)"
   ]
  },
  {
   "cell_type": "markdown",
   "metadata": {},
   "source": [
    "The following method is meant to serve us when plotting the malfunctions per tail number graphs:"
   ]
  },
  {
   "cell_type": "code",
   "execution_count": 226,
   "metadata": {},
   "outputs": [],
   "source": [
    "def plot_malf_per_tail_number(malf_df_2019, plot_2019_order_obj, malf_df_2020, plot_2020_order_obj, up_title, y_axis_title):\n",
    "    # Create a plot comrised to two sub-plots.\n",
    "    fig, axes = plt.subplots(1, 2, figsize=(25, 8))\n",
    "    fig.suptitle(up_title, fontsize = 22)\n",
    "\n",
    "    # Create 2019 subplot using Sea Born countplot.\n",
    "    plot_2019 = sns.barplot(ax = axes[0],\n",
    "                          x = \"Tail Number\",\n",
    "                          y = \"Number of Malfunctions\",\n",
    "                          data = malf_df_2019, \n",
    "                          order = plot_2019_order_obj,\n",
    "                          palette = \"mako\")\n",
    "    \n",
    "    # Determine the sub-plot's titles.\n",
    "    plot_2019.axes.set_title(\"2019\", fontsize = 20)\n",
    "    plot_2019.set_xlabel(\"Tail Number\", fontsize = 15)\n",
    "    plot_2019.set_ylabel(y_axis_title, fontsize = 15)\n",
    "    plot_2019.tick_params(labelsize = 12)\n",
    "\n",
    "    # Create 2020 subplot using Sea Born countplot.\n",
    "    plot_2020 = sns.barplot(ax = axes[1],\n",
    "                          x = \"Tail Number\", \n",
    "                          y = \"Number of Malfunctions\",\n",
    "                          data = malf_df_2020, \n",
    "                          order = plot_2020_order_obj, \n",
    "                          palette = \"mako\")\n",
    "\n",
    "    # Determine the sub-plot's titles.\n",
    "    plot_2020.axes.set_title(\"2020\", fontsize = 20)\n",
    "    plot_2020.set_xlabel(\"Tail Number\", fontsize = 15)\n",
    "    plot_2020.set_ylabel(y_axis_title, fontsize = 15)\n",
    "    plot_2020.tick_params(labelsize = 12)"
   ]
  },
  {
   "cell_type": "markdown",
   "metadata": {},
   "source": [
    "And now, let's plot the graphs:"
   ]
  },
  {
   "cell_type": "code",
   "execution_count": 227,
   "metadata": {},
   "outputs": [
    {
     "data": {
      "image/png": "[encoded data removed]",
      "text/plain": [
       "<Figure size 1800x576 with 2 Axes>"
      ]
     },
     "metadata": {
      "needs_background": "light"
     },
     "output_type": "display_data"
    }
   ],
   "source": [
    "plot_malf_per_tail_number(tail_number_malf_df_2019, \n",
    "                          tail_number_malf_df_2019.sort_values(\"Number of Malfunctions\",ascending = False)[\"Tail Number\"], \n",
    "                          tail_number_malf_df_2020, \n",
    "                          tail_number_malf_df_2020.sort_values(\"Number of Malfunctions\",ascending = False)[\"Tail Number\"], \n",
    "                          \"Total Number of Malfunctions per Tail Number\", \n",
    "                          \"Total Number of Malfunctions\")"
   ]
  },
  {
   "cell_type": "markdown",
   "metadata": {},
   "source": [
    "***Discussion***"
   ]
  },
  {
   "cell_type": "markdown",
   "metadata": {},
   "source": [
    "* We can evident that the distribution of malfunctions among helicopters is not exactly uniform, although close to it (for some).\n",
    "* Each year represents a different scheme; thus, a specific aircraft may have a great number of malfunctions in 2019 but a relatively small one in 2020 (Tail Number 935 for example). It seems that our naive assumption wasn't right.\n",
    "* The immediate conclusion is that we shall normalize the number of malfunctions, considering different factors, starting with the flight hours each helicopter has flown in that year, assuming this factor impacts the aforementioned attribute."
   ]
  },
  {
   "cell_type": "markdown",
   "metadata": {
    "direction": "ltr"
   },
   "source": [
    "#### Number of Malfunctions per Flight Hour per Tail Number (Bar Chart, 2019 / 2020)"
   ]
  },
  {
   "cell_type": "markdown",
   "metadata": {},
   "source": [
    "Following the previous section, we will normalize the number of malfunctions per helicopter, using its annually flight hours.\n",
    "Our current exceptation is to have a uniform distribution of malfunctions, based on the assumption that the number of malfunctions discoverd is somehow related to the time the helicopter has spent in air."
   ]
  },
  {
   "cell_type": "markdown",
   "metadata": {},
   "source": [
    "The following method is meant to prepare the plot's data, out of the given datasets:"
   ]
  },
  {
   "cell_type": "code",
   "execution_count": 231,
   "metadata": {},
   "outputs": [],
   "source": [
    "def prepare_data_for_malf_per_flight_hour_per_tail_number_plot(flights_df, malf_df):\n",
    "    # Calculate the flight duration per tail number, then saved in a new Pandas series.\n",
    "    tail_number_flights_duration_df = pd.DataFrame(flights_df.groupby(\"Tail Number\")[\"Flight Duration\"].sum())\n",
    "    tail_number_flights_duration_df = pd.to_numeric(tail_number_flights_duration_df[\"Flight Duration\"].dt.total_seconds()//3600)\n",
    "\n",
    "    # Calculate the number of malfunctions per tail number, then saved in a new Pandas series.\n",
    "    tail_number_malf_df = pd.DataFrame(malf_df.groupby(\"Tail Number\")[\"System\"].count())\n",
    "    tail_number_malf_df.index = pd.to_numeric(tail_number_malf_df.index)\n",
    "\n",
    "    # Apply a join operation, to join the two dataframes. \n",
    "    tail_number_malf_df = tail_number_malf_df.join(tail_number_flights_duration_df)\n",
    "\n",
    "    # Drop NaN values, since a helicopter (941 in this case()) may have been grounded, due to severe maintenance problems.\n",
    "    tail_number_malf_df.dropna(inplace = True)\n",
    "    \n",
    "    # Save a raw version of the dataframe, for extracting intresting data.\n",
    "    tail_number_malf_raw_df = tail_number_malf_df.copy(deep = True)\n",
    "\n",
    "    # Calculate the number of malfunctions per flight hour for each tail number.\n",
    "    tail_number_malf_df[\"System\"] = tail_number_malf_df.iloc[:, 0] / tail_number_malf_df.iloc[:, 1]\n",
    "\n",
    "    # Reshape the dataframe.\n",
    "    tail_number_malf_df.rename(columns={\"System\": \"Number of Malfunctions\"}, inplace = True)\n",
    "    tail_number_malf_df.drop(columns=['Flight Duration'], inplace = True)\n",
    "    tail_number_malf_df.reset_index(inplace = True)\n",
    "    return tail_number_malf_raw_df, tail_number_malf_df"
   ]
  },
  {
   "cell_type": "markdown",
   "metadata": {},
   "source": [
    "Now, let's use it to prepare our data for plotting:"
   ]
  },
  {
   "cell_type": "code",
   "execution_count": 232,
   "metadata": {},
   "outputs": [],
   "source": [
    "tail_number_malf_raw_df_2019, tail_number_malf_df_2019 = \\\n",
    "    prepare_data_for_malf_per_flight_hour_per_tail_number_plot(flights_df_2019, malf_df_2019)\n",
    "\n",
    "tail_number_malf_raw_df_2020, tail_number_malf_df_2020 = \\\n",
    "    prepare_data_for_malf_per_flight_hour_per_tail_number_plot(flights_df_2020, malf_df_2020)"
   ]
  },
  {
   "cell_type": "markdown",
   "metadata": {},
   "source": [
    "Now, let's make use in the already defined method to plot the \"Total Number of Malfunctions per Flight Hour per Tail Number\" graphs:"
   ]
  },
  {
   "cell_type": "code",
   "execution_count": 233,
   "metadata": {},
   "outputs": [
    {
     "data": {
      "image/png": "[encoded data removed]",
      "text/plain": [
       "<Figure size 1800x576 with 2 Axes>"
      ]
     },
     "metadata": {
      "needs_background": "light"
     },
     "output_type": "display_data"
    }
   ],
   "source": [
    "plot_malf_per_tail_number(tail_number_malf_df_2019, \n",
    "                          tail_number_malf_df_2019.sort_values(\"Number of Malfunctions\",ascending = False)[\"Tail Number\"],\n",
    "                          tail_number_malf_df_2020, \n",
    "                          tail_number_malf_df_2020.sort_values(\"Number of Malfunctions\",ascending = False)[\"Tail Number\"],\n",
    "                          \"Total Number of Malfunctions per Flight Hour per Tail Number\", \n",
    "                          \"Total Number of Malfunctions per Flight Hour\")"
   ]
  },
  {
   "cell_type": "markdown",
   "metadata": {},
   "source": [
    "***Discussion***"
   ]
  },
  {
   "cell_type": "markdown",
   "metadata": {},
   "source": [
    "* In general, 2020 presents more malfunctions per flight hour in average, than 2019.\n",
    "* We can evident that even after taking into account the flight hours each helicopter has flown, the distribution of malfunctions among helicopters is not uniform (altough 2020 graph presents a better ditribution among helicopters). Thus, we shall further look for other factors which may impact this issue.\n",
    "* By comparing the two plots, we can see that specific helicopters (such as the 967) preserve a small number of malfunctions considering their flight time, during both years.\n",
    "* Most of the helicopters have a ratio of 1:1 - one malfunction per one flight hour!\n",
    "* Although seemed reasonable at start, having the same graph for the mean time spending on ground (between flights) is irrelevant. As stated above, all the maintenance routines and malfunctions handling procedures take place while the helicopters on ground. Based on that fact, we can easily argue that a helicopter spends more time on ground if it has an increasing number of malfunctions, and vice versa. Thus, the need for that graph is superfluous."
   ]
  },
  {
   "cell_type": "markdown",
   "metadata": {
    "direction": "ltr"
   },
   "source": [
    "#### Malfunctions' Types Cross Tail Numbers Heatmap (2019 & 2020)"
   ]
  },
  {
   "cell_type": "markdown",
   "metadata": {},
   "source": [
    "After discussing the total number of malfunctions per helicopter, we would like to cross all the reported malfunctions families (systems) with the different helicopters. This view will allow us to understand if specific helicopters have more malfunctions of a specific type than others, as well as how these malfunctions distribute among helicopters. \n",
    "\n",
    "First, we will present the data as is - in a way that allows specific family to influence all other. Then, we will present a more accurate view on this topic, while using normalization."
   ]
  },
  {
   "cell_type": "markdown",
   "metadata": {},
   "source": [
    "Let's start by reshaping our data:"
   ]
  },
  {
   "cell_type": "code",
   "execution_count": 303,
   "metadata": {},
   "outputs": [],
   "source": [
    "# Concat 2019 and 2020 malfunctions data. Then, group the relavent data, into a new dataframe.\n",
    "tail_number_malf_df = pd.concat([malf_df_2019, malf_df_2020])\n",
    "tail_number_malf_df = pd.DataFrame(tail_number_malf_df.groupby([\"Tail Number\", \"System\"])[\"System\"].count())  \n",
    "\n",
    "# Rename the columns' names, and reset the index.\n",
    "tail_number_malf_df.rename(columns={\"System\": \"Number of Malfunctions\"}, inplace = True)\n",
    "tail_number_malf_df.reset_index(inplace = True)\n",
    "\n",
    "# Create the required pivot table.\n",
    "tail_number_malf_df = tail_number_malf_df.pivot(index=\"Tail Number\", columns=\"System\")[\"Number of Malfunctions\"]\n",
    "\n",
    "# Discard NaNs.\n",
    "tail_number_malf_df.fillna(0, inplace = True)\n",
    "\n",
    "# Transpose the dataframe, to ease the reader.\n",
    "tail_number_malf_df = tail_number_malf_df.transpose()"
   ]
  },
  {
   "cell_type": "markdown",
   "metadata": {},
   "source": [
    "Now, Let's present the un-normalized heat map:"
   ]
  },
  {
   "cell_type": "code",
   "execution_count": 304,
   "metadata": {},
   "outputs": [
    {
     "data": {
      "text/plain": [
       "<AxesSubplot:xlabel='Tail Number', ylabel='System'>"
      ]
     },
     "execution_count": 304,
     "metadata": {},
     "output_type": "execute_result"
    },
    {
     "data": {
      "image/png": "[encoded data removed]",
      "text/plain": [
       "<Figure size 864x576 with 2 Axes>"
      ]
     },
     "metadata": {
      "needs_background": "light"
     },
     "output_type": "display_data"
    }
   ],
   "source": [
    "# Plot.\n",
    "fig, ax = plt.subplots(figsize=(12,8))\n",
    "fig.suptitle(\"Malfunctions' Types Cross Tail Numbers Heatmap (Unnormalized)\", fontsize = 15)\n",
    "sns.heatmap(tail_number_malf_df)"
   ]
  },
  {
   "cell_type": "markdown",
   "metadata": {},
   "source": [
    "***Discussion***"
   ]
  },
  {
   "cell_type": "markdown",
   "metadata": {},
   "source": [
    "* Fuselage and Fire Control are indeed the most defected systems on board (as observed in the first EDA section).\n",
    "* There are specific helicopters with more severe recurrences of malfunctions, referring the aforementioned systems.\n",
    "* Tail numbers 935 and 966 are seemed to perform better, having less Fuselage and Fire Control malfunctions."
   ]
  },
  {
   "cell_type": "markdown",
   "metadata": {},
   "source": [
    "Now, let's normalize the data, getting a better chance to understand if a specific helicopter is more problematic than others:"
   ]
  },
  {
   "cell_type": "code",
   "execution_count": 302,
   "metadata": {},
   "outputs": [
    {
     "data": {
      "text/plain": [
       "<AxesSubplot:xlabel='Tail Number', ylabel='System'>"
      ]
     },
     "execution_count": 302,
     "metadata": {},
     "output_type": "execute_result"
    },
    {
     "data": {
      "image/png": "[encoded data removed]",
      "text/plain": [
       "<Figure size 864x576 with 2 Axes>"
      ]
     },
     "metadata": {
      "needs_background": "light"
     },
     "output_type": "display_data"
    }
   ],
   "source": [
    "# Transponse the dataframe again, before applying the normalization.\n",
    "tail_number_malf_df = tail_number_malf_df.transpose()\n",
    "\n",
    "# Normalize (column-wise).\n",
    "tail_number_malf_df = (tail_number_malf_df - tail_number_malf_df.mean()) / tail_number_malf_df.std()\n",
    "\n",
    "# Transpose again, before plotting.\n",
    "tail_number_malf_df = tail_number_malf_df.transpose()\n",
    "\n",
    "# Plot.\n",
    "fig, ax = plt.subplots(figsize=(12,8))\n",
    "fig.suptitle(\"Malfunctions' Types Cross Tail Numbers Heatmap (Normalized)\", fontsize = 15)\n",
    "sns.heatmap(tail_number_malf_df)"
   ]
  },
  {
   "cell_type": "markdown",
   "metadata": {},
   "source": [
    "***Discussion***"
   ]
  },
  {
   "cell_type": "markdown",
   "metadata": {},
   "source": [
    "* The depicted data is a very noisy one. It seems that there is no specific helicopter which has a noticeable  cross-system problems."
   ]
  },
  {
   "cell_type": "markdown",
   "metadata": {},
   "source": [
    "#### Total Number of Malfunctions per Overall Flights' Duration (Joint Plot, 2019 & 2020)"
   ]
  },
  {
   "cell_type": "markdown",
   "metadata": {},
   "source": [
    "Not once I faced with the assumption that \"helicopters who flies much suffer much\", meaning if you fly more, you are expected to have an increased number of malfunctions. Of course, an opposite assumption exists too. It mostly depends on who you met, and what his mood is today.\n",
    "\n",
    "Thus, in this section, we would like to examine if there is a linear correlation between the overall flights duration, and the total number of malfunctions. This will be done using last section's data (per the given tail numbers’ flights and reported malfunctions serving as the data samples)."
   ]
  },
  {
   "cell_type": "code",
   "execution_count": 265,
   "metadata": {},
   "outputs": [
    {
     "data": {
      "image/png": "[encoded data removed]",
      "text/plain": [
       "<Figure size 648x648 with 3 Axes>"
      ]
     },
     "metadata": {
      "needs_background": "light"
     },
     "output_type": "display_data"
    }
   ],
   "source": [
    "# Concat the two dataframes to form a single dataframe to sample from.\n",
    "malf_per_flight_duration_df = pd.concat([tail_number_malf_raw_df_2019, tail_number_malf_raw_df_2020], ignore_index=True)\n",
    "malf_per_flight_duration_df.rename(columns={\"System\": \"Total Number of Malfunctions\", \n",
    "                                            \"Flight Duration\": \"Overall Flights Duration\"}, inplace = True)\n",
    "  \n",
    "# Create the plot, using Sea Born joint plot.\n",
    "plot = sns.jointplot(x = \"Overall Flights Duration\", y = \"Total Number of Malfunctions\", data = malf_per_flight_duration_df, \n",
    "                     palette=\"Set1\", kind=\"reg\", height = 9)\n",
    "# Add a title.\n",
    "plot.fig.suptitle(\"Total Number of Malfunctions per Overall Flights' Duration\")\n",
    "plot.fig.subplots_adjust(top=0.95) "
   ]
  },
  {
   "cell_type": "markdown",
   "metadata": {},
   "source": [
    "Person correlation coefficient for the given samples is:"
   ]
  },
  {
   "cell_type": "code",
   "execution_count": 235,
   "metadata": {},
   "outputs": [
    {
     "name": "stdout",
     "output_type": "stream",
     "text": [
      "0.5501454641778493\n"
     ]
    }
   ],
   "source": [
    "print(np.corrcoef(malf_per_flight_duration_df.iloc[:, 0], malf_per_flight_duration_df.iloc[:, 1])[0][1])"
   ]
  },
  {
   "cell_type": "markdown",
   "metadata": {},
   "source": [
    "***Discussion***"
   ]
  },
  {
   "cell_type": "markdown",
   "metadata": {},
   "source": [
    "* There is a moderate positive linear correlation between the two. The graph presents a noisy picture, although preserves the anticipated correlation.\n",
    "* We can't jump to conclusions yet and argue (for example) that a long overall flights' duration cause more malfunctions to occur. A competing assumption could be that because spending more time in air, the air crew may have the chance to report more malfunctions. This issue is left for the technical department to further investigation."
   ]
  },
  {
   "cell_type": "markdown",
   "metadata": {
    "direction": "ltr"
   },
   "source": [
    "#### Number of Hours Between Reported Malfunctions per Tail Number (Box Plot, 2019 / 2020)"
   ]
  },
  {
   "cell_type": "markdown",
   "metadata": {},
   "source": [
    "In this section we will introduce box plots to depict the statistics (Q1, Q2, Q3, Q4) of time intervals (measured in hours) for any 2 consecutive malfunctions reported, per helicopter."
   ]
  },
  {
   "cell_type": "markdown",
   "metadata": {},
   "source": [
    "First, we will process the given dataframes, to extract the required parameters:"
   ]
  },
  {
   "cell_type": "code",
   "execution_count": 236,
   "metadata": {},
   "outputs": [],
   "source": [
    "# This method is meant to split the malf dataframe into two separted dataframes: one for Winter, and the second for Summer.\n",
    "# This split is needed since we have a big gap (3 months) between Winter and Summer, which may affect the difference operation.\n",
    "def split_malf_df_to_summer_and_winter_times(malf_df, datetime_winter_criterion):\n",
    "    # Get malfunctions reported during the Winter.\n",
    "    malf_winter_time_df = pd.DataFrame(malf_df.loc[malf_df[\"Registration Time\"] <= datetime_winter_criterion])\n",
    "    \n",
    "    # Get malfunctions reported during the Summer.\n",
    "    malf_summer_time_df = pd.DataFrame(malf_df.loc[malf_df[\"Registration Time\"] > datetime_winter_criterion])\n",
    "    \n",
    "    return malf_winter_time_df, malf_summer_time_df\n",
    "\n",
    "# This method is responsible for adding an interval column. \n",
    "# This column values will refer to the time difference between any two consecutive malfunctions.\n",
    "# This will be made using the \"Registration time\" attribute. \n",
    "def calculate_time_intervals_between_registered_malfunctions(malf_df):\n",
    "    # Calculate the diff, adding an additional column for the results.\n",
    "    malf_df[\"Interval\"] = \\\n",
    "        malf_df.sort_values([\"Tail Number\",\"Registration Time\"]).groupby(\"Tail Number\")[\"Registration Time\"].diff()\n",
    "    \n",
    "    # Drop NaN values, origned from the first report for each helicopter.\n",
    "    malf_df.dropna(inplace = True)\n",
    "    \n",
    "    # Shape the dataframe.\n",
    "    malf_df.drop(columns = [\"System\", \"Sub-System\", \"Registration Time\",\n",
    "                            \"Closing Time\", \"Validated?\", \"Register Profession\", \n",
    "                            \"Closer Profession\", \"Malfunction Handling Duration\"], inplace = True)\n",
    "    malf_df[\"Interval\"] = pd.to_numeric(malf_df[\"Interval\"].dt.total_seconds()//3600)\n",
    "    \n",
    "# This method will utilize the aforementioned methods, calculating the mean time between reported malfunctions per tail number.\n",
    "def perpare_data_for_mean_time_between_malf_per_tail_number_plot(malf_df, datetime_winter_criterion):\n",
    "    # Split Dataframe.\n",
    "    malf_winter_time_df, malf_summer_time_df = split_malf_df_to_summer_and_winter_times(malf_df, datetime_winter_criterion)\n",
    "    \n",
    "    # Calculate the time intervales between any two consecutive malfunctions (per tail number).\n",
    "    calculate_time_intervals_between_registered_malfunctions(malf_winter_time_df)\n",
    "    calculate_time_intervals_between_registered_malfunctions(malf_summer_time_df)\n",
    "    \n",
    "    # Concat to a unified dataframe.\n",
    "    output_df = pd.concat([malf_winter_time_df, malf_summer_time_df])\n",
    "    \n",
    "    return output_df"
   ]
  },
  {
   "cell_type": "markdown",
   "metadata": {},
   "source": [
    "Second, let's process the given dataframes, and draw the box plots: "
   ]
  },
  {
   "cell_type": "code",
   "execution_count": 244,
   "metadata": {},
   "outputs": [
    {
     "data": {
      "image/png": "[encoded data removed]",
      "text/plain": [
       "<Figure size 864x1080 with 2 Axes>"
      ]
     },
     "metadata": {
      "needs_background": "light"
     },
     "output_type": "display_data"
    }
   ],
   "source": [
    "# Process the given dataframes, using the defined methods.\n",
    "output_df_2019 = perpare_data_for_mean_time_between_malf_per_tail_number_plot(malf_df_2019, dt.datetime(2019,2,28))\n",
    "output_df_2020 = perpare_data_for_mean_time_between_malf_per_tail_number_plot(malf_df_2020, dt.datetime(2020,2,29))\n",
    "\n",
    "# Create a plot comrised of two sub-plots.\n",
    "fig, axes = plt.subplots(2, 1, figsize=(12, 15))\n",
    "fig.suptitle(\"Box Plot for the Number of Hours Between Reported Malfunctions per Tail Number\", fontsize = 22)\n",
    "\n",
    "# Create 2019 subplot using Sea Born countplot.\n",
    "plot_2019 = sns.boxplot(ax = axes[0],\n",
    "                        x = \"Tail Number\",\n",
    "                        y = \"Interval\",\n",
    "                        data = output_df_2019,\n",
    "                        showfliers = False,\n",
    "                        palette = \"Set3\")\n",
    "    \n",
    "# Determine the sub-plot's titles.\n",
    "plot_2019.axes.set_title(\"2019\", fontsize = 20)\n",
    "plot_2019.set_xlabel(\"Tail Number\", fontsize = 15)\n",
    "plot_2019.set_ylabel(\"Hours\", fontsize = 15)\n",
    "plot_2019.tick_params(labelsize = 13)\n",
    "\n",
    "# Create 2020 subplot using Sea Born countplot.\n",
    "plot_2020 = sns.boxplot(ax = axes[1],\n",
    "                        x = \"Tail Number\",\n",
    "                        y = \"Interval\",\n",
    "                        data = output_df_2020, \n",
    "                        showfliers = False,\n",
    "                        palette = \"Set3\")\n",
    "\n",
    "# Determine the sub-plot's titles.\n",
    "plot_2020.axes.set_title(\"2020\", fontsize = 20)\n",
    "plot_2020.set_xlabel(\"Tail Number\", fontsize = 15)\n",
    "plot_2020.set_ylabel(\"Hours\", fontsize = 15)\n",
    "plot_2019.tick_params(labelsize = 13)"
   ]
  },
  {
   "cell_type": "markdown",
   "metadata": {},
   "source": [
    "***Discussion***"
   ]
  },
  {
   "cell_type": "markdown",
   "metadata": {},
   "source": [
    "* The mean time between failures (malfunctions) is relatively small, for all helicopters (~20 hours).\n",
    "* 75% of malfunctions are being reported within the first ~80 hours after the pervious malfunction has been reported.\n",
    "* Obiously, the forseen distribution is not the same for 2019 and 2020. Thus, there is not much to gain from comparing the two graphs.  \n",
    "* It is intresting to evident that for some helicopters (such as the 828 and 812 at 2020) the mean is so far from Q3 and Q4. It is recomnded for the technical department to investigate what had happend to these helicopters during the reported time frames.\n",
    "* Since some malfunctions are being reported once after the other (this is a sequential process by default), Q1 amplitude is small (almost un-noticeable)."
   ]
  },
  {
   "cell_type": "markdown",
   "metadata": {
    "direction": "ltr"
   },
   "source": [
    "#### Total Number of Malfunctions per Register Profession (Pie Chart, 2019 & 2020)"
   ]
  },
  {
   "cell_type": "markdown",
   "metadata": {},
   "source": [
    "This section is intended to clarify the proportion between the malfunctions' registers professions."
   ]
  },
  {
   "cell_type": "markdown",
   "metadata": {},
   "source": [
    "Let's reshape our data, combining 2019 and 2020 together: "
   ]
  },
  {
   "cell_type": "code",
   "execution_count": 316,
   "metadata": {},
   "outputs": [],
   "source": [
    "# Concat 2019 and 2020 malfunctions data. Then, group the relavent data, into a new dataframe.\n",
    "register_profession_malf_df = pd.concat([malf_df_2019, malf_df_2020])\n",
    "register_profession_malf_df = pd.DataFrame(register_profession_malf_df.groupby\n",
    "                                           ([\"Register Profession\"])[\"System\"].count())  \n",
    "\n",
    "# Rename the the column name.\n",
    "register_profession_malf_df.rename(columns={\"System\": \"Number of Malfunctions\"}, inplace = True)"
   ]
  },
  {
   "cell_type": "markdown",
   "metadata": {},
   "source": [
    "Now, let's plot it:"
   ]
  },
  {
   "cell_type": "code",
   "execution_count": 340,
   "metadata": {},
   "outputs": [
    {
     "data": {
      "text/plain": [
       "Text(0, 0.5, '')"
      ]
     },
     "execution_count": 340,
     "metadata": {},
     "output_type": "execute_result"
    },
    {
     "data": {
      "image/png": "[encoded data removed]",
      "text/plain": [
       "<Figure size 864x864 with 1 Axes>"
      ]
     },
     "metadata": {},
     "output_type": "display_data"
    }
   ],
   "source": [
    "# Plot.\n",
    "plot = register_profession_malf_df.plot.pie(y = 'Number of Malfunctions', figsize=(12, 12), \n",
    "                                            autopct='%1.0f%%', colors=plt.cm.tab20c.colors)\n",
    "plot.set_title(\"Total Number of Malfunctions per Register Profession\", fontsize = 20)\n",
    "plot.set_ylabel(\"\", fontsize = 15)"
   ]
  },
  {
   "cell_type": "markdown",
   "metadata": {},
   "source": [
    "***Discussion***"
   ]
  },
  {
   "cell_type": "markdown",
   "metadata": {},
   "source": [
    "* Pilots are the ones responsible for registering the greatest number of malfunctions (~37% of malfunctions). This evident consistent with our prior discover - more malfunctions are being reported as the total flight duration is greater.\n",
    "* As anticipated, class A technicians are responsible for registering most of the other faults.\n",
    "* Class B avionics team is responsible for ~10% precent of the reported faults."
   ]
  },
  {
   "cell_type": "markdown",
   "metadata": {
    "direction": "ltr"
   },
   "source": [
    "#### Un-Verified Malfunctions' Types Distribution (Pie Chart, 2019 / 2020)"
   ]
  },
  {
   "cell_type": "code",
   "execution_count": null,
   "metadata": {},
   "outputs": [],
   "source": []
  },
  {
   "cell_type": "code",
   "execution_count": null,
   "metadata": {},
   "outputs": [],
   "source": []
  },
  {
   "cell_type": "code",
   "execution_count": null,
   "metadata": {},
   "outputs": [],
   "source": []
  },
  {
   "cell_type": "markdown",
   "metadata": {
    "direction": "ltr"
   },
   "source": [
    "#### Pilots' Reported Malfunctions' Types Distribution (Pie Chart, 2019 / 2020)"
   ]
  },
  {
   "cell_type": "markdown",
   "metadata": {
    "direction": "ltr"
   },
   "source": [
    "#### Total Number of Malfunctions per Type at Ramon Air Force Base (Bar Chart, 2019 / 2020)"
   ]
  },
  {
   "cell_type": "markdown",
   "metadata": {},
   "source": [
    "#### Total Number of Malfunctions per Type at Ramat David Air Force Base (Bar Chart, 2019 / 2020)"
   ]
  },
  {
   "cell_type": "markdown",
   "metadata": {
    "direction": "ltr"
   },
   "source": [
    "#### Number of Hours for Handling a Malfunction per Type at Ramon Air Force Base (Box Plot, 2019 / 2020)"
   ]
  },
  {
   "cell_type": "markdown",
   "metadata": {},
   "source": [
    "#### Number of Hours for Handling a Malfunction per Type at Ramat David Air Force Base (Box Plot, 2019 / 2020)"
   ]
  },
  {
   "cell_type": "markdown",
   "metadata": {},
   "source": [
    "#### Number of Hours for Reporting a new Malfunction per Type at Ramon Air Force Base (Box Plot, 2019 / 2020)"
   ]
  },
  {
   "cell_type": "markdown",
   "metadata": {},
   "source": [
    "#### Number of Hours for Reporting a new Malfunction per Type at Ramat David Air Force Base (Box Plot, 2019 / 2020)"
   ]
  },
  {
   "cell_type": "markdown",
   "metadata": {
    "direction": "ltr"
   },
   "source": [
    "### 4.1.2 Malfunctions and Weather Phenomena"
   ]
  },
  {
   "cell_type": "markdown",
   "metadata": {
    "direction": "ltr"
   },
   "source": [
    "### 4.1.2.1 Understanding the Weather Variables"
   ]
  },
  {
   "cell_type": "markdown",
   "metadata": {
    "direction": "ltr"
   },
   "source": [
    "#### Total Number of Raining Days per Month at Ramon Air Force Base (Bar Chart, 2019 / 2020)"
   ]
  },
  {
   "cell_type": "markdown",
   "metadata": {},
   "source": [
    "#### Total Number of Raining Days per Month at Ramat David Air Force Base (Bar Chart, 2019 / 2020)"
   ]
  },
  {
   "cell_type": "markdown",
   "metadata": {
    "direction": "ltr"
   },
   "source": [
    "#### Rainfall per Month at Ramon Air Force Base (Bar Chart, 2019 / 2020)"
   ]
  },
  {
   "cell_type": "markdown",
   "metadata": {},
   "source": [
    "#### Rainfall per Month at Ramat David Air Force Base (Bar Chart, 2019 / 2020)"
   ]
  },
  {
   "cell_type": "markdown",
   "metadata": {
    "direction": "ltr"
   },
   "source": [
    "#### Mean Temperature per Month at Ramon Air Force Base (Bar Chart, 2019 / 2020)"
   ]
  },
  {
   "cell_type": "markdown",
   "metadata": {},
   "source": [
    "#### Mean Temperature per Month at Ramat David Air Force Base (Bar Chart, 2019 / 2020)"
   ]
  },
  {
   "cell_type": "markdown",
   "metadata": {},
   "source": [
    "#### 5 Windows a Day Mean Humidity per Month at Ramon Air Force Base (Nested Bar Chart, 2019 / 2020)"
   ]
  },
  {
   "cell_type": "markdown",
   "metadata": {
    "direction": "ltr"
   },
   "source": [
    "#### 5 Windows a Day Mean Humidity per Month at Ramat David Air Force Base (Nested Bar Chart, 2019 / 2020)"
   ]
  },
  {
   "cell_type": "markdown",
   "metadata": {
    "direction": "ltr"
   },
   "source": [
    "### 4.1.2.2 Analyzing the Impacts of Outdoor Parking"
   ]
  },
  {
   "cell_type": "markdown",
   "metadata": {
    "direction": "ltr"
   },
   "source": [
    "#### Rain intensity and Malfunctions (Jointgrid, 2019 / 2020)"
   ]
  },
  {
   "cell_type": "markdown",
   "metadata": {
    "direction": "ltr"
   },
   "source": [
    "#### Temperature and Malfunctions (Jointgrid, 2019 / 2020)"
   ]
  },
  {
   "cell_type": "markdown",
   "metadata": {
    "direction": "ltr"
   },
   "source": [
    "#### Mean Wind Velocity and Malfunctions (Jointgrid, 2019 / 2020)"
   ]
  },
  {
   "cell_type": "markdown",
   "metadata": {},
   "source": [
    "East (090)"
   ]
  },
  {
   "cell_type": "markdown",
   "metadata": {},
   "source": [
    "West (270)"
   ]
  },
  {
   "cell_type": "markdown",
   "metadata": {
    "direction": "ltr"
   },
   "source": [
    "#### Temperature Value Cross Malfunctions' Types Heatmap (2019 / 2020)"
   ]
  },
  {
   "cell_type": "markdown",
   "metadata": {
    "direction": "ltr"
   },
   "source": [
    "#### Rainfall (mm) Cross Malfunctions' Types Heatmap (2019 / 2020)"
   ]
  },
  {
   "cell_type": "markdown",
   "metadata": {
    "direction": "ltr"
   },
   "source": [
    "#### Mean Humidity Values Cross Malfunctions' Types Heatmap (2019 / 2020)"
   ]
  },
  {
   "cell_type": "markdown",
   "metadata": {
    "direction": "ltr"
   },
   "source": [
    "#### Weather Variables and Malfunctions' Types (Classes) Swarm Plot"
   ]
  },
  {
   "cell_type": "markdown",
   "metadata": {
    "direction": "ltr"
   },
   "source": [
    "#### Weather Variables Scatter Matrix"
   ]
  },
  {
   "cell_type": "markdown",
   "metadata": {
    "direction": "ltr"
   },
   "source": [
    "### 4.1.2.3 Analyzing the Weather Impacts during Flights"
   ]
  },
  {
   "cell_type": "markdown",
   "metadata": {
    "direction": "ltr"
   },
   "source": [
    "#### Rain intensity and Malfunctions (Jointgrid, 2019 / 2020)"
   ]
  },
  {
   "cell_type": "markdown",
   "metadata": {
    "direction": "ltr"
   },
   "source": [
    "#### Temperature and Malfunctions (Jointgrid, 2019 / 2020)"
   ]
  },
  {
   "cell_type": "markdown",
   "metadata": {
    "direction": "ltr"
   },
   "source": [
    "#### Temperature Value Cross Malfunctions' Types Heatmap (2019 / 2020)"
   ]
  },
  {
   "cell_type": "markdown",
   "metadata": {
    "direction": "ltr"
   },
   "source": [
    "#### Rainfall (mm) Cross Malfunctions' Types Heatmap (2019 / 2020)"
   ]
  },
  {
   "cell_type": "markdown",
   "metadata": {
    "direction": "ltr"
   },
   "source": [
    "#### Weather Variables (Temperature, Rain) and Malfunctions' Types (Classes) Swarm Plot"
   ]
  },
  {
   "cell_type": "markdown",
   "metadata": {
    "direction": "ltr"
   },
   "source": [
    "#### Weather Variables (Temperature, Rain) Scatter Matrix"
   ]
  },
  {
   "cell_type": "markdown",
   "metadata": {
    "direction": "ltr"
   },
   "source": [
    "### 4.1.2.4 Analyzing the Impacts of the Weekly Flight Plan"
   ]
  },
  {
   "cell_type": "markdown",
   "metadata": {
    "direction": "ltr"
   },
   "source": [
    "#### Discrete Distribution (as Horizontal Bar Chart) of Malfunctions' Types per Week's Days (2019 / 2020)"
   ]
  },
  {
   "cell_type": "markdown",
   "metadata": {
    "direction": "ltr"
   },
   "source": [
    "### 4.2 Helicopters-Malfunctions Graph - an Additional Point of View"
   ]
  },
  {
   "cell_type": "markdown",
   "metadata": {
    "direction": "ltr"
   },
   "source": [
    "#### 4.2.1 Processing the Datasets"
   ]
  },
  {
   "cell_type": "markdown",
   "metadata": {
    "direction": "ltr"
   },
   "source": [
    "#### 4.2.2 Builidng a Two-Sided Graph to Describe the Possible Connections Between Helicopters (using NetworkX)"
   ]
  },
  {
   "cell_type": "markdown",
   "metadata": {
    "direction": "ltr"
   },
   "source": [
    "#### 4.2.3 Weighted Projection (Linking Helicopters)\n"
   ]
  },
  {
   "cell_type": "markdown",
   "metadata": {
    "direction": "ltr"
   },
   "source": [
    "#### 4.2.4 Discussion"
   ]
  },
  {
   "cell_type": "markdown",
   "metadata": {
    "direction": "ltr"
   },
   "source": [
    "### 4.3 Analyzing the Impacts of Different Weekly Flight Plans on Malfunctions"
   ]
  },
  {
   "cell_type": "markdown",
   "metadata": {
    "direction": "ltr"
   },
   "source": [
    "#### 4.3.1 Weeks Clustering by their Weekly Flight Plan Pattern using K-Means"
   ]
  },
  {
   "cell_type": "markdown",
   "metadata": {
    "direction": "ltr"
   },
   "source": [
    "#### 4.3.2 Weeks Clustering by their Weekly Flight Plan Pattern using Gaussian Mixture Model"
   ]
  },
  {
   "cell_type": "markdown",
   "metadata": {
    "direction": "ltr"
   },
   "source": [
    "#### 4.3.3 Comparing the Models' Results"
   ]
  },
  {
   "cell_type": "markdown",
   "metadata": {
    "direction": "ltr"
   },
   "source": [
    "#### 4.3.3 Displaying Statistics of Different Weekly Flight Plans"
   ]
  },
  {
   "cell_type": "markdown",
   "metadata": {
    "direction": "ltr"
   },
   "source": [
    "#### 4.3.4 Discrete Distribution (as Horizontal Bar Chart) of Malfunctions' Types per Weekly Flight Plans"
   ]
  },
  {
   "cell_type": "markdown",
   "metadata": {
    "direction": "ltr"
   },
   "source": [
    "#### 4.3.5 Mean Time for Handling a Malfunction per Weekly Flight Plans"
   ]
  },
  {
   "cell_type": "markdown",
   "metadata": {
    "direction": "ltr"
   },
   "source": [
    "#### 4.3.6.\tDiscussion"
   ]
  },
  {
   "cell_type": "markdown",
   "metadata": {
    "direction": "ltr"
   },
   "source": [
    "### 4.4 Building a Regression Model for Classifying Malfunctions Based on Weather Variables (Parking)"
   ]
  },
  {
   "cell_type": "markdown",
   "metadata": {
    "direction": "ltr"
   },
   "source": [
    "#### 4.4.1 Shaping the Datasets"
   ]
  },
  {
   "cell_type": "markdown",
   "metadata": {
    "direction": "ltr"
   },
   "source": [
    "#### 4.4.2 Selecting the Independent Variables and Class Categories (Based on the EDA Phase)"
   ]
  },
  {
   "cell_type": "markdown",
   "metadata": {
    "direction": "ltr"
   },
   "source": [
    "#### 4.4.3 KNN"
   ]
  },
  {
   "cell_type": "markdown",
   "metadata": {
    "direction": "ltr"
   },
   "source": [
    "#### 4.4.4 Logistic Regression "
   ]
  },
  {
   "cell_type": "markdown",
   "metadata": {
    "direction": "ltr"
   },
   "source": [
    "#### 4.4.5 Navie Bayes"
   ]
  },
  {
   "cell_type": "markdown",
   "metadata": {
    "direction": "ltr"
   },
   "source": [
    "#### 4.4.6 Random Forest "
   ]
  },
  {
   "cell_type": "markdown",
   "metadata": {
    "direction": "ltr"
   },
   "source": [
    "#### 4.4.7 Stacking (Optional)"
   ]
  },
  {
   "cell_type": "markdown",
   "metadata": {
    "direction": "ltr"
   },
   "source": [
    "#### 4.4.8 Discussion"
   ]
  },
  {
   "cell_type": "markdown",
   "metadata": {
    "direction": "ltr"
   },
   "source": [
    "### 4.5 Building a Regression Model for Classifying Malfunctions Based on Weather Variables (Flights)"
   ]
  },
  {
   "cell_type": "markdown",
   "metadata": {
    "direction": "ltr"
   },
   "source": [
    "#### 4.5.1 Shaping the Datasets"
   ]
  },
  {
   "cell_type": "markdown",
   "metadata": {
    "direction": "ltr"
   },
   "source": [
    "#### 4.5.2 Selecting the Independent Variables and Class Categories (Based on the EDA Phase)"
   ]
  },
  {
   "cell_type": "markdown",
   "metadata": {
    "direction": "ltr"
   },
   "source": [
    "#### 4.5.3 KNN"
   ]
  },
  {
   "cell_type": "markdown",
   "metadata": {
    "direction": "ltr"
   },
   "source": [
    "#### 4.5.4 Logistic Regression "
   ]
  },
  {
   "cell_type": "markdown",
   "metadata": {
    "direction": "ltr"
   },
   "source": [
    "#### 4.5.5 Navie Bayes"
   ]
  },
  {
   "cell_type": "markdown",
   "metadata": {
    "direction": "ltr"
   },
   "source": [
    "#### 4.5.6 Random Forest "
   ]
  },
  {
   "cell_type": "markdown",
   "metadata": {
    "direction": "ltr"
   },
   "source": [
    "#### 4.5.7 Stacking (Optional)"
   ]
  },
  {
   "cell_type": "markdown",
   "metadata": {
    "direction": "ltr"
   },
   "source": [
    "#### 4.5.8 Discussion"
   ]
  },
  {
   "cell_type": "markdown",
   "metadata": {
    "direction": "ltr"
   },
   "source": [
    "### 4.6 Parking vs. Flights Differences (Discussion)"
   ]
  },
  {
   "cell_type": "markdown",
   "metadata": {
    "direction": "ltr"
   },
   "source": [
    "## 5. Conclusions"
   ]
  }
 ],
 "metadata": {
  "direction": "ltr",
  "kernelspec": {
   "display_name": "Python 3",
   "language": "python",
   "name": "python3"
  },
  "language_info": {
   "codemirror_mode": {
    "name": "ipython",
    "version": 3
   },
   "file_extension": ".py",
   "mimetype": "text/x-python",
   "name": "python",
   "nbconvert_exporter": "python",
   "pygments_lexer": "ipython3",
   "version": "3.8.5"
  }
 },
 "nbformat": 4,
 "nbformat_minor": 4
}
